{
 "cells": [
  {
   "cell_type": "markdown",
   "metadata": {},
   "source": [
    "# Binary random alloy with dilute vacancy\n",
    "Multiple approaches to the same model binary alloy, evaluated numerically.\n",
    "\n",
    "### Model\n",
    "Our model is quite simple: there are A and B atoms, and one vacancy, in a periodic lattice. There is a concentration $c_\\text{B}$ of B atoms (solute). Only the vacancy is mobile. The thermodynamics are kept very simple: A, B, and vacancies have no interaction. There are only two rates in the problem: $\\nu_\\text{A}$ and $\\nu_\\text{B}$ which are the rates of vacancy-A and vacancy-B atom exchanges. Without loss of generality, we take $\\nu_\\text{A}=1$, and the lattice constant to be 1. We will solve our problem on a square lattice.\n",
    "\n",
    "### Cases\n",
    "We will study variation with concentration $c_\\text{B}$ (and $c_\\text{A}=1-c_\\text{B}$ for a dilute limit of vacancies), for three different choices of $\\nu_\\text{B}/\\nu_\\text{A}$:\n",
    "\n",
    "1. $\\nu_\\text{B}=\\nu_\\text{A}$. This is the \"tracer\" case, and the most trivial.\n",
    "2. $\\nu_\\text{B}=4\\nu_\\text{A}$. This is the case of a \"fast\" diffuser. We could take much faster, but this begins to become limiting for KMC.\n",
    "3. $\\nu_\\text{B}=0$. This is the case of a frozen solute, which has a percolation limit at finite concentration of $c_\\text{B}<1$ where all diffusivities become 0.\n",
    "\n",
    "### Approaches\n",
    "We consider multiple models to evaluate their accuracy:\n",
    "\n",
    "1. *Kinetic Monte Carlo.* We evaluate on a finite \"supercell\" lattice; this involves generating new starting configurations, running for finite \"long\" times, and averaging over multiple initial configurations.\n",
    "2. *Mean-field Green function.* These expressions are known analytically. We also include a residual-bias correction evaluated for the frozen solute case.\n",
    "3. *Bias-basis approximation.* Also known analytically; this ends up having the same functional form as the MFGF, with a different crystal structure parameter.\n",
    "4. *Generalized self-consistent mean-field.* We study different ranges of \"effective Hamiltonian,\" but solve using the most general case. This is equivalent to using all orders of cluster expansion out to a finite range of sites.\n",
    "\n",
    "The 4 methods have different amounts of computational complexity."
   ]
  },
  {
   "cell_type": "code",
   "execution_count": 1,
   "metadata": {},
   "outputs": [],
   "source": [
    "import numpy as np\n",
    "import matplotlib.pyplot as plt\n",
    "plt.style.use('seaborn-whitegrid')\n",
    "%matplotlib inline\n",
    "from scipy import sparse\n",
    "from scipy.sparse.linalg import minres\n",
    "import pyamg  # adaptive multigrid solver\n",
    "import itertools\n",
    "from tqdm import tnrange, tqdm_notebook  # progress bar; not necessary, but helpful for long runs"
   ]
  },
  {
   "cell_type": "code",
   "execution_count": 2,
   "metadata": {},
   "outputs": [],
   "source": [
    "# Turn off or on to run optional testing code in notebook:\n",
    "# Also turns on / off progress bars\n",
    "__TESTING__ = False"
   ]
  },
  {
   "cell_type": "markdown",
   "metadata": {},
   "source": [
    "Setting up our simple square lattice:"
   ]
  },
  {
   "cell_type": "code",
   "execution_count": 3,
   "metadata": {},
   "outputs": [
    {
     "name": "stdout",
     "output_type": "stream",
     "text": [
      "[array([1, 0]), array([-1,  0]), array([0, 1]), array([ 0, -1])]\n"
     ]
    }
   ],
   "source": [
    "dxlist = [np.array([1,0]), np.array([-1,0]), np.array([0,1]), np.array([0,-1])]\n",
    "z = len(dxlist) # coordination number\n",
    "d = len(dxlist[0]) # dimension\n",
    "Nt = 3 # number of species (A + B + vacancy)\n",
    "print(dxlist)"
   ]
  },
  {
   "cell_type": "markdown",
   "metadata": {},
   "source": [
    "### Kinetic Monte Carlo functions\n",
    "Below are some simple functions to run KMC simulations of diffusivity."
   ]
  },
  {
   "cell_type": "code",
   "execution_count": 4,
   "metadata": {},
   "outputs": [],
   "source": [
    "def make_connectivity(Npbc):\n",
    "    \"\"\"\n",
    "    Makes an `Npbc` x `Npbc` square lattice, with Npbc. Returns a matrix of \"connectivity\"\n",
    "    with dimensions (Nstates, coordination)\n",
    "    \n",
    "    :param Nbpc: size of square lattice\n",
    "    :return connectivity: array of (Nstates, coordination) where for each state, \n",
    "        it gives the endpoint state for jump, indexed from our dxlist.\n",
    "    \"\"\"\n",
    "    def toindex(nvec, Npbc):\n",
    "        return (nvec[0]%Npbc) + Npbc*(nvec[1]%Npbc)\n",
    "    def fromindex(n, Npbc):\n",
    "        return (n%Npbc, n//Npbc)\n",
    "    Nsites = Npbc**d\n",
    "    connectivity = np.zeros((Nsites, z), dtype=int)\n",
    "    for n in range(Nsites):\n",
    "        st, c = fromindex(n, Npbc), connectivity[n]\n",
    "        for i, dx in enumerate(dxlist):\n",
    "            c[i] = toindex((st[0]+dx[0], st[1]+dx[1]), Npbc)\n",
    "    return connectivity"
   ]
  },
  {
   "cell_type": "code",
   "execution_count": 5,
   "metadata": {},
   "outputs": [],
   "source": [
    "if __TESTING__:\n",
    "    conn = make_connectivity(16)\n",
    "    for n, c in enumerate(conn):\n",
    "        for m in c:\n",
    "            if n not in conn[m]:\n",
    "                print('Missing back connection from {} to {}?'.format(n, m))"
   ]
  },
  {
   "cell_type": "markdown",
   "metadata": {},
   "source": [
    "We define our system state very simply:\n",
    "\n",
    "* index corresponding to the vacancy site position `vacsite`\n",
    "* `chemocc`, an integer vector of length `Nsites`, where values of 0 = A, 1 = B. Note: the value of `chemocc[vacsite]` is undefined, but ignored.\n",
    "\n",
    "Because everything is random, we place the vacancy at site 0."
   ]
  },
  {
   "cell_type": "code",
   "execution_count": 6,
   "metadata": {},
   "outputs": [],
   "source": [
    "def generate_state(cB, Ns):\n",
    "    \"\"\"\n",
    "    Generate an initial configuration for a given concentration, number of sites.\n",
    "\n",
    "    :param cB: concentration of B atoms (probability a site has a B atom)\n",
    "    :param Ns: number of sites\n",
    "    \n",
    "    :return vacsite: index of site corresponding to vacancy position\n",
    "    :return chemocc: vector of chemistries at each site\n",
    "    \"\"\"\n",
    "    vacsite, chemocc = 0, np.random.choice((0,1), Ns, p=(1.-cB, cB))\n",
    "    chemocc[vacsite] = -1\n",
    "    return vacsite, chemocc"
   ]
  },
  {
   "cell_type": "code",
   "execution_count": 7,
   "metadata": {},
   "outputs": [],
   "source": [
    "def KMC_diff(cB, nuB, connectivity, Nkmc=1, Nsamples=2**8, Nerror=2**4):\n",
    "    \"\"\"\n",
    "    Runs KMC to determine Onsager transport coefficients. A few parameters determine how the run goes:\n",
    "    \n",
    "    :param cB: concentration of \"solute\"\n",
    "    :param nuB: relative rate of solute-vacancy exchange\n",
    "    :param Nkmc: number of jumps to include in a trajectory; this is a multiplier on the number of sites\n",
    "    :param Nsamples: number of trajectories to sample to determine the diffusivity\n",
    "    :param Nerror: number of averages to use to estimate stochastic error\n",
    "    \n",
    "    :returns Lab: transport coefficients, for the different chemistries\n",
    "    :returns dLab: standard deviation in Lab\n",
    "    \"\"\"\n",
    "    Nsites = connectivity.shape[0]\n",
    "    Lmat, dLmat = np.zeros((Nt, Nt)), np.zeros((Nt, Nt))\n",
    "    for nerror in tnrange(Nerror, desc='L average', \n",
    "                          leave=False, disable=not __TESTING__):\n",
    "        Dmat = np.zeros((Nt,Nt))\n",
    "        for nsamp in range(Nsamples):\n",
    "            displace = [np.zeros(2), np.zeros(2), np.zeros(2)]  # A, B, vacancy\n",
    "            T = 0\n",
    "            vacsite, chemocc = generate_state(cB, Nsites)\n",
    "            # check to make sure there's an initial escape (important for nuB==0 only)\n",
    "            if not((nuB == 0) and all(chemocc[j]==1 for j in connectivity[vacsite])):\n",
    "                for nkmc in range(Nkmc*Nsites):\n",
    "                    # rate table: very simple\n",
    "                    rates = np.array([1. if chemocc[j]==0 else nuB \n",
    "                                      for j in connectivity[vacsite]])\n",
    "                    # escape time\n",
    "                    dT = 1./np.sum(rates)\n",
    "                    # select the jump\n",
    "                    jumptype = np.random.choice(z, p=dT*rates)\n",
    "                    # accumulate\n",
    "                    T += dT\n",
    "                    displace[-1] += dxlist[jumptype]\n",
    "                    newvac = connectivity[vacsite, jumptype]\n",
    "                    displace[chemocc[newvac]] -= dxlist[jumptype]\n",
    "                    # update state\n",
    "                    chemocc[vacsite] = chemocc[newvac]\n",
    "                    chemocc[newvac] = -1\n",
    "                    vacsite = newvac\n",
    "                for c1 in range(Nt):\n",
    "                    for c2 in range(Nt):\n",
    "                        Dmat[c1, c2] += np.dot(displace[c1], displace[c2])/(4*T)\n",
    "        Dmat /= Nsamples\n",
    "        Lmat += Dmat\n",
    "        dLmat += Dmat**2\n",
    "    Lmat /= Nerror\n",
    "    dLmat /= Nerror\n",
    "    return Lmat, np.sqrt((dLmat - Lmat**2)/Nerror)"
   ]
  },
  {
   "cell_type": "code",
   "execution_count": 8,
   "metadata": {},
   "outputs": [],
   "source": [
    "# Faster implementation using precalculated rate tables, and generating\n",
    "# all of the jump choices in advance, for the different environments\n",
    "\n",
    "def KMC_diff_fast(cB, nuB, connectivity, Nkmc=1, Nsamples=2**8, Nerror=2**4):\n",
    "    \"\"\"\n",
    "    Runs KMC to determine Onsager transport coefficients. A few parameters determine how the run goes:\n",
    "    \n",
    "    :param cB: concentration of \"solute\"\n",
    "    :param nuB: relative rate of solute-vacancy exchange\n",
    "    :param Nkmc: number of jumps to include in a trajectory; this is a multiplier on the number of sites\n",
    "    :param Nsamples: number of trajectories to sample to determine the diffusivity\n",
    "    :param Nerror: number of averages to use to estimate stochastic error\n",
    "    \n",
    "    :returns Lab: transport coefficients, for the different chemistries\n",
    "    :returns dLab: standard deviation in Lab\n",
    "    \"\"\"\n",
    "    Nsites = connectivity.shape[0]\n",
    "    Lmat, dLmat = np.zeros((Nt, Nt)), np.zeros((Nt, Nt))\n",
    "\n",
    "    # setup some rate tables.\n",
    "    Nstates = 2**z\n",
    "    bitlist = [1 << i for i in range(z)]  # mapping of index to bits\n",
    "    intdict = {}\n",
    "    for localchem in itertools.product((0,1), repeat=z):\n",
    "        intdict[localchem] = sum(bitlist[i] for i, c in enumerate(localchem) if c)\n",
    "    def int2index(i):\n",
    "        \"\"\"Takes in an integer and returns the mapping\"\"\"\n",
    "        return [ 1 if i&bitlist[n] else 0 for n in range(z)]\n",
    "\n",
    "    ratedict = np.zeros(Nstates)\n",
    "    probdict = np.zeros((Nstates, z))\n",
    "    for localchem in itertools.product((0,1), repeat=z):\n",
    "        n = intdict[localchem]\n",
    "        rates = np.array([1. if localchem[j]==0 else nuB for j in range(z)])\n",
    "        if np.sum(rates) != 0:\n",
    "            # escape time\n",
    "            dT = 1./np.sum(rates)\n",
    "            ratedict[n] = dT\n",
    "            probdict[n,:] = dT*rates\n",
    "        else:\n",
    "            ratedict[n] = 0\n",
    "            probdict[n,:] = np.array([1. for j in range(z)])\n",
    "\n",
    "    # setup some random guesses\n",
    "    Njumps = Nerror*Nsamples*Nsites*Nkmc  # total number of jumps needed\n",
    "    ncount = np.zeros(Nstates, dtype=int)\n",
    "    randjumps = []\n",
    "    for n in range(Nstates):\n",
    "        # estimate how many times we'll encounter a given environment:\n",
    "        N = np.product([cB if c else (1.-cB) for c in int2index(n)])*Njumps\n",
    "        N = 1+int(N + 3*np.sqrt(N)) # counting statistics; +3 standard deviations.\n",
    "        ncount[n] = N-1\n",
    "        if ratedict[n] > 0:\n",
    "            randjumps.append(np.random.choice(z, N, p=probdict[n]))\n",
    "        else:\n",
    "            randjumps.append(np.array([0]))\n",
    "    \n",
    "    for nerror in tnrange(Nerror, desc='L average', \n",
    "                          leave=False, disable=not __TESTING__):\n",
    "        Dmat = np.zeros((Nt,Nt))\n",
    "        for nsamp in range(Nsamples):\n",
    "            displace = [np.zeros(2, dtype=int), \n",
    "                        np.zeros(2, dtype=int), \n",
    "                        np.zeros(2, dtype=int)]  # A, B, vacancy\n",
    "            T = 0\n",
    "            vacsite, chemocc = generate_state(cB, Nsites)\n",
    "            # check to make sure there's an initial escape (important for nuB==0 only)\n",
    "            if ratedict[intdict[tuple(chemocc[j] for j in connectivity[vacsite])]] != 0:\n",
    "                for nkmc in range(Nsites*Nkmc):\n",
    "                    # rate table: very simple\n",
    "                    n = intdict[tuple(chemocc[j] for j in connectivity[vacsite])]\n",
    "                    # select the jump\n",
    "                    jumptype = randjumps[n][ncount[n]]\n",
    "                    ncount[n] -= 1\n",
    "                    # accumulate escape time\n",
    "                    T += ratedict[n]\n",
    "                    displace[-1] += dxlist[jumptype]\n",
    "                    newvac = connectivity[vacsite, jumptype]\n",
    "                    displace[chemocc[newvac]] -= dxlist[jumptype]\n",
    "                    # update state\n",
    "                    chemocc[vacsite] = chemocc[newvac]\n",
    "                    chemocc[newvac] = -1\n",
    "                    vacsite = newvac\n",
    "                    # check that we don't need more jumps:\n",
    "                    if ncount[n] < 0:\n",
    "                        randjumps[n] = np.random.choice(z, randjumps[n].shape[0], \n",
    "                                                        p=probdict[n])\n",
    "                        ncount[n] = randjumps[n].shape[0]-1\n",
    "                for c1 in range(Nt):\n",
    "                    for c2 in range(Nt):\n",
    "                        Dmat[c1, c2] += np.dot(displace[c1], displace[c2])/(4*T)\n",
    "        Dmat /= Nsamples\n",
    "        Lmat += Dmat\n",
    "        dLmat += Dmat**2\n",
    "    Lmat /= Nerror\n",
    "    dLmat /= Nerror\n",
    "    return Lmat, np.sqrt((dLmat - Lmat**2)/Nerror)"
   ]
  },
  {
   "cell_type": "code",
   "execution_count": 9,
   "metadata": {},
   "outputs": [],
   "source": [
    "if __TESTING__:\n",
    "    L, dL = KMC_diff(0.5, 2., make_connectivity(8))\n",
    "    print(L)\n",
    "    print(dL)"
   ]
  },
  {
   "cell_type": "code",
   "execution_count": 10,
   "metadata": {},
   "outputs": [],
   "source": [
    "def percolation_diff(cB, connectivity, Nsamples=2**4, Nerror=2**4):\n",
    "    \"\"\"\n",
    "    Directly computes diffusivity for a percolation problem (nuB==0)\n",
    "    \n",
    "    :param cB: concentration of \"solute\"\n",
    "    :param Nsamples: number of configurations to sample to determine the diffusivity\n",
    "    :param Nerror: number of averages to use to estimate stochastic error\n",
    "    \n",
    "    :returns Lab: transport coefficients, for the different chemistries\n",
    "    :returns dLab: standard deviation in Lab\n",
    "    \"\"\"\n",
    "    Nsites = connectivity.shape[0]\n",
    "    Lmat, dLmat = 0., 0.\n",
    "    for nerror in tnrange(Nerror, desc='L average', leave=False, disable=not __TESTING__):\n",
    "        Dmat = 0\n",
    "        for nsamp in range(Nsamples):\n",
    "            D0 = 0\n",
    "            vacsite, chemocc = generate_state(cB, Nsites)\n",
    "            # break into connected domains (a list of connected networks)\n",
    "            # first get a set of sites that are not B atoms\n",
    "            asites = set(n for n,c in enumerate(chemocc) if c!=1)\n",
    "            while asites:\n",
    "                # try to create a new network:\n",
    "                n = asites.pop()  # first member, random\n",
    "                # two sets: the network being constructed, sites to branch from\n",
    "                net, remainders = {n}, {n}\n",
    "                while remainders:\n",
    "                    # grab a new member whose connections we'll check:\n",
    "                    n = remainders.pop()\n",
    "                    for m in connectivity[n]:\n",
    "                        if m in asites:\n",
    "                            # m is in asites if we've not already checked its connections\n",
    "                            net.add(m)\n",
    "                            remainders.add(m)\n",
    "                            asites.remove(m) # remove it from the global list\n",
    "                if len(net)<2: continue\n",
    "                D0 = 0\n",
    "                sitelist = [n for n in net]\n",
    "                siteindex = {n:i for i,n in enumerate(sitelist)}\n",
    "                Ilist, Jlist, Vlist, blist = [], [], [], []\n",
    "                for i,n in enumerate(sitelist):\n",
    "                    conn = connectivity[n]\n",
    "                    b0, d0 = 0., 0.\n",
    "                    for m, dx in zip(conn, dxlist):\n",
    "                        try: \n",
    "                            j = siteindex[m]\n",
    "                            d0 += 1.\n",
    "                            Ilist.append(i)\n",
    "                            Jlist.append(j)\n",
    "                            Vlist.append(1.)\n",
    "                            b0 += dx[0]\n",
    "                        except KeyError:\n",
    "                            pass\n",
    "                    blist.append(b0)\n",
    "                    Ilist.append(i)\n",
    "                    Jlist.append(i)\n",
    "                    Vlist.append(-d0)\n",
    "                    D0 += d0\n",
    "                bvec = np.array(blist)\n",
    "                W = sparse.csr_matrix((Vlist, (Ilist, Jlist)), \n",
    "                                      shape=(len(sitelist),len(sitelist)))\n",
    "                etabar,info = minres(W, bvec, x0=np.random.rand(W.shape[0]), tol=1e-8)\n",
    "                if info!=0: print('got {} return from minres'.format(info))\n",
    "                etabar -= np.average(etabar)\n",
    "                Dmat += (0.25*D0 + np.dot(bvec, etabar))/Nsites\n",
    "                # Dmat += 0.25*D0/Nsites\n",
    "        Dmat /= Nsamples\n",
    "        Lmat += Dmat\n",
    "        dLmat += Dmat**2\n",
    "    Lmat /= Nerror\n",
    "    dLmat /= Nerror\n",
    "    return Lmat, np.sqrt((dLmat - Lmat**2)/Nerror)"
   ]
  },
  {
   "cell_type": "markdown",
   "metadata": {},
   "source": [
    "### Mean-field Green function solution\n",
    "These are simple analytic expressions; the built in crystal structure \"parameter\" is gamma, which is a function of the dilute tracer correlation coefficient ($f$) for a square lattice,\n",
    "$$\\gamma = \\frac{f+1}{f-1}$$\n",
    "We can get the bias basis solution by replacing this value with z, the coordination number.\n",
    "$$\\gamma_\\text{bias basis} = -z$$\n",
    "which corresponds to a dilute tracer correlation coefficient of $f=1-2/(z+1)$. The analytic solution for the square lattice is $f=1/(\\pi-1)\\approx 0.467$, so $\\gamma = -\\pi/(\\pi-2) \\approx -2.752$."
   ]
  },
  {
   "cell_type": "code",
   "execution_count": 11,
   "metadata": {},
   "outputs": [],
   "source": [
    "def Danalytic(cB, nuB, gamma = -(np.pi)/(np.pi-2)):\n",
    "    \"\"\"\n",
    "    Analytic GF solution.\n",
    "\n",
    "    :param cB: concentration of \"solute\"\n",
    "    :param nuB: relative rate of solute-vacancy exchange\n",
    "    :param gamma: optional parameter. This is (f+1)/(f-1) for full correlation, or -z for bias basis.\n",
    "\n",
    "    :returns Lab: transport coefficients, for the different chemistries\n",
    "    \"\"\"\n",
    "    cA, nuA = 1.-cB, 1.\n",
    "    nuave = cA*nuA + cB*nuB\n",
    "    bv = cA*(nuave-nuA) - cB*(nuave-nuB)\n",
    "    g = 1./(gamma*nuave - (2*nuA + 2*nuB - 3*nuave))\n",
    "    DAA = cA*nuA + 2*cA*cB*nuA*nuA*g\n",
    "    DBB = cB*nuB + 2*cA*cB*nuB*nuB*g\n",
    "    DAB = -2*cA*cB*nuA*nuB*g\n",
    "    DvA = -cA*nuA + nuA*bv*g\n",
    "    DvB = -cB*nuB - nuB*bv*g\n",
    "    Dvv = nuave + cA*cB*((nuA-nuB)**2)*g\n",
    "    return np.array([[DAA, DAB, DvA], [DAB, DBB, DvB], [DvA, DvB, Dvv]])"
   ]
  },
  {
   "cell_type": "markdown",
   "metadata": {},
   "source": [
    "The **residual bias correction** allows for any linear basis solution, such as the mean-field Green function solution, to be corrected by using the residual bias as a new basis. For the percolation problem, we can construct an analytic expression that involves numerical terms to be evaluated."
   ]
  },
  {
   "cell_type": "code",
   "execution_count": 37,
   "metadata": {},
   "outputs": [],
   "source": [
    "def Dbiascorrect(cB):\n",
    "    \"\"\"\n",
    "    Residual-bias corrected SCGF solution; only for nuB = 0, just returns DAA,\n",
    "    which is already divided by cA.\n",
    "    \n",
    "    :param cB: concentration of \"solute\"\n",
    "    \n",
    "    :returns DAA: transport coefficient (diffusivity) of A.\n",
    "    \"\"\"\n",
    "    # check edge cases first:\n",
    "    if np.isclose(cB,1):\n",
    "        return 0.\n",
    "    return (1.-cB)/(1.+0.1415926534*cB) + \\\n",
    "        (-0.01272990905*cB + 4.529059154*cB**2 - 399.7080744*cB**3 - \\\n",
    "         561.6483202*cB**4 + 665.0100411*cB**5 + 622.9427624*cB**6 - \\\n",
    "         379.2388949*cB**7 + 48.12615674*cB**8)/\\\n",
    "        (1. + 361.2297602*cB + 590.7833342*cB**2 + 222.4121227*cB**3 + \\\n",
    "         307.7589952*cB**4 + 208.3266238*cB**5 - 52.05560275*cB**6 - \\\n",
    "         24.0423294*cB**7 - 1.884593043*cB**8)"
   ]
  },
  {
   "cell_type": "code",
   "execution_count": 13,
   "metadata": {},
   "outputs": [],
   "source": [
    "if __TESTING__:\n",
    "    LGF = Danalytic(0.5, 2.)\n",
    "    Lbb = Danalytic(0.5, 2., gamma = -z)\n",
    "    print(LGF)\n",
    "    print(Lbb)"
   ]
  },
  {
   "cell_type": "markdown",
   "metadata": {},
   "source": [
    "### Generalized self-consistent mean-field method\n",
    "In this approach, we expand a basis set entirely from the local chemistry around the vacancy. By doing this explicitly in terms of the states, we capture all possible cluster expansions out to a fixed range. The computational complexity grows quite rapidly, so we keep the cutoff a bit short, as it grows like $2^n$ for $n$ sites around the vacancy."
   ]
  },
  {
   "cell_type": "markdown",
   "metadata": {},
   "source": [
    "First, we make lists of the sites we want to consider:"
   ]
  },
  {
   "cell_type": "code",
   "execution_count": 14,
   "metadata": {},
   "outputs": [],
   "source": [
    "sitelists = [dxlist.copy()]\n",
    "for shell in [[np.array([1,1]), np.array([1,-1]), np.array([-1,1]), np.array([-1,-1])], \n",
    "              [np.array([2,0]), np.array([-2,0]), np.array([0,2]), np.array([0,-2])],\n",
    "              [np.array([2,1]), np.array([2,-1]), np.array([-2,1]), np.array([-2,-1])],\n",
    "              [np.array([1,2]), np.array([-1,2]), np.array([1,-2]), np.array([-1,-2])],\n",
    "              [np.array([2,2]), np.array([2,-2]), np.array([-2,2]), np.array([-2,-2])]]:\n",
    "    sitelists.append(sitelists[-1].copy() + shell)\n",
    "if __TESTING__:\n",
    "    for s in sitelists:\n",
    "        print(len(s), s)"
   ]
  },
  {
   "cell_type": "markdown",
   "metadata": {},
   "source": [
    "Next, we make a function which constructs all of the necessary information for the states to make the Wbar and bbar matrices corresponding to our sitelists. It is recommended, that for a given sitelist, this only be done once, as it can be reused to make Wbar and bbar for different concentrations and rates.\n",
    "\n",
    "Next: we are going to run through and construct our mappings. Here is what we will store:\n",
    "\n",
    "* For each basis function (indexed by `n`), we will store a list of other basis functions to which it can transition; the rate type (0 or 1), and the probability factor as a tuple (nA, nB). This will be used to construct the off-diagonal components of `Wbar`.\n",
    "* For each basis function, we will store the diagonal information as a probability factor and a single integer, which counts the number of nuB type of jumps (which is consistent with the off-diagonal components).\n",
    "* For each basis function, the bias factors involve the same probability factor as the diagonal information. We don't bother computing both x and y, but rather get the A and B components (bV = -bA-bB). The rate information for xA is either +1 (==+nuA), 0 (==0) or -1 (==-nuA), and similar for B. WLOG, we look at the x component. So we can include this with the diagonal information."
   ]
  },
  {
   "cell_type": "code",
   "execution_count": 15,
   "metadata": {},
   "outputs": [],
   "source": [
    "def make_Wbarlists(sitelist):\n",
    "    \"\"\"\n",
    "    Takes in a list of sites, and constructs two lists that contain all the information \n",
    "    needed to make Wbar and bbar.\n",
    "    :param sitelist: list of sites to include\n",
    "    :returns Wbarlist: list of information to construct off-diagonal components of Wbar\n",
    "    :returns Wbardiag: list of information to construct diagonal components of Wbar *and* bbar vector\n",
    "    \"\"\"\n",
    "    # helper functions and analysis:\n",
    "    Nsites = len(sitelist)\n",
    "    Nstates = 2**Nsites\n",
    "    bitlist = [1 << i for i in range(Nsites)]  # mapping of index to bits, equivalent to 2**i\n",
    "    def index2int(lis):\n",
    "        \"\"\"Takes a list returns the integer mapping\"\"\"\n",
    "        return sum(bitlist[i] for i, c in enumerate(lis) if c)\n",
    "    def int2index(i):\n",
    "        \"\"\"Takes in an integer and returns the mapping\"\"\"\n",
    "        return [ 1 if i&bitlist[n] else 0 for n in range(Nsites)]\n",
    "    # lists for shifts:\n",
    "    # * `shiftlist` contains the new bit in the translated basis if that position is set in the current list\n",
    "    # * `unsetbitlist` contains the list of bits that are \"missing\", and hence free to be set.\n",
    "    shiftlist = []\n",
    "    unsetbitlist = []\n",
    "    for dx in dxlist:\n",
    "        shifts = []\n",
    "        for site in sitelist:\n",
    "            if np.array_equal(site, dx):\n",
    "                newsite = -dx\n",
    "            else:\n",
    "                newsite = site - dx\n",
    "            # is that a site that we are tracking?\n",
    "            try:\n",
    "                newbit = bitlist[ [np.array_equal(newsite, s) for s in sitelist].index(True) ]\n",
    "            except ValueError:\n",
    "                newbit = 0\n",
    "            shifts.append(newbit)\n",
    "        shiftlist.append(shifts)\n",
    "        unsetbitlist.append([b for b in bitlist if b not in shifts])\n",
    "\n",
    "    Wbarlist = []\n",
    "    Wbardiag = []\n",
    "    Nnew = len(unsetbitlist[0])  # how many unset bits are there?\n",
    "    for n in tnrange(Nstates, disable=not __TESTING__):\n",
    "        lis = int2index(n)\n",
    "        nB = sum(1 for c in lis if c)\n",
    "        nA = Nsites-nB\n",
    "        p = (nA, nB)\n",
    "        # counters for our jumptype:\n",
    "        nuBt, nuAx, nuBx = 0, 0, 0\n",
    "        # now, run through our jumps (dx)\n",
    "        Wbarentries = []\n",
    "        for njump, dx, shifts, unsetbits in zip(itertools.count(), dxlist, shiftlist, unsetbitlist):\n",
    "            jumptype = 1 if lis[njump] == 1 else 0\n",
    "            if jumptype:\n",
    "                # we count how often nuB appears:\n",
    "                nuBt += 1\n",
    "                nuBx -= np.sign(dx[0])\n",
    "            else:\n",
    "                nuAx -= np.sign(dx[0])\n",
    "            # construct all of the end states that should appear\n",
    "            basebits = sum(shifts[i] for i, c in enumerate(lis) if c)\n",
    "            for cnew in itertools.product((0,1), repeat=Nnew):\n",
    "                newnB = sum(1 for c in cnew if c)\n",
    "                newnA = Nnew - newnB\n",
    "                endstate = basebits + sum(unsetbits[i] for i, c in enumerate(cnew) if c)\n",
    "                Wbarentries.append((endstate, (nA+newnA, nB+newnB), jumptype))\n",
    "        Wbarlist.append(Wbarentries)\n",
    "        Wbardiag.append((p, nuBt, nuAx, nuBx))\n",
    "    return Wbarlist, Wbardiag"
   ]
  },
  {
   "cell_type": "code",
   "execution_count": 16,
   "metadata": {},
   "outputs": [],
   "source": [
    "if __TESTING__:\n",
    "    Wbarlist, Wbardiag = make_Wbarlists(sitelists[1])\n",
    "    print(Wbarlist[:10])\n",
    "    print(Wbardiag[:10])"
   ]
  },
  {
   "cell_type": "markdown",
   "metadata": {},
   "source": [
    "Function to construct Wbar and bbar for a given concentration and rate."
   ]
  },
  {
   "cell_type": "code",
   "execution_count": 17,
   "metadata": {},
   "outputs": [],
   "source": [
    "def make_Wbar_bbar(cB, nuB, Wbarlist, Wbardiag):\n",
    "    \"\"\"\n",
    "    Takes in the analysis from our \"cluster expansion\" generator above and constructs corresponding matrices.\n",
    "    \n",
    "    :param cB: concentration of \"solute\"\n",
    "    :param nuB: relative rate of solute-vacancy exchange\n",
    "    :param Wbarlist: output from make_Wbarlist\n",
    "    :param Wbardiag: output from make_Wbarlist\n",
    "    \n",
    "    :returns Wbar: sparse matrix representation of Wbar\n",
    "    :returns bbar: vector of biases, only in the x direction.\n",
    "    \"\"\"\n",
    "    Nstates = len(Wbardiag)\n",
    "    Nsites = int(np.log2(Nstates))\n",
    "    cA, nuA = 1-cB, 1.\n",
    "    nubase = len(dxlist)*nuA\n",
    "    nudiff = nuB-nuA\n",
    "    nubar = cA*nuA + cB*nuB\n",
    "    lncA, lncB = np.log(cA), np.log(cB) # for doing powers quickly\n",
    "    probdict = {}\n",
    "    for nA in range(2*Nsites+1):\n",
    "        for nB in range(2*Nsites+1):\n",
    "            probdict[(nA, nB)] = np.exp(nA*lncA + nB*lncB)\n",
    "\n",
    "    # Wbarmatrix, bbar = np.zeros((Nstates, Nstates)), np.zeros((Nstates, 2))\n",
    "    bbar = np.zeros((Nstates, Nt))  # A, B, vac\n",
    "    # sparse matrix version of Wbarmatrix\n",
    "    Ilist, Jlist, Vlist = [], [], []  # sparse matrix version\n",
    "    for n, Wbarentries, (ptup, nuBt, nuAx, nuBx) in \\\n",
    "        tqdm_notebook(zip(itertools.count(), Wbarlist, Wbardiag), total=Nstates,\n",
    "                      leave=False, disable=not __TESTING__):\n",
    "        # diagonal first\n",
    "        p = probdict[ptup]\n",
    "        bbar[n,:] = p*nuA*nuAx, p*nuB*nuBx, -p*(nuB*nuBx+nuA*nuAx)\n",
    "        Il, Jl, Vl = [n], [n], [-p*(nubase+nuBt*nudiff)]\n",
    "        jdict = {n: 0}\n",
    "        if Vl[0] != 0:\n",
    "            # now the off-diagonal\n",
    "            for (m, pnewtup, jtype) in Wbarentries:\n",
    "                w = probdict[pnewtup]*(nuB if jtype else nuA)\n",
    "                if m in jdict:\n",
    "                    Vl[jdict[m]] += w\n",
    "                else:\n",
    "                    jdict[m] = len(Vl)\n",
    "                    Il.append(n)\n",
    "                    Jl.append(m)\n",
    "                    Vl.append(w)\n",
    "        Ilist += Il\n",
    "        Jlist += Jl\n",
    "        Vlist += Vl\n",
    "    Wbarmatrix = sparse.csr_matrix((Vlist, (Ilist, Jlist)), shape=(Nstates,Nstates))    \n",
    "    del(Ilist, Jlist, Vlist) # garbage collect\n",
    "    return Wbarmatrix, bbar"
   ]
  },
  {
   "cell_type": "code",
   "execution_count": 18,
   "metadata": {},
   "outputs": [],
   "source": [
    "if __TESTING__:\n",
    "    Wbarlist, Wbardiag = make_Wbarlists(sitelists[0])\n",
    "    Wbar, bbar = make_Wbar_bbar(0.5, 2, Wbarlist, Wbardiag)\n",
    "    print(Wbar)\n",
    "    print(bbar)"
   ]
  },
  {
   "cell_type": "code",
   "execution_count": 19,
   "metadata": {},
   "outputs": [],
   "source": [
    "def SCMF_diff(cB, nuB, Wbarlist, Wbardiag):\n",
    "    \"\"\"\n",
    "    Computes the transport coefficients using the generalized SCMF\n",
    "    \n",
    "    :param cB: concentration of \"solute\"\n",
    "    :param nuB: relative rate of solute-vacancy exchange\n",
    "    :param Wbarlist: output from make_Wbarlist\n",
    "    :param Wbardiag: output from make_Wbarlist\n",
    "\n",
    "    :returns Lab: transport coefficients, for the different chemistries\n",
    "    \"\"\"\n",
    "    # uncorrelated first:\n",
    "    cA, nuA = 1-cB, 1.\n",
    "    nubar = cA*nuA + cB*nuB\n",
    "    L0 = np.array([[cA*nuA, 0, -cA*nuA], [0, cB*nuB, -cB*nuB], [-cA*nuA, -cB*nuB, nubar]])\n",
    "    # correlated:\n",
    "    Wbar, bbar = make_Wbar_bbar(cB, nuB, Wbarlist, Wbardiag)\n",
    "    x0 = np.random.rand(Wbar.shape[0])\n",
    "    # ml = pyamg.smoothed_aggregation_solver(Wbar, symmetry='symmetric', max_coarse=10)\n",
    "    # etabar = np.array([ml.solve(bbar[:,0], x0=x0, tol=1e-8), \n",
    "    #                ml.solve(bbar[:,1], x0=x0, tol=1e-8), \n",
    "    #                ml.solve(bbar[:,2], x0=x0, tol=1e-8)]).T\n",
    "    etabar = np.array([minres(Wbar, bbar[:,0], x0=x0, tol=1e-8)[0], \n",
    "                       minres(Wbar, bbar[:,1], x0=x0, tol=1e-8)[0], \n",
    "                       minres(Wbar, bbar[:,2], x0=x0, tol=1e-8)[0]]).T\n",
    "    etaave = np.average(etabar, axis=0)\n",
    "    etabar -= etaave\n",
    "    return L0 + np.dot(etabar.T, bbar)"
   ]
  },
  {
   "cell_type": "code",
   "execution_count": 20,
   "metadata": {},
   "outputs": [],
   "source": [
    "if __TESTING__:\n",
    "    Wbarlist, Wbardiag = make_Wbarlists(sitelists[0])\n",
    "    print(SCMF_diff(0.5, 2, Wbarlist, Wbardiag))"
   ]
  },
  {
   "cell_type": "markdown",
   "metadata": {},
   "source": [
    "Now, setup different levels of SCMF cluster expansions:"
   ]
  },
  {
   "cell_type": "code",
   "execution_count": 21,
   "metadata": {},
   "outputs": [],
   "source": [
    "NSCMF = 4  # maximum depth in the sitelists we'll go; 5 requires 1M states, 6 requires 16M states.\n",
    "Wbarlists = [make_Wbarlists(sitelists[n]) for n in range(NSCMF)]"
   ]
  },
  {
   "cell_type": "markdown",
   "metadata": {},
   "source": [
    "## Case 1: $\\nu_\\text{B} = \\nu_\\text{A}$\n",
    "We'll run through a set of calculations for the transport coefficients using our 4 different approaches, to compare how they each perform."
   ]
  },
  {
   "cell_type": "code",
   "execution_count": 22,
   "metadata": {},
   "outputs": [],
   "source": [
    "# KMC parameters that we'll use throughout:\n",
    "connectivity = make_connectivity(64)  # 4096 sites.\n",
    "Nkmc, Nsamples, Nerror = 1, 256, 32"
   ]
  },
  {
   "cell_type": "code",
   "execution_count": 23,
   "metadata": {},
   "outputs": [],
   "source": [
    "# data collection parameters we will use throughout\n",
    "NdivKMC, NdivGF, NdivSCMF = 16, 1024, 64  # KMC is least efficient, SCMF next least, GF very fast.\n",
    "conc_KMC = np.linspace(0, 1, num=NdivKMC+1)[1:-1] # leave out c=0,1\n",
    "conc_GF = np.linspace(0, 1, num=NdivGF+1)\n",
    "conc_SCMF = np.linspace(0, 1, num=NdivSCMF+1)[1:-1] # leave out c=0,1\n",
    "\n",
    "# dictionary of results: keys will be 1 (equal), 4 (fast diffuser), 0 (stopped solute)\n",
    "Diff_results = {}"
   ]
  },
  {
   "cell_type": "code",
   "execution_count": 24,
   "metadata": {},
   "outputs": [],
   "source": [
    "nuB = 1."
   ]
  },
  {
   "cell_type": "code",
   "execution_count": 25,
   "metadata": {},
   "outputs": [],
   "source": [
    "L_KMC, dL_KMC = [], []\n",
    "for cB in tqdm_notebook(conc_KMC, disable=not __TESTING__):\n",
    "    Lab, dLab = KMC_diff_fast(cB, nuB, connectivity, Nkmc, Nsamples, Nerror)\n",
    "    L_KMC.append(Lab)\n",
    "    dL_KMC.append(dLab)"
   ]
  },
  {
   "cell_type": "code",
   "execution_count": 26,
   "metadata": {},
   "outputs": [],
   "source": [
    "L_GF, L_bb = [], []\n",
    "for cB in conc_GF:\n",
    "    Lab = Danalytic(cB, nuB)\n",
    "    L_GF.append(Lab)\n",
    "    Lab = Danalytic(cB, nuB, gamma=-z)\n",
    "    L_bb.append(Lab)"
   ]
  },
  {
   "cell_type": "code",
   "execution_count": 27,
   "metadata": {},
   "outputs": [],
   "source": [
    "L_SCMF = [list() for n in range(len(Wbarlists))]\n",
    "for cB in tqdm_notebook(conc_SCMF, disable=not __TESTING__):\n",
    "    for n, (Wbarlist, Wbardiag) in enumerate(Wbarlists):\n",
    "        Lab = SCMF_diff(cB, nuB, Wbarlist, Wbardiag)\n",
    "        L_SCMF[n].append(Lab)"
   ]
  },
  {
   "cell_type": "code",
   "execution_count": 28,
   "metadata": {},
   "outputs": [],
   "source": [
    "# list of dictionary of results\n",
    "Diff_results[1] = {\"L_KMC\": L_KMC, \"dL_KMC\": dL_KMC, \"L_GF\": L_GF, \"L_bb\": L_bb, \"L_SCMF\": L_SCMF}"
   ]
  },
  {
   "cell_type": "markdown",
   "metadata": {},
   "source": [
    "## Case 2: $\\nu_\\text{B} = 4\\nu_\\text{A}$\n",
    "Next, the fast diffuser."
   ]
  },
  {
   "cell_type": "code",
   "execution_count": 29,
   "metadata": {},
   "outputs": [],
   "source": [
    "nuB = 4."
   ]
  },
  {
   "cell_type": "code",
   "execution_count": 30,
   "metadata": {},
   "outputs": [],
   "source": [
    "L_KMC, dL_KMC = [], []\n",
    "for cB in tqdm_notebook(conc_KMC, disable=not __TESTING__):\n",
    "    Lab, dLab = KMC_diff_fast(cB, nuB, connectivity, Nkmc, Nsamples, Nerror)\n",
    "    L_KMC.append(Lab)\n",
    "    dL_KMC.append(dLab)"
   ]
  },
  {
   "cell_type": "code",
   "execution_count": 31,
   "metadata": {},
   "outputs": [],
   "source": [
    "L_GF, L_bb = [], []\n",
    "for cB in conc_GF:\n",
    "    Lab = Danalytic(cB, nuB)\n",
    "    L_GF.append(Lab)\n",
    "    Lab = Danalytic(cB, nuB, gamma=-z)\n",
    "    L_bb.append(Lab)"
   ]
  },
  {
   "cell_type": "code",
   "execution_count": 32,
   "metadata": {},
   "outputs": [],
   "source": [
    "L_SCMF = [list() for n in range(len(Wbarlists))]\n",
    "for cB in tqdm_notebook(conc_SCMF, disable=not __TESTING__):\n",
    "    for n, (Wbarlist, Wbardiag) in enumerate(Wbarlists):\n",
    "        Lab = SCMF_diff(cB, nuB, Wbarlist, Wbardiag)\n",
    "        L_SCMF[n].append(Lab)"
   ]
  },
  {
   "cell_type": "code",
   "execution_count": 33,
   "metadata": {},
   "outputs": [],
   "source": [
    "# list of dictionary of results\n",
    "Diff_results[4] = {\"L_KMC\": L_KMC, \"dL_KMC\": dL_KMC, \"L_GF\": L_GF, \"L_bb\": L_bb, \"L_SCMF\": L_SCMF}"
   ]
  },
  {
   "cell_type": "markdown",
   "metadata": {},
   "source": [
    "## Case 3: $\\nu_\\text{B} = 0$\n",
    "Finally, the fixed solute. Should include a percolation threshold where $L^\\text{AA}\\to0$ for $c_\\text{B}<1$."
   ]
  },
  {
   "cell_type": "code",
   "execution_count": 34,
   "metadata": {},
   "outputs": [],
   "source": [
    "nuB = 0."
   ]
  },
  {
   "cell_type": "code",
   "execution_count": 35,
   "metadata": {},
   "outputs": [],
   "source": [
    "L_KMC, dL_KMC = [], []\n",
    "for cB in tqdm_notebook(conc_KMC, disable=not __TESTING__):\n",
    "    Lab, dLab = KMC_diff_fast(cB, nuB, connectivity, Nkmc, Nsamples, Nerror)\n",
    "    L_KMC.append(Lab)\n",
    "    dL_KMC.append(dLab)"
   ]
  },
  {
   "cell_type": "code",
   "execution_count": 38,
   "metadata": {},
   "outputs": [],
   "source": [
    "L_GF, L_bb, L_GFrbc = [], [], []\n",
    "for cB in conc_GF:\n",
    "    Lab = Danalytic(cB, nuB)\n",
    "    L_GF.append(Lab)\n",
    "    Lab = Danalytic(cB, nuB, gamma=-z)\n",
    "    L_bb.append(Lab)\n",
    "    Lab = Dbiascorrect(cB)\n",
    "    L_GFrbc.append(Lab)"
   ]
  },
  {
   "cell_type": "code",
   "execution_count": 39,
   "metadata": {},
   "outputs": [],
   "source": [
    "L_SCMF = [list() for n in range(len(Wbarlists))]\n",
    "for cB in tqdm_notebook(conc_SCMF, disable=not __TESTING__):\n",
    "    for n, (Wbarlist, Wbardiag) in enumerate(Wbarlists):\n",
    "        Lab = SCMF_diff(cB, nuB, Wbarlist, Wbardiag)\n",
    "        L_SCMF[n].append(Lab)"
   ]
  },
  {
   "cell_type": "code",
   "execution_count": 40,
   "metadata": {},
   "outputs": [],
   "source": [
    "# percolation runner\n",
    "perc_connectivity = make_connectivity(256)  # 65536 sites.\n",
    "L_perc, dL_perc = [], []\n",
    "for cB in tqdm_notebook(conc_KMC, disable=not __TESTING__):\n",
    "    Lab, dLab = percolation_diff(cB, perc_connectivity)\n",
    "    L_perc.append(Lab)\n",
    "    dL_perc.append(dLab)"
   ]
  },
  {
   "cell_type": "code",
   "execution_count": 41,
   "metadata": {},
   "outputs": [],
   "source": [
    "# list of dictionary of results\n",
    "Diff_results[0] = {\"L_KMC\": L_KMC, \"dL_KMC\": dL_KMC, \n",
    "                   \"L_GF\": L_GF, \"L_GFrbc\": L_GFrbc,\n",
    "                   \"L_bb\": L_bb, \"L_SCMF\": L_SCMF, \n",
    "                   \"L_perc\": L_perc, \"dL_perc\": dL_perc}"
   ]
  },
  {
   "cell_type": "markdown",
   "metadata": {},
   "source": [
    "## Analysis\n",
    "All of our analysis and development of plots from our data."
   ]
  },
  {
   "cell_type": "code",
   "execution_count": 42,
   "metadata": {},
   "outputs": [
    {
     "name": "stdout",
     "output_type": "stream",
     "text": [
      "0.0625 0.8629499174066048 0.008451011119766117 0.808514204008143 0.0002585545108616046\n",
      "0.125 0.7115697231954404 0.009921893400274457 0.6273008984248463 0.0003829601585262315\n",
      "0.1875 0.5607261008620464 0.010417625306137194 0.45689939798052454 0.0004799456579681356\n",
      "0.25 0.4009898434562457 0.00946024555540577 0.29931744009480565 0.0010851038023369996\n",
      "0.3125 0.24339044479727687 0.011061480030178357 0.1573835169823426 0.0023167579308859634\n",
      "0.375 0.10776475515197109 0.014321499605599752 0.03981578389073146 0.011404987756544586\n",
      "0.4375 0.03021514989547705 0.019122745284185092 -7.164314792472541e-05 -0.5579909509397684\n",
      "0.5 0.006602982151677691 0.02287548851043285 5.9485437404650915e-05 0.8004890875491952\n",
      "0.5625 0.0018585020152682022 0.026275104510385415 -6.768107402924543e-05 -0.7740423133698235\n",
      "0.625 0.000693910501205702 0.02488514676332758 -1.2397766105082957e-05 -3.0455336259450414\n",
      "0.6875 0.0003002182528832531 0.03238746362895716 -4.4077634793503446e-05 -0.718143755210495\n",
      "0.75 0.0001370547702228491 0.031520213106036234 4.8995018004773915e-05 0.6857389712553215\n",
      "0.8125 5.970586962547377e-05 0.03551091744653467 2.8431415557900553e-05 0.7472079788338198\n",
      "0.875 2.210295267998805e-05 0.04479276192266607 2.2947788238525343e-05 1.208548673871216\n",
      "0.9375 5.100558913274012e-06 0.07347474790648414 2.861022949218694e-06 2.9156620293588182\n"
     ]
    }
   ],
   "source": [
    "for c, Lab, dLab, Labperc, dLabperc in zip(conc_KMC, \n",
    "                                           Diff_results[0]['L_KMC'], Diff_results[0]['dL_KMC'], \n",
    "                                           Diff_results[0]['L_perc'], Diff_results[0]['dL_perc']):\n",
    "    print(c, Lab[0,0], dLab[0,0]/Lab[0,0], Labperc, dLabperc/Labperc)"
   ]
  },
  {
   "cell_type": "code",
   "execution_count": 43,
   "metadata": {},
   "outputs": [
    {
     "data": {
      "image/png": "[encoded data removed]",
      "text/plain": [
       "<Figure size 288x576 with 2 Axes>"
      ]
     },
     "metadata": {},
     "output_type": "display_data"
    }
   ],
   "source": [
    "# 1: KMC, 2: GF, 3: bias basis, 4: SCMF\n",
    "component, ylabel = (1,1), \"$D^{\\\\rm B}=(c_{\\\\rm v}c_{\\\\rm B})^{-1}\\ L^{\\\\rm{BB}}$\"\n",
    "plt.rcParams['figure.figsize'] = (4,8)\n",
    "\n",
    "fig, ax1 = plt.subplots(nrows=2, ncols=1, sharex=True)\n",
    "for ncase, ax in zip((1, 4), ax1):\n",
    "\n",
    "    cL1 = np.array([[c, Lab[component]/c, dLab[component]/c] for c, Lab, dLab in \n",
    "                    zip(conc_KMC, Diff_results[ncase]['L_KMC'], Diff_results[ncase]['dL_KMC'])])\n",
    "    cL2 = np.array([[c, Lab[component]/c] for c, Lab in zip(conc_GF, Diff_results[ncase]['L_GF']) if c!=0])\n",
    "    cL3 = np.array([[c, Lab[component]/c] for c, Lab in zip(conc_GF, Diff_results[ncase]['L_bb']) if c!=0])\n",
    "    cL4 = np.array([[c, Lab[component]/c] for c, Lab in zip(conc_SCMF, Diff_results[ncase]['L_SCMF'][3]) \n",
    "                    if np.abs(Lab[component])<2])\n",
    "    ax.plot(cL4[:,0], cL4[:,1], 'b', label='SCMF')\n",
    "    ax.plot(cL3[:,0], cL3[:,1], 'r', label='bias basis')\n",
    "    ax.plot(cL2[:,0], cL2[:,1], 'g', label='GF')\n",
    "    ax.errorbar(cL1[:,0], cL1[:,1], yerr=cL1[:,2], fmt='ko', label='KMC')\n",
    "    ax.set_ylabel(ylabel, fontsize='x-large')\n",
    "    ax.text(0.1, 0.9*ncase, \"$\\\\nu_{\\\\rm B}=\" + \"{}$\".format(ncase), \n",
    "            fontsize='x-large', bbox={'facecolor': 'white'})\n",
    "ax.legend(bbox_to_anchor=(0.5,1.1,0.5,0.3), ncol=1, shadow=True, \n",
    "          frameon=True, fontsize='large', framealpha=1.)\n",
    "ax.set_xlabel('$c_{\\\\rm{B}}$', fontsize='x-large')\n",
    "plt.tight_layout()\n",
    "plt.show()\n",
    "# plt.savefig('solute-diffusivity.pdf', transparent=True, format='pdf')"
   ]
  },
  {
   "cell_type": "code",
   "execution_count": 48,
   "metadata": {},
   "outputs": [
    {
     "data": {
      "image/png": "[encoded data removed]",
      "text/plain": [
       "<Figure size 288x576 with 2 Axes>"
      ]
     },
     "metadata": {},
     "output_type": "display_data"
    }
   ],
   "source": [
    "# 1: KMC, 2: GF, 3: bias basis, 4: SCMF\n",
    "component, ylabel = (0,0), \"$D^{\\\\rm A}=(c_{\\\\rm v}c_{\\\\rm A})^{-1}\\ L^{\\\\rm{AA}}$\"\n",
    "plt.rcParams['figure.figsize'] = (4,8)\n",
    "\n",
    "fig, ax1 = plt.subplots(nrows=2, ncols=1, sharex=True)\n",
    "for ncase, ax in zip((0, 4), ax1):\n",
    "\n",
    "    cL1 = np.array([[c, Lab[component]/(1-c), dLab[component]/(1-c)] for c, Lab, dLab in \n",
    "                    zip(conc_KMC, Diff_results[ncase]['L_KMC'], Diff_results[ncase]['dL_KMC'])])\n",
    "    if ncase==0:\n",
    "        cL1p = np.array([[0,1,0]] + [[c, Lab/(1-c), dLab/(1-c)] for c, Lab, dLab in \n",
    "                         zip(conc_KMC, Diff_results[ncase]['L_perc'], Diff_results[ncase]['dL_perc'])])\n",
    "        cL2p = np.array([[c, Lab] for c, Lab in zip(conc_GF, Diff_results[ncase]['L_GFrbc']) if c!=1])\n",
    "    cL2 = np.array([[c, Lab[component]/(1-c)] for c, Lab in zip(conc_GF, Diff_results[ncase]['L_GF']) if c!=1])\n",
    "    cL3 = np.array([[c, Lab[component]/(1-c)] for c, Lab in zip(conc_GF, Diff_results[ncase]['L_bb']) if c!=1])\n",
    "    cL4 = np.array([[c, Lab[component]/(1-c)] for c, Lab in zip(conc_SCMF, Diff_results[ncase]['L_SCMF'][3]) \n",
    "                    if np.abs(Lab[component])<2])\n",
    "    ax.plot(cL4[:,0], cL4[:,1], 'b', label='SCMF')\n",
    "    ax.plot(cL3[:,0], cL3[:,1], 'r', label='bias basis')\n",
    "    ax.plot(cL2[:,0], cL2[:,1], 'g', label='GF')\n",
    "    if ncase==0: ax.plot(cL2p[:,0], cL2p[:,1], 'g--', label='GF+RBC')\n",
    "    ax.errorbar(cL1[:,0], cL1[:,1], yerr=cL1[:,2], fmt='ko', label='KMC')\n",
    "    if ncase==0: ax.errorbar(cL1p[:,0], cL1p[:,1], yerr=cL1p[:,2], \n",
    "                             fmt='mo-', label='percolation')\n",
    "    ax.set_ylabel(ylabel, fontsize='x-large')\n",
    "    ax.text(0.1, 0.05 if ncase==0 else 0.8, \"$\\\\nu_{\\\\rm B}=\" + \"{}$\".format(ncase), fontsize='x-large', bbox={'facecolor': 'white'})\n",
    "ax1[0].legend(bbox_to_anchor=(0.5,0.55,0.5,0.3), ncol=1, shadow=True, \n",
    "          frameon=True, fontsize='large', framealpha=1.)\n",
    "ax.set_xlabel('$c_{\\\\rm{B}}$', fontsize='x-large')\n",
    "plt.tight_layout()\n",
    "plt.show()\n",
    "# plt.savefig('solvent-diffusivity.pdf', transparent=True, format='pdf')"
   ]
  }
 ],
 "metadata": {
  "kernelspec": {
   "display_name": "Python 3",
   "language": "python",
   "name": "python3"
  },
  "language_info": {
   "codemirror_mode": {
    "name": "ipython",
    "version": 3
   },
   "file_extension": ".py",
   "mimetype": "text/x-python",
   "name": "python",
   "nbconvert_exporter": "python",
   "pygments_lexer": "ipython3",
   "version": "3.6.5"
  }
 },
 "nbformat": 4,
 "nbformat_minor": 2
}

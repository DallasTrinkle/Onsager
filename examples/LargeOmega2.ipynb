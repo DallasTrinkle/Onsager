{
 "cells": [
  {
   "cell_type": "markdown",
   "metadata": {},
   "source": [
    "# Large $\\omega^2$ correction\n",
    "In the limit of large $\\omega^2$, large roundoff error can become problematic as the correlation almost exactly matches the uncorrelated contribution to solute diffusion, and so it becomes necessary to introduce an alternative treatment specific to the large $\\omega^2$ limit. We will show the range of roundoff error by using FCC as an example."
   ]
  },
  {
   "cell_type": "code",
   "execution_count": 1,
   "metadata": {
    "collapsed": false
   },
   "outputs": [],
   "source": [
    "import sys\n",
    "sys.path.extend(['../'])\n",
    "import numpy as np\n",
    "import matplotlib.pyplot as plt\n",
    "plt.style.use('seaborn-whitegrid')\n",
    "%matplotlib inline\n",
    "from onsager import crystal, OnsagerCalc"
   ]
  },
  {
   "cell_type": "markdown",
   "metadata": {},
   "source": [
    "Create FCC crystal, and diffuser with first neighbor range."
   ]
  },
  {
   "cell_type": "code",
   "execution_count": 2,
   "metadata": {
    "collapsed": false,
    "scrolled": true
   },
   "outputs": [
    {
     "name": "stdout",
     "output_type": "stream",
     "text": [
      "Diffuser for atom 0 (FCC), Nthermo=1\n",
      "#Lattice:\n",
      "  a1 = [ 0.   0.5  0.5]\n",
      "  a2 = [ 0.5  0.   0.5]\n",
      "  a3 = [ 0.5  0.5  0. ]\n",
      "#Basis:\n",
      "  (FCC) 0.0 = [ 0.  0.  0.]\n",
      "vacancy configurations:\n",
      "v:+0.000,+0.000,+0.000\n",
      "solute configurations:\n",
      "s:+0.000,+0.000,+0.000\n",
      "solute-vacancy configurations:\n",
      "s:+0.000,+0.000,+0.000-v:-1.000,+0.000,+0.000\n",
      "omega0 jumps:\n",
      "omega0:v:+0.000,+0.000,+0.000^v:+1.000,+0.000,-1.000\n",
      "omega1 jumps:\n",
      "omega1:s:+0.000,+0.000,+0.000-v:+1.000,+0.000,-1.000^v:+2.000,+0.000,-2.000\n",
      "omega1:s:+0.000,+0.000,+0.000-v:-1.000,+1.000,+0.000^v:+0.000,+1.000,-1.000\n",
      "omega1:s:+0.000,+0.000,+0.000-v:+1.000,-1.000,+0.000^v:+2.000,-1.000,-1.000\n",
      "omega1:s:+0.000,+0.000,+0.000-v:+0.000,-1.000,+0.000^v:+1.000,-1.000,-1.000\n",
      "omega2 jumps:\n",
      "omega2:s:+0.000,+0.000,+0.000-v:-1.000,+0.000,+1.000^s:+0.000,+0.000,+0.000-v:+1.000,+0.000,-1.000\n",
      "\n"
     ]
    }
   ],
   "source": [
    "a0 = 1.\n",
    "FCC = crystal.Crystal.FCC(a0, [\"FCC\"])\n",
    "diffuser = OnsagerCalc.VacancyMediated(FCC, 0, FCC.sitelist(0), \n",
    "                                       FCC.jumpnetwork(0, 0.75*a0), 1)\n",
    "print(diffuser)"
   ]
  },
  {
   "cell_type": "markdown",
   "metadata": {},
   "source": [
    "Next, we fill out our thermodynamic dictionary."
   ]
  },
  {
   "cell_type": "code",
   "execution_count": 3,
   "metadata": {
    "collapsed": false
   },
   "outputs": [
    {
     "name": "stdout",
     "output_type": "stream",
     "text": [
      "preV [ 1.]\n",
      "preT1 [ 1.  1.  1.  1.]\n",
      "eneT2 [ 0.]\n",
      "eneSV [ 0.]\n",
      "preSV [ 1.]\n",
      "eneV [ 0.]\n",
      "eneT1 [ 0.  0.  0.  0.]\n",
      "eneS [ 0.]\n",
      "preT2 [ 1.]\n",
      "preT0 [ 1.]\n",
      "preS [ 1.]\n",
      "eneT0 [ 0.]\n"
     ]
    }
   ],
   "source": [
    "tdict = {'preV': np.ones(1), 'eneV': np.zeros(1), 'preT0': np.ones(1), 'eneT0': np.zeros(1)}\n",
    "tdict.update(diffuser.maketracerpreene(**tdict))\n",
    "for k,v in tdict.items():\n",
    "    print(k, v)"
   ]
  },
  {
   "cell_type": "markdown",
   "metadata": {},
   "source": [
    "Now, to loop through a range of $\\omega^2$ values from $10^{-17}$ to $10^{17}$, and evaluate the $L_{\\mathrm{ss}}$ in three different ways:\n",
    "\n",
    "1. Never using the large $\\omega^2$ treatment (should fail for large $\\omega^2$).\n",
    "2. Always using the large $\\omega^2$ treatment (should fail for small $\\omega^2$).\n",
    "3. Automatically switching treatment depending on $\\omega^2$ value (should be accurate over entire range).\n",
    "\n",
    "Because the failure can be pretty spectacular, we check for NaN, Inf, or 0 values."
   ]
  },
  {
   "cell_type": "code",
   "execution_count": 4,
   "metadata": {
    "collapsed": false
   },
   "outputs": [
    {
     "name": "stdout",
     "output_type": "stream",
     "text": [
      "omega2\tno large\tall large\tautomatic\n",
      "10^-17.00\t7.81451419e-01\t1.00000000e+00\t7.8145141885543312e-01\n",
      "10^-16.75\t7.81451419e-01\t1.00000000e+00\t7.8145141885543312e-01\n",
      "10^-16.50\t7.81451419e-01\t1.00000000e+00\t7.8145141885543301e-01\n",
      "10^-16.25\t7.81451419e-01\t1.00000000e+00\t7.8145141885543301e-01\n",
      "10^-16.00\t7.81451419e-01\t3.00239975e-01\t7.8145141885543301e-01\n",
      "10^-15.75\t7.81451419e-01\t5.33910566e-01\t7.8145141885543312e-01\n",
      "10^-15.50\t7.81451419e-01\t5.69665300e-01\t7.8145141885543301e-01\n",
      "10^-15.25\t7.81451419e-01\t8.44186728e-01\t7.8145141885543312e-01\n",
      "10^-15.00\t7.81451419e-01\t8.18836296e-01\t7.8145141885543312e-01\n",
      "10^-14.75\t7.81451419e-01\t7.62729380e-01\t7.8145141885543312e-01\n",
      "10^-14.50\t7.81451419e-01\t7.69817973e-01\t7.8145141885543312e-01\n",
      "10^-14.25\t7.81451419e-01\t7.79249287e-01\t7.8145141885543301e-01\n",
      "10^-14.00\t7.81451419e-01\t7.83234718e-01\t7.8145141885543301e-01\n",
      "10^-13.75\t7.81451419e-01\t7.81332535e-01\t7.8145141885543312e-01\n",
      "10^-13.50\t7.81451419e-01\t7.86830524e-01\t7.8145141885543312e-01\n",
      "10^-13.25\t7.81451419e-01\t7.81654377e-01\t7.8145141885543312e-01\n",
      "10^-13.00\t7.81451419e-01\t7.81874935e-01\t7.8145141885543301e-01\n",
      "10^+13.00\t7.81383433e-01\t7.81451419e-01\t7.8145141885543312e-01\n",
      "10^+13.25\t7.81196581e-01\t7.81451419e-01\t7.8145141885543323e-01\n",
      "10^+13.50\t7.80341880e-01\t7.81451419e-01\t7.8145141885543312e-01\n",
      "10^+13.75\t7.81196581e-01\t7.81451419e-01\t7.8145141885543323e-01\n",
      "10^+14.00\t7.80068729e-01\t7.81451419e-01\t7.8145141885543312e-01\n",
      "10^+14.25\t7.76223776e-01\t7.81451419e-01\t7.8145141885543323e-01\n",
      "10^+14.50\t7.74647887e-01\t7.81451419e-01\t7.8145141885543323e-01\n",
      "10^+14.75\t7.71428571e-01\t7.81451419e-01\t7.8145141885543323e-01\n",
      "10^+15.00\t7.71428571e-01\t7.81451419e-01\t7.8145141885543301e-01\n",
      "10^+15.25\t7.77777778e-01\t7.81451419e-01\t7.8145141885543312e-01\n",
      "10^+15.50\t8.57142857e-01\t7.81451419e-01\t7.8145141885543312e-01\n",
      "10^+15.75\t1.00000000e+00\t7.81451419e-01\t7.8145141885543323e-01\n",
      "10^+16.00\t0.00000000e+00\t7.81451419e-01\t7.8145141885543323e-01\n",
      "10^+16.25\t1.00000000e+00\t7.81451419e-01\t7.8145141885543301e-01\n",
      "10^+16.50\t1.00000000e+00\t7.81451419e-01\t7.8145141885543301e-01\n",
      "10^+16.75\t1.00000000e+00\t7.81451419e-01\t7.8145141885543323e-01\n",
      "10^+17.00\t1.00000000e+00\t7.81451419e-01\t7.8145141885543323e-01\n"
     ]
    }
   ],
   "source": [
    "print('omega2\\tno large\\tall large\\tautomatic')\n",
    "om2_list, correl_list = [], []\n",
    "for om2pow in np.concatenate((np.linspace(-17,-13,num=17), np.linspace(13,17,num=17))):\n",
    "    om2 = 10.**(om2pow)\n",
    "    tdict['preT2'] = np.array([om2])\n",
    "    correl = []\n",
    "    for large_om2 in (1e33, 1e-33, 1e8):\n",
    "        Lss, Lsv = diffuser.Lij(*diffuser.preene2betafree(1., **tdict), \n",
    "                                large_om2=large_om2)[1:3]\n",
    "        if Lsv[0,0] is np.nan or Lsv[0,0] is np.inf or Lsv[0,0]==0 :\n",
    "            c = 1\n",
    "        else:\n",
    "            c = -Lss[0,0]/Lsv[0,0]\n",
    "        correl.append(c)\n",
    "    om2_list.append(om2)\n",
    "    correl_list.append(correl)\n",
    "    print('10^{:+.2f}\\t{:.8e}\\t{:.8e}\\t{:.16e}'.format(om2pow, \n",
    "                                                      correl[0], correl[1], correl[2]))"
   ]
  },
  {
   "cell_type": "code",
   "execution_count": 5,
   "metadata": {
    "collapsed": false
   },
   "outputs": [
    {
     "data": {
      "image/png": "[encoded data removed]",
      "text/plain": [
       "<matplotlib.figure.Figure at 0x10a05ecc0>"
      ]
     },
     "metadata": {},
     "output_type": "display_data"
    }
   ],
   "source": [
    "om2, correl = np.array(om2_list), np.array(correl_list)\n",
    "f, (ax1, ax2) = plt.subplots(1, 2, sharey=True)\n",
    "for ax in (ax1, ax2):\n",
    "    ax.plot(om2, correl[:,2], 'k', label='automatic')\n",
    "    ax.plot(om2, correl[:,0], 'r.', label='no large $\\omega^2$')\n",
    "    ax.plot(om2, correl[:,1], 'g.', label='only large $\\omega^2$')\n",
    "ax1.set_xlim((1e-17,1e-13))\n",
    "ax2.set_xlim((1e13,1e17))\n",
    "ax1.set_ylim((-0.05,1.05))\n",
    "ax2.set_ylim((-0.05,1.05))\n",
    "ax1.set_xscale('log')\n",
    "ax2.set_xscale('log')\n",
    "ax1.set_xlabel('$\\omega^2$', fontsize='x-large')\n",
    "ax2.set_xlabel('$\\omega^2$', fontsize='x-large')\n",
    "ax1.set_ylabel('correlation', fontsize='x-large')\n",
    "ax2.legend(bbox_to_anchor=(0,0.3,0.5,0.2), ncol=1, \n",
    "           shadow=True, frameon=True, fontsize='x-large')\n",
    "ax1.yaxis.tick_left()\n",
    "ax1.tick_params(labelright='off')\n",
    "ax2.yaxis.tick_right()\n",
    "ax1.spines['right'].set_visible(False)\n",
    "ax2.spines['left'].set_visible(False)\n",
    "\n",
    "d = .015 # how big to make the diagonal lines in axes coordinates\n",
    "# arguments to pass plot, just so we don't keep repeating them\n",
    "kwargs = dict(transform=ax1.transAxes, color='k', clip_on=False)\n",
    "ax1.plot((1-d,1+d), (-d,+d), **kwargs)\n",
    "ax1.plot((1-d,1+d),(1-d,1+d), **kwargs)\n",
    "\n",
    "kwargs.update(transform=ax2.transAxes)  # switch to the bottom axes\n",
    "ax2.plot((-d,+d), (1-d,1+d), **kwargs)\n",
    "ax2.plot((-d,+d), (-d,+d), **kwargs)\n",
    "plt.show()\n",
    "# plt.savefig('largeomega2.pdf', transparent=True, format='pdf')"
   ]
  }
 ],
 "metadata": {
  "kernelspec": {
   "display_name": "Python 3",
   "language": "python",
   "name": "python3"
  },
  "language_info": {
   "codemirror_mode": {
    "name": "ipython",
    "version": 3
   },
   "file_extension": ".py",
   "mimetype": "text/x-python",
   "name": "python",
   "nbconvert_exporter": "python",
   "pygments_lexer": "ipython3",
   "version": "3.4.5"
  }
 },
 "nbformat": 4,
 "nbformat_minor": 0
}

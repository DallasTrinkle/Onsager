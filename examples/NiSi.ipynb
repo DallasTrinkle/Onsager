{
 "cells": [
  {
   "cell_type": "markdown",
   "metadata": {},
   "source": [
    "We use the crystal module to define the crystal structure, and the vacancy jump network; the OnsagerCalc module provides the VacancyMediated calculator."
   ]
  },
  {
   "cell_type": "code",
   "execution_count": 1,
   "metadata": {
    "collapsed": false
   },
   "outputs": [],
   "source": [
    "import numpy as np\n",
    "from onsager import OnsagerCalc\n",
    "from onsager import crystal\n",
    "import matplotlib.pyplot as plt\n",
    "%matplotlib inline"
   ]
  },
  {
   "cell_type": "markdown",
   "metadata": {},
   "source": [
    "We use the FCC classmethod to create a FCC crystal; alternatively, we could pass the lattice and basis."
   ]
  },
  {
   "cell_type": "code",
   "execution_count": 2,
   "metadata": {
    "collapsed": false
   },
   "outputs": [],
   "source": [
    "Nifcc = crystal.Crystal.FCC(3.43, 'Ni')"
   ]
  },
  {
   "cell_type": "code",
   "execution_count": 3,
   "metadata": {
    "collapsed": false
   },
   "outputs": [
    {
     "name": "stdout",
     "output_type": "stream",
     "text": [
      "#Lattice:\n",
      "  a1 = [ 0.     1.715  1.715]\n",
      "  a2 = [ 1.715  0.     1.715]\n",
      "  a3 = [ 1.715  1.715  0.   ]\n",
      "#Basis:\n",
      "  (Ni) 0.0 = [ 0.  0.  0.]\n"
     ]
    }
   ],
   "source": [
    "print(Nifcc)"
   ]
  },
  {
   "cell_type": "markdown",
   "metadata": {},
   "source": [
    "The sitelist is the list of Wyckoff positions; the jumpnetwork defines the vacancy jumps on the FCC lattice. The structure of the jumpnetwork is a list of lists: grouped by symmetry unique jumps, then all of the jumps in that set. Each jump is a tuple of initial to final indices in the crystal, and the dx vector (in Cartesian coordinates)."
   ]
  },
  {
   "cell_type": "code",
   "execution_count": 4,
   "metadata": {
    "collapsed": true
   },
   "outputs": [],
   "source": [
    "sitelist = Nifcc.sitelist(Nifcc.chemindex('Ni'))\n",
    "vacancyjumps = Nifcc.jumpnetwork(Nifcc.chemindex('Ni'), 0.75*3.43)"
   ]
  },
  {
   "cell_type": "code",
   "execution_count": 5,
   "metadata": {
    "collapsed": false
   },
   "outputs": [
    {
     "data": {
      "text/plain": [
       "1"
      ]
     },
     "execution_count": 5,
     "metadata": {},
     "output_type": "execute_result"
    }
   ],
   "source": [
    "len(vacancyjumps)"
   ]
  },
  {
   "cell_type": "code",
   "execution_count": 6,
   "metadata": {
    "collapsed": false
   },
   "outputs": [
    {
     "name": "stdout",
     "output_type": "stream",
     "text": [
      "0 -> 0 [ 1.715 -1.715  0.   ]\n",
      "0 -> 0 [-1.715  1.715 -0.   ]\n",
      "0 -> 0 [ 0.     1.715  1.715]\n",
      "0 -> 0 [-0.    -1.715 -1.715]\n",
      "0 -> 0 [-1.715  0.    -1.715]\n",
      "0 -> 0 [ 1.715 -0.     1.715]\n",
      "0 -> 0 [-1.715  0.     1.715]\n",
      "0 -> 0 [ 1.715 -0.    -1.715]\n",
      "0 -> 0 [ 1.715  1.715  0.   ]\n",
      "0 -> 0 [-1.715 -1.715 -0.   ]\n",
      "0 -> 0 [ 0.     1.715 -1.715]\n",
      "0 -> 0 [-0.    -1.715  1.715]\n"
     ]
    }
   ],
   "source": [
    "for (i,j), dx in vacancyjumps[0]:\n",
    "    print(i, '->', j, dx)"
   ]
  },
  {
   "cell_type": "markdown",
   "metadata": {},
   "source": [
    "This constructs the VacancyMediated calculator. It takes a while to construct, as there's a lot behind the scenes. This includes constructing the stars that define the thermodynamic shells, the kinetic shells (thermo + 1), the vector stars, and creates the Green function calculator. However, once constructed, the $L_{ij}$ calculation is quite fast."
   ]
  },
  {
   "cell_type": "code",
   "execution_count": 7,
   "metadata": {
    "collapsed": true
   },
   "outputs": [],
   "source": [
    "Nidiffuser = OnsagerCalc.VacancyMediated(Nifcc, Nifcc.chemindex('Ni'), sitelist, \n",
    "                                         vacancyjumps, 2)"
   ]
  },
  {
   "cell_type": "markdown",
   "metadata": {},
   "source": [
    "The interactlist are symmetry-unique solute-vacancy configurations. For $N_\\text{thermo}=2$, there are 4 stars: $\\frac{a}2\\langle110\\rangle$, $a\\langle100\\rangle$, $\\frac{a}2\\langle112\\rangle$, and $a\\langle200\\rangle$. For Si in Ni, the first three have non-zero interaction energies, while the fourth is zero. The states, as written, are the solute (basis index + lattice position) : vacancy (basis index + lattice position), and $dx$ is the (Cartesian) vector separating them."
   ]
  },
  {
   "cell_type": "code",
   "execution_count": 8,
   "metadata": {
    "collapsed": false
   },
   "outputs": [
    {
     "name": "stdout",
     "output_type": "stream",
     "text": [
      "0.[0,0,0]:0.[-1,1,0] (dx=[1.715,-1.715,0.0])\n",
      "0.[0,0,0]:0.[-1,1,1] (dx=[3.43,0.0,0.0])\n",
      "0.[0,0,0]:0.[-2,1,0] (dx=[1.715,-3.43,-1.715])\n",
      "0.[0,0,0]:0.[-2,2,0] (dx=[3.43,-3.43,0.0])\n"
     ]
    }
   ],
   "source": [
    "for state in Nidiffuser.interactlist():\n",
    "    print(state)"
   ]
  },
  {
   "cell_type": "markdown",
   "metadata": {},
   "source": [
    "The fastest way to construct all of the transition states is to specify the vacancy jumps, then the solute-vacancy interactions, and impose LIMB (linear interpolation of migration barrier) approximation. It's mostly accurate, and so we just correct the few cases where it fails. *Remember*: we specify transition state energies and prefactors, and so we have to remember the solute-vacancy binding energies are included in the transition states."
   ]
  },
  {
   "cell_type": "code",
   "execution_count": 9,
   "metadata": {
    "collapsed": false
   },
   "outputs": [],
   "source": [
    "nu0 = 4.8e3  # 10^12 Hz, 10^-20 m^2\n",
    "dE0 = 1.074  # activation barrier eV\n",
    "NiSidef = {'preV': np.array([1.]), 'eneV': np.array([0.]),\n",
    "           'preS': np.array([1.]), 'eneS': np.array([0.]),\n",
    "           'preT0': np.array([nu0]), 'eneT0': np.array([dE0])}\n",
    "NiSidef['preSV'] = np.array([1., 1., 1., 1.])\n",
    "NiSidef['eneSV'] = np.array([-0.100, 0.011, 0.045, 0.0])  # solute-vacancy interaction"
   ]
  },
  {
   "cell_type": "code",
   "execution_count": 10,
   "metadata": {
    "collapsed": false
   },
   "outputs": [],
   "source": [
    "NiSidef.update(Nidiffuser.makeLIMBpreene(**NiSidef))  # implement LIMB"
   ]
  },
  {
   "cell_type": "code",
   "execution_count": 11,
   "metadata": {
    "collapsed": false
   },
   "outputs": [
    {
     "name": "stdout",
     "output_type": "stream",
     "text": [
      "eneV [ 0.]\n",
      "preSV [ 1.  1.  1.  1.]\n",
      "preV [ 1.]\n",
      "eneT1 [ 1.024   0.974   1.0465  1.0295  1.0795  1.102   1.0965  1.119   1.0965\n",
      "  1.0965  1.0965  1.074   1.074   1.074 ]\n",
      "preT2 [ 4800.]\n",
      "eneT2 [ 0.974]\n",
      "eneS [ 0.]\n",
      "preS [ 1.]\n",
      "preT0 [ 4800.]\n",
      "eneT0 [ 1.074]\n",
      "preT1 [ 4800.  4800.  4800.  4800.  4800.  4800.  4800.  4800.  4800.  4800.\n",
      "  4800.  4800.  4800.  4800.]\n",
      "eneSV [-0.1    0.011  0.045  0.   ]\n"
     ]
    }
   ],
   "source": [
    "for k,v in zip(NiSidef.keys(), NiSidef.values()):\n",
    "    print(k, v)"
   ]
  },
  {
   "cell_type": "markdown",
   "metadata": {},
   "source": [
    "We first change the $\\omega^{(2)}$ jump barrier; then we set all of the prefactors to the higher value. Finally, we'll identify the $\\omega^{(1)}$ jump that involves the vacancy next to the solute."
   ]
  },
  {
   "cell_type": "code",
   "execution_count": 12,
   "metadata": {
    "collapsed": true
   },
   "outputs": [],
   "source": [
    "NiSidef['eneT2'][0] = 0.891 + NiSidef['eneSV'][0]  # fix omega2\n",
    "NiSidef['preT1'] = 5.15e3 * np.ones_like(NiSidef['preT1'])  # fix omega1 prefactors\n",
    "NiSidef['preT2'][0] = 5.15e3"
   ]
  },
  {
   "cell_type": "code",
   "execution_count": 13,
   "metadata": {
    "collapsed": false
   },
   "outputs": [
    {
     "name": "stdout",
     "output_type": "stream",
     "text": [
      "0.[0,0,0]:0.[-1,1,0] (dx=[1.715,-1.715,0.0]) -> 0.[0,0,0]:0.[-2,2,0] (dx=[3.43,-3.43,0.0])\n",
      "0.[0,0,0]:0.[1,0,0] (dx=[0.0,1.715,1.715]) -> 0.[0,0,0]:0.[0,1,0] (dx=[1.715,-0.0,1.715])\n",
      "0.[0,0,0]:0.[-1,0,0] (dx=[-0.0,-1.715,-1.715]) -> 0.[0,0,0]:0.[-2,1,0] (dx=[1.715,-3.43,-1.715])\n",
      "0.[0,0,0]:0.[0,0,1] (dx=[1.715,1.715,0.0]) -> 0.[0,0,0]:0.[-1,1,1] (dx=[3.43,0.0,0.0])\n",
      "0.[0,0,0]:0.[-1,1,1] (dx=[3.43,0.0,0.0]) -> 0.[0,0,0]:0.[-2,2,1] (dx=[5.1450000000000005,-1.715,0.0])\n",
      "0.[0,0,0]:0.[1,1,-1] (dx=[0.0,0.0,3.43]) -> 0.[0,0,0]:0.[0,2,-1] (dx=[1.715,-1.715,3.43])\n",
      "0.[0,0,0]:0.[-2,1,0] (dx=[1.715,-3.43,-1.715]) -> 0.[0,0,0]:0.[-3,2,0] (dx=[3.43,-5.1450000000000005,-1.715])\n",
      "0.[0,0,0]:0.[1,0,1] (dx=[1.715,3.43,1.715]) -> 0.[0,0,0]:0.[0,1,1] (dx=[3.43,1.715,1.715])\n",
      "0.[0,0,0]:0.[-1,0,-1] (dx=[-1.715,-3.43,-1.715]) -> 0.[0,0,0]:0.[-2,1,-1] (dx=[0.0,-5.1450000000000005,-1.715])\n",
      "0.[0,0,0]:0.[1,1,0] (dx=[1.715,1.715,3.43]) -> 0.[0,0,0]:0.[0,2,0] (dx=[3.43,-0.0,3.43])\n",
      "0.[0,0,0]:0.[-2,0,1] (dx=[1.715,-1.715,-3.43]) -> 0.[0,0,0]:0.[-3,1,1] (dx=[3.43,-3.43,-3.43])\n",
      "0.[0,0,0]:0.[-2,2,0] (dx=[3.43,-3.43,0.0]) -> 0.[0,0,0]:0.[-3,3,0] (dx=[5.1450000000000005,-5.1450000000000005,0.0])\n",
      "0.[0,0,0]:0.[-2,0,0] (dx=[-0.0,-3.43,-3.43]) -> 0.[0,0,0]:0.[-3,1,0] (dx=[1.715,-5.1450000000000005,-3.43])\n",
      "0.[0,0,0]:0.[0,0,2] (dx=[3.43,3.43,0.0]) -> 0.[0,0,0]:0.[-1,1,2] (dx=[5.1450000000000005,1.715,0.0])\n"
     ]
    }
   ],
   "source": [
    "for S1, S2 in Nidiffuser.omegalist(1)[0]:\n",
    "    print(S1, '->', S2)"
   ]
  },
  {
   "cell_type": "markdown",
   "metadata": {},
   "source": [
    "Specifically look for the case where the initial and final states are at first neighbor:"
   ]
  },
  {
   "cell_type": "code",
   "execution_count": 14,
   "metadata": {
    "collapsed": true
   },
   "outputs": [],
   "source": [
    "for j, (S1,S2) in enumerate(Nidiffuser.omegalist(1)[0]):\n",
    "    if np.isclose(np.dot(S1.dx, S1.dx), 0.5*3.43**2) and \\\n",
    "        np.isclose(np.dot(S2.dx,S2.dx), 0.5*3.43**2):\n",
    "            NiSidef['eneT1'][j] = 1.003 + NiSidef['eneSV'][0]  # fix omega1 near solute"
   ]
  },
  {
   "cell_type": "markdown",
   "metadata": {},
   "source": [
    "This is a little bit of python to \"hide\" the conversion of T into energy, and use the dictionary we built to construct the inputs to the $L_{ij}$ calculator."
   ]
  },
  {
   "cell_type": "code",
   "execution_count": 15,
   "metadata": {
    "collapsed": false
   },
   "outputs": [],
   "source": [
    "def NiSiLij(T):\n",
    "    return Nidiffuser.Lij(*Nidiffuser.preene2betafree(T*0.026/300, **NiSidef))"
   ]
  },
  {
   "cell_type": "markdown",
   "metadata": {},
   "source": [
    "Our prefactor will make the units $(\\text{eV A ns})^{-1}$."
   ]
  },
  {
   "cell_type": "code",
   "execution_count": 16,
   "metadata": {
    "collapsed": false
   },
   "outputs": [
    {
     "name": "stdout",
     "output_type": "stream",
     "text": [
      "500 0.784406826564 2.22517060121e-06 9.73358983796e-05 0.000124088540644\n",
      "550 0.708551697488 1.92530648438e-05 0.000534518072421 0.000754381189568\n",
      "600 0.628310650181 0.000115385795975 0.002119825703 0.00337384970697\n",
      "650 0.546476785379 0.000521649522805 0.00651274224496 0.0119176924239\n",
      "700 0.465192381867 0.00189065769081 0.0162711542892 0.0349772587072\n",
      "750 0.385981174853 0.00574397604805 0.0341653764172 0.0885156547602\n",
      "800 0.309847957366 0.0151243412369 0.06153569641 0.198599651691\n",
      "850 0.237394358247 0.0354059512916 0.0958024040707 0.403558049054\n",
      "900 0.168925485085 0.0751642905812 0.127554387385 0.755092621581\n",
      "950 0.104537885462 0.146981303834 0.137791953457 1.31810542033\n",
      "1000 0.0441875145103 0.268067501522 0.0958544183704 2.16926476704\n",
      "1050 -0.0122599963097 0.460613154326 -0.0416169990797 3.39453602011\n",
      "1100 -0.064993353166 0.751823859343 -0.33055741173 5.08601873311\n",
      "1150 -0.114230529424 1.17363944631 -0.838276323621 7.33846133647\n",
      "1200 -0.160201745644 1.76217104959 -1.6413934163 10.2457898302\n",
      "1250 -0.203138238314 2.55691519084 -2.82319806289 13.8979154605\n",
      "1300 -0.243265109968 3.59981548617 -4.47072662433 18.3780017813\n",
      "1350 -0.280797008699 4.93424395991 -6.6718185253 23.7602905964\n",
      "1400 -0.315935737275 6.60396776691 -9.51235699437 30.1085185121\n",
      "1450 -0.348869154776 8.65215635003 -13.073838402 37.4749049121\n",
      "1500 -0.379770925094 11.12047122 -17.4313555746 45.8996579855\n"
     ]
    }
   ],
   "source": [
    "for T in range(500, 1501, 50):\n",
    "    pre = 300/(0.026*T*Nifcc.volume)\n",
    "    Lvv, Lss, Lsv, L1vv = NiSiLij(T)\n",
    "    print(T, Lsv[0,0]/Lss[0,0], pre*Lvv[0,0], pre*Lsv[0,0], pre*Lss[0,0])"
   ]
  },
  {
   "cell_type": "code",
   "execution_count": 17,
   "metadata": {
    "collapsed": false
   },
   "outputs": [
    {
     "data": {
      "image/png": "[encoded data removed]",
      "text/plain": [
       "<matplotlib.figure.Figure at 0x109a56320>"
      ]
     },
     "metadata": {},
     "output_type": "display_data"
    }
   ],
   "source": [
    "Temp = np.arange(500., 1501., 25.)\n",
    "dragratio = Temp.copy()\n",
    "for i, T in enumerate(Temp):\n",
    "    Lvv, Lss, Lsv, L1vv = NiSiLij(T)\n",
    "    dragratio[i] = Lsv[0,0]/Lss[0,0]\n",
    "DragPlot = plt.plot(Temp, dragratio)\n",
    "plt.show()"
   ]
  },
  {
   "cell_type": "code",
   "execution_count": 18,
   "metadata": {
    "collapsed": false
   },
   "outputs": [
    {
     "data": {
      "text/plain": [
       "array([ 0.78440683,  0.74722572,  0.7085517 ,  0.66879   ,  0.62831065,\n",
       "        0.58744355,  0.54647679,  0.50565717,  0.46519238,  0.42525403,\n",
       "        0.38598117,  0.3474841 ,  0.30984796,  0.27313632,  0.23739436,\n",
       "        0.2026518 ,  0.16892549,  0.13622165,  0.10453789,  0.07386481,\n",
       "        0.04418751,  0.01548676, -0.01226   , -0.03907777, -0.06499335,\n",
       "       -0.09003471, -0.11423053, -0.13760985, -0.16020175, -0.18203506,\n",
       "       -0.20313824, -0.22353918, -0.24326511, -0.2623425 , -0.28079701,\n",
       "       -0.29865345, -0.31593574, -0.33266692, -0.34886915, -0.36456369,\n",
       "       -0.37977093])"
      ]
     },
     "execution_count": 18,
     "metadata": {},
     "output_type": "execute_result"
    }
   ],
   "source": [
    "dragratio"
   ]
  },
  {
   "cell_type": "code",
   "execution_count": null,
   "metadata": {
    "collapsed": true
   },
   "outputs": [],
   "source": []
  }
 ],
 "metadata": {
  "kernelspec": {
   "display_name": "Python 3",
   "language": "python",
   "name": "python3"
  },
  "language_info": {
   "codemirror_mode": {
    "name": "ipython",
    "version": 3
   },
   "file_extension": ".py",
   "mimetype": "text/x-python",
   "name": "python",
   "nbconvert_exporter": "python",
   "pygments_lexer": "ipython3",
   "version": "3.4.3"
  }
 },
 "nbformat": 4,
 "nbformat_minor": 0
}

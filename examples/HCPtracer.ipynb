{
 "cells": [
  {
   "cell_type": "markdown",
   "metadata": {
    "pycharm": {}
   },
   "source": [
    "# HCP tracer calculation\n",
    "What follows is the calculation of the tracer correlation for an HCP crystal (ideal $c/a = \\sqrt{8/3}$, $a_0 = 1$, and $\\nu = 1$, all for convenience)."
   ]
  },
  {
   "cell_type": "code",
   "execution_count": 1,
   "metadata": {
    "pycharm": {}
   },
   "outputs": [],
   "source": [
    "import sys\n",
    "sys.path.append('../')\n",
    "import numpy as np\n",
    "import yaml\n",
    "from onsager import OnsagerCalc\n",
    "from onsager import crystal\n",
    "import matplotlib.pyplot as plt\n",
    "%matplotlib inline"
   ]
  },
  {
   "cell_type": "code",
   "execution_count": 2,
   "metadata": {
    "pycharm": {}
   },
   "outputs": [
    {
     "name": "stdout",
     "output_type": "stream",
     "text": [
      "#Lattice:\n",
      "  a1 = [ 0.5       -0.8660254  0.       ]\n",
      "  a2 = [0.5       0.8660254 0.       ]\n",
      "  a3 = [0.         0.         1.63299316]\n",
      "#Basis:\n",
      "  (ideal HCP) 0.0 = [0.33333333 0.66666667 0.25      ]\n",
      "  (ideal HCP) 0.1 = [0.66666667 0.33333333 0.75      ]\n"
     ]
    }
   ],
   "source": [
    "HCP = crystal.Crystal.HCP(1., chemistry=\"ideal HCP\")\n",
    "print(HCP)"
   ]
  },
  {
   "cell_type": "code",
   "execution_count": 3,
   "metadata": {
    "pycharm": {}
   },
   "outputs": [
    {
     "name": "stdout",
     "output_type": "stream",
     "text": [
      "---\n",
      "1 - 1 [-0.5        0.8660254  0.       ]\n",
      "1 - 1 [ 0.5       -0.8660254 -0.       ]\n",
      "0 - 0 [ 0.5       -0.8660254  0.       ]\n",
      "0 - 0 [-0.5        0.8660254 -0.       ]\n",
      "0 - 0 [-1.00000000e+00  5.55111512e-17  0.00000000e+00]\n",
      "0 - 0 [ 1.00000000e+00 -5.55111512e-17 -0.00000000e+00]\n",
      "1 - 1 [1.00000000e+00 5.55111512e-17 0.00000000e+00]\n",
      "1 - 1 [-1.00000000e+00 -5.55111512e-17 -0.00000000e+00]\n",
      "1 - 1 [-0.5       -0.8660254  0.       ]\n",
      "1 - 1 [ 0.5        0.8660254 -0.       ]\n",
      "0 - 0 [0.5       0.8660254 0.       ]\n",
      "0 - 0 [-0.5       -0.8660254 -0.       ]\n",
      "---\n",
      "1 - 0 [0.         0.57735027 0.81649658]\n",
      "0 - 1 [-0.         -0.57735027 -0.81649658]\n",
      "0 - 1 [ 0.         -0.57735027  0.81649658]\n",
      "1 - 0 [-0.          0.57735027 -0.81649658]\n",
      "0 - 1 [-0.5         0.28867513 -0.81649658]\n",
      "1 - 0 [ 0.5        -0.28867513  0.81649658]\n",
      "1 - 0 [-0.5        -0.28867513 -0.81649658]\n",
      "0 - 1 [0.5        0.28867513 0.81649658]\n",
      "1 - 0 [-0.5        -0.28867513  0.81649658]\n",
      "0 - 1 [ 0.5         0.28867513 -0.81649658]\n",
      "1 - 0 [ 0.5        -0.28867513 -0.81649658]\n",
      "0 - 1 [-0.5         0.28867513  0.81649658]\n"
     ]
    }
   ],
   "source": [
    "sitelist = HCP.sitelist(0)\n",
    "vacancyjumps = HCP.jumpnetwork(0, 1.01)\n",
    "for jlist in vacancyjumps:\n",
    "    print('---')\n",
    "    for (i,j), dx in jlist:\n",
    "        print(i, '-', j, dx)"
   ]
  },
  {
   "cell_type": "code",
   "execution_count": 4,
   "metadata": {
    "pycharm": {}
   },
   "outputs": [],
   "source": [
    "HCPdiffuser = OnsagerCalc.VacancyMediated(HCP, 0, sitelist, vacancyjumps, 1)"
   ]
  },
  {
   "cell_type": "code",
   "execution_count": 5,
   "metadata": {
    "pycharm": {}
   },
   "outputs": [
    {
     "name": "stdout",
     "output_type": "stream",
     "text": [
      "1.[0,0,0]:0.[1,0,0] (dx=[0.5,-0.28867513459481287,-0.8164965809277259])\n",
      "0.[0,0,0]:0.[0,-1,0] (dx=[-0.5,-0.8660254037844386,-0.0])\n"
     ]
    }
   ],
   "source": [
    "for state in HCPdiffuser.interactlist():\n",
    "    print(state)"
   ]
  },
  {
   "cell_type": "code",
   "execution_count": 6,
   "metadata": {
    "pycharm": {}
   },
   "outputs": [
    {
     "name": "stdout",
     "output_type": "stream",
     "text": [
      "preV [1.]\n",
      "eneV [0.]\n",
      "preT0 [1 1]\n",
      "eneT0 [1 1]\n",
      "preS [1.]\n",
      "eneS [0.]\n",
      "preSV [1. 1.]\n",
      "eneSV [0. 0.]\n",
      "preT1 [1. 1. 1. 1. 1. 1. 1. 1. 1. 1. 1. 1. 1.]\n",
      "eneT1 [1. 1. 1. 1. 1. 1. 1. 1. 1. 1. 1. 1. 1.]\n",
      "preT2 [1. 1.]\n",
      "eneT2 [1. 1.]\n"
     ]
    }
   ],
   "source": [
    "nu0 = 1\n",
    "dE0 = 1\n",
    "HCPtracer = {'preV': np.ones(1), 'eneV': np.zeros(1), \n",
    "             'preT0': np.array([nu0, nu0]), 'eneT0': np.array([dE0, dE0])}\n",
    "HCPtracer.update(HCPdiffuser.maketracerpreene(**HCPtracer))\n",
    "for k,v in zip(HCPtracer.keys(), HCPtracer.values()): print(k,v)"
   ]
  },
  {
   "cell_type": "code",
   "execution_count": 7,
   "metadata": {
    "pycharm": {}
   },
   "outputs": [],
   "source": [
    "Lvv, Lss, Lsv, L1vv = HCPdiffuser.Lij(*HCPdiffuser.preene2betafree(1, **HCPtracer))"
   ]
  },
  {
   "cell_type": "markdown",
   "metadata": {
    "pycharm": {}
   },
   "source": [
    "Correlation coefficient = $L_\\text{ss} / L_\\text{sv}$ (as $L_\\text{sv} = L_\\text{vv}$). Should be very close to the FCC correlation coefficient of 0.78145, for this purely isotropic diffusion case."
   ]
  },
  {
   "cell_type": "code",
   "execution_count": 8,
   "metadata": {
    "pycharm": {}
   },
   "outputs": [
    {
     "data": {
      "text/plain": [
       "array([[-0.78120488,  0.        ,  0.        ],\n",
       "       [ 0.        , -0.78120488,  0.        ],\n",
       "       [ 0.        ,  0.        , -0.78145142]])"
      ]
     },
     "execution_count": 8,
     "metadata": {},
     "output_type": "execute_result"
    }
   ],
   "source": [
    "np.dot(Lss, np.linalg.inv(Lsv))"
   ]
  },
  {
   "cell_type": "code",
   "execution_count": 9,
   "metadata": {
    "pycharm": {}
   },
   "outputs": [
    {
     "name": "stdout",
     "output_type": "stream",
     "text": [
      "{vacancyThermoKinetics(pre=[1.], betaene=[0.], preT=[1. 1.], betaeneT=[1. 1.]): array([-0.30459761, -0.07807413, -0.07807413, -0.05208619, -0.04717251,\n",
      "       -0.04427807, -0.04427807, -0.04427807, -0.04004718, -0.03871072,\n",
      "       -0.03390637, -0.03199645, -0.03199645, -0.03134279, -0.03052154,\n",
      "       -0.02955812, -0.02898466, -0.02898466, -0.02898466, -0.02826905,\n",
      "       -0.02651933, -0.02539044, -0.02559087, -0.0245483 , -0.0245483 ,\n",
      "       -0.02415435, -0.02374109, -0.02349613, -0.02312376, -0.02271259,\n",
      "       -0.02243781, -0.02237242, -0.02210375, -0.02210375, -0.02175881,\n",
      "       -0.02124551, -0.02124551, -0.02124551, -0.0206982 , -0.0206982 ,\n",
      "       -0.01997178, -0.01915028])}\n"
     ]
    }
   ],
   "source": [
    "print(HCPdiffuser.GFvalues)"
   ]
  },
  {
   "cell_type": "code",
   "execution_count": 10,
   "metadata": {
    "pycharm": {},
    "scrolled": true
   },
   "outputs": [
    {
     "name": "stdout",
     "output_type": "stream",
     "text": [
      "? !VacancyThermoKinetics\n",
      "  betaene: !numpy.ndarray [0.0]\n",
      "  betaeneT: !numpy.ndarray [1.0, 1.0]\n",
      "  pre: !numpy.ndarray [1.0]\n",
      "  preT: !numpy.ndarray [1.0, 1.0]\n",
      ": !numpy.ndarray [-0.30459761217407005, -0.07807412648137282, -0.07807412629113923,\n",
      "  -0.05208618893058945, -0.04717250692903148, -0.0442780743241831, -0.04427807367034695,\n",
      "  -0.04427807367034695, -0.04004718239555193, -0.03871072296928411, -0.033906365489048074,\n",
      "  -0.031996448148095, -0.031996448148095, -0.031342790825141395, -0.030521536490081286,\n",
      "  -0.029558119626874765, -0.02898466441122912, -0.02898466269132974, -0.02898466269132974,\n",
      "  -0.028269045469956632, -0.02651932953247783, -0.0253904356141744, -0.025590867621937047,\n",
      "  -0.02454830076121832, -0.02454830076121832, -0.024154353318393343, -0.023741094014366425,\n",
      "  -0.023496126022377817, -0.02312375820273484, -0.022712592888975043, -0.022437807548903437,\n",
      "  -0.022372421954471845, -0.022103747960451742, -0.022103747960451742, -0.02175880593490824,\n",
      "  -0.021245513841386468, -0.02124550995521071, -0.021245509955210712, -0.020698201607567263,\n",
      "  -0.020698201607567263, -0.019971782579400934, -0.019150282173480093]\n",
      "\n"
     ]
    }
   ],
   "source": [
    "print(yaml.dump(HCPdiffuser.GFvalues))"
   ]
  }
 ],
 "metadata": {
  "kernelspec": {
   "display_name": "Python 3",
   "language": "python",
   "name": "python3"
  },
  "language_info": {
   "codemirror_mode": {
    "name": "ipython",
    "version": 3
   },
   "file_extension": ".py",
   "mimetype": "text/x-python",
   "name": "python",
   "nbconvert_exporter": "python",
   "pygments_lexer": "ipython3",
   "version": "3.6.8"
  }
 },
 "nbformat": 4,
 "nbformat_minor": 1
}

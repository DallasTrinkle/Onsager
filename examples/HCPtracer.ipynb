{
 "cells": [
  {
   "cell_type": "markdown",
   "metadata": {},
   "source": [
    "# HCP tracer calculation\n",
    "What follows is the calculation of the tracer correlation for an HCP crystal (ideal $c/a = \\sqrt{8/3}$, $a_0 = 1$, and $\\nu = 1$, all for convenience)."
   ]
  },
  {
   "cell_type": "code",
   "execution_count": 1,
   "metadata": {
    "collapsed": false
   },
   "outputs": [],
   "source": [
    "import numpy as np\n",
    "from onsager import OnsagerCalc\n",
    "from onsager import crystal\n",
    "import matplotlib.pyplot as plt\n",
    "%matplotlib inline"
   ]
  },
  {
   "cell_type": "code",
   "execution_count": 2,
   "metadata": {
    "collapsed": false
   },
   "outputs": [
    {
     "name": "stdout",
     "output_type": "stream",
     "text": [
      "#Lattice:\n",
      "  a1 = [ 0.5       -0.8660254  0.       ]\n",
      "  a2 = [ 0.5        0.8660254  0.       ]\n",
      "  a3 = [ 0.          0.          1.63299316]\n",
      "#Basis:\n",
      "  (ideal HCP) 0.0 = [ 0.33333333  0.66666667  0.25      ]\n",
      "  (ideal HCP) 0.1 = [ 0.66666667  0.33333333  0.75      ]\n"
     ]
    }
   ],
   "source": [
    "HCP = crystal.Crystal.HCP(1., chemistry=\"ideal HCP\")\n",
    "print(HCP)"
   ]
  },
  {
   "cell_type": "code",
   "execution_count": 3,
   "metadata": {
    "collapsed": false
   },
   "outputs": [
    {
     "name": "stdout",
     "output_type": "stream",
     "text": [
      "---\n",
      "1 - 1 [ -1.00000000e+00  -5.55111512e-17   0.00000000e+00]\n",
      "1 - 1 [  1.00000000e+00   5.55111512e-17  -0.00000000e+00]\n",
      "1 - 1 [-0.5       -0.8660254  0.       ]\n",
      "1 - 1 [ 0.5        0.8660254 -0.       ]\n",
      "0 - 0 [ 0.5        0.8660254  0.       ]\n",
      "0 - 0 [-0.5       -0.8660254 -0.       ]\n",
      "0 - 0 [ 0.5       -0.8660254  0.       ]\n",
      "0 - 0 [-0.5        0.8660254 -0.       ]\n",
      "1 - 1 [ 0.5       -0.8660254  0.       ]\n",
      "1 - 1 [-0.5        0.8660254 -0.       ]\n",
      "0 - 0 [ -1.00000000e+00   5.55111512e-17   0.00000000e+00]\n",
      "0 - 0 [  1.00000000e+00  -5.55111512e-17  -0.00000000e+00]\n",
      "---\n",
      "1 - 0 [-0.5        -0.28867513 -0.81649658]\n",
      "0 - 1 [ 0.5         0.28867513  0.81649658]\n",
      "1 - 0 [ 0.5        -0.28867513 -0.81649658]\n",
      "0 - 1 [-0.5         0.28867513  0.81649658]\n",
      "0 - 1 [ 0.5         0.28867513 -0.81649658]\n",
      "1 - 0 [-0.5        -0.28867513  0.81649658]\n",
      "0 - 1 [ 0.         -0.57735027 -0.81649658]\n",
      "1 - 0 [-0.          0.57735027  0.81649658]\n",
      "0 - 1 [ 0.         -0.57735027  0.81649658]\n",
      "1 - 0 [-0.          0.57735027 -0.81649658]\n",
      "0 - 1 [-0.5         0.28867513 -0.81649658]\n",
      "1 - 0 [ 0.5        -0.28867513  0.81649658]\n"
     ]
    }
   ],
   "source": [
    "sitelist = HCP.sitelist(0)\n",
    "vacancyjumps = HCP.jumpnetwork(0, 1.01)\n",
    "for jlist in vacancyjumps:\n",
    "    print('---')\n",
    "    for (i,j), dx in jlist:\n",
    "        print(i, '-', j, dx)"
   ]
  },
  {
   "cell_type": "code",
   "execution_count": 4,
   "metadata": {
    "collapsed": true
   },
   "outputs": [],
   "source": [
    "HCPdiffuser = OnsagerCalc.VacancyMediated(HCP, 0, sitelist, vacancyjumps, 1)"
   ]
  },
  {
   "cell_type": "code",
   "execution_count": 5,
   "metadata": {
    "collapsed": false
   },
   "outputs": [
    {
     "name": "stdout",
     "output_type": "stream",
     "text": [
      "1.[0,0,0]:0.[0,-1,0] (dx=[-0.5,-0.28867513459481287,-0.8164965809277259])\n",
      "1.[0,0,0]:1.[0,-1,0] (dx=[-0.5,-0.8660254037844386,0.0])\n"
     ]
    }
   ],
   "source": [
    "for state in HCPdiffuser.interactlist():\n",
    "    print(state)"
   ]
  },
  {
   "cell_type": "code",
   "execution_count": 6,
   "metadata": {
    "collapsed": false
   },
   "outputs": [
    {
     "name": "stdout",
     "output_type": "stream",
     "text": [
      "eneV [ 0.]\n",
      "preS [ 1.]\n",
      "preV [ 1.]\n",
      "preT2 [ 1.  1.]\n",
      "eneSV [ 0.  0.]\n",
      "eneT0 [1 1]\n",
      "preT0 [1 1]\n",
      "eneS [ 0.]\n",
      "eneT1 [ 1.  1.  1.  1.  1.  1.  1.  1.  1.  1.  1.  1.  1.]\n",
      "preT1 [ 1.  1.  1.  1.  1.  1.  1.  1.  1.  1.  1.  1.  1.]\n",
      "preSV [ 1.  1.]\n",
      "eneT2 [ 1.  1.]\n"
     ]
    }
   ],
   "source": [
    "nu0 = 1\n",
    "dE0 = 1\n",
    "HCPtracer = {'preV': np.ones(1), 'eneV': np.zeros(1), \n",
    "             'preT0': np.array([nu0, nu0]), 'eneT0': np.array([dE0, dE0])}\n",
    "HCPtracer.update(HCPdiffuser.maketracerpreene(**HCPtracer))\n",
    "for k,v in zip(HCPtracer.keys(), HCPtracer.values()): print(k,v)"
   ]
  },
  {
   "cell_type": "code",
   "execution_count": 7,
   "metadata": {
    "collapsed": false
   },
   "outputs": [],
   "source": [
    "Lvv, Lss, Lsv, L1vv = HCPdiffuser.Lij(*HCPdiffuser.preene2betafree(1, **HCPtracer))"
   ]
  },
  {
   "cell_type": "markdown",
   "metadata": {},
   "source": [
    "Correlation coefficient = $L_\\text{ss} / L_\\text{sv}$ (as $L_\\text{sv} = L_\\text{vv}$). Should be very close to the FCC correlation coefficient of 0.78145, for this purely isotropic diffusion case."
   ]
  },
  {
   "cell_type": "code",
   "execution_count": 8,
   "metadata": {
    "collapsed": false
   },
   "outputs": [
    {
     "data": {
      "text/plain": [
       "array([[ -7.81205838e-01,   9.34788042e-18,  -3.00561526e-34],\n",
       "       [  9.81269863e-18,  -7.81205838e-01,  -2.06843412e-18],\n",
       "       [ -5.00069150e-21,  -2.05361853e-18,  -7.81451187e-01]])"
      ]
     },
     "execution_count": 8,
     "metadata": {},
     "output_type": "execute_result"
    }
   ],
   "source": [
    "np.dot(Lss, np.linalg.inv(Lsv))"
   ]
  },
  {
   "cell_type": "code",
   "execution_count": 9,
   "metadata": {
    "collapsed": false
   },
   "outputs": [
    {
     "name": "stdout",
     "output_type": "stream",
     "text": [
      "{vacancyThermoKinetics(pre=[ 1.], betaene=[ 0.], preT=[ 1.  1.], betaeneT=[ 1.  1.]): array([-0.30459844, -0.07807519, -0.0780751 , -0.05208747, -0.04717321,\n",
      "       -0.04427962, -0.04427942, -0.04427942, -0.04004802, -0.0387123 ,\n",
      "       -0.03390849, -0.03199761, -0.03199761, -0.0313453 , -0.03052232,\n",
      "       -0.02955949, -0.0289876 , -0.02898708, -0.02898708, -0.02827   ,\n",
      "       -0.02652049, -0.02539412, -0.02559413, -0.02455041, -0.02455041,\n",
      "       -0.02415871, -0.02374272, -0.02349651, -0.02312866, -0.02271453,\n",
      "       -0.02243828, -0.02237528, -0.02210814, -0.02210814, -0.02176107,\n",
      "       -0.02125203, -0.02125072, -0.02125072, -0.02069891, -0.02069891,\n",
      "       -0.01997263, -0.01915803])}\n"
     ]
    }
   ],
   "source": [
    "print(HCPdiffuser.GFvalues)"
   ]
  },
  {
   "cell_type": "code",
   "execution_count": 10,
   "metadata": {
    "collapsed": false,
    "scrolled": true
   },
   "outputs": [
    {
     "name": "stdout",
     "output_type": "stream",
     "text": [
      "? !VacancyThermoKinetics\n",
      "  betaene: !numpy.ndarray [0.0]\n",
      "  betaeneT: !numpy.ndarray [1.0, 1.0]\n",
      "  pre: !numpy.ndarray [1.0]\n",
      "  preT: !numpy.ndarray [1.0, 1.0]\n",
      ": !numpy.ndarray [-0.3045984378441563, -0.07807519247549728, -0.07807510314368224,\n",
      "  -0.05208747289082072, -0.047173209553052486, -0.04427961918863266, -0.044279420733164286,\n",
      "  -0.044279420733164286, -0.04004801870040598, -0.038712304675323134, -0.03390849411746859,\n",
      "  -0.031997611830514014, -0.031997611830514014, -0.03134530105697171, -0.030522319402592056,\n",
      "  -0.029559490801805685, -0.028987599285963193, -0.02898708137907353, -0.028987081379073548,\n",
      "  -0.0282700014920762, -0.02652049347674716, -0.025394123802558923, -0.02559413053894741,\n",
      "  -0.024550412041830297, -0.024550412041830297, -0.024158713790440225, -0.023742720504815785,\n",
      "  -0.02349650870893697, -0.02312866339151506, -0.022714525195403047, -0.022438283372584703,\n",
      "  -0.022375279438156537, -0.02210814352729643, -0.02210814352729643, -0.02176107403972803,\n",
      "  -0.021252027188492804, -0.021250716859829214, -0.021250716859829214, -0.020698905201038707,\n",
      "  -0.02069890520103871, -0.019972630348539536, -0.019158030330971115]\n",
      "\n"
     ]
    },
    {
     "name": "stderr",
     "output_type": "stream",
     "text": [
      "/opt/local/Library/Frameworks/Python.framework/Versions/3.4/lib/python3.4/site-packages/yaml/representer.py:135: FutureWarning: comparison to `None` will result in an elementwise object comparison in the future.\n",
      "  if data in [None, ()]:\n"
     ]
    }
   ],
   "source": [
    "print(crystal.yaml.dump(HCPdiffuser.GFvalues))"
   ]
  },
  {
   "cell_type": "code",
   "execution_count": 11,
   "metadata": {
    "collapsed": false
   },
   "outputs": [
    {
     "name": "stderr",
     "output_type": "stream",
     "text": [
      "/opt/local/Library/Frameworks/Python.framework/Versions/3.4/lib/python3.4/site-packages/yaml/representer.py:135: FutureWarning: comparison to `None` will result in an elementwise object comparison in the future.\n",
      "  if data in [None, ()]:\n"
     ]
    }
   ],
   "source": [
    "diffcopy = crystal.yaml.load(crystal.yaml.dump(HCPdiffuser))"
   ]
  },
  {
   "cell_type": "code",
   "execution_count": 12,
   "metadata": {
    "collapsed": false
   },
   "outputs": [
    {
     "data": {
      "text/plain": [
       "(array([[ 0.73575888, -0.        , -0.        ],\n",
       "        [-0.        ,  0.73575888, -0.        ],\n",
       "        [-0.        , -0.        ,  0.73575888]]),\n",
       " array([[  5.74779134e-01,  -1.77191949e-17,   1.60815019e-34],\n",
       "        [ -1.80611890e-17,   5.74779134e-01,   6.94257321e-18],\n",
       "        [  3.67930319e-21,   6.93337495e-18,   5.74959652e-01]]),\n",
       " array([[ -7.35758882e-01,   1.38777878e-17,  -5.80917035e-36],\n",
       "        [  1.38777878e-17,  -7.35758882e-01,  -6.93889390e-18],\n",
       "        [ -1.28215242e-36,  -6.93889390e-18,  -7.35758882e-01]]),\n",
       " array([[ -1.65173731e-32,  -1.30519932e-48,   1.10387665e-51],\n",
       "        [ -1.19747848e-48,  -1.65173731e-32,  -1.43166826e-50],\n",
       "        [ -1.63586329e-50,   2.45379493e-50,  -1.95268471e-32]]))"
      ]
     },
     "execution_count": 12,
     "metadata": {},
     "output_type": "execute_result"
    }
   ],
   "source": [
    "diffcopy.Lij(*diffcopy.preene2betafree(1, **HCPtracer))"
   ]
  },
  {
   "cell_type": "code",
   "execution_count": 13,
   "metadata": {
    "collapsed": false
   },
   "outputs": [
    {
     "name": "stdout",
     "output_type": "stream",
     "text": [
      "eneS: !numpy.ndarray [0.0]\n",
      "eneSV: !numpy.ndarray [0.0, 0.0]\n",
      "eneT0: !numpy.ndarray [1, 1]\n",
      "eneT1: !numpy.ndarray [1.0, 1.0, 1.0, 1.0, 1.0, 1.0, 1.0, 1.0, 1.0, 1.0, 1.0, 1.0,\n",
      "  1.0]\n",
      "eneT2: !numpy.ndarray [1.0, 1.0]\n",
      "eneV: !numpy.ndarray [0.0]\n",
      "preS: !numpy.ndarray [1.0]\n",
      "preSV: !numpy.ndarray [1.0, 1.0]\n",
      "preT0: !numpy.ndarray [1, 1]\n",
      "preT1: !numpy.ndarray [1.0, 1.0, 1.0, 1.0, 1.0, 1.0, 1.0, 1.0, 1.0, 1.0, 1.0, 1.0,\n",
      "  1.0]\n",
      "preT2: !numpy.ndarray [1.0, 1.0]\n",
      "preV: !numpy.ndarray [1.0]\n",
      "\n"
     ]
    },
    {
     "name": "stderr",
     "output_type": "stream",
     "text": [
      "/opt/local/Library/Frameworks/Python.framework/Versions/3.4/lib/python3.4/site-packages/yaml/representer.py:135: FutureWarning: comparison to `None` will result in an elementwise object comparison in the future.\n",
      "  if data in [None, ()]:\n"
     ]
    }
   ],
   "source": [
    "print(crystal.yaml.dump(HCPtracer))"
   ]
  },
  {
   "cell_type": "code",
   "execution_count": null,
   "metadata": {
    "collapsed": true
   },
   "outputs": [],
   "source": []
  }
 ],
 "metadata": {
  "kernelspec": {
   "display_name": "Python 3",
   "language": "python",
   "name": "python3"
  },
  "language_info": {
   "codemirror_mode": {
    "name": "ipython",
    "version": 3
   },
   "file_extension": ".py",
   "mimetype": "text/x-python",
   "name": "python",
   "nbconvert_exporter": "python",
   "pygments_lexer": "ipython3",
   "version": "3.4.3"
  }
 },
 "nbformat": 4,
 "nbformat_minor": 0
}

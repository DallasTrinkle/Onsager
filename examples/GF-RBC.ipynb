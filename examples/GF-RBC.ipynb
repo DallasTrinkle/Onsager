{
 "cells": [
  {
   "cell_type": "markdown",
   "metadata": {},
   "source": [
    "# Residual bias correction of Mean-field GF\n",
    "This is the full computation of the residual bias correction for our (mean-field) GF solution for the percolation problem (immobile \"solute\" with vacancy diffusion). It work through all of the matrix averages \"analytically\" (storing them as polynomials in the concentration of the immobile solute, $c_\\text{B}$), and then brings everything together to express the residual bias correction as an analytic function with numerical coefficients for the square lattice."
   ]
  },
  {
   "cell_type": "code",
   "execution_count": 365,
   "metadata": {},
   "outputs": [],
   "source": [
    "import sys\n",
    "sys.path.extend(['.','./Vacancy'])\n",
    "import numpy as np\n",
    "import matplotlib.pyplot as plt\n",
    "plt.style.use('seaborn-whitegrid')\n",
    "%matplotlib inline\n",
    "import scipy.sparse\n",
    "import itertools\n",
    "from numba import jit, njit, prange, guvectorize  # faster runtime with update routines\n",
    "from scipy.misc import comb\n",
    "# from sympy import *\n",
    "import onsager.PowerExpansion as PE\n",
    "import onsager.crystal as crystal\n",
    "import onsager.crystalStars as stars\n",
    "import onsager.GFcalc as GFcalc\n",
    "from tqdm import tnrange, tqdm_notebook"
   ]
  },
  {
   "cell_type": "code",
   "execution_count": null,
   "metadata": {},
   "outputs": [],
   "source": [
    "# Turn off or on to run optional testing code in notebook:\n",
    "# Also turns on / off progress bars\n",
    "__TESTING__ = False"
   ]
  },
  {
   "cell_type": "markdown",
   "metadata": {},
   "source": [
    "Now, we need to expand out our probability factors. Let $x$ be the concentration of solute B; imagine we have $N$ sites possible. Then, if there are $n$ B atoms, the probability factor is\n",
    "$$P(n;N) = x^n (1-x)^{N-n} = x^n \\sum_{j=0}^{N-n} \\frac{(N-n)!}{j!(N-n-j)!} (-x)^j\n",
    "= \\sum_{j=0}^{N-n} \\frac{(N-n)!}{j!(N-n-j)!} (-1)^j x^{n+j}$$\n",
    "The factorial term is $N-n$ choose $j$, which is `scipy.misc.comb`.\n",
    "\n",
    "We want to construct a probability matrix `P[n,c]` such that $P(n;N)$ is written as a sum over $x^c$ terms; $c=0\\ldots N$."
   ]
  },
  {
   "cell_type": "code",
   "execution_count": 2,
   "metadata": {},
   "outputs": [],
   "source": [
    "def calc_P(N):\n",
    "    \"\"\"\n",
    "    Returns the probability matrix P[n,c] where the probability of seeing `n` atoms\n",
    "    of type B in `N` sites is sum(c=0..N, x^c P[n,c])\n",
    "    \n",
    "    :param N: total number of sites\n",
    "    :returns P[n,c]: matrix of probablities, n=0..N, c=0..N\n",
    "    \"\"\"\n",
    "    P = np.zeros((N+1, N+1), dtype=int)\n",
    "    for n in range(N+1):\n",
    "        Nn = N-n\n",
    "        P[n,n:] = comb([Nn]*(Nn+1), [j for j in range(Nn+1)])\n",
    "        for j in range(Nn+1):\n",
    "            P[n,j+n] *= (-1)**j\n",
    "    return P"
   ]
  },
  {
   "cell_type": "code",
   "execution_count": 3,
   "metadata": {},
   "outputs": [
    {
     "data": {
      "text/plain": [
       "array([[ 1, -4,  6, -4,  1],\n",
       "       [ 0,  1, -3,  3, -1],\n",
       "       [ 0,  0,  1, -2,  1],\n",
       "       [ 0,  0,  0,  1, -1],\n",
       "       [ 0,  0,  0,  0,  1]])"
      ]
     },
     "execution_count": 3,
     "metadata": {},
     "output_type": "execute_result"
    }
   ],
   "source": [
    "if __TESTING__:\n",
    "    calc_P(4)"
   ]
  },
  {
   "cell_type": "markdown",
   "metadata": {},
   "source": [
    "Normalization check: construct the $2^N$ states, and see if it averages to 1. Each state is a vector of length $N$, with entries that are 0 (A) or 1 (B). Here, we explicitly build our state space, and also do a quick count to determine $n_\\text{B}$ for each state. Note: we prepend a value of 0, since this corresponds to the *initial* location of the vacancy.\n",
    "\n",
    "*New version:* we now generate group operations for the square lattice, and take advantage of those to reduce the computational time."
   ]
  },
  {
   "cell_type": "code",
   "execution_count": 4,
   "metadata": {},
   "outputs": [],
   "source": [
    "N = 24\n",
    "prob = calc_P(N)\n",
    "states = np.array([(0,) + st for st in itertools.product((0,1), repeat=N)])\n",
    "nB = np.sum(states, axis=1)"
   ]
  },
  {
   "cell_type": "code",
   "execution_count": 5,
   "metadata": {},
   "outputs": [
    {
     "data": {
      "application/vnd.jupyter.widget-view+json": {
       "model_id": "099e22ba4383416fa392e66fac28b8df",
       "version_major": 2,
       "version_minor": 0
      },
      "text/plain": [
       "HBox(children=(IntProgress(value=0, max=16777216), HTML(value='')))"
      ]
     },
     "metadata": {},
     "output_type": "display_data"
    },
    {
     "name": "stdout",
     "output_type": "stream",
     "text": [
      "\n",
      "[1 0 0 0 0 0 0 0 0 0 0 0 0 0 0 0 0 0 0 0 0 0 0 0 0]\n"
     ]
    }
   ],
   "source": [
    "if __TESTING__:\n",
    "    norm = np.zeros(N+1, dtype=int)\n",
    "    for n in tqdm_notebook(nB):\n",
    "        norm += prob[n]\n",
    "    print(norm)"
   ]
  },
  {
   "cell_type": "code",
   "execution_count": 6,
   "metadata": {},
   "outputs": [
    {
     "data": {
      "text/plain": [
       "(16777216, 25)"
      ]
     },
     "execution_count": 6,
     "metadata": {},
     "output_type": "execute_result"
    }
   ],
   "source": [
    "states.shape"
   ]
  },
  {
   "cell_type": "code",
   "execution_count": 7,
   "metadata": {},
   "outputs": [],
   "source": [
    "Pstates = np.array([prob[n] for n in nB])"
   ]
  },
  {
   "cell_type": "markdown",
   "metadata": {},
   "source": [
    "Now, we do some analysis by constructing up to 3 jumps (corresponding to third power of our transition rate matrix $W$). We do this analysis by setting up some bookkeeping:\n",
    "\n",
    "* We work with a list of displacement vectors `[dx_0, dx_1, dx_2, dx_3]`\n",
    "* We construct the list of positions for the vacancy\n",
    "* For each position, we identify the possible jumps (though we only need to do this\n",
    "for positions that are reachable in 0-2 jumps.\n",
    "* We construct a list of possible basis functions: these are all possible \n",
    "differences of vacancy positions\n",
    "* Finally, for each position, we identify which position corresponds to each possible\n",
    "basis function, as well a list of all basis functions that are *not* in the state.\n",
    "\n",
    "This is all sufficient to construct a sparse version of $W$ (and $\\Gamma$) for a given state $\\chi$."
   ]
  },
  {
   "cell_type": "code",
   "execution_count": 8,
   "metadata": {},
   "outputs": [],
   "source": [
    "dxlist = [np.array([1,0]), np.array([-1,0]), np.array([0,1]), np.array([0,-1])]"
   ]
  },
  {
   "cell_type": "code",
   "execution_count": 9,
   "metadata": {},
   "outputs": [],
   "source": [
    "Njump = 3\n",
    "sites = [np.array([0,0])]\n",
    "sitedict = {(0,0): 0}\n",
    "lastsites = sites.copy()\n",
    "for nj in range(Njump):\n",
    "    newsites = []\n",
    "    for dx in dxlist:\n",
    "        for x in lastsites:\n",
    "            y = x+dx\n",
    "            yt = tuple(y)\n",
    "            if yt not in sitedict:\n",
    "                sitedict[yt] = len(sites)\n",
    "                sites.append(y)\n",
    "                newsites.append(y)\n",
    "    lastsites = newsites\n",
    "Nsite = len(sites)\n",
    "Nsite0 = len(sites) - len(lastsites)\n",
    "sites0 = sites[:Nsite0]"
   ]
  },
  {
   "cell_type": "code",
   "execution_count": 10,
   "metadata": {},
   "outputs": [
    {
     "data": {
      "text/plain": [
       "[[1, 2, 3, 4],\n",
       " [5, 0, 6, 7],\n",
       " [0, 8, 9, 10],\n",
       " [6, 9, 11, 0],\n",
       " [7, 10, 0, 12],\n",
       " [13, 1, 14, 15],\n",
       " [14, 3, 16, 1],\n",
       " [15, 4, 1, 17],\n",
       " [2, 18, 19, 20],\n",
       " [3, 19, 21, 2],\n",
       " [4, 20, 2, 22],\n",
       " [16, 21, 23, 3],\n",
       " [17, 22, 4, 24]]"
      ]
     },
     "execution_count": 10,
     "metadata": {},
     "output_type": "execute_result"
    }
   ],
   "source": [
    "jumplist = []\n",
    "for x in sites0:\n",
    "    jumplist.append([sitedict[tuple(x+dx)] for dx in dxlist])\n",
    "if __TESTING__:\n",
    "    print(jumplist)"
   ]
  },
  {
   "cell_type": "code",
   "execution_count": 11,
   "metadata": {},
   "outputs": [],
   "source": [
    "basisfunc, basisdict = [], {}\n",
    "for x in sites:\n",
    "    for y in sites:\n",
    "        d = x-y\n",
    "        dt = tuple(d)\n",
    "        if dt not in basisdict:\n",
    "            basisdict[dt] = len(basisfunc)\n",
    "            basisfunc.append(d)\n",
    "Nbasis = len(basisfunc)"
   ]
  },
  {
   "cell_type": "markdown",
   "metadata": {},
   "source": [
    "Some matrices and lists to manage conversion between sites and basis functions.\n",
    "\n",
    "We also include a matrix that corresponds to \"matching\" basis functions as a function of endstate $x$. This is used to correct the outer product for \"missing\" basis functions, for when the missing basis functions map onto identical sites."
   ]
  },
  {
   "cell_type": "code",
   "execution_count": 12,
   "metadata": {},
   "outputs": [],
   "source": [
    "chibasisfound, chibasismiss, chibasismissmatch = [], [], []\n",
    "chibasisfar = []\n",
    "for x in sites:\n",
    "    xbdict = {}\n",
    "    xbmiss = []\n",
    "    xbmissmatch = {}\n",
    "    xbfar = {}\n",
    "    for bindex, b in enumerate(basisfunc):\n",
    "        bt = tuple(b)\n",
    "        y = x+b\n",
    "        yt = tuple(y)\n",
    "        if yt in basisdict:\n",
    "            xbfar[bindex] = basisdict[yt]\n",
    "        if yt in sitedict:\n",
    "            xbdict[bindex] = sitedict[yt]\n",
    "        else:\n",
    "            xbmiss.append(bindex)\n",
    "        if bt not in sitedict and yt in basisdict:\n",
    "            xbmissmatch[bindex] = basisdict[yt]\n",
    "    chibasisfound.append(xbdict)\n",
    "    chibasismiss.append(xbmiss)\n",
    "    chibasismissmatch.append(xbmissmatch)\n",
    "    chibasisfar.append(xbfar)\n",
    "# make a set of \"outside\" and \"inside\" basis functions:\n",
    "basisout = set([tuple(basisfunc[bindex]) for bindex in chibasismiss[0]])\n",
    "basisin = set([tuple(bv) for bv in basisfunc if tuple(bv) not in basisout])"
   ]
  },
  {
   "cell_type": "code",
   "execution_count": 13,
   "metadata": {},
   "outputs": [],
   "source": [
    "# converting chibasisfound and chibasismiss into matrices:\n",
    "chibasisfound_mat = np.zeros((N+1, Nbasis, N+1), dtype=int)\n",
    "# chibasisfound_sparse = [scipy.sparse.csr_matrix((Nbasis, N+1), dtype=int) \n",
    "#                         for n in range(N+1)]\n",
    "chibasismiss_mat = np.zeros((N+1, Nbasis), dtype=int)\n",
    "chibasismissmatch_mat = np.zeros((Nbasis, Nbasis, N+1), dtype=int)\n",
    "chibasisfar_mat = np.zeros((Nbasis, Nbasis, N+1), dtype=int)\n",
    "for n, cbf, cbm, cbmm, cbfar in zip(itertools.count(), chibasisfound, \n",
    "                                    chibasismiss, chibasismissmatch, chibasisfar):\n",
    "    for bindex in cbm:\n",
    "        chibasismiss_mat[n, bindex] = 1\n",
    "    for bindex, siteindex in cbf.items():\n",
    "        chibasisfound_mat[n, bindex, siteindex] = 1\n",
    "        # chibasisfound_sparse[n][bindex, siteindex] = 1\n",
    "    for bindex, siteindex in cbmm.items():\n",
    "        chibasismissmatch_mat[bindex, siteindex, n] = 1\n",
    "    for bindex, siteindex in cbfar.items():\n",
    "        chibasisfar_mat[bindex, siteindex, n] = 1"
   ]
  },
  {
   "cell_type": "markdown",
   "metadata": {},
   "source": [
    "### Group operation simplification\n",
    "For our 8 group operations, corresponding to the point group operations on a square, we're going to make a reduced state list that only contains one symmetry-unique representative. This requires mapping the group operations on Cartesian coordinates into corresponding group operations on our sites, and our basis functions."
   ]
  },
  {
   "cell_type": "code",
   "execution_count": 14,
   "metadata": {},
   "outputs": [],
   "source": [
    "groupops = [np.array([[1,0],[0,1]]), np.array([[0,-1],[1,0]]), \n",
    "            np.array([[-1,0],[0,-1]]), np.array([[0,1],[-1,0]]),\n",
    "            np.array([[-1,0],[0,1]]), np.array([[1,0],[0,-1]]),\n",
    "            np.array([[0,-1],[-1,0]]), np.array([[0,1],[1,0]])]"
   ]
  },
  {
   "cell_type": "code",
   "execution_count": 15,
   "metadata": {},
   "outputs": [],
   "source": [
    "sitegroupops, basisgroupops = [], []\n",
    "for g in groupops:\n",
    "    sg = np.zeros([Nsite, Nsite], dtype=int)\n",
    "    bg = np.zeros([Nbasis, Nbasis], dtype=int)\n",
    "    for n, x in enumerate(sites):\n",
    "        yt = tuple(np.dot(g, x))\n",
    "        sg[sitedict[yt], n] = 1\n",
    "    for n, x in enumerate(basisfunc):\n",
    "        yt = tuple(np.dot(g, x))\n",
    "        bg[basisdict[yt], n] = 1\n",
    "    sitegroupops.append(sg)\n",
    "    basisgroupops.append(bg)"
   ]
  },
  {
   "cell_type": "code",
   "execution_count": 17,
   "metadata": {},
   "outputs": [
    {
     "data": {
      "application/vnd.jupyter.widget-view+json": {
       "model_id": "cdfdec9867d54259b7881e252388cb71",
       "version_major": 2,
       "version_minor": 0
      },
      "text/plain": [
       "HBox(children=(IntProgress(value=0, max=16777216), HTML(value='')))"
      ]
     },
     "metadata": {},
     "output_type": "display_data"
    },
    {
     "name": "stdout",
     "output_type": "stream",
     "text": [
      "\n"
     ]
    }
   ],
   "source": [
    "foundstates = set([])\n",
    "binary = np.array([2**n for n in range(Nsite)])\n",
    "symmstateslist, symmPlist = [], []\n",
    "for st, P in tqdm_notebook(zip(states, Pstates), total=(2**N), disable=not __TESTING__):\n",
    "    bc = np.dot(st, binary)\n",
    "    if bc not in foundstates:\n",
    "        symmstateslist.append(st)\n",
    "        equivset = set([np.dot(np.dot(g, st), binary) for g in sitegroupops])\n",
    "        foundstates.update(equivset)\n",
    "        symmPlist.append(len(equivset)*P)\n",
    "symmstates = np.array(symmstateslist)\n",
    "symmPstates = np.array(symmPlist)"
   ]
  },
  {
   "cell_type": "code",
   "execution_count": 18,
   "metadata": {},
   "outputs": [
    {
     "data": {
      "text/plain": [
       "(2107920, 25)"
      ]
     },
     "execution_count": 18,
     "metadata": {},
     "output_type": "execute_result"
    }
   ],
   "source": [
    "symmstates.shape"
   ]
  },
  {
   "cell_type": "code",
   "execution_count": 19,
   "metadata": {},
   "outputs": [
    {
     "data": {
      "text/plain": [
       "array([1, 0, 0, 0, 0, 0, 0, 0, 0, 0, 0, 0, 0, 0, 0, 0, 0, 0, 0, 0, 0, 0,\n",
       "       0, 0, 0])"
      ]
     },
     "execution_count": 19,
     "metadata": {},
     "output_type": "execute_result"
    }
   ],
   "source": [
    "if __TESTING__:\n",
    "    np.sum(symmPstates, axis=0)"
   ]
  },
  {
   "cell_type": "markdown",
   "metadata": {},
   "source": [
    "Now, we need symmetrized versions of a *lot* of our information from above, in order to properly account for all of the symmetrized versions of our basis functions. This includes\n",
    "\n",
    "* Computation of bias function times a basis function\n",
    "* Computation of two basis functions\n",
    "   * Inside/inside\n",
    "   * Inside/outside\n",
    "   * Outside/outside\n",
    "   * Outside/outside matching\n",
    "\n",
    "We can group these in terms of what factor of concentration goes in front."
   ]
  },
  {
   "cell_type": "code",
   "execution_count": 20,
   "metadata": {},
   "outputs": [
    {
     "name": "stdout",
     "output_type": "stream",
     "text": [
      "[-1  0] [0 1 0 0 0 0 0 0 0 0 0 0 0 0 0 0 0 0 0 0 0 0 0 0 0]\n"
     ]
    }
   ],
   "source": [
    "biasvec_mat = np.zeros((2, N+1), dtype=int)\n",
    "for j, dx in enumerate(dxlist):\n",
    "    biasvec_mat[:, j+1] -= dx\n",
    "if __TESTING__:\n",
    "    print(np.dot(biasvec_mat, states[8388608]), states[8388608])"
   ]
  },
  {
   "cell_type": "code",
   "execution_count": 22,
   "metadata": {},
   "outputs": [],
   "source": [
    "def symmetrize(mat, groupops0, groupops1):\n",
    "    \"\"\"\n",
    "    Designed to symmetrize the first two entries of a matrix with the \n",
    "    corresponding group operations\n",
    "    \"\"\"\n",
    "    symmmat = np.zeros(mat.shape)\n",
    "    for g0, g1 in zip(groupops0, groupops1):\n",
    "        for i in range(mat.shape[0]):\n",
    "            for j in range(mat.shape[1]):\n",
    "                symmmat[i, j] += np.tensordot(np.tensordot(\n",
    "                    mat, g1[j], axes=(1,0)), g0[i], axes=(0,0))\n",
    "    symmmat /= len(groupops0)\n",
    "    return symmmat"
   ]
  },
  {
   "cell_type": "markdown",
   "metadata": {},
   "source": [
    "### Efficient matrix operations\n",
    "Some `jit` functions via `numba` to make operations efficient:"
   ]
  },
  {
   "cell_type": "code",
   "execution_count": 23,
   "metadata": {},
   "outputs": [],
   "source": [
    "@njit(nogil=True, parallel=True)\n",
    "def tripleouterupdate(summand, A, B, C):\n",
    "    \"\"\"Update summand[i,j,k] += A[i]*B[j]*C[k]\"\"\"\n",
    "    I, = A.shape\n",
    "    J, = B.shape\n",
    "    K, = C.shape\n",
    "    for i in prange(I):\n",
    "        for j in prange(J):\n",
    "            for k in prange(K):\n",
    "                summand[i, j, k] += A[i]*B[j]*C[k]"
   ]
  },
  {
   "cell_type": "code",
   "execution_count": 24,
   "metadata": {},
   "outputs": [],
   "source": [
    "@njit(nogil=True, parallel=True)\n",
    "def matrixouterupdate(summand, A, B):\n",
    "    \"\"\"Update summand[i,j,k] += A[i, j]*B[k]\"\"\"\n",
    "    I,J = A.shape\n",
    "    K, = B.shape\n",
    "    for i in prange(I):\n",
    "        for j in prange(J):\n",
    "            for k in prange(K):\n",
    "                summand[i, j, k] += A[i,j]*B[k] "
   ]
  },
  {
   "cell_type": "markdown",
   "metadata": {},
   "source": [
    "### Evaluation of averages\n",
    "We have a state vector $\\chi_i$ = 0 or 1, and for each end position $j$, we'll have the representation of $M_{\\chi\\chi'}$ as a vector $M_j$, we want the contribution to each basis function $b$."
   ]
  },
  {
   "cell_type": "markdown",
   "metadata": {},
   "source": [
    "Let's try some averages; first, without basis functions:\n",
    "$\\langle \\tau_\\chi \\mathbf{b}_\\chi\\cdot\\mathbf{b}_\\chi\\rangle_\\chi$, the average residual bias."
   ]
  },
  {
   "cell_type": "code",
   "execution_count": 25,
   "metadata": {},
   "outputs": [
    {
     "data": {
      "application/vnd.jupyter.widget-view+json": {
       "model_id": "5636f8437998473c84305c79c0c62dc5",
       "version_major": 2,
       "version_minor": 0
      },
      "text/plain": [
       "HBox(children=(IntProgress(value=0, max=2107920), HTML(value='')))"
      ]
     },
     "metadata": {},
     "output_type": "display_data"
    },
    {
     "name": "stdout",
     "output_type": "stream",
     "text": [
      "\n",
      "[ 0.          1.33333333  0.          0.         -1.33333333  0.\n",
      "  0.          0.          0.          0.          0.          0.\n",
      "  0.          0.          0.          0.          0.          0.\n",
      "  0.          0.          0.          0.          0.          0.\n",
      "  0.        ]\n"
     ]
    }
   ],
   "source": [
    "resbiasave = np.zeros(N+1, dtype=int)\n",
    "for st, P in tqdm_notebook(zip(symmstates, symmPstates), total=symmstates.shape[0], \n",
    "                           disable=not __TESTING__):\n",
    "    # bv = np.sum(dx for j, dx in enumerate(dxlist) if st[j+1] == 0)\n",
    "    bv = np.dot(biasvec_mat, st)\n",
    "    W = 4-np.sum(st[1:5])\n",
    "    if W>0:\n",
    "        resbiasave += P*(bv[0]*bv[0]+bv[1]*bv[1])*(12//W)\n",
    "print(resbiasave/12)"
   ]
  },
  {
   "cell_type": "markdown",
   "metadata": {},
   "source": [
    "Now, an average involving a single basis function: $\\langle \\mathbf{b}_\\chi \\phi_{\\chi,\\mathbf{x}}\\rangle_\\chi$."
   ]
  },
  {
   "cell_type": "code",
   "execution_count": 26,
   "metadata": {},
   "outputs": [
    {
     "data": {
      "application/vnd.jupyter.widget-view+json": {
       "model_id": "89956fdb13554e888a8e4be91ef9be10",
       "version_major": 2,
       "version_minor": 0
      },
      "text/plain": [
       "HBox(children=(IntProgress(value=0, max=2107920), HTML(value='')))"
      ]
     },
     "metadata": {},
     "output_type": "display_data"
    },
    {
     "name": "stdout",
     "output_type": "stream",
     "text": [
      "\n"
     ]
    }
   ],
   "source": [
    "biasvecbar = np.zeros((2, Nbasis, N+1), dtype=int)\n",
    "Pc = np.zeros(N+1, dtype=int)\n",
    "for st, P in tqdm_notebook(zip(symmstates, symmPstates), total=symmstates.shape[0], \n",
    "                           disable=not __TESTING__):\n",
    "    # bv = np.sum(dx for j, dx in enumerate(dxlist) if st[j+1] == 0)\n",
    "    W = 4-np.sum(st[1:5])\n",
    "    if W==0 or W==4: continue\n",
    "    bv = np.dot(biasvec_mat, st)\n",
    "    Pc[1:] = P[:-1]\n",
    "    tripleouterupdate(biasvecbar, bv, np.dot(chibasisfound_mat[0], st), P)\n",
    "    tripleouterupdate(biasvecbar, bv, chibasismiss_mat[0], Pc)\n",
    "symmbiasvecbar = symmetrize(biasvecbar, groupops, basisgroupops)"
   ]
  },
  {
   "cell_type": "markdown",
   "metadata": {},
   "source": [
    "Now, let's try a basis / basis vector average: $\\langle \\sum_{\\chi'} \\phi_{\\chi,\\mathbf{x}} W_{\\chi\\chi'} \\phi_{\\chi',\\mathbf{y}}\\rangle_\\chi$.\n",
    "\n",
    "This gets a bit complicated with the \"missing\" basis functions for $\\chi$, and especially when we consider those that are missing in both $\\chi$ and $\\chi'$. We also need to treat the \"far\" case, where both $\\mathbf{x}$ and $\\mathbf{y}$ are far away from the origin.\n",
    "\n",
    "We ignore terms higher than $c^N$ ($N$=25); no contributions are found higher than 10."
   ]
  },
  {
   "cell_type": "code",
   "execution_count": 29,
   "metadata": {},
   "outputs": [],
   "source": [
    "# @njit(nogil=True, parallel=True)\n",
    "@jit\n",
    "def matrixupdate(mat_bar, mat_vec, chibasis, chibasis_miss, \n",
    "                 chibasismissmatch_mat, P, Pc, Pcc):\n",
    "    chibasis0, chibasis1 = chibasis[0], chibasis_miss[0]\n",
    "    chipbasis0, chipbasis1 = np.dot(mat_vec, chibasis), np.dot(mat_vec, chibasis_miss)\n",
    "    tripleouterupdate(mat_bar, chibasis0, chipbasis0, P)\n",
    "    tripleouterupdate(mat_bar, chibasis1, chipbasis0, Pc)\n",
    "    tripleouterupdate(mat_bar, chibasis0, chipbasis1, Pc)\n",
    "    # note: this is a little confusing; if the two (\"missing\") basis functions are\n",
    "    # referencing *different* sites, then we pick up a x^2 term; but if they\n",
    "    # reference the same site, it is a factor of x.\n",
    "    tripleouterupdate(mat_bar, chibasis1, chipbasis1, Pcc)\n",
    "    matchouter = np.dot(chibasismissmatch_mat, mat_vec)\n",
    "    matrixouterupdate(mat_bar, matchouter, Pc-Pcc)"
   ]
  },
  {
   "cell_type": "code",
   "execution_count": 30,
   "metadata": {},
   "outputs": [],
   "source": [
    "# I'm not entirely sure how this is supposed to read; the matching seems to be the key?\n",
    "# @njit(nogil=True, parallel=True)\n",
    "@jit\n",
    "def farmatrixupdate(mat_bar, mat_vec, chibasis_far, Pc, Pcc):\n",
    "    # note: this is a little confusing; if the two (\"missing\") basis functions are\n",
    "    # referencing *different* sites, then we pick up a x^2 term; but if they\n",
    "    # reference the same site, it is a factor of x.\n",
    "    # tripleouterupdate(mat_bar, chibasis1, chipbasis1, Pcc)\n",
    "    matchouter = np.dot(chibasis_far, mat_vec)\n",
    "    matrixouterupdate(mat_bar, matchouter, Pc-Pcc)"
   ]
  },
  {
   "cell_type": "code",
   "execution_count": 31,
   "metadata": {},
   "outputs": [],
   "source": [
    "# @njit(nogil=True, parallel=True)\n",
    "@jit\n",
    "def vectorupdate(vec_bar, bv, vec, chibasis, chibasis_miss, P, Pc):\n",
    "    # chibasis0, chibasis1 = chibasis[0], chibasis_miss[0]\n",
    "    chipbasis0, chipbasis1 = np.dot(vec, chibasis), np.dot(vec, chibasis_miss)\n",
    "    tripleouterupdate(vec_bar, bv, chipbasis0, P)\n",
    "    tripleouterupdate(vec_bar, bv, chipbasis1, Pc)"
   ]
  },
  {
   "cell_type": "code",
   "execution_count": 32,
   "metadata": {},
   "outputs": [
    {
     "data": {
      "application/vnd.jupyter.widget-view+json": {
       "model_id": "e5cf057cbd7d4dcca171ebe2c4953068",
       "version_major": 2,
       "version_minor": 0
      },
      "text/plain": [
       "HBox(children=(IntProgress(value=0, max=2107920), HTML(value='')))"
      ]
     },
     "metadata": {},
     "output_type": "display_data"
    },
    {
     "name": "stdout",
     "output_type": "stream",
     "text": [
      "\n"
     ]
    }
   ],
   "source": [
    "tauscale = 12\n",
    "eye = tauscale*np.pad(np.eye(Nsite0, dtype=int), ((0,0), (0,Nsite-Nsite0)), 'constant')\n",
    "onevec = np.array([1,] + [0,]*(Nsite-1))\n",
    "# We don't expect to need c^N+1 or c^N+2 so we ignore those...\n",
    "# Matrices: <sum_c' W_cc' chi chi'> and higher order (GG, and WGG terms...)\n",
    "Wbar = np.zeros((Nbasis, Nbasis, N+1), dtype=int)\n",
    "WGbar = np.zeros((Nbasis, Nbasis, N+1), dtype=int)\n",
    "WGGbar = np.zeros((Nbasis, Nbasis, N+1), dtype=int)\n",
    "# far-field versions of the same; the matched versions, followed by the \"summed\" (baseline) version:\n",
    "Wbar_far = np.zeros((Nbasis, Nbasis, N+1), dtype=int)\n",
    "WGbar_far = np.zeros((Nbasis, Nbasis, N+1), dtype=int)\n",
    "WGGbar_far = np.zeros((Nbasis, Nbasis, N+1), dtype=int)\n",
    "Wbar_far0 = np.zeros(N+1, dtype=int)\n",
    "WGbar_far0 = np.zeros(N+1, dtype=int)\n",
    "WGGbar_far0 = np.zeros(N+1, dtype=int)\n",
    "# bias vector versions, including products with gamma:\n",
    "biasvecbar = np.zeros((2, Nbasis, N+1), dtype=int)\n",
    "biasGvecbar = np.zeros((2, Nbasis, N+1), dtype=int)\n",
    "biasGGvecbar = np.zeros((2, Nbasis, N+1), dtype=int)\n",
    "# residual bias vector versions:\n",
    "resbiasave = np.zeros(N+1, dtype=int)\n",
    "resbiasGave = np.zeros(N+1, dtype=int)\n",
    "Pc, Pcc = np.zeros(N+1, dtype=int), np.zeros(N+1, dtype=int)\n",
    "for st, P in tqdm_notebook(zip(symmstates, symmPstates), total=symmstates.shape[0], \n",
    "                           disable=not __TESTING__):\n",
    "    Pc[1:] = P[:-1]\n",
    "    Pcc[2:] = P[:-2]\n",
    "    # basis0: those inside \\chi, basis1: those outside \\chi\n",
    "    chibasis = np.dot(chibasisfound_mat, st)\n",
    "    # chibasis0, chibasis1 = np.dot(chibasisfound_mat[0], st), chibasismiss_mat[0]\n",
    "    # construct our transition matrix:\n",
    "    W = np.zeros((Nsite0, Nsite), dtype=int)\n",
    "    for n, jumps in enumerate(jumplist):\n",
    "        if st[n] == 1: continue\n",
    "        for m in jumps:\n",
    "            if st[m] == 0:\n",
    "                W[n,n] -= 1\n",
    "                W[n,m] = 1\n",
    "    tau = -np.diag(W)  # will be tau multiplied by tauscale = 12 (== -12//W[n,n])\n",
    "    Gam = W.copy() # Gamma matrix multiplied by tauscale = 12.\n",
    "    for n in range(Nsite0):\n",
    "        if tau[n] > 0:\n",
    "            tau[n] = tauscale//tau[n]\n",
    "            Gam[n,n] = 0\n",
    "            Gam[n] *= tau[n]\n",
    "    WG = -W[0,0]*np.dot(Gam[0,:Nsite0], Gam)+tauscale*tauscale*W[0,0]*onevec\n",
    "    WGG = np.dot(W[0,:Nsite0], np.dot(Gam[:,:Nsite0], Gam - 2*eye))\n",
    "    matrixupdate(Wbar, W[0], chibasis, chibasismiss_mat, chibasismissmatch_mat, \n",
    "                 P, Pc, Pcc)\n",
    "    matrixupdate(WGbar, WG, chibasis, chibasismiss_mat, chibasismissmatch_mat, \n",
    "                 P, Pc, Pcc)\n",
    "    matrixupdate(WGGbar, WGG, chibasis, chibasismiss_mat, chibasismissmatch_mat, \n",
    "                 P, Pc, Pcc)\n",
    "    # far-field contributions of same:\n",
    "    farmatrixupdate(Wbar_far, W[0], chibasisfar_mat, Pc, Pcc)\n",
    "    farmatrixupdate(WGbar_far, WG, chibasisfar_mat, Pc, Pcc)\n",
    "    farmatrixupdate(WGGbar_far, WGG, chibasisfar_mat, Pc, Pcc)\n",
    "    Wbar_far0 += np.sum(W[0])*Pcc\n",
    "    WGbar_far0 += np.sum(WG)*Pcc\n",
    "    WGGbar_far0 += np.sum(WGG)*Pcc\n",
    "    # bias contributions (only bother if there's non-zero bias)\n",
    "    if tau[0]==0: continue\n",
    "    bv = np.sum(dx for j, dx in enumerate(dxlist) if st[j+1] == 0)\n",
    "    vectorupdate(biasvecbar, bv, onevec, chibasis, chibasismiss_mat, P, Pc)\n",
    "    vectorupdate(biasGvecbar, bv, Gam[0], chibasis, chibasismiss_mat, P, Pc)\n",
    "    vectorupdate(biasGGvecbar, bv, np.dot(Gam[0,:Nsite0],Gam-2*eye), \n",
    "                 chibasis, chibasismiss_mat, P, Pc)\n",
    "    resbiasave += P*(bv[0]*bv[0]+bv[1]*bv[1])*tau[0]\n",
    "    bb = 0\n",
    "    for j, G in enumerate(Gam[0]):\n",
    "        if G>0:\n",
    "            bvp = np.array([0,0])\n",
    "            for k, dx in zip(jumplist[j], dxlist):\n",
    "                if st[k] == 0: bvp += dx\n",
    "            bb += G*np.dot(bv, bvp)*tau[j]\n",
    "    resbiasGave += P*bb"
   ]
  },
  {
   "cell_type": "code",
   "execution_count": 34,
   "metadata": {},
   "outputs": [
    {
     "data": {
      "text/plain": [
       "(array([0, 0, 0, 0, 0, 0, 0, 0, 0, 0, 0, 0, 0, 0, 0, 0, 0, 0, 0, 0, 0, 0,\n",
       "        0, 0, 0]),\n",
       " array([0, 0, 0, 0, 0, 0, 0, 0, 0, 0, 0, 0, 0, 0, 0, 0, 0, 0, 0, 0, 0, 0,\n",
       "        0, 0, 0]),\n",
       " array([0, 0, 0, 0, 0, 0, 0, 0, 0, 0, 0, 0, 0, 0, 0, 0, 0, 0, 0, 0, 0, 0,\n",
       "        0, 0, 0]))"
      ]
     },
     "execution_count": 34,
     "metadata": {},
     "output_type": "execute_result"
    }
   ],
   "source": [
    "if __TESTING__:\n",
    "    print(Wbar_far0, WGbar_far0, WGGbar_far0)"
   ]
  },
  {
   "cell_type": "code",
   "execution_count": 35,
   "metadata": {},
   "outputs": [],
   "source": [
    "# scaling and symmetrization\n",
    "symmWbar = symmetrize(Wbar, basisgroupops, basisgroupops)\n",
    "symmWGbar = symmetrize(WGbar, basisgroupops, basisgroupops)/(tauscale*tauscale)\n",
    "symmWGGbar = symmetrize(WGGbar, basisgroupops, basisgroupops)/(tauscale*tauscale)\n",
    "\n",
    "symmWbar_far = symmetrize(Wbar_far, basisgroupops, basisgroupops)\n",
    "symmWGbar_far = symmetrize(WGbar_far, basisgroupops, basisgroupops)/(tauscale*tauscale)\n",
    "symmWGGbar_far = symmetrize(WGGbar_far, basisgroupops, basisgroupops)/(tauscale*tauscale)\n",
    "\n",
    "symmresbiasave = resbiasave/tauscale\n",
    "symmresbiasGave = resbiasGave/(tauscale*tauscale)\n",
    "\n",
    "symmbiasvecbar = symmetrize(biasvecbar, groupops, basisgroupops)\n",
    "symmbiasGvecbar = symmetrize(biasGvecbar, groupops, basisgroupops)/tauscale\n",
    "symmbiasGGvecbar = symmetrize(biasGGvecbar, groupops, basisgroupops)/(tauscale*tauscale)"
   ]
  },
  {
   "cell_type": "code",
   "execution_count": 36,
   "metadata": {},
   "outputs": [
    {
     "data": {
      "text/plain": [
       "array([ 0.        ,  1.33333333,  0.        ,  0.        , -1.33333333,\n",
       "        0.        ,  0.        ,  0.        ,  0.        ,  0.        ,\n",
       "        0.        ,  0.        ,  0.        ,  0.        ,  0.        ,\n",
       "        0.        ,  0.        ,  0.        ,  0.        ,  0.        ,\n",
       "        0.        ,  0.        ,  0.        ,  0.        ,  0.        ])"
      ]
     },
     "execution_count": 36,
     "metadata": {},
     "output_type": "execute_result"
    }
   ],
   "source": [
    "symmresbiasave"
   ]
  },
  {
   "cell_type": "code",
   "execution_count": 37,
   "metadata": {},
   "outputs": [
    {
     "data": {
      "text/plain": [
       "array([ 0.        ,  0.        , -0.44444444, -0.44444444, -0.44444444,\n",
       "        0.44444444,  0.44444444,  0.44444444,  0.        ,  0.        ,\n",
       "        0.        ,  0.        ,  0.        ,  0.        ,  0.        ,\n",
       "        0.        ,  0.        ,  0.        ,  0.        ,  0.        ,\n",
       "        0.        ,  0.        ,  0.        ,  0.        ,  0.        ])"
      ]
     },
     "execution_count": 37,
     "metadata": {},
     "output_type": "execute_result"
    }
   ],
   "source": [
    "symmresbiasGave"
   ]
  },
  {
   "cell_type": "markdown",
   "metadata": {},
   "source": [
    "### Output of averages\n",
    "Some helper functions to make the printing nicer, followed by direct output."
   ]
  },
  {
   "cell_type": "code",
   "execution_count": 39,
   "metadata": {},
   "outputs": [],
   "source": [
    "def truncate_vec(v):\n",
    "    \"\"\"Return a vector that's shortened by truncating the high-order 0 components\"\"\"\n",
    "    return v[:(np.max(np.nonzero(v))+1)]"
   ]
  },
  {
   "cell_type": "code",
   "execution_count": 40,
   "metadata": {},
   "outputs": [],
   "source": [
    "def printvecbasis(VB):\n",
    "    \"\"\"Print out the components of a vector-basis matrix\"\"\"\n",
    "    for d in range(2):\n",
    "        print(\"dim {}\".format(d+1))\n",
    "        for bv, v in zip(basisfunc, VB[d]):\n",
    "            if np.any(v) != 0:\n",
    "                print(bv, truncate_vec(v))"
   ]
  },
  {
   "cell_type": "code",
   "execution_count": 41,
   "metadata": {},
   "outputs": [],
   "source": [
    "def printbasisbasis(BB, comp=None):\n",
    "    \"\"\"Print out the components of a basis-basis matrix\"\"\"\n",
    "    for bv0, BB0 in zip(basisfunc, BB):\n",
    "        if comp is not None and tuple(bv0) not in comp: continue\n",
    "        for bv1, B in zip(basisfunc, BB0):\n",
    "            if np.any(B) != 0:\n",
    "                print(bv0, bv1, truncate_vec(B))"
   ]
  },
  {
   "cell_type": "code",
   "execution_count": 42,
   "metadata": {},
   "outputs": [
    {
     "name": "stdout",
     "output_type": "stream",
     "text": [
      "[0 0] [0 0] [ 0. -4.  8. -4.]\n",
      "[0 0] [-1  0] [ 0.  1. -2.  1.]\n",
      "[0 0] [1 0] [ 0.  1. -2.  1.]\n",
      "[0 0] [ 0 -1] [ 0.  1. -2.  1.]\n",
      "[0 0] [0 1] [ 0.  1. -2.  1.]\n"
     ]
    }
   ],
   "source": [
    "printbasisbasis(symmWbar_far, {(0,0)})"
   ]
  },
  {
   "cell_type": "code",
   "execution_count": 43,
   "metadata": {},
   "outputs": [
    {
     "name": "stdout",
     "output_type": "stream",
     "text": [
      "[0 0] [0 0] [ 0.  4. -8.  4.]\n",
      "[0 0] [-1  0] [ 0. -1.  2. -1.]\n",
      "[0 0] [1 0] [ 0. -1.  2. -1.]\n",
      "[0 0] [ 0 -1] [ 0. -1.  2. -1.]\n",
      "[0 0] [0 1] [ 0. -1.  2. -1.]\n",
      "[-1  0] [0 0] [ 0. -1.  2. -1.]\n",
      "[-1  0] [-1  0] [ 0.  1. -3.  2.]\n",
      "[-1  0] [1 0] [ 0.  0.  1. -1.]\n",
      "[1 0] [0 0] [ 0. -1.  2. -1.]\n",
      "[1 0] [-1  0] [ 0.  0.  1. -1.]\n",
      "[1 0] [1 0] [ 0.  1. -3.  2.]\n",
      "[ 0 -1] [0 0] [ 0. -1.  2. -1.]\n",
      "[ 0 -1] [ 0 -1] [ 0.  1. -3.  2.]\n",
      "[ 0 -1] [0 1] [ 0.  0.  1. -1.]\n",
      "[0 1] [0 0] [ 0. -1.  2. -1.]\n",
      "[0 1] [ 0 -1] [ 0.  0.  1. -1.]\n",
      "[0 1] [0 1] [ 0.  1. -3.  2.]\n"
     ]
    }
   ],
   "source": [
    "printbasisbasis(symmWbar-symmWbar_far)"
   ]
  },
  {
   "cell_type": "code",
   "execution_count": 44,
   "metadata": {
    "scrolled": true
   },
   "outputs": [
    {
     "name": "stdout",
     "output_type": "stream",
     "text": [
      "[0 0] [0 0] [ 0. -3.  7. -4.  0. -1.  1.]\n",
      "[0 0] [-2  0] [ 0.          0.25       -0.58333333  0.33333333  0.          0.08333333\n",
      " -0.08333333]\n",
      "[0 0] [-1 -1] [ 0.          0.5        -1.16666667  0.66666667  0.          0.16666667\n",
      " -0.16666667]\n",
      "[0 0] [-1  1] [ 0.          0.5        -1.16666667  0.66666667  0.          0.16666667\n",
      " -0.16666667]\n",
      "[0 0] [2 0] [ 0.          0.25       -0.58333333  0.33333333  0.          0.08333333\n",
      " -0.08333333]\n",
      "[0 0] [ 1 -1] [ 0.          0.5        -1.16666667  0.66666667  0.          0.16666667\n",
      " -0.16666667]\n",
      "[0 0] [1 1] [ 0.          0.5        -1.16666667  0.66666667  0.          0.16666667\n",
      " -0.16666667]\n",
      "[0 0] [ 0 -2] [ 0.          0.25       -0.58333333  0.33333333  0.          0.08333333\n",
      " -0.08333333]\n",
      "[0 0] [0 2] [ 0.          0.25       -0.58333333  0.33333333  0.          0.08333333\n",
      " -0.08333333]\n"
     ]
    }
   ],
   "source": [
    "printbasisbasis(symmWGbar_far, {(0,0)})"
   ]
  },
  {
   "cell_type": "code",
   "execution_count": 45,
   "metadata": {
    "scrolled": true
   },
   "outputs": [
    {
     "name": "stdout",
     "output_type": "stream",
     "text": [
      "[0 0] [0 0] [ 0.  3. -7.  4.  0.  1. -1.]\n",
      "[0 0] [-2  0] [ 0.         -0.25        0.58333333 -0.33333333  0.         -0.08333333\n",
      "  0.08333333]\n",
      "[0 0] [-1 -1] [ 0.         -0.5         1.16666667 -0.66666667  0.         -0.16666667\n",
      "  0.16666667]\n",
      "[0 0] [-1  1] [ 0.         -0.5         1.16666667 -0.66666667  0.         -0.16666667\n",
      "  0.16666667]\n",
      "[0 0] [2 0] [ 0.         -0.25        0.58333333 -0.33333333  0.         -0.08333333\n",
      "  0.08333333]\n",
      "[0 0] [ 1 -1] [ 0.         -0.5         1.16666667 -0.66666667  0.         -0.16666667\n",
      "  0.16666667]\n",
      "[0 0] [1 1] [ 0.         -0.5         1.16666667 -0.66666667  0.         -0.16666667\n",
      "  0.16666667]\n",
      "[0 0] [ 0 -2] [ 0.         -0.25        0.58333333 -0.33333333  0.         -0.08333333\n",
      "  0.08333333]\n",
      "[0 0] [0 2] [ 0.         -0.25        0.58333333 -0.33333333  0.         -0.08333333\n",
      "  0.08333333]\n",
      "[-1  0] [-1  0] [ 0.    0.75 -2.5   2.    0.    0.25 -0.5 ]\n",
      "[-1  0] [1 0] [ 0.         -0.25        0.83333333 -0.66666667  0.         -0.08333333\n",
      "  0.16666667]\n",
      "[-1  0] [ 0 -1] [ 0.         -0.25        0.83333333 -0.66666667  0.         -0.08333333\n",
      "  0.16666667]\n",
      "[-1  0] [0 1] [ 0.         -0.25        0.83333333 -0.66666667  0.         -0.08333333\n",
      "  0.16666667]\n",
      "[-1  0] [-2  0] [ 0.          0.         -0.08333333  0.          0.          0.33333333\n",
      " -0.25      ]\n",
      "[-1  0] [-1 -1] [ 0.          0.         -0.16666667  0.16666667  0.          0.16666667\n",
      " -0.16666667]\n",
      "[-1  0] [-1  1] [ 0.          0.         -0.16666667  0.16666667  0.          0.16666667\n",
      " -0.16666667]\n",
      "[-1  0] [2 0] [ 0.          0.          0.25       -0.33333333  0.          0.\n",
      "  0.08333333]\n",
      "[-1  0] [ 1 -1] [ 0.          0.          0.16666667 -0.16666667  0.         -0.16666667\n",
      "  0.16666667]\n",
      "[-1  0] [1 1] [ 0.          0.          0.16666667 -0.16666667  0.         -0.16666667\n",
      "  0.16666667]\n",
      "[-1  0] [ 0 -2] [ 0.          0.         -0.08333333  0.16666667  0.         -0.16666667\n",
      "  0.08333333]\n",
      "[-1  0] [0 2] [ 0.          0.         -0.08333333  0.16666667  0.         -0.16666667\n",
      "  0.08333333]\n",
      "[1 0] [-1  0] [ 0.         -0.25        0.83333333 -0.66666667  0.         -0.08333333\n",
      "  0.16666667]\n",
      "[1 0] [1 0] [ 0.    0.75 -2.5   2.    0.    0.25 -0.5 ]\n",
      "[1 0] [ 0 -1] [ 0.         -0.25        0.83333333 -0.66666667  0.         -0.08333333\n",
      "  0.16666667]\n",
      "[1 0] [0 1] [ 0.         -0.25        0.83333333 -0.66666667  0.         -0.08333333\n",
      "  0.16666667]\n",
      "[1 0] [-2  0] [ 0.          0.          0.25       -0.33333333  0.          0.\n",
      "  0.08333333]\n",
      "[1 0] [-1 -1] [ 0.          0.          0.16666667 -0.16666667  0.         -0.16666667\n",
      "  0.16666667]\n",
      "[1 0] [-1  1] [ 0.          0.          0.16666667 -0.16666667  0.         -0.16666667\n",
      "  0.16666667]\n",
      "[1 0] [2 0] [ 0.          0.         -0.08333333  0.          0.          0.33333333\n",
      " -0.25      ]\n",
      "[1 0] [ 1 -1] [ 0.          0.         -0.16666667  0.16666667  0.          0.16666667\n",
      " -0.16666667]\n",
      "[1 0] [1 1] [ 0.          0.         -0.16666667  0.16666667  0.          0.16666667\n",
      " -0.16666667]\n",
      "[1 0] [ 0 -2] [ 0.          0.         -0.08333333  0.16666667  0.         -0.16666667\n",
      "  0.08333333]\n",
      "[1 0] [0 2] [ 0.          0.         -0.08333333  0.16666667  0.         -0.16666667\n",
      "  0.08333333]\n",
      "[ 0 -1] [-1  0] [ 0.         -0.25        0.83333333 -0.66666667  0.         -0.08333333\n",
      "  0.16666667]\n",
      "[ 0 -1] [1 0] [ 0.         -0.25        0.83333333 -0.66666667  0.         -0.08333333\n",
      "  0.16666667]\n",
      "[ 0 -1] [ 0 -1] [ 0.    0.75 -2.5   2.    0.    0.25 -0.5 ]\n",
      "[ 0 -1] [0 1] [ 0.         -0.25        0.83333333 -0.66666667  0.         -0.08333333\n",
      "  0.16666667]\n",
      "[ 0 -1] [-2  0] [ 0.          0.         -0.08333333  0.16666667  0.         -0.16666667\n",
      "  0.08333333]\n",
      "[ 0 -1] [-1 -1] [ 0.          0.         -0.16666667  0.16666667  0.          0.16666667\n",
      " -0.16666667]\n",
      "[ 0 -1] [-1  1] [ 0.          0.          0.16666667 -0.16666667  0.         -0.16666667\n",
      "  0.16666667]\n",
      "[ 0 -1] [2 0] [ 0.          0.         -0.08333333  0.16666667  0.         -0.16666667\n",
      "  0.08333333]\n",
      "[ 0 -1] [ 1 -1] [ 0.          0.         -0.16666667  0.16666667  0.          0.16666667\n",
      " -0.16666667]\n",
      "[ 0 -1] [1 1] [ 0.          0.          0.16666667 -0.16666667  0.         -0.16666667\n",
      "  0.16666667]\n",
      "[ 0 -1] [ 0 -2] [ 0.          0.         -0.08333333  0.          0.          0.33333333\n",
      " -0.25      ]\n",
      "[ 0 -1] [0 2] [ 0.          0.          0.25       -0.33333333  0.          0.\n",
      "  0.08333333]\n",
      "[0 1] [-1  0] [ 0.         -0.25        0.83333333 -0.66666667  0.         -0.08333333\n",
      "  0.16666667]\n",
      "[0 1] [1 0] [ 0.         -0.25        0.83333333 -0.66666667  0.         -0.08333333\n",
      "  0.16666667]\n",
      "[0 1] [ 0 -1] [ 0.         -0.25        0.83333333 -0.66666667  0.         -0.08333333\n",
      "  0.16666667]\n",
      "[0 1] [0 1] [ 0.    0.75 -2.5   2.    0.    0.25 -0.5 ]\n",
      "[0 1] [-2  0] [ 0.          0.         -0.08333333  0.16666667  0.         -0.16666667\n",
      "  0.08333333]\n",
      "[0 1] [-1 -1] [ 0.          0.          0.16666667 -0.16666667  0.         -0.16666667\n",
      "  0.16666667]\n",
      "[0 1] [-1  1] [ 0.          0.         -0.16666667  0.16666667  0.          0.16666667\n",
      " -0.16666667]\n",
      "[0 1] [2 0] [ 0.          0.         -0.08333333  0.16666667  0.         -0.16666667\n",
      "  0.08333333]\n",
      "[0 1] [ 1 -1] [ 0.          0.          0.16666667 -0.16666667  0.         -0.16666667\n",
      "  0.16666667]\n",
      "[0 1] [1 1] [ 0.          0.         -0.16666667  0.16666667  0.          0.16666667\n",
      " -0.16666667]\n",
      "[0 1] [ 0 -2] [ 0.          0.          0.25       -0.33333333  0.          0.\n",
      "  0.08333333]\n",
      "[0 1] [0 2] [ 0.          0.         -0.08333333  0.          0.          0.33333333\n",
      " -0.25      ]\n",
      "[-2  0] [0 0] [ 0.         -0.25        0.58333333 -0.33333333  0.         -0.08333333\n",
      "  0.08333333]\n",
      "[-2  0] [-1  0] [ 0.          0.         -0.08333333  0.          0.          0.33333333\n",
      " -0.25      ]\n",
      "[-2  0] [1 0] [ 0.          0.          0.25       -0.33333333  0.          0.\n",
      "  0.08333333]\n",
      "[-2  0] [ 0 -1] [ 0.          0.         -0.08333333  0.16666667  0.         -0.16666667\n",
      "  0.08333333]\n",
      "[-2  0] [0 1] [ 0.          0.         -0.08333333  0.16666667  0.         -0.16666667\n",
      "  0.08333333]\n",
      "[-2  0] [-2  0] [ 0.          0.08333333 -0.16666667  0.         -0.33333333  0.91666667\n",
      " -0.5       ]\n",
      "[-2  0] [-1 -1] [ 0.          0.08333333 -0.25        0.33333333 -0.33333333  0.25\n",
      " -0.08333333]\n",
      "[-2  0] [-1  1] [ 0.          0.08333333 -0.25        0.33333333 -0.33333333  0.25\n",
      " -0.08333333]\n",
      "[-2  0] [2 0] [ 0.          0.          0.25       -0.33333333  0.          0.\n",
      "  0.08333333]\n",
      "[-2  0] [ 1 -1] [ 0.          0.         -0.16666667  0.33333333  0.         -0.33333333\n",
      "  0.16666667]\n",
      "[-2  0] [1 1] [ 0.          0.         -0.16666667  0.33333333  0.         -0.33333333\n",
      "  0.16666667]\n",
      "[-2  0] [ 0 -2] [ 0.          0.          0.08333333 -0.33333333  0.5        -0.33333333\n",
      "  0.08333333]\n",
      "[-2  0] [0 2] [ 0.          0.          0.08333333 -0.33333333  0.5        -0.33333333\n",
      "  0.08333333]\n",
      "[-1 -1] [0 0] [ 0.         -0.5         1.16666667 -0.66666667  0.         -0.16666667\n",
      "  0.16666667]\n",
      "[-1 -1] [-1  0] [ 0.          0.         -0.16666667  0.16666667  0.          0.16666667\n",
      " -0.16666667]\n",
      "[-1 -1] [1 0] [ 0.          0.          0.16666667 -0.16666667  0.         -0.16666667\n",
      "  0.16666667]\n",
      "[-1 -1] [ 0 -1] [ 0.          0.         -0.16666667  0.16666667  0.          0.16666667\n",
      " -0.16666667]\n",
      "[-1 -1] [0 1] [ 0.          0.          0.16666667 -0.16666667  0.         -0.16666667\n",
      "  0.16666667]\n",
      "[-1 -1] [-2  0] [ 0.          0.08333333 -0.25        0.33333333 -0.33333333  0.25\n",
      " -0.08333333]\n",
      "[-1 -1] [-1 -1] [ 0.          0.16666667 -0.16666667 -0.66666667  0.33333333  1.16666667\n",
      " -0.83333333]\n",
      "[-1 -1] [-1  1] [ 0.          0.08333333 -0.41666667  0.66666667 -0.33333333 -0.08333333\n",
      "  0.08333333]\n",
      "[-1 -1] [2 0] [ 0.          0.         -0.16666667  0.33333333  0.         -0.33333333\n",
      "  0.16666667]\n",
      "[-1 -1] [ 1 -1] [ 0.          0.08333333 -0.41666667  0.66666667 -0.33333333 -0.08333333\n",
      "  0.08333333]\n",
      "[-1 -1] [1 1] [ 0.          0.          0.66666667 -1.33333333  1.         -0.66666667\n",
      "  0.33333333]\n",
      "[-1 -1] [ 0 -2] [ 0.          0.08333333 -0.25        0.33333333 -0.33333333  0.25\n",
      " -0.08333333]\n",
      "[-1 -1] [0 2] [ 0.          0.         -0.16666667  0.33333333  0.         -0.33333333\n",
      "  0.16666667]\n",
      "[-1  1] [0 0] [ 0.         -0.5         1.16666667 -0.66666667  0.         -0.16666667\n",
      "  0.16666667]\n",
      "[-1  1] [-1  0] [ 0.          0.         -0.16666667  0.16666667  0.          0.16666667\n",
      " -0.16666667]\n",
      "[-1  1] [1 0] [ 0.          0.          0.16666667 -0.16666667  0.         -0.16666667\n",
      "  0.16666667]\n",
      "[-1  1] [ 0 -1] [ 0.          0.          0.16666667 -0.16666667  0.         -0.16666667\n",
      "  0.16666667]\n",
      "[-1  1] [0 1] [ 0.          0.         -0.16666667  0.16666667  0.          0.16666667\n",
      " -0.16666667]\n",
      "[-1  1] [-2  0] [ 0.          0.08333333 -0.25        0.33333333 -0.33333333  0.25\n",
      " -0.08333333]\n",
      "[-1  1] [-1 -1] [ 0.          0.08333333 -0.41666667  0.66666667 -0.33333333 -0.08333333\n",
      "  0.08333333]\n",
      "[-1  1] [-1  1] [ 0.          0.16666667 -0.16666667 -0.66666667  0.33333333  1.16666667\n",
      " -0.83333333]\n",
      "[-1  1] [2 0] [ 0.          0.         -0.16666667  0.33333333  0.         -0.33333333\n",
      "  0.16666667]\n",
      "[-1  1] [ 1 -1] [ 0.          0.          0.66666667 -1.33333333  1.         -0.66666667\n",
      "  0.33333333]\n",
      "[-1  1] [1 1] [ 0.          0.08333333 -0.41666667  0.66666667 -0.33333333 -0.08333333\n",
      "  0.08333333]\n",
      "[-1  1] [ 0 -2] [ 0.          0.         -0.16666667  0.33333333  0.         -0.33333333\n",
      "  0.16666667]\n",
      "[-1  1] [0 2] [ 0.          0.08333333 -0.25        0.33333333 -0.33333333  0.25\n",
      " -0.08333333]\n",
      "[2 0] [0 0] [ 0.         -0.25        0.58333333 -0.33333333  0.         -0.08333333\n",
      "  0.08333333]\n",
      "[2 0] [-1  0] [ 0.          0.          0.25       -0.33333333  0.          0.\n",
      "  0.08333333]\n",
      "[2 0] [1 0] [ 0.          0.         -0.08333333  0.          0.          0.33333333\n",
      " -0.25      ]\n",
      "[2 0] [ 0 -1] [ 0.          0.         -0.08333333  0.16666667  0.         -0.16666667\n",
      "  0.08333333]\n",
      "[2 0] [0 1] [ 0.          0.         -0.08333333  0.16666667  0.         -0.16666667\n",
      "  0.08333333]\n",
      "[2 0] [-2  0] [ 0.          0.          0.25       -0.33333333  0.          0.\n",
      "  0.08333333]\n",
      "[2 0] [-1 -1] [ 0.          0.         -0.16666667  0.33333333  0.         -0.33333333\n",
      "  0.16666667]\n",
      "[2 0] [-1  1] [ 0.          0.         -0.16666667  0.33333333  0.         -0.33333333\n",
      "  0.16666667]\n",
      "[2 0] [2 0] [ 0.          0.08333333 -0.16666667  0.         -0.33333333  0.91666667\n",
      " -0.5       ]\n",
      "[2 0] [ 1 -1] [ 0.          0.08333333 -0.25        0.33333333 -0.33333333  0.25\n",
      " -0.08333333]\n",
      "[2 0] [1 1] [ 0.          0.08333333 -0.25        0.33333333 -0.33333333  0.25\n",
      " -0.08333333]\n",
      "[2 0] [ 0 -2] [ 0.          0.          0.08333333 -0.33333333  0.5        -0.33333333\n",
      "  0.08333333]\n",
      "[2 0] [0 2] [ 0.          0.          0.08333333 -0.33333333  0.5        -0.33333333\n",
      "  0.08333333]\n",
      "[ 1 -1] [0 0] [ 0.         -0.5         1.16666667 -0.66666667  0.         -0.16666667\n",
      "  0.16666667]\n",
      "[ 1 -1] [-1  0] [ 0.          0.          0.16666667 -0.16666667  0.         -0.16666667\n",
      "  0.16666667]\n",
      "[ 1 -1] [1 0] [ 0.          0.         -0.16666667  0.16666667  0.          0.16666667\n",
      " -0.16666667]\n",
      "[ 1 -1] [ 0 -1] [ 0.          0.         -0.16666667  0.16666667  0.          0.16666667\n",
      " -0.16666667]\n",
      "[ 1 -1] [0 1] [ 0.          0.          0.16666667 -0.16666667  0.         -0.16666667\n",
      "  0.16666667]\n",
      "[ 1 -1] [-2  0] [ 0.          0.         -0.16666667  0.33333333  0.         -0.33333333\n",
      "  0.16666667]\n",
      "[ 1 -1] [-1 -1] [ 0.          0.08333333 -0.41666667  0.66666667 -0.33333333 -0.08333333\n",
      "  0.08333333]\n",
      "[ 1 -1] [-1  1] [ 0.          0.          0.66666667 -1.33333333  1.         -0.66666667\n",
      "  0.33333333]\n",
      "[ 1 -1] [2 0] [ 0.          0.08333333 -0.25        0.33333333 -0.33333333  0.25\n",
      " -0.08333333]\n",
      "[ 1 -1] [ 1 -1] [ 0.          0.16666667 -0.16666667 -0.66666667  0.33333333  1.16666667\n",
      " -0.83333333]\n",
      "[ 1 -1] [1 1] [ 0.          0.08333333 -0.41666667  0.66666667 -0.33333333 -0.08333333\n",
      "  0.08333333]\n",
      "[ 1 -1] [ 0 -2] [ 0.          0.08333333 -0.25        0.33333333 -0.33333333  0.25\n",
      " -0.08333333]\n",
      "[ 1 -1] [0 2] [ 0.          0.         -0.16666667  0.33333333  0.         -0.33333333\n",
      "  0.16666667]\n",
      "[1 1] [0 0] [ 0.         -0.5         1.16666667 -0.66666667  0.         -0.16666667\n",
      "  0.16666667]\n",
      "[1 1] [-1  0] [ 0.          0.          0.16666667 -0.16666667  0.         -0.16666667\n",
      "  0.16666667]\n",
      "[1 1] [1 0] [ 0.          0.         -0.16666667  0.16666667  0.          0.16666667\n",
      " -0.16666667]\n",
      "[1 1] [ 0 -1] [ 0.          0.          0.16666667 -0.16666667  0.         -0.16666667\n",
      "  0.16666667]\n",
      "[1 1] [0 1] [ 0.          0.         -0.16666667  0.16666667  0.          0.16666667\n",
      " -0.16666667]\n",
      "[1 1] [-2  0] [ 0.          0.         -0.16666667  0.33333333  0.         -0.33333333\n",
      "  0.16666667]\n",
      "[1 1] [-1 -1] [ 0.          0.          0.66666667 -1.33333333  1.         -0.66666667\n",
      "  0.33333333]\n",
      "[1 1] [-1  1] [ 0.          0.08333333 -0.41666667  0.66666667 -0.33333333 -0.08333333\n",
      "  0.08333333]\n",
      "[1 1] [2 0] [ 0.          0.08333333 -0.25        0.33333333 -0.33333333  0.25\n",
      " -0.08333333]\n",
      "[1 1] [ 1 -1] [ 0.          0.08333333 -0.41666667  0.66666667 -0.33333333 -0.08333333\n",
      "  0.08333333]\n",
      "[1 1] [1 1] [ 0.          0.16666667 -0.16666667 -0.66666667  0.33333333  1.16666667\n",
      " -0.83333333]\n",
      "[1 1] [ 0 -2] [ 0.          0.         -0.16666667  0.33333333  0.         -0.33333333\n",
      "  0.16666667]\n",
      "[1 1] [0 2] [ 0.          0.08333333 -0.25        0.33333333 -0.33333333  0.25\n",
      " -0.08333333]\n",
      "[ 0 -2] [0 0] [ 0.         -0.25        0.58333333 -0.33333333  0.         -0.08333333\n",
      "  0.08333333]\n",
      "[ 0 -2] [-1  0] [ 0.          0.         -0.08333333  0.16666667  0.         -0.16666667\n",
      "  0.08333333]\n",
      "[ 0 -2] [1 0] [ 0.          0.         -0.08333333  0.16666667  0.         -0.16666667\n",
      "  0.08333333]\n",
      "[ 0 -2] [ 0 -1] [ 0.          0.         -0.08333333  0.          0.          0.33333333\n",
      " -0.25      ]\n",
      "[ 0 -2] [0 1] [ 0.          0.          0.25       -0.33333333  0.          0.\n",
      "  0.08333333]\n",
      "[ 0 -2] [-2  0] [ 0.          0.          0.08333333 -0.33333333  0.5        -0.33333333\n",
      "  0.08333333]\n",
      "[ 0 -2] [-1 -1] [ 0.          0.08333333 -0.25        0.33333333 -0.33333333  0.25\n",
      " -0.08333333]\n",
      "[ 0 -2] [-1  1] [ 0.          0.         -0.16666667  0.33333333  0.         -0.33333333\n",
      "  0.16666667]\n",
      "[ 0 -2] [2 0] [ 0.          0.          0.08333333 -0.33333333  0.5        -0.33333333\n",
      "  0.08333333]\n",
      "[ 0 -2] [ 1 -1] [ 0.          0.08333333 -0.25        0.33333333 -0.33333333  0.25\n",
      " -0.08333333]\n",
      "[ 0 -2] [1 1] [ 0.          0.         -0.16666667  0.33333333  0.         -0.33333333\n",
      "  0.16666667]\n",
      "[ 0 -2] [ 0 -2] [ 0.          0.08333333 -0.16666667  0.         -0.33333333  0.91666667\n",
      " -0.5       ]\n",
      "[ 0 -2] [0 2] [ 0.          0.          0.25       -0.33333333  0.          0.\n",
      "  0.08333333]\n",
      "[0 2] [0 0] [ 0.         -0.25        0.58333333 -0.33333333  0.         -0.08333333\n",
      "  0.08333333]\n",
      "[0 2] [-1  0] [ 0.          0.         -0.08333333  0.16666667  0.         -0.16666667\n",
      "  0.08333333]\n",
      "[0 2] [1 0] [ 0.          0.         -0.08333333  0.16666667  0.         -0.16666667\n",
      "  0.08333333]\n",
      "[0 2] [ 0 -1] [ 0.          0.          0.25       -0.33333333  0.          0.\n",
      "  0.08333333]\n",
      "[0 2] [0 1] [ 0.          0.         -0.08333333  0.          0.          0.33333333\n",
      " -0.25      ]\n",
      "[0 2] [-2  0] [ 0.          0.          0.08333333 -0.33333333  0.5        -0.33333333\n",
      "  0.08333333]\n",
      "[0 2] [-1 -1] [ 0.          0.         -0.16666667  0.33333333  0.         -0.33333333\n",
      "  0.16666667]\n",
      "[0 2] [-1  1] [ 0.          0.08333333 -0.25        0.33333333 -0.33333333  0.25\n",
      " -0.08333333]\n",
      "[0 2] [2 0] [ 0.          0.          0.08333333 -0.33333333  0.5        -0.33333333\n",
      "  0.08333333]\n",
      "[0 2] [ 1 -1] [ 0.          0.         -0.16666667  0.33333333  0.         -0.33333333\n",
      "  0.16666667]\n",
      "[0 2] [1 1] [ 0.          0.08333333 -0.25        0.33333333 -0.33333333  0.25\n",
      " -0.08333333]\n",
      "[0 2] [ 0 -2] [ 0.          0.          0.25       -0.33333333  0.          0.\n",
      "  0.08333333]\n",
      "[0 2] [0 2] [ 0.          0.08333333 -0.16666667  0.         -0.33333333  0.91666667\n",
      " -0.5       ]\n"
     ]
    }
   ],
   "source": [
    "printbasisbasis(symmWGbar-symmWGbar_far)"
   ]
  },
  {
   "cell_type": "code",
   "execution_count": 46,
   "metadata": {
    "scrolled": false
   },
   "outputs": [
    {
     "name": "stdout",
     "output_type": "stream",
     "text": [
      "[0 0] [0 0] [ 0. -3.  3.  0.  0.  3. -3.]\n",
      "[0 0] [-1  0] [ 0.          2.5625     -4.83333333  2.22222222  0.         -0.29166667\n",
      "  0.38888889  0.          0.         -0.04861111]\n",
      "[0 0] [1 0] [ 0.          2.5625     -4.83333333  2.22222222  0.         -0.29166667\n",
      "  0.38888889  0.          0.         -0.04861111]\n",
      "[0 0] [ 0 -1] [ 0.          2.5625     -4.83333333  2.22222222  0.         -0.29166667\n",
      "  0.38888889  0.          0.         -0.04861111]\n",
      "[0 0] [0 1] [ 0.          2.5625     -4.83333333  2.22222222  0.         -0.29166667\n",
      "  0.38888889  0.          0.         -0.04861111]\n",
      "[0 0] [-2  0] [ 0.   -0.75  1.75 -1.    0.   -0.25  0.25]\n",
      "[0 0] [-1 -1] [ 0.  -1.5  3.5 -2.   0.  -0.5  0.5]\n",
      "[0 0] [-1  1] [ 0.  -1.5  3.5 -2.   0.  -0.5  0.5]\n",
      "[0 0] [2 0] [ 0.   -0.75  1.75 -1.    0.   -0.25  0.25]\n",
      "[0 0] [ 1 -1] [ 0.  -1.5  3.5 -2.   0.  -0.5  0.5]\n",
      "[0 0] [1 1] [ 0.  -1.5  3.5 -2.   0.  -0.5  0.5]\n",
      "[0 0] [ 0 -2] [ 0.   -0.75  1.75 -1.    0.   -0.25  0.25]\n",
      "[0 0] [0 2] [ 0.   -0.75  1.75 -1.    0.   -0.25  0.25]\n",
      "[0 0] [-3  0] [ 0.          0.0625     -0.16666667  0.11111111  0.          0.04166667\n",
      " -0.05555556  0.          0.          0.00694444]\n",
      "[0 0] [-2 -1] [ 0.          0.1875     -0.5         0.33333333  0.          0.125\n",
      " -0.16666667  0.          0.          0.02083333]\n",
      "[0 0] [-2  1] [ 0.          0.1875     -0.5         0.33333333  0.          0.125\n",
      " -0.16666667  0.          0.          0.02083333]\n",
      "[0 0] [-1 -2] [ 0.          0.1875     -0.5         0.33333333  0.          0.125\n",
      " -0.16666667  0.          0.          0.02083333]\n",
      "[0 0] [-1  2] [ 0.          0.1875     -0.5         0.33333333  0.          0.125\n",
      " -0.16666667  0.          0.          0.02083333]\n",
      "[0 0] [3 0] [ 0.          0.0625     -0.16666667  0.11111111  0.          0.04166667\n",
      " -0.05555556  0.          0.          0.00694444]\n",
      "[0 0] [ 2 -1] [ 0.          0.1875     -0.5         0.33333333  0.          0.125\n",
      " -0.16666667  0.          0.          0.02083333]\n",
      "[0 0] [2 1] [ 0.          0.1875     -0.5         0.33333333  0.          0.125\n",
      " -0.16666667  0.          0.          0.02083333]\n",
      "[0 0] [ 1 -2] [ 0.          0.1875     -0.5         0.33333333  0.          0.125\n",
      " -0.16666667  0.          0.          0.02083333]\n",
      "[0 0] [1 2] [ 0.          0.1875     -0.5         0.33333333  0.          0.125\n",
      " -0.16666667  0.          0.          0.02083333]\n",
      "[0 0] [ 0 -3] [ 0.          0.0625     -0.16666667  0.11111111  0.          0.04166667\n",
      " -0.05555556  0.          0.          0.00694444]\n",
      "[0 0] [0 3] [ 0.          0.0625     -0.16666667  0.11111111  0.          0.04166667\n",
      " -0.05555556  0.          0.          0.00694444]\n"
     ]
    }
   ],
   "source": [
    "printbasisbasis(symmWGGbar_far, {(0,0)})"
   ]
  },
  {
   "cell_type": "code",
   "execution_count": 47,
   "metadata": {
    "scrolled": false
   },
   "outputs": [
    {
     "name": "stdout",
     "output_type": "stream",
     "text": [
      "[0 0] [0 0] [ 0.  3. -3.  0.  0. -3.  3.]\n",
      "[0 0] [-1  0] [ 0.         -2.5625      4.83333333 -2.22222222  0.          0.29166667\n",
      " -0.38888889  0.          0.          0.04861111]\n",
      "[0 0] [1 0] [ 0.         -2.5625      4.83333333 -2.22222222  0.          0.29166667\n",
      " -0.38888889  0.          0.          0.04861111]\n",
      "[0 0] [ 0 -1] [ 0.         -2.5625      4.83333333 -2.22222222  0.          0.29166667\n",
      " -0.38888889  0.          0.          0.04861111]\n",
      "[0 0] [0 1] [ 0.         -2.5625      4.83333333 -2.22222222  0.          0.29166667\n",
      " -0.38888889  0.          0.          0.04861111]\n",
      "[0 0] [-2  0] [ 0.    0.75 -1.75  1.    0.    0.25 -0.25]\n",
      "[0 0] [-1 -1] [ 0.   1.5 -3.5  2.   0.   0.5 -0.5]\n",
      "[0 0] [-1  1] [ 0.   1.5 -3.5  2.   0.   0.5 -0.5]\n",
      "[0 0] [2 0] [ 0.    0.75 -1.75  1.    0.    0.25 -0.25]\n",
      "[0 0] [ 1 -1] [ 0.   1.5 -3.5  2.   0.   0.5 -0.5]\n",
      "[0 0] [1 1] [ 0.   1.5 -3.5  2.   0.   0.5 -0.5]\n",
      "[0 0] [ 0 -2] [ 0.    0.75 -1.75  1.    0.    0.25 -0.25]\n",
      "[0 0] [0 2] [ 0.    0.75 -1.75  1.    0.    0.25 -0.25]\n",
      "[0 0] [-3  0] [ 0.         -0.0625      0.16666667 -0.11111111  0.         -0.04166667\n",
      "  0.05555556  0.          0.         -0.00694444]\n",
      "[0 0] [-2 -1] [ 0.         -0.1875      0.5        -0.33333333  0.         -0.125\n",
      "  0.16666667  0.          0.         -0.02083333]\n",
      "[0 0] [-2  1] [ 0.         -0.1875      0.5        -0.33333333  0.         -0.125\n",
      "  0.16666667  0.          0.         -0.02083333]\n",
      "[0 0] [-1 -2] [ 0.         -0.1875      0.5        -0.33333333  0.         -0.125\n",
      "  0.16666667  0.          0.         -0.02083333]\n",
      "[0 0] [-1  2] [ 0.         -0.1875      0.5        -0.33333333  0.         -0.125\n",
      "  0.16666667  0.          0.         -0.02083333]\n",
      "[0 0] [3 0] [ 0.         -0.0625      0.16666667 -0.11111111  0.         -0.04166667\n",
      "  0.05555556  0.          0.         -0.00694444]\n",
      "[0 0] [ 2 -1] [ 0.         -0.1875      0.5        -0.33333333  0.         -0.125\n",
      "  0.16666667  0.          0.         -0.02083333]\n",
      "[0 0] [2 1] [ 0.         -0.1875      0.5        -0.33333333  0.         -0.125\n",
      "  0.16666667  0.          0.         -0.02083333]\n",
      "[0 0] [ 1 -2] [ 0.         -0.1875      0.5        -0.33333333  0.         -0.125\n",
      "  0.16666667  0.          0.         -0.02083333]\n",
      "[0 0] [1 2] [ 0.         -0.1875      0.5        -0.33333333  0.         -0.125\n",
      "  0.16666667  0.          0.         -0.02083333]\n",
      "[0 0] [ 0 -3] [ 0.         -0.0625      0.16666667 -0.11111111  0.         -0.04166667\n",
      "  0.05555556  0.          0.         -0.00694444]\n",
      "[0 0] [0 3] [ 0.         -0.0625      0.16666667 -0.11111111  0.         -0.04166667\n",
      "  0.05555556  0.          0.         -0.00694444]\n",
      "[-1  0] [0 0] [ 0.         -2.5625      4.83333333 -2.22222222  0.          0.29166667\n",
      " -0.38888889  0.          0.          0.04861111]\n",
      "[-1  0] [-1  0] [ 0.          0.75       -1.44444444 -0.16666667  0.05555556 -0.47222222\n",
      "  1.22222222 -0.05555556  0.16666667 -0.05555556]\n",
      "[-1  0] [1 0] [ 0.          0.75        0.22916667 -0.4375     -0.04861111 -0.13194444\n",
      " -0.50694444  0.04861111  0.21527778 -0.11805556]\n",
      "[-1  0] [ 0 -1] [ 0.          0.75       -2.30555556  1.69444444  0.02777778  0.22222222\n",
      " -0.36111111 -0.02777778  0.08333333 -0.08333333]\n",
      "[-1  0] [0 1] [ 0.          0.75       -2.30555556  1.69444444  0.02777778  0.22222222\n",
      " -0.36111111 -0.02777778  0.08333333 -0.08333333]\n",
      "[-1  0] [-2  0] [ 0.          0.          0.22916667  0.09027778 -0.27083333 -0.60416667\n",
      "  0.54861111  0.02083333 -0.0625      0.04861111]\n",
      "[-1  0] [-1 -1] [ 0.         -0.04166667  0.59722222 -0.59722222 -0.06944444 -0.18055556\n",
      "  0.29166667 -0.01388889 -0.04166667  0.05555556]\n",
      "[-1  0] [-1  1] [ 0.         -0.04166667  0.59722222 -0.59722222 -0.06944444 -0.18055556\n",
      "  0.29166667 -0.01388889 -0.04166667  0.05555556]\n",
      "[-1  0] [2 0] [ 0.         -0.0625     -0.60416667  0.97916667 -0.02083333 -0.22916667\n",
      " -0.0625      0.02083333  0.02083333 -0.04166667]\n",
      "[-1  0] [ 1 -1] [ 0.         -0.10416667 -0.15277778  0.18055556  0.18055556  0.11111111\n",
      " -0.18055556 -0.01388889  0.04166667 -0.0625    ]\n",
      "[-1  0] [1 1] [ 0.         -0.10416667 -0.15277778  0.18055556  0.18055556  0.11111111\n",
      " -0.18055556 -0.01388889  0.04166667 -0.0625    ]\n",
      "[-1  0] [ 0 -2] [ 0.         -0.04166667  0.32638889 -0.50694444  0.03472222  0.34027778\n",
      " -0.15972222  0.00694444  0.02083333 -0.02083333]\n",
      "[-1  0] [0 2] [ 0.         -0.04166667  0.32638889 -0.50694444  0.03472222  0.34027778\n",
      " -0.15972222  0.00694444  0.02083333 -0.02083333]\n",
      "[-1  0] [-3  0] [ 0.          0.         -0.02083333  0.00694444  0.00694444  0.09027778\n",
      " -0.09027778 -0.00694444 -0.00694444  0.02083333]\n",
      "[-1  0] [-2 -1] [ 0.          0.         -0.05555556  0.05555556  0.          0.11111111\n",
      " -0.11111111  0.         -0.05555556  0.05555556]\n",
      "[-1  0] [-2  1] [ 0.          0.         -0.05555556  0.05555556  0.          0.11111111\n",
      " -0.11111111  0.         -0.05555556  0.05555556]\n",
      "[-1  0] [-1 -2] [ 0.          0.         -0.04861111  0.09027778 -0.02083333 -0.04861111\n",
      "  0.04861111  0.02083333 -0.09027778  0.04861111]\n",
      "[-1  0] [-1  2] [ 0.          0.         -0.04861111  0.09027778 -0.02083333 -0.04861111\n",
      "  0.04861111  0.02083333 -0.09027778  0.04861111]\n",
      "[-1  0] [3 0] [ 0.          0.          0.05555556 -0.13888889  0.02777778  0.16666667\n",
      " -0.11111111 -0.02777778  0.02777778]\n",
      "[-1  0] [ 2 -1] [ 0.          0.          0.04166667 -0.09722222  0.01388889  0.09722222\n",
      " -0.04166667 -0.01388889 -0.01388889  0.01388889]\n",
      "[-1  0] [2 1] [ 0.          0.          0.04166667 -0.09722222  0.01388889  0.09722222\n",
      " -0.04166667 -0.01388889 -0.01388889  0.01388889]\n",
      "[-1  0] [ 1 -2] [ 0.          0.         -0.02777778  0.08333333 -0.02777778 -0.13888889\n",
      "  0.13888889  0.02777778 -0.08333333  0.02777778]\n",
      "[-1  0] [1 2] [ 0.          0.         -0.02777778  0.08333333 -0.02777778 -0.13888889\n",
      "  0.13888889  0.02777778 -0.08333333  0.02777778]\n",
      "[-1  0] [ 0 -3] [ 0.          0.         -0.01388889  0.04166667 -0.01388889 -0.06944444\n",
      "  0.06944444  0.01388889 -0.04166667  0.01388889]\n",
      "[-1  0] [0 3] [ 0.          0.         -0.01388889  0.04166667 -0.01388889 -0.06944444\n",
      "  0.06944444  0.01388889 -0.04166667  0.01388889]\n",
      "[1 0] [0 0] [ 0.         -2.5625      4.83333333 -2.22222222  0.          0.29166667\n",
      " -0.38888889  0.          0.          0.04861111]\n",
      "[1 0] [-1  0] [ 0.          0.75        0.22916667 -0.4375     -0.04861111 -0.13194444\n",
      " -0.50694444  0.04861111  0.21527778 -0.11805556]\n",
      "[1 0] [1 0] [ 0.          0.75       -1.44444444 -0.16666667  0.05555556 -0.47222222\n",
      "  1.22222222 -0.05555556  0.16666667 -0.05555556]\n",
      "[1 0] [ 0 -1] [ 0.          0.75       -2.30555556  1.69444444  0.02777778  0.22222222\n",
      " -0.36111111 -0.02777778  0.08333333 -0.08333333]\n",
      "[1 0] [0 1] [ 0.          0.75       -2.30555556  1.69444444  0.02777778  0.22222222\n",
      " -0.36111111 -0.02777778  0.08333333 -0.08333333]\n",
      "[1 0] [-2  0] [ 0.         -0.0625     -0.60416667  0.97916667 -0.02083333 -0.22916667\n",
      " -0.0625      0.02083333  0.02083333 -0.04166667]\n",
      "[1 0] [-1 -1] [ 0.         -0.10416667 -0.15277778  0.18055556  0.18055556  0.11111111\n",
      " -0.18055556 -0.01388889  0.04166667 -0.0625    ]\n",
      "[1 0] [-1  1] [ 0.         -0.10416667 -0.15277778  0.18055556  0.18055556  0.11111111\n",
      " -0.18055556 -0.01388889  0.04166667 -0.0625    ]\n",
      "[1 0] [2 0] [ 0.          0.          0.22916667  0.09027778 -0.27083333 -0.60416667\n",
      "  0.54861111  0.02083333 -0.0625      0.04861111]\n",
      "[1 0] [ 1 -1] [ 0.         -0.04166667  0.59722222 -0.59722222 -0.06944444 -0.18055556\n",
      "  0.29166667 -0.01388889 -0.04166667  0.05555556]\n",
      "[1 0] [1 1] [ 0.         -0.04166667  0.59722222 -0.59722222 -0.06944444 -0.18055556\n",
      "  0.29166667 -0.01388889 -0.04166667  0.05555556]\n",
      "[1 0] [ 0 -2] [ 0.         -0.04166667  0.32638889 -0.50694444  0.03472222  0.34027778\n",
      " -0.15972222  0.00694444  0.02083333 -0.02083333]\n",
      "[1 0] [0 2] [ 0.         -0.04166667  0.32638889 -0.50694444  0.03472222  0.34027778\n",
      " -0.15972222  0.00694444  0.02083333 -0.02083333]\n",
      "[1 0] [-3  0] [ 0.          0.          0.05555556 -0.13888889  0.02777778  0.16666667\n",
      " -0.11111111 -0.02777778  0.02777778]\n",
      "[1 0] [-2 -1] [ 0.          0.          0.04166667 -0.09722222  0.01388889  0.09722222\n",
      " -0.04166667 -0.01388889 -0.01388889  0.01388889]\n",
      "[1 0] [-2  1] [ 0.          0.          0.04166667 -0.09722222  0.01388889  0.09722222\n",
      " -0.04166667 -0.01388889 -0.01388889  0.01388889]\n",
      "[1 0] [-1 -2] [ 0.          0.         -0.02777778  0.08333333 -0.02777778 -0.13888889\n",
      "  0.13888889  0.02777778 -0.08333333  0.02777778]\n",
      "[1 0] [-1  2] [ 0.          0.         -0.02777778  0.08333333 -0.02777778 -0.13888889\n",
      "  0.13888889  0.02777778 -0.08333333  0.02777778]\n",
      "[1 0] [3 0] [ 0.          0.         -0.02083333  0.00694444  0.00694444  0.09027778\n",
      " -0.09027778 -0.00694444 -0.00694444  0.02083333]\n",
      "[1 0] [ 2 -1] [ 0.          0.         -0.05555556  0.05555556  0.          0.11111111\n",
      " -0.11111111  0.         -0.05555556  0.05555556]\n",
      "[1 0] [2 1] [ 0.          0.         -0.05555556  0.05555556  0.          0.11111111\n",
      " -0.11111111  0.         -0.05555556  0.05555556]\n",
      "[1 0] [ 1 -2] [ 0.          0.         -0.04861111  0.09027778 -0.02083333 -0.04861111\n",
      "  0.04861111  0.02083333 -0.09027778  0.04861111]\n",
      "[1 0] [1 2] [ 0.          0.         -0.04861111  0.09027778 -0.02083333 -0.04861111\n",
      "  0.04861111  0.02083333 -0.09027778  0.04861111]\n",
      "[1 0] [ 0 -3] [ 0.          0.         -0.01388889  0.04166667 -0.01388889 -0.06944444\n",
      "  0.06944444  0.01388889 -0.04166667  0.01388889]\n",
      "[1 0] [0 3] [ 0.          0.         -0.01388889  0.04166667 -0.01388889 -0.06944444\n",
      "  0.06944444  0.01388889 -0.04166667  0.01388889]\n",
      "[ 0 -1] [0 0] [ 0.         -2.5625      4.83333333 -2.22222222  0.          0.29166667\n",
      " -0.38888889  0.          0.          0.04861111]\n",
      "[ 0 -1] [-1  0] [ 0.          0.75       -2.30555556  1.69444444  0.02777778  0.22222222\n",
      " -0.36111111 -0.02777778  0.08333333 -0.08333333]\n",
      "[ 0 -1] [1 0] [ 0.          0.75       -2.30555556  1.69444444  0.02777778  0.22222222\n",
      " -0.36111111 -0.02777778  0.08333333 -0.08333333]\n",
      "[ 0 -1] [ 0 -1] [ 0.          0.75       -1.44444444 -0.16666667  0.05555556 -0.47222222\n",
      "  1.22222222 -0.05555556  0.16666667 -0.05555556]\n",
      "[ 0 -1] [0 1] [ 0.          0.75        0.22916667 -0.4375     -0.04861111 -0.13194444\n",
      " -0.50694444  0.04861111  0.21527778 -0.11805556]\n",
      "[ 0 -1] [-2  0] [ 0.         -0.04166667  0.32638889 -0.50694444  0.03472222  0.34027778\n",
      " -0.15972222  0.00694444  0.02083333 -0.02083333]\n",
      "[ 0 -1] [-1 -1] [ 0.         -0.04166667  0.59722222 -0.59722222 -0.06944444 -0.18055556\n",
      "  0.29166667 -0.01388889 -0.04166667  0.05555556]\n",
      "[ 0 -1] [-1  1] [ 0.         -0.10416667 -0.15277778  0.18055556  0.18055556  0.11111111\n",
      " -0.18055556 -0.01388889  0.04166667 -0.0625    ]\n",
      "[ 0 -1] [2 0] [ 0.         -0.04166667  0.32638889 -0.50694444  0.03472222  0.34027778\n",
      " -0.15972222  0.00694444  0.02083333 -0.02083333]\n",
      "[ 0 -1] [ 1 -1] [ 0.         -0.04166667  0.59722222 -0.59722222 -0.06944444 -0.18055556\n",
      "  0.29166667 -0.01388889 -0.04166667  0.05555556]\n",
      "[ 0 -1] [1 1] [ 0.         -0.10416667 -0.15277778  0.18055556  0.18055556  0.11111111\n",
      " -0.18055556 -0.01388889  0.04166667 -0.0625    ]\n",
      "[ 0 -1] [ 0 -2] [ 0.          0.          0.22916667  0.09027778 -0.27083333 -0.60416667\n",
      "  0.54861111  0.02083333 -0.0625      0.04861111]\n",
      "[ 0 -1] [0 2] [ 0.         -0.0625     -0.60416667  0.97916667 -0.02083333 -0.22916667\n",
      " -0.0625      0.02083333  0.02083333 -0.04166667]\n",
      "[ 0 -1] [-3  0] [ 0.          0.         -0.01388889  0.04166667 -0.01388889 -0.06944444\n",
      "  0.06944444  0.01388889 -0.04166667  0.01388889]\n",
      "[ 0 -1] [-2 -1] [ 0.          0.         -0.04861111  0.09027778 -0.02083333 -0.04861111\n",
      "  0.04861111  0.02083333 -0.09027778  0.04861111]\n",
      "[ 0 -1] [-2  1] [ 0.          0.         -0.02777778  0.08333333 -0.02777778 -0.13888889\n",
      "  0.13888889  0.02777778 -0.08333333  0.02777778]\n",
      "[ 0 -1] [-1 -2] [ 0.          0.         -0.05555556  0.05555556  0.          0.11111111\n",
      " -0.11111111  0.         -0.05555556  0.05555556]\n",
      "[ 0 -1] [-1  2] [ 0.          0.          0.04166667 -0.09722222  0.01388889  0.09722222\n",
      " -0.04166667 -0.01388889 -0.01388889  0.01388889]\n",
      "[ 0 -1] [3 0] [ 0.          0.         -0.01388889  0.04166667 -0.01388889 -0.06944444\n",
      "  0.06944444  0.01388889 -0.04166667  0.01388889]\n",
      "[ 0 -1] [ 2 -1] [ 0.          0.         -0.04861111  0.09027778 -0.02083333 -0.04861111\n",
      "  0.04861111  0.02083333 -0.09027778  0.04861111]\n",
      "[ 0 -1] [2 1] [ 0.          0.         -0.02777778  0.08333333 -0.02777778 -0.13888889\n",
      "  0.13888889  0.02777778 -0.08333333  0.02777778]\n",
      "[ 0 -1] [ 1 -2] [ 0.          0.         -0.05555556  0.05555556  0.          0.11111111\n",
      " -0.11111111  0.         -0.05555556  0.05555556]\n",
      "[ 0 -1] [1 2] [ 0.          0.          0.04166667 -0.09722222  0.01388889  0.09722222\n",
      " -0.04166667 -0.01388889 -0.01388889  0.01388889]\n",
      "[ 0 -1] [ 0 -3] [ 0.          0.         -0.02083333  0.00694444  0.00694444  0.09027778\n",
      " -0.09027778 -0.00694444 -0.00694444  0.02083333]\n",
      "[ 0 -1] [0 3] [ 0.          0.          0.05555556 -0.13888889  0.02777778  0.16666667\n",
      " -0.11111111 -0.02777778  0.02777778]\n",
      "[0 1] [0 0] [ 0.         -2.5625      4.83333333 -2.22222222  0.          0.29166667\n",
      " -0.38888889  0.          0.          0.04861111]\n",
      "[0 1] [-1  0] [ 0.          0.75       -2.30555556  1.69444444  0.02777778  0.22222222\n",
      " -0.36111111 -0.02777778  0.08333333 -0.08333333]\n",
      "[0 1] [1 0] [ 0.          0.75       -2.30555556  1.69444444  0.02777778  0.22222222\n",
      " -0.36111111 -0.02777778  0.08333333 -0.08333333]\n",
      "[0 1] [ 0 -1] [ 0.          0.75        0.22916667 -0.4375     -0.04861111 -0.13194444\n",
      " -0.50694444  0.04861111  0.21527778 -0.11805556]\n",
      "[0 1] [0 1] [ 0.          0.75       -1.44444444 -0.16666667  0.05555556 -0.47222222\n",
      "  1.22222222 -0.05555556  0.16666667 -0.05555556]\n",
      "[0 1] [-2  0] [ 0.         -0.04166667  0.32638889 -0.50694444  0.03472222  0.34027778\n",
      " -0.15972222  0.00694444  0.02083333 -0.02083333]\n",
      "[0 1] [-1 -1] [ 0.         -0.10416667 -0.15277778  0.18055556  0.18055556  0.11111111\n",
      " -0.18055556 -0.01388889  0.04166667 -0.0625    ]\n",
      "[0 1] [-1  1] [ 0.         -0.04166667  0.59722222 -0.59722222 -0.06944444 -0.18055556\n",
      "  0.29166667 -0.01388889 -0.04166667  0.05555556]\n",
      "[0 1] [2 0] [ 0.         -0.04166667  0.32638889 -0.50694444  0.03472222  0.34027778\n",
      " -0.15972222  0.00694444  0.02083333 -0.02083333]\n",
      "[0 1] [ 1 -1] [ 0.         -0.10416667 -0.15277778  0.18055556  0.18055556  0.11111111\n",
      " -0.18055556 -0.01388889  0.04166667 -0.0625    ]\n",
      "[0 1] [1 1] [ 0.         -0.04166667  0.59722222 -0.59722222 -0.06944444 -0.18055556\n",
      "  0.29166667 -0.01388889 -0.04166667  0.05555556]\n",
      "[0 1] [ 0 -2] [ 0.         -0.0625     -0.60416667  0.97916667 -0.02083333 -0.22916667\n",
      " -0.0625      0.02083333  0.02083333 -0.04166667]\n",
      "[0 1] [0 2] [ 0.          0.          0.22916667  0.09027778 -0.27083333 -0.60416667\n",
      "  0.54861111  0.02083333 -0.0625      0.04861111]\n",
      "[0 1] [-3  0] [ 0.          0.         -0.01388889  0.04166667 -0.01388889 -0.06944444\n",
      "  0.06944444  0.01388889 -0.04166667  0.01388889]\n",
      "[0 1] [-2 -1] [ 0.          0.         -0.02777778  0.08333333 -0.02777778 -0.13888889\n",
      "  0.13888889  0.02777778 -0.08333333  0.02777778]\n",
      "[0 1] [-2  1] [ 0.          0.         -0.04861111  0.09027778 -0.02083333 -0.04861111\n",
      "  0.04861111  0.02083333 -0.09027778  0.04861111]\n",
      "[0 1] [-1 -2] [ 0.          0.          0.04166667 -0.09722222  0.01388889  0.09722222\n",
      " -0.04166667 -0.01388889 -0.01388889  0.01388889]\n",
      "[0 1] [-1  2] [ 0.          0.         -0.05555556  0.05555556  0.          0.11111111\n",
      " -0.11111111  0.         -0.05555556  0.05555556]\n"
     ]
    },
    {
     "name": "stdout",
     "output_type": "stream",
     "text": [
      "[0 1] [3 0] [ 0.          0.         -0.01388889  0.04166667 -0.01388889 -0.06944444\n",
      "  0.06944444  0.01388889 -0.04166667  0.01388889]\n",
      "[0 1] [ 2 -1] [ 0.          0.         -0.02777778  0.08333333 -0.02777778 -0.13888889\n",
      "  0.13888889  0.02777778 -0.08333333  0.02777778]\n",
      "[0 1] [2 1] [ 0.          0.         -0.04861111  0.09027778 -0.02083333 -0.04861111\n",
      "  0.04861111  0.02083333 -0.09027778  0.04861111]\n",
      "[0 1] [ 1 -2] [ 0.          0.          0.04166667 -0.09722222  0.01388889  0.09722222\n",
      " -0.04166667 -0.01388889 -0.01388889  0.01388889]\n",
      "[0 1] [1 2] [ 0.          0.         -0.05555556  0.05555556  0.          0.11111111\n",
      " -0.11111111  0.         -0.05555556  0.05555556]\n",
      "[0 1] [ 0 -3] [ 0.          0.          0.05555556 -0.13888889  0.02777778  0.16666667\n",
      " -0.11111111 -0.02777778  0.02777778]\n",
      "[0 1] [0 3] [ 0.          0.         -0.02083333  0.00694444  0.00694444  0.09027778\n",
      " -0.09027778 -0.00694444 -0.00694444  0.02083333]\n",
      "[-2  0] [0 0] [ 0.    0.75 -1.75  1.    0.    0.25 -0.25]\n",
      "[-2  0] [-1  0] [ 0.          0.          0.22916667  0.09027778 -0.27083333 -0.60416667\n",
      "  0.54861111  0.02083333 -0.0625      0.04861111]\n",
      "[-2  0] [1 0] [ 0.         -0.0625     -0.60416667  0.97916667 -0.02083333 -0.22916667\n",
      " -0.0625      0.02083333  0.02083333 -0.04166667]\n",
      "[-2  0] [ 0 -1] [ 0.         -0.04166667  0.32638889 -0.50694444  0.03472222  0.34027778\n",
      " -0.15972222  0.00694444  0.02083333 -0.02083333]\n",
      "[-2  0] [0 1] [ 0.         -0.04166667  0.32638889 -0.50694444  0.03472222  0.34027778\n",
      " -0.15972222  0.00694444  0.02083333 -0.02083333]\n",
      "[-2  0] [-2  0] [ 0.         -0.25        0.47222222 -0.02777778  1.02777778 -2.5\n",
      "  1.25       -0.02777778  0.02777778  0.02777778]\n",
      "[-2  0] [-1 -1] [ 0.         -0.25        0.69444444 -0.94444444  1.         -0.63888889\n",
      "  0.13888889  0.         -0.05555556  0.05555556]\n",
      "[-2  0] [-1  1] [ 0.         -0.25        0.69444444 -0.94444444  1.         -0.63888889\n",
      "  0.13888889  0.         -0.05555556  0.05555556]\n",
      "[-2  0] [2 0] [ 0.          0.         -0.66666667  0.86111111  0.02777778  0.02777778\n",
      " -0.27777778 -0.02777778  0.13888889 -0.08333333]\n",
      "[-2  0] [ 1 -1] [ 0.          0.          0.55555556 -1.05555556  0.          0.88888889\n",
      " -0.38888889  0.          0.05555556 -0.05555556]\n",
      "[-2  0] [1 1] [ 0.          0.          0.55555556 -1.05555556  0.          0.88888889\n",
      " -0.38888889  0.          0.05555556 -0.05555556]\n",
      "[-2  0] [ 0 -2] [ 0.          0.         -0.27777778  1.08333333 -1.52777778  0.86111111\n",
      " -0.11111111  0.02777778 -0.08333333  0.02777778]\n",
      "[-2  0] [0 2] [ 0.          0.         -0.27777778  1.08333333 -1.52777778  0.86111111\n",
      " -0.11111111  0.02777778 -0.08333333  0.02777778]\n",
      "[-2  0] [-3  0] [ 0.          0.02083333 -0.04861111  0.00694444 -0.07638889  0.27083333\n",
      " -0.17361111 -0.00694444 -0.03472222  0.04166667]\n",
      "[-2  0] [-2 -1] [ 0.          0.04166667 -0.11805556  0.10416667 -0.17361111  0.35416667\n",
      " -0.21527778  0.00694444 -0.04861111  0.04861111]\n",
      "[-2  0] [-2  1] [ 0.          0.04166667 -0.11805556  0.10416667 -0.17361111  0.35416667\n",
      " -0.21527778  0.00694444 -0.04861111  0.04861111]\n",
      "[-2  0] [-1 -2] [ 0.          0.02083333 -0.04861111  0.00694444  0.04861111 -0.02083333\n",
      " -0.00694444 -0.00694444  0.00694444]\n",
      "[-2  0] [-1  2] [ 0.          0.02083333 -0.04861111  0.00694444  0.04861111 -0.02083333\n",
      " -0.00694444 -0.00694444  0.00694444]\n",
      "[-2  0] [3 0] [ 0.          0.          0.0625     -0.10416667  0.00694444  0.00694444\n",
      "  0.04861111 -0.00694444 -0.00694444 -0.00694444]\n",
      "[-2  0] [ 2 -1] [ 0.          0.          0.02083333 -0.00694444 -0.00694444 -0.09027778\n",
      "  0.09027778  0.00694444  0.00694444 -0.02083333]\n",
      "[-2  0] [2 1] [ 0.          0.          0.02083333 -0.00694444 -0.00694444 -0.09027778\n",
      "  0.09027778  0.00694444  0.00694444 -0.02083333]\n",
      "[-2  0] [ 1 -2] [ 0.          0.         -0.02083333  0.00694444  0.13194444 -0.20138889\n",
      "  0.07638889 -0.00694444  0.03472222 -0.02083333]\n",
      "[-2  0] [1 2] [ 0.          0.         -0.02083333  0.00694444  0.13194444 -0.20138889\n",
      "  0.07638889 -0.00694444  0.03472222 -0.02083333]\n",
      "[-2  0] [ 0 -3] [ 0.          0.          0.02083333 -0.09027778  0.14583333 -0.10416667\n",
      "  0.03472222 -0.02083333  0.02083333 -0.00694444]\n",
      "[-2  0] [0 3] [ 0.          0.          0.02083333 -0.09027778  0.14583333 -0.10416667\n",
      "  0.03472222 -0.02083333  0.02083333 -0.00694444]\n",
      "[-1 -1] [0 0] [ 0.   1.5 -3.5  2.   0.   0.5 -0.5]\n",
      "[-1 -1] [-1  0] [ 0.         -0.04166667  0.59722222 -0.59722222 -0.06944444 -0.18055556\n",
      "  0.29166667 -0.01388889 -0.04166667  0.05555556]\n",
      "[-1 -1] [1 0] [ 0.         -0.10416667 -0.15277778  0.18055556  0.18055556  0.11111111\n",
      " -0.18055556 -0.01388889  0.04166667 -0.0625    ]\n",
      "[-1 -1] [ 0 -1] [ 0.         -0.04166667  0.59722222 -0.59722222 -0.06944444 -0.18055556\n",
      "  0.29166667 -0.01388889 -0.04166667  0.05555556]\n",
      "[-1 -1] [0 1] [ 0.         -0.10416667 -0.15277778  0.18055556  0.18055556  0.11111111\n",
      " -0.18055556 -0.01388889  0.04166667 -0.0625    ]\n",
      "[-1 -1] [-2  0] [ 0.         -0.25        0.69444444 -0.94444444  1.         -0.63888889\n",
      "  0.13888889  0.         -0.05555556  0.05555556]\n",
      "[-1 -1] [-1 -1] [ 0.         -0.5         0.38888889  2.11111111 -1.         -3.27777778\n",
      "  2.27777778  0.         -0.11111111  0.11111111]\n",
      "[-1 -1] [-1  1] [ 0.   -0.25  1.25 -2.    1.    0.25 -0.25]\n",
      "[-1 -1] [2 0] [ 0.          0.          0.55555556 -1.05555556  0.          0.88888889\n",
      " -0.38888889  0.          0.05555556 -0.05555556]\n",
      "[-1 -1] [ 1 -1] [ 0.   -0.25  1.25 -2.    1.    0.25 -0.25]\n",
      "[-1 -1] [1 1] [ 0.          0.         -1.88888889  3.88888889 -3.          1.77777778\n",
      " -0.77777778  0.          0.11111111 -0.11111111]\n",
      "[-1 -1] [ 0 -2] [ 0.         -0.25        0.69444444 -0.94444444  1.         -0.63888889\n",
      "  0.13888889  0.         -0.05555556  0.05555556]\n",
      "[-1 -1] [0 2] [ 0.          0.          0.55555556 -1.05555556  0.          0.88888889\n",
      " -0.38888889  0.          0.05555556 -0.05555556]\n",
      "[-1 -1] [-3  0] [ 0.          0.02083333 -0.06944444  0.09722222 -0.09722222  0.08333333\n",
      " -0.04166667  0.01388889 -0.01388889  0.00694444]\n",
      "[-1 -1] [-2 -1] [ 0.          0.0625     -0.125      -0.06944444  0.04166667  0.41666667\n",
      " -0.31944444 -0.04166667 -0.04166667  0.07638889]\n",
      "[-1 -1] [-2  1] [ 0.          0.04166667 -0.18055556  0.29166667 -0.20833333  0.06944444\n",
      " -0.04166667  0.04166667 -0.01388889]\n",
      "[-1 -1] [-1 -2] [ 0.          0.0625     -0.125      -0.06944444  0.04166667  0.41666667\n",
      " -0.31944444 -0.04166667 -0.04166667  0.07638889]\n",
      "[-1 -1] [-1  2] [ 0.          0.02083333 -0.15277778  0.29166667 -0.125      -0.11111111\n",
      "  0.04166667  0.04166667  0.01388889 -0.02083333]\n",
      "[-1 -1] [3 0] [ 0.          0.         -0.04166667  0.09722222 -0.01388889 -0.09722222\n",
      "  0.04166667  0.01388889  0.01388889 -0.01388889]\n",
      "[-1 -1] [ 2 -1] [ 0.          0.02083333 -0.15277778  0.29166667 -0.125      -0.11111111\n",
      "  0.04166667  0.04166667  0.01388889 -0.02083333]\n",
      "[-1 -1] [2 1] [ 0.          0.          0.125      -0.29166667  0.29166667 -0.29166667\n",
      "  0.20833333 -0.04166667  0.04166667 -0.04166667]\n",
      "[-1 -1] [ 1 -2] [ 0.          0.04166667 -0.18055556  0.29166667 -0.20833333  0.06944444\n",
      " -0.04166667  0.04166667 -0.01388889]\n",
      "[-1 -1] [1 2] [ 0.          0.          0.125      -0.29166667  0.29166667 -0.29166667\n",
      "  0.20833333 -0.04166667  0.04166667 -0.04166667]\n",
      "[-1 -1] [ 0 -3] [ 0.          0.02083333 -0.06944444  0.09722222 -0.09722222  0.08333333\n",
      " -0.04166667  0.01388889 -0.01388889  0.00694444]\n",
      "[-1 -1] [0 3] [ 0.          0.         -0.04166667  0.09722222 -0.01388889 -0.09722222\n",
      "  0.04166667  0.01388889  0.01388889 -0.01388889]\n",
      "[-1  1] [0 0] [ 0.   1.5 -3.5  2.   0.   0.5 -0.5]\n",
      "[-1  1] [-1  0] [ 0.         -0.04166667  0.59722222 -0.59722222 -0.06944444 -0.18055556\n",
      "  0.29166667 -0.01388889 -0.04166667  0.05555556]\n",
      "[-1  1] [1 0] [ 0.         -0.10416667 -0.15277778  0.18055556  0.18055556  0.11111111\n",
      " -0.18055556 -0.01388889  0.04166667 -0.0625    ]\n",
      "[-1  1] [ 0 -1] [ 0.         -0.10416667 -0.15277778  0.18055556  0.18055556  0.11111111\n",
      " -0.18055556 -0.01388889  0.04166667 -0.0625    ]\n",
      "[-1  1] [0 1] [ 0.         -0.04166667  0.59722222 -0.59722222 -0.06944444 -0.18055556\n",
      "  0.29166667 -0.01388889 -0.04166667  0.05555556]\n",
      "[-1  1] [-2  0] [ 0.         -0.25        0.69444444 -0.94444444  1.         -0.63888889\n",
      "  0.13888889  0.         -0.05555556  0.05555556]\n",
      "[-1  1] [-1 -1] [ 0.   -0.25  1.25 -2.    1.    0.25 -0.25]\n",
      "[-1  1] [-1  1] [ 0.         -0.5         0.38888889  2.11111111 -1.         -3.27777778\n",
      "  2.27777778  0.         -0.11111111  0.11111111]\n",
      "[-1  1] [2 0] [ 0.          0.          0.55555556 -1.05555556  0.          0.88888889\n",
      " -0.38888889  0.          0.05555556 -0.05555556]\n",
      "[-1  1] [ 1 -1] [ 0.          0.         -1.88888889  3.88888889 -3.          1.77777778\n",
      " -0.77777778  0.          0.11111111 -0.11111111]\n",
      "[-1  1] [1 1] [ 0.   -0.25  1.25 -2.    1.    0.25 -0.25]\n",
      "[-1  1] [ 0 -2] [ 0.          0.          0.55555556 -1.05555556  0.          0.88888889\n",
      " -0.38888889  0.          0.05555556 -0.05555556]\n",
      "[-1  1] [0 2] [ 0.         -0.25        0.69444444 -0.94444444  1.         -0.63888889\n",
      "  0.13888889  0.         -0.05555556  0.05555556]\n",
      "[-1  1] [-3  0] [ 0.          0.02083333 -0.06944444  0.09722222 -0.09722222  0.08333333\n",
      " -0.04166667  0.01388889 -0.01388889  0.00694444]\n",
      "[-1  1] [-2 -1] [ 0.          0.04166667 -0.18055556  0.29166667 -0.20833333  0.06944444\n",
      " -0.04166667  0.04166667 -0.01388889]\n",
      "[-1  1] [-2  1] [ 0.          0.0625     -0.125      -0.06944444  0.04166667  0.41666667\n",
      " -0.31944444 -0.04166667 -0.04166667  0.07638889]\n",
      "[-1  1] [-1 -2] [ 0.          0.02083333 -0.15277778  0.29166667 -0.125      -0.11111111\n",
      "  0.04166667  0.04166667  0.01388889 -0.02083333]\n",
      "[-1  1] [-1  2] [ 0.          0.0625     -0.125      -0.06944444  0.04166667  0.41666667\n",
      " -0.31944444 -0.04166667 -0.04166667  0.07638889]\n",
      "[-1  1] [3 0] [ 0.          0.         -0.04166667  0.09722222 -0.01388889 -0.09722222\n",
      "  0.04166667  0.01388889  0.01388889 -0.01388889]\n",
      "[-1  1] [ 2 -1] [ 0.          0.          0.125      -0.29166667  0.29166667 -0.29166667\n",
      "  0.20833333 -0.04166667  0.04166667 -0.04166667]\n",
      "[-1  1] [2 1] [ 0.          0.02083333 -0.15277778  0.29166667 -0.125      -0.11111111\n",
      "  0.04166667  0.04166667  0.01388889 -0.02083333]\n",
      "[-1  1] [ 1 -2] [ 0.          0.          0.125      -0.29166667  0.29166667 -0.29166667\n",
      "  0.20833333 -0.04166667  0.04166667 -0.04166667]\n",
      "[-1  1] [1 2] [ 0.          0.04166667 -0.18055556  0.29166667 -0.20833333  0.06944444\n",
      " -0.04166667  0.04166667 -0.01388889]\n",
      "[-1  1] [ 0 -3] [ 0.          0.         -0.04166667  0.09722222 -0.01388889 -0.09722222\n",
      "  0.04166667  0.01388889  0.01388889 -0.01388889]\n",
      "[-1  1] [0 3] [ 0.          0.02083333 -0.06944444  0.09722222 -0.09722222  0.08333333\n",
      " -0.04166667  0.01388889 -0.01388889  0.00694444]\n",
      "[2 0] [0 0] [ 0.    0.75 -1.75  1.    0.    0.25 -0.25]\n",
      "[2 0] [-1  0] [ 0.         -0.0625     -0.60416667  0.97916667 -0.02083333 -0.22916667\n",
      " -0.0625      0.02083333  0.02083333 -0.04166667]\n",
      "[2 0] [1 0] [ 0.          0.          0.22916667  0.09027778 -0.27083333 -0.60416667\n",
      "  0.54861111  0.02083333 -0.0625      0.04861111]\n",
      "[2 0] [ 0 -1] [ 0.         -0.04166667  0.32638889 -0.50694444  0.03472222  0.34027778\n",
      " -0.15972222  0.00694444  0.02083333 -0.02083333]\n",
      "[2 0] [0 1] [ 0.         -0.04166667  0.32638889 -0.50694444  0.03472222  0.34027778\n",
      " -0.15972222  0.00694444  0.02083333 -0.02083333]\n",
      "[2 0] [-2  0] [ 0.          0.         -0.66666667  0.86111111  0.02777778  0.02777778\n",
      " -0.27777778 -0.02777778  0.13888889 -0.08333333]\n",
      "[2 0] [-1 -1] [ 0.          0.          0.55555556 -1.05555556  0.          0.88888889\n",
      " -0.38888889  0.          0.05555556 -0.05555556]\n",
      "[2 0] [-1  1] [ 0.          0.          0.55555556 -1.05555556  0.          0.88888889\n",
      " -0.38888889  0.          0.05555556 -0.05555556]\n",
      "[2 0] [2 0] [ 0.         -0.25        0.47222222 -0.02777778  1.02777778 -2.5\n",
      "  1.25       -0.02777778  0.02777778  0.02777778]\n",
      "[2 0] [ 1 -1] [ 0.         -0.25        0.69444444 -0.94444444  1.         -0.63888889\n",
      "  0.13888889  0.         -0.05555556  0.05555556]\n",
      "[2 0] [1 1] [ 0.         -0.25        0.69444444 -0.94444444  1.         -0.63888889\n",
      "  0.13888889  0.         -0.05555556  0.05555556]\n",
      "[2 0] [ 0 -2] [ 0.          0.         -0.27777778  1.08333333 -1.52777778  0.86111111\n",
      " -0.11111111  0.02777778 -0.08333333  0.02777778]\n",
      "[2 0] [0 2] [ 0.          0.         -0.27777778  1.08333333 -1.52777778  0.86111111\n",
      " -0.11111111  0.02777778 -0.08333333  0.02777778]\n",
      "[2 0] [-3  0] [ 0.          0.          0.0625     -0.10416667  0.00694444  0.00694444\n",
      "  0.04861111 -0.00694444 -0.00694444 -0.00694444]\n",
      "[2 0] [-2 -1] [ 0.          0.          0.02083333 -0.00694444 -0.00694444 -0.09027778\n",
      "  0.09027778  0.00694444  0.00694444 -0.02083333]\n",
      "[2 0] [-2  1] [ 0.          0.          0.02083333 -0.00694444 -0.00694444 -0.09027778\n",
      "  0.09027778  0.00694444  0.00694444 -0.02083333]\n",
      "[2 0] [-1 -2] [ 0.          0.         -0.02083333  0.00694444  0.13194444 -0.20138889\n",
      "  0.07638889 -0.00694444  0.03472222 -0.02083333]\n",
      "[2 0] [-1  2] [ 0.          0.         -0.02083333  0.00694444  0.13194444 -0.20138889\n",
      "  0.07638889 -0.00694444  0.03472222 -0.02083333]\n",
      "[2 0] [3 0] [ 0.          0.02083333 -0.04861111  0.00694444 -0.07638889  0.27083333\n",
      " -0.17361111 -0.00694444 -0.03472222  0.04166667]\n",
      "[2 0] [ 2 -1] [ 0.          0.04166667 -0.11805556  0.10416667 -0.17361111  0.35416667\n",
      " -0.21527778  0.00694444 -0.04861111  0.04861111]\n",
      "[2 0] [2 1] [ 0.          0.04166667 -0.11805556  0.10416667 -0.17361111  0.35416667\n",
      " -0.21527778  0.00694444 -0.04861111  0.04861111]\n",
      "[2 0] [ 1 -2] [ 0.          0.02083333 -0.04861111  0.00694444  0.04861111 -0.02083333\n",
      " -0.00694444 -0.00694444  0.00694444]\n",
      "[2 0] [1 2] [ 0.          0.02083333 -0.04861111  0.00694444  0.04861111 -0.02083333\n",
      " -0.00694444 -0.00694444  0.00694444]\n",
      "[2 0] [ 0 -3] [ 0.          0.          0.02083333 -0.09027778  0.14583333 -0.10416667\n",
      "  0.03472222 -0.02083333  0.02083333 -0.00694444]\n",
      "[2 0] [0 3] [ 0.          0.          0.02083333 -0.09027778  0.14583333 -0.10416667\n",
      "  0.03472222 -0.02083333  0.02083333 -0.00694444]\n",
      "[ 1 -1] [0 0] [ 0.   1.5 -3.5  2.   0.   0.5 -0.5]\n",
      "[ 1 -1] [-1  0] [ 0.         -0.10416667 -0.15277778  0.18055556  0.18055556  0.11111111\n",
      " -0.18055556 -0.01388889  0.04166667 -0.0625    ]\n",
      "[ 1 -1] [1 0] [ 0.         -0.04166667  0.59722222 -0.59722222 -0.06944444 -0.18055556\n",
      "  0.29166667 -0.01388889 -0.04166667  0.05555556]\n",
      "[ 1 -1] [ 0 -1] [ 0.         -0.04166667  0.59722222 -0.59722222 -0.06944444 -0.18055556\n",
      "  0.29166667 -0.01388889 -0.04166667  0.05555556]\n",
      "[ 1 -1] [0 1] [ 0.         -0.10416667 -0.15277778  0.18055556  0.18055556  0.11111111\n",
      " -0.18055556 -0.01388889  0.04166667 -0.0625    ]\n",
      "[ 1 -1] [-2  0] [ 0.          0.          0.55555556 -1.05555556  0.          0.88888889\n",
      " -0.38888889  0.          0.05555556 -0.05555556]\n",
      "[ 1 -1] [-1 -1] [ 0.   -0.25  1.25 -2.    1.    0.25 -0.25]\n",
      "[ 1 -1] [-1  1] [ 0.          0.         -1.88888889  3.88888889 -3.          1.77777778\n",
      " -0.77777778  0.          0.11111111 -0.11111111]\n",
      "[ 1 -1] [2 0] [ 0.         -0.25        0.69444444 -0.94444444  1.         -0.63888889\n",
      "  0.13888889  0.         -0.05555556  0.05555556]\n",
      "[ 1 -1] [ 1 -1] [ 0.         -0.5         0.38888889  2.11111111 -1.         -3.27777778\n",
      "  2.27777778  0.         -0.11111111  0.11111111]\n",
      "[ 1 -1] [1 1] [ 0.   -0.25  1.25 -2.    1.    0.25 -0.25]\n",
      "[ 1 -1] [ 0 -2] [ 0.         -0.25        0.69444444 -0.94444444  1.         -0.63888889\n",
      "  0.13888889  0.         -0.05555556  0.05555556]\n",
      "[ 1 -1] [0 2] [ 0.          0.          0.55555556 -1.05555556  0.          0.88888889\n",
      " -0.38888889  0.          0.05555556 -0.05555556]\n",
      "[ 1 -1] [-3  0] [ 0.          0.         -0.04166667  0.09722222 -0.01388889 -0.09722222\n",
      "  0.04166667  0.01388889  0.01388889 -0.01388889]\n",
      "[ 1 -1] [-2 -1] [ 0.          0.02083333 -0.15277778  0.29166667 -0.125      -0.11111111\n",
      "  0.04166667  0.04166667  0.01388889 -0.02083333]\n",
      "[ 1 -1] [-2  1] [ 0.          0.          0.125      -0.29166667  0.29166667 -0.29166667\n",
      "  0.20833333 -0.04166667  0.04166667 -0.04166667]\n",
      "[ 1 -1] [-1 -2] [ 0.          0.04166667 -0.18055556  0.29166667 -0.20833333  0.06944444\n",
      " -0.04166667  0.04166667 -0.01388889]\n",
      "[ 1 -1] [-1  2] [ 0.          0.          0.125      -0.29166667  0.29166667 -0.29166667\n",
      "  0.20833333 -0.04166667  0.04166667 -0.04166667]\n",
      "[ 1 -1] [3 0] [ 0.          0.02083333 -0.06944444  0.09722222 -0.09722222  0.08333333\n",
      " -0.04166667  0.01388889 -0.01388889  0.00694444]\n",
      "[ 1 -1] [ 2 -1] [ 0.          0.0625     -0.125      -0.06944444  0.04166667  0.41666667\n",
      " -0.31944444 -0.04166667 -0.04166667  0.07638889]\n",
      "[ 1 -1] [2 1] [ 0.          0.04166667 -0.18055556  0.29166667 -0.20833333  0.06944444\n",
      " -0.04166667  0.04166667 -0.01388889]\n",
      "[ 1 -1] [ 1 -2] [ 0.          0.0625     -0.125      -0.06944444  0.04166667  0.41666667\n",
      " -0.31944444 -0.04166667 -0.04166667  0.07638889]\n",
      "[ 1 -1] [1 2] [ 0.          0.02083333 -0.15277778  0.29166667 -0.125      -0.11111111\n",
      "  0.04166667  0.04166667  0.01388889 -0.02083333]\n",
      "[ 1 -1] [ 0 -3] [ 0.          0.02083333 -0.06944444  0.09722222 -0.09722222  0.08333333\n",
      " -0.04166667  0.01388889 -0.01388889  0.00694444]\n",
      "[ 1 -1] [0 3] [ 0.          0.         -0.04166667  0.09722222 -0.01388889 -0.09722222\n",
      "  0.04166667  0.01388889  0.01388889 -0.01388889]\n",
      "[1 1] [0 0] [ 0.   1.5 -3.5  2.   0.   0.5 -0.5]\n",
      "[1 1] [-1  0] [ 0.         -0.10416667 -0.15277778  0.18055556  0.18055556  0.11111111\n",
      " -0.18055556 -0.01388889  0.04166667 -0.0625    ]\n",
      "[1 1] [1 0] [ 0.         -0.04166667  0.59722222 -0.59722222 -0.06944444 -0.18055556\n",
      "  0.29166667 -0.01388889 -0.04166667  0.05555556]\n",
      "[1 1] [ 0 -1] [ 0.         -0.10416667 -0.15277778  0.18055556  0.18055556  0.11111111\n",
      " -0.18055556 -0.01388889  0.04166667 -0.0625    ]\n",
      "[1 1] [0 1] [ 0.         -0.04166667  0.59722222 -0.59722222 -0.06944444 -0.18055556\n",
      "  0.29166667 -0.01388889 -0.04166667  0.05555556]\n",
      "[1 1] [-2  0] [ 0.          0.          0.55555556 -1.05555556  0.          0.88888889\n",
      " -0.38888889  0.          0.05555556 -0.05555556]\n",
      "[1 1] [-1 -1] [ 0.          0.         -1.88888889  3.88888889 -3.          1.77777778\n",
      " -0.77777778  0.          0.11111111 -0.11111111]\n",
      "[1 1] [-1  1] [ 0.   -0.25  1.25 -2.    1.    0.25 -0.25]\n",
      "[1 1] [2 0] [ 0.         -0.25        0.69444444 -0.94444444  1.         -0.63888889\n",
      "  0.13888889  0.         -0.05555556  0.05555556]\n",
      "[1 1] [ 1 -1] [ 0.   -0.25  1.25 -2.    1.    0.25 -0.25]\n",
      "[1 1] [1 1] [ 0.         -0.5         0.38888889  2.11111111 -1.         -3.27777778\n",
      "  2.27777778  0.         -0.11111111  0.11111111]\n",
      "[1 1] [ 0 -2] [ 0.          0.          0.55555556 -1.05555556  0.          0.88888889\n",
      " -0.38888889  0.          0.05555556 -0.05555556]\n",
      "[1 1] [0 2] [ 0.         -0.25        0.69444444 -0.94444444  1.         -0.63888889\n",
      "  0.13888889  0.         -0.05555556  0.05555556]\n",
      "[1 1] [-3  0] [ 0.          0.         -0.04166667  0.09722222 -0.01388889 -0.09722222\n",
      "  0.04166667  0.01388889  0.01388889 -0.01388889]\n",
      "[1 1] [-2 -1] [ 0.          0.          0.125      -0.29166667  0.29166667 -0.29166667\n",
      "  0.20833333 -0.04166667  0.04166667 -0.04166667]\n",
      "[1 1] [-2  1] [ 0.          0.02083333 -0.15277778  0.29166667 -0.125      -0.11111111\n",
      "  0.04166667  0.04166667  0.01388889 -0.02083333]\n",
      "[1 1] [-1 -2] [ 0.          0.          0.125      -0.29166667  0.29166667 -0.29166667\n",
      "  0.20833333 -0.04166667  0.04166667 -0.04166667]\n",
      "[1 1] [-1  2] [ 0.          0.04166667 -0.18055556  0.29166667 -0.20833333  0.06944444\n",
      " -0.04166667  0.04166667 -0.01388889]\n",
      "[1 1] [3 0] [ 0.          0.02083333 -0.06944444  0.09722222 -0.09722222  0.08333333\n",
      " -0.04166667  0.01388889 -0.01388889  0.00694444]\n",
      "[1 1] [ 2 -1] [ 0.          0.04166667 -0.18055556  0.29166667 -0.20833333  0.06944444\n",
      " -0.04166667  0.04166667 -0.01388889]\n",
      "[1 1] [2 1] [ 0.          0.0625     -0.125      -0.06944444  0.04166667  0.41666667\n",
      " -0.31944444 -0.04166667 -0.04166667  0.07638889]\n",
      "[1 1] [ 1 -2] [ 0.          0.02083333 -0.15277778  0.29166667 -0.125      -0.11111111\n",
      "  0.04166667  0.04166667  0.01388889 -0.02083333]\n",
      "[1 1] [1 2] [ 0.          0.0625     -0.125      -0.06944444  0.04166667  0.41666667\n",
      " -0.31944444 -0.04166667 -0.04166667  0.07638889]\n",
      "[1 1] [ 0 -3] [ 0.          0.         -0.04166667  0.09722222 -0.01388889 -0.09722222\n",
      "  0.04166667  0.01388889  0.01388889 -0.01388889]\n",
      "[1 1] [0 3] [ 0.          0.02083333 -0.06944444  0.09722222 -0.09722222  0.08333333\n",
      " -0.04166667  0.01388889 -0.01388889  0.00694444]\n",
      "[ 0 -2] [0 0] [ 0.    0.75 -1.75  1.    0.    0.25 -0.25]\n",
      "[ 0 -2] [-1  0] [ 0.         -0.04166667  0.32638889 -0.50694444  0.03472222  0.34027778\n",
      " -0.15972222  0.00694444  0.02083333 -0.02083333]\n",
      "[ 0 -2] [1 0] [ 0.         -0.04166667  0.32638889 -0.50694444  0.03472222  0.34027778\n",
      " -0.15972222  0.00694444  0.02083333 -0.02083333]\n",
      "[ 0 -2] [ 0 -1] [ 0.          0.          0.22916667  0.09027778 -0.27083333 -0.60416667\n",
      "  0.54861111  0.02083333 -0.0625      0.04861111]\n",
      "[ 0 -2] [0 1] [ 0.         -0.0625     -0.60416667  0.97916667 -0.02083333 -0.22916667\n",
      " -0.0625      0.02083333  0.02083333 -0.04166667]\n",
      "[ 0 -2] [-2  0] [ 0.          0.         -0.27777778  1.08333333 -1.52777778  0.86111111\n",
      " -0.11111111  0.02777778 -0.08333333  0.02777778]\n",
      "[ 0 -2] [-1 -1] [ 0.         -0.25        0.69444444 -0.94444444  1.         -0.63888889\n",
      "  0.13888889  0.         -0.05555556  0.05555556]\n",
      "[ 0 -2] [-1  1] [ 0.          0.          0.55555556 -1.05555556  0.          0.88888889\n",
      " -0.38888889  0.          0.05555556 -0.05555556]\n",
      "[ 0 -2] [2 0] [ 0.          0.         -0.27777778  1.08333333 -1.52777778  0.86111111\n",
      " -0.11111111  0.02777778 -0.08333333  0.02777778]\n",
      "[ 0 -2] [ 1 -1] [ 0.         -0.25        0.69444444 -0.94444444  1.         -0.63888889\n",
      "  0.13888889  0.         -0.05555556  0.05555556]\n",
      "[ 0 -2] [1 1] [ 0.          0.          0.55555556 -1.05555556  0.          0.88888889\n",
      " -0.38888889  0.          0.05555556 -0.05555556]\n",
      "[ 0 -2] [ 0 -2] [ 0.         -0.25        0.47222222 -0.02777778  1.02777778 -2.5\n",
      "  1.25       -0.02777778  0.02777778  0.02777778]\n",
      "[ 0 -2] [0 2] [ 0.          0.         -0.66666667  0.86111111  0.02777778  0.02777778\n",
      " -0.27777778 -0.02777778  0.13888889 -0.08333333]\n",
      "[ 0 -2] [-3  0] [ 0.          0.          0.02083333 -0.09027778  0.14583333 -0.10416667\n",
      "  0.03472222 -0.02083333  0.02083333 -0.00694444]\n",
      "[ 0 -2] [-2 -1] [ 0.          0.02083333 -0.04861111  0.00694444  0.04861111 -0.02083333\n",
      " -0.00694444 -0.00694444  0.00694444]\n",
      "[ 0 -2] [-2  1] [ 0.          0.         -0.02083333  0.00694444  0.13194444 -0.20138889\n",
      "  0.07638889 -0.00694444  0.03472222 -0.02083333]\n",
      "[ 0 -2] [-1 -2] [ 0.          0.04166667 -0.11805556  0.10416667 -0.17361111  0.35416667\n",
      " -0.21527778  0.00694444 -0.04861111  0.04861111]\n",
      "[ 0 -2] [-1  2] [ 0.          0.          0.02083333 -0.00694444 -0.00694444 -0.09027778\n",
      "  0.09027778  0.00694444  0.00694444 -0.02083333]\n",
      "[ 0 -2] [3 0] [ 0.          0.          0.02083333 -0.09027778  0.14583333 -0.10416667\n",
      "  0.03472222 -0.02083333  0.02083333 -0.00694444]\n",
      "[ 0 -2] [ 2 -1] [ 0.          0.02083333 -0.04861111  0.00694444  0.04861111 -0.02083333\n",
      " -0.00694444 -0.00694444  0.00694444]\n",
      "[ 0 -2] [2 1] [ 0.          0.         -0.02083333  0.00694444  0.13194444 -0.20138889\n",
      "  0.07638889 -0.00694444  0.03472222 -0.02083333]\n",
      "[ 0 -2] [ 1 -2] [ 0.          0.04166667 -0.11805556  0.10416667 -0.17361111  0.35416667\n",
      " -0.21527778  0.00694444 -0.04861111  0.04861111]\n",
      "[ 0 -2] [1 2] [ 0.          0.          0.02083333 -0.00694444 -0.00694444 -0.09027778\n",
      "  0.09027778  0.00694444  0.00694444 -0.02083333]\n",
      "[ 0 -2] [ 0 -3] [ 0.          0.02083333 -0.04861111  0.00694444 -0.07638889  0.27083333\n",
      " -0.17361111 -0.00694444 -0.03472222  0.04166667]\n",
      "[ 0 -2] [0 3] [ 0.          0.          0.0625     -0.10416667  0.00694444  0.00694444\n",
      "  0.04861111 -0.00694444 -0.00694444 -0.00694444]\n",
      "[0 2] [0 0] [ 0.    0.75 -1.75  1.    0.    0.25 -0.25]\n",
      "[0 2] [-1  0] [ 0.         -0.04166667  0.32638889 -0.50694444  0.03472222  0.34027778\n",
      " -0.15972222  0.00694444  0.02083333 -0.02083333]\n",
      "[0 2] [1 0] [ 0.         -0.04166667  0.32638889 -0.50694444  0.03472222  0.34027778\n",
      " -0.15972222  0.00694444  0.02083333 -0.02083333]\n",
      "[0 2] [ 0 -1] [ 0.         -0.0625     -0.60416667  0.97916667 -0.02083333 -0.22916667\n",
      " -0.0625      0.02083333  0.02083333 -0.04166667]\n",
      "[0 2] [0 1] [ 0.          0.          0.22916667  0.09027778 -0.27083333 -0.60416667\n",
      "  0.54861111  0.02083333 -0.0625      0.04861111]\n",
      "[0 2] [-2  0] [ 0.          0.         -0.27777778  1.08333333 -1.52777778  0.86111111\n",
      " -0.11111111  0.02777778 -0.08333333  0.02777778]\n",
      "[0 2] [-1 -1] [ 0.          0.          0.55555556 -1.05555556  0.          0.88888889\n",
      " -0.38888889  0.          0.05555556 -0.05555556]\n",
      "[0 2] [-1  1] [ 0.         -0.25        0.69444444 -0.94444444  1.         -0.63888889\n",
      "  0.13888889  0.         -0.05555556  0.05555556]\n",
      "[0 2] [2 0] [ 0.          0.         -0.27777778  1.08333333 -1.52777778  0.86111111\n",
      " -0.11111111  0.02777778 -0.08333333  0.02777778]\n",
      "[0 2] [ 1 -1] [ 0.          0.          0.55555556 -1.05555556  0.          0.88888889\n",
      " -0.38888889  0.          0.05555556 -0.05555556]\n",
      "[0 2] [1 1] [ 0.         -0.25        0.69444444 -0.94444444  1.         -0.63888889\n",
      "  0.13888889  0.         -0.05555556  0.05555556]\n",
      "[0 2] [ 0 -2] [ 0.          0.         -0.66666667  0.86111111  0.02777778  0.02777778\n",
      " -0.27777778 -0.02777778  0.13888889 -0.08333333]\n",
      "[0 2] [0 2] [ 0.         -0.25        0.47222222 -0.02777778  1.02777778 -2.5\n",
      "  1.25       -0.02777778  0.02777778  0.02777778]\n",
      "[0 2] [-3  0] [ 0.          0.          0.02083333 -0.09027778  0.14583333 -0.10416667\n",
      "  0.03472222 -0.02083333  0.02083333 -0.00694444]\n",
      "[0 2] [-2 -1] [ 0.          0.         -0.02083333  0.00694444  0.13194444 -0.20138889\n",
      "  0.07638889 -0.00694444  0.03472222 -0.02083333]\n",
      "[0 2] [-2  1] [ 0.          0.02083333 -0.04861111  0.00694444  0.04861111 -0.02083333\n",
      " -0.00694444 -0.00694444  0.00694444]\n",
      "[0 2] [-1 -2] [ 0.          0.          0.02083333 -0.00694444 -0.00694444 -0.09027778\n",
      "  0.09027778  0.00694444  0.00694444 -0.02083333]\n",
      "[0 2] [-1  2] [ 0.          0.04166667 -0.11805556  0.10416667 -0.17361111  0.35416667\n",
      " -0.21527778  0.00694444 -0.04861111  0.04861111]\n",
      "[0 2] [3 0] [ 0.          0.          0.02083333 -0.09027778  0.14583333 -0.10416667\n",
      "  0.03472222 -0.02083333  0.02083333 -0.00694444]\n",
      "[0 2] [ 2 -1] [ 0.          0.         -0.02083333  0.00694444  0.13194444 -0.20138889\n",
      "  0.07638889 -0.00694444  0.03472222 -0.02083333]\n",
      "[0 2] [2 1] [ 0.          0.02083333 -0.04861111  0.00694444  0.04861111 -0.02083333\n",
      " -0.00694444 -0.00694444  0.00694444]\n",
      "[0 2] [ 1 -2] [ 0.          0.          0.02083333 -0.00694444 -0.00694444 -0.09027778\n",
      "  0.09027778  0.00694444  0.00694444 -0.02083333]\n",
      "[0 2] [1 2] [ 0.          0.04166667 -0.11805556  0.10416667 -0.17361111  0.35416667\n",
      " -0.21527778  0.00694444 -0.04861111  0.04861111]\n",
      "[0 2] [ 0 -3] [ 0.          0.          0.0625     -0.10416667  0.00694444  0.00694444\n",
      "  0.04861111 -0.00694444 -0.00694444 -0.00694444]\n",
      "[0 2] [0 3] [ 0.          0.02083333 -0.04861111  0.00694444 -0.07638889  0.27083333\n",
      " -0.17361111 -0.00694444 -0.03472222  0.04166667]\n",
      "[-3  0] [0 0] [ 0.         -0.0625      0.16666667 -0.11111111  0.         -0.04166667\n",
      "  0.05555556  0.          0.         -0.00694444]\n"
     ]
    },
    {
     "name": "stdout",
     "output_type": "stream",
     "text": [
      "[-3  0] [-1  0] [ 0.          0.         -0.02083333  0.00694444  0.00694444  0.09027778\n",
      " -0.09027778 -0.00694444 -0.00694444  0.02083333]\n",
      "[-3  0] [1 0] [ 0.          0.          0.05555556 -0.13888889  0.02777778  0.16666667\n",
      " -0.11111111 -0.02777778  0.02777778]\n",
      "[-3  0] [ 0 -1] [ 0.          0.         -0.01388889  0.04166667 -0.01388889 -0.06944444\n",
      "  0.06944444  0.01388889 -0.04166667  0.01388889]\n",
      "[-3  0] [0 1] [ 0.          0.         -0.01388889  0.04166667 -0.01388889 -0.06944444\n",
      "  0.06944444  0.01388889 -0.04166667  0.01388889]\n",
      "[-3  0] [-2  0] [ 0.          0.02083333 -0.04861111  0.00694444 -0.07638889  0.27083333\n",
      " -0.17361111 -0.00694444 -0.03472222  0.04166667]\n",
      "[-3  0] [-1 -1] [ 0.          0.02083333 -0.06944444  0.09722222 -0.09722222  0.08333333\n",
      " -0.04166667  0.01388889 -0.01388889  0.00694444]\n",
      "[-3  0] [-1  1] [ 0.          0.02083333 -0.06944444  0.09722222 -0.09722222  0.08333333\n",
      " -0.04166667  0.01388889 -0.01388889  0.00694444]\n",
      "[-3  0] [2 0] [ 0.          0.          0.0625     -0.10416667  0.00694444  0.00694444\n",
      "  0.04861111 -0.00694444 -0.00694444 -0.00694444]\n",
      "[-3  0] [ 1 -1] [ 0.          0.         -0.04166667  0.09722222 -0.01388889 -0.09722222\n",
      "  0.04166667  0.01388889  0.01388889 -0.01388889]\n",
      "[-3  0] [1 1] [ 0.          0.         -0.04166667  0.09722222 -0.01388889 -0.09722222\n",
      "  0.04166667  0.01388889  0.01388889 -0.01388889]\n",
      "[-3  0] [ 0 -2] [ 0.          0.          0.02083333 -0.09027778  0.14583333 -0.10416667\n",
      "  0.03472222 -0.02083333  0.02083333 -0.00694444]\n",
      "[-3  0] [0 2] [ 0.          0.          0.02083333 -0.09027778  0.14583333 -0.10416667\n",
      "  0.03472222 -0.02083333  0.02083333 -0.00694444]\n",
      "[-3  0] [3 0] [ 0.          0.          0.0625     -0.10416667  0.00694444  0.00694444\n",
      "  0.04861111 -0.00694444 -0.00694444 -0.00694444]\n",
      "[-3  0] [ 2 -1] [ 0.          0.         -0.04166667  0.09722222 -0.01388889 -0.09722222\n",
      "  0.04166667  0.01388889  0.01388889 -0.01388889]\n",
      "[-3  0] [2 1] [ 0.          0.         -0.04166667  0.09722222 -0.01388889 -0.09722222\n",
      "  0.04166667  0.01388889  0.01388889 -0.01388889]\n",
      "[-3  0] [ 1 -2] [ 0.          0.          0.00694444 -0.02083333  0.00694444  0.03472222\n",
      " -0.03472222 -0.00694444  0.02083333 -0.00694444]\n",
      "[-3  0] [1 2] [ 0.          0.          0.00694444 -0.02083333  0.00694444  0.03472222\n",
      " -0.03472222 -0.00694444  0.02083333 -0.00694444]\n",
      "[-2 -1] [0 0] [ 0.         -0.1875      0.5        -0.33333333  0.         -0.125\n",
      "  0.16666667  0.          0.         -0.02083333]\n",
      "[-2 -1] [-1  0] [ 0.          0.         -0.05555556  0.05555556  0.          0.11111111\n",
      " -0.11111111  0.         -0.05555556  0.05555556]\n",
      "[-2 -1] [1 0] [ 0.          0.          0.04166667 -0.09722222  0.01388889  0.09722222\n",
      " -0.04166667 -0.01388889 -0.01388889  0.01388889]\n",
      "[-2 -1] [ 0 -1] [ 0.          0.         -0.04861111  0.09027778 -0.02083333 -0.04861111\n",
      "  0.04861111  0.02083333 -0.09027778  0.04861111]\n",
      "[-2 -1] [0 1] [ 0.          0.         -0.02777778  0.08333333 -0.02777778 -0.13888889\n",
      "  0.13888889  0.02777778 -0.08333333  0.02777778]\n",
      "[-2 -1] [-2  0] [ 0.          0.04166667 -0.11805556  0.10416667 -0.17361111  0.35416667\n",
      " -0.21527778  0.00694444 -0.04861111  0.04861111]\n",
      "[-2 -1] [-1 -1] [ 0.          0.0625     -0.125      -0.06944444  0.04166667  0.41666667\n",
      " -0.31944444 -0.04166667 -0.04166667  0.07638889]\n",
      "[-2 -1] [-1  1] [ 0.          0.04166667 -0.18055556  0.29166667 -0.20833333  0.06944444\n",
      " -0.04166667  0.04166667 -0.01388889]\n",
      "[-2 -1] [2 0] [ 0.          0.          0.02083333 -0.00694444 -0.00694444 -0.09027778\n",
      "  0.09027778  0.00694444  0.00694444 -0.02083333]\n",
      "[-2 -1] [ 1 -1] [ 0.          0.02083333 -0.15277778  0.29166667 -0.125      -0.11111111\n",
      "  0.04166667  0.04166667  0.01388889 -0.02083333]\n",
      "[-2 -1] [1 1] [ 0.          0.          0.125      -0.29166667  0.29166667 -0.29166667\n",
      "  0.20833333 -0.04166667  0.04166667 -0.04166667]\n",
      "[-2 -1] [ 0 -2] [ 0.          0.02083333 -0.04861111  0.00694444  0.04861111 -0.02083333\n",
      " -0.00694444 -0.00694444  0.00694444]\n",
      "[-2 -1] [0 2] [ 0.          0.         -0.02083333  0.00694444  0.13194444 -0.20138889\n",
      "  0.07638889 -0.00694444  0.03472222 -0.02083333]\n",
      "[-2 -1] [-2  1] [ 0.          0.          0.00694444 -0.02083333  0.00694444  0.03472222\n",
      " -0.03472222 -0.00694444  0.02083333 -0.00694444]\n",
      "[-2 -1] [-1  2] [ 0.          0.          0.01388889 -0.04166667  0.01388889  0.06944444\n",
      " -0.06944444 -0.01388889  0.04166667 -0.01388889]\n",
      "[-2 -1] [3 0] [ 0.          0.         -0.04166667  0.09722222 -0.01388889 -0.09722222\n",
      "  0.04166667  0.01388889  0.01388889 -0.01388889]\n",
      "[-2 -1] [ 2 -1] [ 0.          0.         -0.02777778  0.05555556  0.         -0.02777778\n",
      " -0.02777778  0.          0.05555556 -0.02777778]\n",
      "[-2 -1] [2 1] [ 0.          0.          0.20138889 -0.35416667  0.03472222  0.09027778\n",
      "  0.07638889 -0.03472222  0.02083333 -0.03472222]\n",
      "[-2 -1] [ 1 -2] [ 0.          0.          0.01388889 -0.04166667  0.01388889  0.06944444\n",
      " -0.06944444 -0.01388889  0.04166667 -0.01388889]\n",
      "[-2 -1] [1 2] [ 0.          0.         -0.08333333  0.19444444 -0.02777778 -0.19444444\n",
      "  0.08333333  0.02777778  0.02777778 -0.02777778]\n",
      "[-2 -1] [0 3] [ 0.          0.          0.00694444 -0.02083333  0.00694444  0.03472222\n",
      " -0.03472222 -0.00694444  0.02083333 -0.00694444]\n",
      "[-2  1] [0 0] [ 0.         -0.1875      0.5        -0.33333333  0.         -0.125\n",
      "  0.16666667  0.          0.         -0.02083333]\n",
      "[-2  1] [-1  0] [ 0.          0.         -0.05555556  0.05555556  0.          0.11111111\n",
      " -0.11111111  0.         -0.05555556  0.05555556]\n",
      "[-2  1] [1 0] [ 0.          0.          0.04166667 -0.09722222  0.01388889  0.09722222\n",
      " -0.04166667 -0.01388889 -0.01388889  0.01388889]\n",
      "[-2  1] [ 0 -1] [ 0.          0.         -0.02777778  0.08333333 -0.02777778 -0.13888889\n",
      "  0.13888889  0.02777778 -0.08333333  0.02777778]\n",
      "[-2  1] [0 1] [ 0.          0.         -0.04861111  0.09027778 -0.02083333 -0.04861111\n",
      "  0.04861111  0.02083333 -0.09027778  0.04861111]\n",
      "[-2  1] [-2  0] [ 0.          0.04166667 -0.11805556  0.10416667 -0.17361111  0.35416667\n",
      " -0.21527778  0.00694444 -0.04861111  0.04861111]\n",
      "[-2  1] [-1 -1] [ 0.          0.04166667 -0.18055556  0.29166667 -0.20833333  0.06944444\n",
      " -0.04166667  0.04166667 -0.01388889]\n",
      "[-2  1] [-1  1] [ 0.          0.0625     -0.125      -0.06944444  0.04166667  0.41666667\n",
      " -0.31944444 -0.04166667 -0.04166667  0.07638889]\n",
      "[-2  1] [2 0] [ 0.          0.          0.02083333 -0.00694444 -0.00694444 -0.09027778\n",
      "  0.09027778  0.00694444  0.00694444 -0.02083333]\n",
      "[-2  1] [ 1 -1] [ 0.          0.          0.125      -0.29166667  0.29166667 -0.29166667\n",
      "  0.20833333 -0.04166667  0.04166667 -0.04166667]\n",
      "[-2  1] [1 1] [ 0.          0.02083333 -0.15277778  0.29166667 -0.125      -0.11111111\n",
      "  0.04166667  0.04166667  0.01388889 -0.02083333]\n",
      "[-2  1] [ 0 -2] [ 0.          0.         -0.02083333  0.00694444  0.13194444 -0.20138889\n",
      "  0.07638889 -0.00694444  0.03472222 -0.02083333]\n",
      "[-2  1] [0 2] [ 0.          0.02083333 -0.04861111  0.00694444  0.04861111 -0.02083333\n",
      " -0.00694444 -0.00694444  0.00694444]\n",
      "[-2  1] [-2 -1] [ 0.          0.          0.00694444 -0.02083333  0.00694444  0.03472222\n",
      " -0.03472222 -0.00694444  0.02083333 -0.00694444]\n",
      "[-2  1] [-1 -2] [ 0.          0.          0.01388889 -0.04166667  0.01388889  0.06944444\n",
      " -0.06944444 -0.01388889  0.04166667 -0.01388889]\n",
      "[-2  1] [3 0] [ 0.          0.         -0.04166667  0.09722222 -0.01388889 -0.09722222\n",
      "  0.04166667  0.01388889  0.01388889 -0.01388889]\n",
      "[-2  1] [ 2 -1] [ 0.          0.          0.20138889 -0.35416667  0.03472222  0.09027778\n",
      "  0.07638889 -0.03472222  0.02083333 -0.03472222]\n",
      "[-2  1] [2 1] [ 0.          0.         -0.02777778  0.05555556  0.         -0.02777778\n",
      " -0.02777778  0.          0.05555556 -0.02777778]\n",
      "[-2  1] [ 1 -2] [ 0.          0.         -0.08333333  0.19444444 -0.02777778 -0.19444444\n",
      "  0.08333333  0.02777778  0.02777778 -0.02777778]\n",
      "[-2  1] [1 2] [ 0.          0.          0.01388889 -0.04166667  0.01388889  0.06944444\n",
      " -0.06944444 -0.01388889  0.04166667 -0.01388889]\n",
      "[-2  1] [ 0 -3] [ 0.          0.          0.00694444 -0.02083333  0.00694444  0.03472222\n",
      " -0.03472222 -0.00694444  0.02083333 -0.00694444]\n",
      "[-1 -2] [0 0] [ 0.         -0.1875      0.5        -0.33333333  0.         -0.125\n",
      "  0.16666667  0.          0.         -0.02083333]\n",
      "[-1 -2] [-1  0] [ 0.          0.         -0.04861111  0.09027778 -0.02083333 -0.04861111\n",
      "  0.04861111  0.02083333 -0.09027778  0.04861111]\n",
      "[-1 -2] [1 0] [ 0.          0.         -0.02777778  0.08333333 -0.02777778 -0.13888889\n",
      "  0.13888889  0.02777778 -0.08333333  0.02777778]\n",
      "[-1 -2] [ 0 -1] [ 0.          0.         -0.05555556  0.05555556  0.          0.11111111\n",
      " -0.11111111  0.         -0.05555556  0.05555556]\n",
      "[-1 -2] [0 1] [ 0.          0.          0.04166667 -0.09722222  0.01388889  0.09722222\n",
      " -0.04166667 -0.01388889 -0.01388889  0.01388889]\n",
      "[-1 -2] [-2  0] [ 0.          0.02083333 -0.04861111  0.00694444  0.04861111 -0.02083333\n",
      " -0.00694444 -0.00694444  0.00694444]\n",
      "[-1 -2] [-1 -1] [ 0.          0.0625     -0.125      -0.06944444  0.04166667  0.41666667\n",
      " -0.31944444 -0.04166667 -0.04166667  0.07638889]\n",
      "[-1 -2] [-1  1] [ 0.          0.02083333 -0.15277778  0.29166667 -0.125      -0.11111111\n",
      "  0.04166667  0.04166667  0.01388889 -0.02083333]\n",
      "[-1 -2] [2 0] [ 0.          0.         -0.02083333  0.00694444  0.13194444 -0.20138889\n",
      "  0.07638889 -0.00694444  0.03472222 -0.02083333]\n",
      "[-1 -2] [ 1 -1] [ 0.          0.04166667 -0.18055556  0.29166667 -0.20833333  0.06944444\n",
      " -0.04166667  0.04166667 -0.01388889]\n",
      "[-1 -2] [1 1] [ 0.          0.          0.125      -0.29166667  0.29166667 -0.29166667\n",
      "  0.20833333 -0.04166667  0.04166667 -0.04166667]\n",
      "[-1 -2] [ 0 -2] [ 0.          0.04166667 -0.11805556  0.10416667 -0.17361111  0.35416667\n",
      " -0.21527778  0.00694444 -0.04861111  0.04861111]\n",
      "[-1 -2] [0 2] [ 0.          0.          0.02083333 -0.00694444 -0.00694444 -0.09027778\n",
      "  0.09027778  0.00694444  0.00694444 -0.02083333]\n",
      "[-1 -2] [-2  1] [ 0.          0.          0.01388889 -0.04166667  0.01388889  0.06944444\n",
      " -0.06944444 -0.01388889  0.04166667 -0.01388889]\n",
      "[-1 -2] [-1  2] [ 0.          0.         -0.02777778  0.05555556  0.         -0.02777778\n",
      " -0.02777778  0.          0.05555556 -0.02777778]\n",
      "[-1 -2] [3 0] [ 0.          0.          0.00694444 -0.02083333  0.00694444  0.03472222\n",
      " -0.03472222 -0.00694444  0.02083333 -0.00694444]\n",
      "[-1 -2] [ 2 -1] [ 0.          0.          0.01388889 -0.04166667  0.01388889  0.06944444\n",
      " -0.06944444 -0.01388889  0.04166667 -0.01388889]\n",
      "[-1 -2] [2 1] [ 0.          0.         -0.08333333  0.19444444 -0.02777778 -0.19444444\n",
      "  0.08333333  0.02777778  0.02777778 -0.02777778]\n",
      "[-1 -2] [ 1 -2] [ 0.          0.          0.00694444 -0.02083333  0.00694444  0.03472222\n",
      " -0.03472222 -0.00694444  0.02083333 -0.00694444]\n",
      "[-1 -2] [1 2] [ 0.          0.          0.20138889 -0.35416667  0.03472222  0.09027778\n",
      "  0.07638889 -0.03472222  0.02083333 -0.03472222]\n",
      "[-1 -2] [0 3] [ 0.          0.         -0.04166667  0.09722222 -0.01388889 -0.09722222\n",
      "  0.04166667  0.01388889  0.01388889 -0.01388889]\n",
      "[-1  2] [0 0] [ 0.         -0.1875      0.5        -0.33333333  0.         -0.125\n",
      "  0.16666667  0.          0.         -0.02083333]\n",
      "[-1  2] [-1  0] [ 0.          0.         -0.04861111  0.09027778 -0.02083333 -0.04861111\n",
      "  0.04861111  0.02083333 -0.09027778  0.04861111]\n",
      "[-1  2] [1 0] [ 0.          0.         -0.02777778  0.08333333 -0.02777778 -0.13888889\n",
      "  0.13888889  0.02777778 -0.08333333  0.02777778]\n",
      "[-1  2] [ 0 -1] [ 0.          0.          0.04166667 -0.09722222  0.01388889  0.09722222\n",
      " -0.04166667 -0.01388889 -0.01388889  0.01388889]\n",
      "[-1  2] [0 1] [ 0.          0.         -0.05555556  0.05555556  0.          0.11111111\n",
      " -0.11111111  0.         -0.05555556  0.05555556]\n",
      "[-1  2] [-2  0] [ 0.          0.02083333 -0.04861111  0.00694444  0.04861111 -0.02083333\n",
      " -0.00694444 -0.00694444  0.00694444]\n",
      "[-1  2] [-1 -1] [ 0.          0.02083333 -0.15277778  0.29166667 -0.125      -0.11111111\n",
      "  0.04166667  0.04166667  0.01388889 -0.02083333]\n",
      "[-1  2] [-1  1] [ 0.          0.0625     -0.125      -0.06944444  0.04166667  0.41666667\n",
      " -0.31944444 -0.04166667 -0.04166667  0.07638889]\n",
      "[-1  2] [2 0] [ 0.          0.         -0.02083333  0.00694444  0.13194444 -0.20138889\n",
      "  0.07638889 -0.00694444  0.03472222 -0.02083333]\n",
      "[-1  2] [ 1 -1] [ 0.          0.          0.125      -0.29166667  0.29166667 -0.29166667\n",
      "  0.20833333 -0.04166667  0.04166667 -0.04166667]\n",
      "[-1  2] [1 1] [ 0.          0.04166667 -0.18055556  0.29166667 -0.20833333  0.06944444\n",
      " -0.04166667  0.04166667 -0.01388889]\n",
      "[-1  2] [ 0 -2] [ 0.          0.          0.02083333 -0.00694444 -0.00694444 -0.09027778\n",
      "  0.09027778  0.00694444  0.00694444 -0.02083333]\n",
      "[-1  2] [0 2] [ 0.          0.04166667 -0.11805556  0.10416667 -0.17361111  0.35416667\n",
      " -0.21527778  0.00694444 -0.04861111  0.04861111]\n",
      "[-1  2] [-2 -1] [ 0.          0.          0.01388889 -0.04166667  0.01388889  0.06944444\n",
      " -0.06944444 -0.01388889  0.04166667 -0.01388889]\n",
      "[-1  2] [-1 -2] [ 0.          0.         -0.02777778  0.05555556  0.         -0.02777778\n",
      " -0.02777778  0.          0.05555556 -0.02777778]\n",
      "[-1  2] [3 0] [ 0.          0.          0.00694444 -0.02083333  0.00694444  0.03472222\n",
      " -0.03472222 -0.00694444  0.02083333 -0.00694444]\n",
      "[-1  2] [ 2 -1] [ 0.          0.         -0.08333333  0.19444444 -0.02777778 -0.19444444\n",
      "  0.08333333  0.02777778  0.02777778 -0.02777778]\n",
      "[-1  2] [2 1] [ 0.          0.          0.01388889 -0.04166667  0.01388889  0.06944444\n",
      " -0.06944444 -0.01388889  0.04166667 -0.01388889]\n",
      "[-1  2] [ 1 -2] [ 0.          0.          0.20138889 -0.35416667  0.03472222  0.09027778\n",
      "  0.07638889 -0.03472222  0.02083333 -0.03472222]\n",
      "[-1  2] [1 2] [ 0.          0.          0.00694444 -0.02083333  0.00694444  0.03472222\n",
      " -0.03472222 -0.00694444  0.02083333 -0.00694444]\n",
      "[-1  2] [ 0 -3] [ 0.          0.         -0.04166667  0.09722222 -0.01388889 -0.09722222\n",
      "  0.04166667  0.01388889  0.01388889 -0.01388889]\n"
     ]
    },
    {
     "name": "stdout",
     "output_type": "stream",
     "text": [
      "[3 0] [0 0] [ 0.         -0.0625      0.16666667 -0.11111111  0.         -0.04166667\n",
      "  0.05555556  0.          0.         -0.00694444]\n",
      "[3 0] [-1  0] [ 0.          0.          0.05555556 -0.13888889  0.02777778  0.16666667\n",
      " -0.11111111 -0.02777778  0.02777778]\n",
      "[3 0] [1 0] [ 0.          0.         -0.02083333  0.00694444  0.00694444  0.09027778\n",
      " -0.09027778 -0.00694444 -0.00694444  0.02083333]\n",
      "[3 0] [ 0 -1] [ 0.          0.         -0.01388889  0.04166667 -0.01388889 -0.06944444\n",
      "  0.06944444  0.01388889 -0.04166667  0.01388889]\n",
      "[3 0] [0 1] [ 0.          0.         -0.01388889  0.04166667 -0.01388889 -0.06944444\n",
      "  0.06944444  0.01388889 -0.04166667  0.01388889]\n",
      "[3 0] [-2  0] [ 0.          0.          0.0625     -0.10416667  0.00694444  0.00694444\n",
      "  0.04861111 -0.00694444 -0.00694444 -0.00694444]\n",
      "[3 0] [-1 -1] [ 0.          0.         -0.04166667  0.09722222 -0.01388889 -0.09722222\n",
      "  0.04166667  0.01388889  0.01388889 -0.01388889]\n",
      "[3 0] [-1  1] [ 0.          0.         -0.04166667  0.09722222 -0.01388889 -0.09722222\n",
      "  0.04166667  0.01388889  0.01388889 -0.01388889]\n",
      "[3 0] [2 0] [ 0.          0.02083333 -0.04861111  0.00694444 -0.07638889  0.27083333\n",
      " -0.17361111 -0.00694444 -0.03472222  0.04166667]\n",
      "[3 0] [ 1 -1] [ 0.          0.02083333 -0.06944444  0.09722222 -0.09722222  0.08333333\n",
      " -0.04166667  0.01388889 -0.01388889  0.00694444]\n",
      "[3 0] [1 1] [ 0.          0.02083333 -0.06944444  0.09722222 -0.09722222  0.08333333\n",
      " -0.04166667  0.01388889 -0.01388889  0.00694444]\n",
      "[3 0] [ 0 -2] [ 0.          0.          0.02083333 -0.09027778  0.14583333 -0.10416667\n",
      "  0.03472222 -0.02083333  0.02083333 -0.00694444]\n",
      "[3 0] [0 2] [ 0.          0.          0.02083333 -0.09027778  0.14583333 -0.10416667\n",
      "  0.03472222 -0.02083333  0.02083333 -0.00694444]\n",
      "[3 0] [-3  0] [ 0.          0.          0.0625     -0.10416667  0.00694444  0.00694444\n",
      "  0.04861111 -0.00694444 -0.00694444 -0.00694444]\n",
      "[3 0] [-2 -1] [ 0.          0.         -0.04166667  0.09722222 -0.01388889 -0.09722222\n",
      "  0.04166667  0.01388889  0.01388889 -0.01388889]\n",
      "[3 0] [-2  1] [ 0.          0.         -0.04166667  0.09722222 -0.01388889 -0.09722222\n",
      "  0.04166667  0.01388889  0.01388889 -0.01388889]\n",
      "[3 0] [-1 -2] [ 0.          0.          0.00694444 -0.02083333  0.00694444  0.03472222\n",
      " -0.03472222 -0.00694444  0.02083333 -0.00694444]\n",
      "[3 0] [-1  2] [ 0.          0.          0.00694444 -0.02083333  0.00694444  0.03472222\n",
      " -0.03472222 -0.00694444  0.02083333 -0.00694444]\n",
      "[ 2 -1] [0 0] [ 0.         -0.1875      0.5        -0.33333333  0.         -0.125\n",
      "  0.16666667  0.          0.         -0.02083333]\n",
      "[ 2 -1] [-1  0] [ 0.          0.          0.04166667 -0.09722222  0.01388889  0.09722222\n",
      " -0.04166667 -0.01388889 -0.01388889  0.01388889]\n",
      "[ 2 -1] [1 0] [ 0.          0.         -0.05555556  0.05555556  0.          0.11111111\n",
      " -0.11111111  0.         -0.05555556  0.05555556]\n",
      "[ 2 -1] [ 0 -1] [ 0.          0.         -0.04861111  0.09027778 -0.02083333 -0.04861111\n",
      "  0.04861111  0.02083333 -0.09027778  0.04861111]\n",
      "[ 2 -1] [0 1] [ 0.          0.         -0.02777778  0.08333333 -0.02777778 -0.13888889\n",
      "  0.13888889  0.02777778 -0.08333333  0.02777778]\n",
      "[ 2 -1] [-2  0] [ 0.          0.          0.02083333 -0.00694444 -0.00694444 -0.09027778\n",
      "  0.09027778  0.00694444  0.00694444 -0.02083333]\n",
      "[ 2 -1] [-1 -1] [ 0.          0.02083333 -0.15277778  0.29166667 -0.125      -0.11111111\n",
      "  0.04166667  0.04166667  0.01388889 -0.02083333]\n",
      "[ 2 -1] [-1  1] [ 0.          0.          0.125      -0.29166667  0.29166667 -0.29166667\n",
      "  0.20833333 -0.04166667  0.04166667 -0.04166667]\n",
      "[ 2 -1] [2 0] [ 0.          0.04166667 -0.11805556  0.10416667 -0.17361111  0.35416667\n",
      " -0.21527778  0.00694444 -0.04861111  0.04861111]\n",
      "[ 2 -1] [ 1 -1] [ 0.          0.0625     -0.125      -0.06944444  0.04166667  0.41666667\n",
      " -0.31944444 -0.04166667 -0.04166667  0.07638889]\n",
      "[ 2 -1] [1 1] [ 0.          0.04166667 -0.18055556  0.29166667 -0.20833333  0.06944444\n",
      " -0.04166667  0.04166667 -0.01388889]\n",
      "[ 2 -1] [ 0 -2] [ 0.          0.02083333 -0.04861111  0.00694444  0.04861111 -0.02083333\n",
      " -0.00694444 -0.00694444  0.00694444]\n",
      "[ 2 -1] [0 2] [ 0.          0.         -0.02083333  0.00694444  0.13194444 -0.20138889\n",
      "  0.07638889 -0.00694444  0.03472222 -0.02083333]\n",
      "[ 2 -1] [-3  0] [ 0.          0.         -0.04166667  0.09722222 -0.01388889 -0.09722222\n",
      "  0.04166667  0.01388889  0.01388889 -0.01388889]\n",
      "[ 2 -1] [-2 -1] [ 0.          0.         -0.02777778  0.05555556  0.         -0.02777778\n",
      " -0.02777778  0.          0.05555556 -0.02777778]\n",
      "[ 2 -1] [-2  1] [ 0.          0.          0.20138889 -0.35416667  0.03472222  0.09027778\n",
      "  0.07638889 -0.03472222  0.02083333 -0.03472222]\n",
      "[ 2 -1] [-1 -2] [ 0.          0.          0.01388889 -0.04166667  0.01388889  0.06944444\n",
      " -0.06944444 -0.01388889  0.04166667 -0.01388889]\n",
      "[ 2 -1] [-1  2] [ 0.          0.         -0.08333333  0.19444444 -0.02777778 -0.19444444\n",
      "  0.08333333  0.02777778  0.02777778 -0.02777778]\n",
      "[ 2 -1] [2 1] [ 0.          0.          0.00694444 -0.02083333  0.00694444  0.03472222\n",
      " -0.03472222 -0.00694444  0.02083333 -0.00694444]\n",
      "[ 2 -1] [1 2] [ 0.          0.          0.01388889 -0.04166667  0.01388889  0.06944444\n",
      " -0.06944444 -0.01388889  0.04166667 -0.01388889]\n",
      "[ 2 -1] [0 3] [ 0.          0.          0.00694444 -0.02083333  0.00694444  0.03472222\n",
      " -0.03472222 -0.00694444  0.02083333 -0.00694444]\n",
      "[2 1] [0 0] [ 0.         -0.1875      0.5        -0.33333333  0.         -0.125\n",
      "  0.16666667  0.          0.         -0.02083333]\n",
      "[2 1] [-1  0] [ 0.          0.          0.04166667 -0.09722222  0.01388889  0.09722222\n",
      " -0.04166667 -0.01388889 -0.01388889  0.01388889]\n",
      "[2 1] [1 0] [ 0.          0.         -0.05555556  0.05555556  0.          0.11111111\n",
      " -0.11111111  0.         -0.05555556  0.05555556]\n",
      "[2 1] [ 0 -1] [ 0.          0.         -0.02777778  0.08333333 -0.02777778 -0.13888889\n",
      "  0.13888889  0.02777778 -0.08333333  0.02777778]\n",
      "[2 1] [0 1] [ 0.          0.         -0.04861111  0.09027778 -0.02083333 -0.04861111\n",
      "  0.04861111  0.02083333 -0.09027778  0.04861111]\n",
      "[2 1] [-2  0] [ 0.          0.          0.02083333 -0.00694444 -0.00694444 -0.09027778\n",
      "  0.09027778  0.00694444  0.00694444 -0.02083333]\n",
      "[2 1] [-1 -1] [ 0.          0.          0.125      -0.29166667  0.29166667 -0.29166667\n",
      "  0.20833333 -0.04166667  0.04166667 -0.04166667]\n",
      "[2 1] [-1  1] [ 0.          0.02083333 -0.15277778  0.29166667 -0.125      -0.11111111\n",
      "  0.04166667  0.04166667  0.01388889 -0.02083333]\n",
      "[2 1] [2 0] [ 0.          0.04166667 -0.11805556  0.10416667 -0.17361111  0.35416667\n",
      " -0.21527778  0.00694444 -0.04861111  0.04861111]\n",
      "[2 1] [ 1 -1] [ 0.          0.04166667 -0.18055556  0.29166667 -0.20833333  0.06944444\n",
      " -0.04166667  0.04166667 -0.01388889]\n",
      "[2 1] [1 1] [ 0.          0.0625     -0.125      -0.06944444  0.04166667  0.41666667\n",
      " -0.31944444 -0.04166667 -0.04166667  0.07638889]\n",
      "[2 1] [ 0 -2] [ 0.          0.         -0.02083333  0.00694444  0.13194444 -0.20138889\n",
      "  0.07638889 -0.00694444  0.03472222 -0.02083333]\n",
      "[2 1] [0 2] [ 0.          0.02083333 -0.04861111  0.00694444  0.04861111 -0.02083333\n",
      " -0.00694444 -0.00694444  0.00694444]\n",
      "[2 1] [-3  0] [ 0.          0.         -0.04166667  0.09722222 -0.01388889 -0.09722222\n",
      "  0.04166667  0.01388889  0.01388889 -0.01388889]\n",
      "[2 1] [-2 -1] [ 0.          0.          0.20138889 -0.35416667  0.03472222  0.09027778\n",
      "  0.07638889 -0.03472222  0.02083333 -0.03472222]\n",
      "[2 1] [-2  1] [ 0.          0.         -0.02777778  0.05555556  0.         -0.02777778\n",
      " -0.02777778  0.          0.05555556 -0.02777778]\n",
      "[2 1] [-1 -2] [ 0.          0.         -0.08333333  0.19444444 -0.02777778 -0.19444444\n",
      "  0.08333333  0.02777778  0.02777778 -0.02777778]\n",
      "[2 1] [-1  2] [ 0.          0.          0.01388889 -0.04166667  0.01388889  0.06944444\n",
      " -0.06944444 -0.01388889  0.04166667 -0.01388889]\n",
      "[2 1] [ 2 -1] [ 0.          0.          0.00694444 -0.02083333  0.00694444  0.03472222\n",
      " -0.03472222 -0.00694444  0.02083333 -0.00694444]\n",
      "[2 1] [ 1 -2] [ 0.          0.          0.01388889 -0.04166667  0.01388889  0.06944444\n",
      " -0.06944444 -0.01388889  0.04166667 -0.01388889]\n",
      "[2 1] [ 0 -3] [ 0.          0.          0.00694444 -0.02083333  0.00694444  0.03472222\n",
      " -0.03472222 -0.00694444  0.02083333 -0.00694444]\n",
      "[ 1 -2] [0 0] [ 0.         -0.1875      0.5        -0.33333333  0.         -0.125\n",
      "  0.16666667  0.          0.         -0.02083333]\n",
      "[ 1 -2] [-1  0] [ 0.          0.         -0.02777778  0.08333333 -0.02777778 -0.13888889\n",
      "  0.13888889  0.02777778 -0.08333333  0.02777778]\n",
      "[ 1 -2] [1 0] [ 0.          0.         -0.04861111  0.09027778 -0.02083333 -0.04861111\n",
      "  0.04861111  0.02083333 -0.09027778  0.04861111]\n",
      "[ 1 -2] [ 0 -1] [ 0.          0.         -0.05555556  0.05555556  0.          0.11111111\n",
      " -0.11111111  0.         -0.05555556  0.05555556]\n",
      "[ 1 -2] [0 1] [ 0.          0.          0.04166667 -0.09722222  0.01388889  0.09722222\n",
      " -0.04166667 -0.01388889 -0.01388889  0.01388889]\n",
      "[ 1 -2] [-2  0] [ 0.          0.         -0.02083333  0.00694444  0.13194444 -0.20138889\n",
      "  0.07638889 -0.00694444  0.03472222 -0.02083333]\n",
      "[ 1 -2] [-1 -1] [ 0.          0.04166667 -0.18055556  0.29166667 -0.20833333  0.06944444\n",
      " -0.04166667  0.04166667 -0.01388889]\n",
      "[ 1 -2] [-1  1] [ 0.          0.          0.125      -0.29166667  0.29166667 -0.29166667\n",
      "  0.20833333 -0.04166667  0.04166667 -0.04166667]\n",
      "[ 1 -2] [2 0] [ 0.          0.02083333 -0.04861111  0.00694444  0.04861111 -0.02083333\n",
      " -0.00694444 -0.00694444  0.00694444]\n",
      "[ 1 -2] [ 1 -1] [ 0.          0.0625     -0.125      -0.06944444  0.04166667  0.41666667\n",
      " -0.31944444 -0.04166667 -0.04166667  0.07638889]\n",
      "[ 1 -2] [1 1] [ 0.          0.02083333 -0.15277778  0.29166667 -0.125      -0.11111111\n",
      "  0.04166667  0.04166667  0.01388889 -0.02083333]\n",
      "[ 1 -2] [ 0 -2] [ 0.          0.04166667 -0.11805556  0.10416667 -0.17361111  0.35416667\n",
      " -0.21527778  0.00694444 -0.04861111  0.04861111]\n",
      "[ 1 -2] [0 2] [ 0.          0.          0.02083333 -0.00694444 -0.00694444 -0.09027778\n",
      "  0.09027778  0.00694444  0.00694444 -0.02083333]\n",
      "[ 1 -2] [-3  0] [ 0.          0.          0.00694444 -0.02083333  0.00694444  0.03472222\n",
      " -0.03472222 -0.00694444  0.02083333 -0.00694444]\n",
      "[ 1 -2] [-2 -1] [ 0.          0.          0.01388889 -0.04166667  0.01388889  0.06944444\n",
      " -0.06944444 -0.01388889  0.04166667 -0.01388889]\n",
      "[ 1 -2] [-2  1] [ 0.          0.         -0.08333333  0.19444444 -0.02777778 -0.19444444\n",
      "  0.08333333  0.02777778  0.02777778 -0.02777778]\n",
      "[ 1 -2] [-1 -2] [ 0.          0.          0.00694444 -0.02083333  0.00694444  0.03472222\n",
      " -0.03472222 -0.00694444  0.02083333 -0.00694444]\n",
      "[ 1 -2] [-1  2] [ 0.          0.          0.20138889 -0.35416667  0.03472222  0.09027778\n",
      "  0.07638889 -0.03472222  0.02083333 -0.03472222]\n",
      "[ 1 -2] [2 1] [ 0.          0.          0.01388889 -0.04166667  0.01388889  0.06944444\n",
      " -0.06944444 -0.01388889  0.04166667 -0.01388889]\n",
      "[ 1 -2] [1 2] [ 0.          0.         -0.02777778  0.05555556  0.         -0.02777778\n",
      " -0.02777778  0.          0.05555556 -0.02777778]\n",
      "[ 1 -2] [0 3] [ 0.          0.         -0.04166667  0.09722222 -0.01388889 -0.09722222\n",
      "  0.04166667  0.01388889  0.01388889 -0.01388889]\n",
      "[1 2] [0 0] [ 0.         -0.1875      0.5        -0.33333333  0.         -0.125\n",
      "  0.16666667  0.          0.         -0.02083333]\n",
      "[1 2] [-1  0] [ 0.          0.         -0.02777778  0.08333333 -0.02777778 -0.13888889\n",
      "  0.13888889  0.02777778 -0.08333333  0.02777778]\n",
      "[1 2] [1 0] [ 0.          0.         -0.04861111  0.09027778 -0.02083333 -0.04861111\n",
      "  0.04861111  0.02083333 -0.09027778  0.04861111]\n",
      "[1 2] [ 0 -1] [ 0.          0.          0.04166667 -0.09722222  0.01388889  0.09722222\n",
      " -0.04166667 -0.01388889 -0.01388889  0.01388889]\n",
      "[1 2] [0 1] [ 0.          0.         -0.05555556  0.05555556  0.          0.11111111\n",
      " -0.11111111  0.         -0.05555556  0.05555556]\n",
      "[1 2] [-2  0] [ 0.          0.         -0.02083333  0.00694444  0.13194444 -0.20138889\n",
      "  0.07638889 -0.00694444  0.03472222 -0.02083333]\n",
      "[1 2] [-1 -1] [ 0.          0.          0.125      -0.29166667  0.29166667 -0.29166667\n",
      "  0.20833333 -0.04166667  0.04166667 -0.04166667]\n",
      "[1 2] [-1  1] [ 0.          0.04166667 -0.18055556  0.29166667 -0.20833333  0.06944444\n",
      " -0.04166667  0.04166667 -0.01388889]\n",
      "[1 2] [2 0] [ 0.          0.02083333 -0.04861111  0.00694444  0.04861111 -0.02083333\n",
      " -0.00694444 -0.00694444  0.00694444]\n",
      "[1 2] [ 1 -1] [ 0.          0.02083333 -0.15277778  0.29166667 -0.125      -0.11111111\n",
      "  0.04166667  0.04166667  0.01388889 -0.02083333]\n",
      "[1 2] [1 1] [ 0.          0.0625     -0.125      -0.06944444  0.04166667  0.41666667\n",
      " -0.31944444 -0.04166667 -0.04166667  0.07638889]\n",
      "[1 2] [ 0 -2] [ 0.          0.          0.02083333 -0.00694444 -0.00694444 -0.09027778\n",
      "  0.09027778  0.00694444  0.00694444 -0.02083333]\n",
      "[1 2] [0 2] [ 0.          0.04166667 -0.11805556  0.10416667 -0.17361111  0.35416667\n",
      " -0.21527778  0.00694444 -0.04861111  0.04861111]\n",
      "[1 2] [-3  0] [ 0.          0.          0.00694444 -0.02083333  0.00694444  0.03472222\n",
      " -0.03472222 -0.00694444  0.02083333 -0.00694444]\n",
      "[1 2] [-2 -1] [ 0.          0.         -0.08333333  0.19444444 -0.02777778 -0.19444444\n",
      "  0.08333333  0.02777778  0.02777778 -0.02777778]\n",
      "[1 2] [-2  1] [ 0.          0.          0.01388889 -0.04166667  0.01388889  0.06944444\n",
      " -0.06944444 -0.01388889  0.04166667 -0.01388889]\n",
      "[1 2] [-1 -2] [ 0.          0.          0.20138889 -0.35416667  0.03472222  0.09027778\n",
      "  0.07638889 -0.03472222  0.02083333 -0.03472222]\n",
      "[1 2] [-1  2] [ 0.          0.          0.00694444 -0.02083333  0.00694444  0.03472222\n",
      " -0.03472222 -0.00694444  0.02083333 -0.00694444]\n",
      "[1 2] [ 2 -1] [ 0.          0.          0.01388889 -0.04166667  0.01388889  0.06944444\n",
      " -0.06944444 -0.01388889  0.04166667 -0.01388889]\n",
      "[1 2] [ 1 -2] [ 0.          0.         -0.02777778  0.05555556  0.         -0.02777778\n",
      " -0.02777778  0.          0.05555556 -0.02777778]\n",
      "[1 2] [ 0 -3] [ 0.          0.         -0.04166667  0.09722222 -0.01388889 -0.09722222\n",
      "  0.04166667  0.01388889  0.01388889 -0.01388889]\n",
      "[ 0 -3] [0 0] [ 0.         -0.0625      0.16666667 -0.11111111  0.         -0.04166667\n",
      "  0.05555556  0.          0.         -0.00694444]\n",
      "[ 0 -3] [-1  0] [ 0.          0.         -0.01388889  0.04166667 -0.01388889 -0.06944444\n",
      "  0.06944444  0.01388889 -0.04166667  0.01388889]\n",
      "[ 0 -3] [1 0] [ 0.          0.         -0.01388889  0.04166667 -0.01388889 -0.06944444\n",
      "  0.06944444  0.01388889 -0.04166667  0.01388889]\n",
      "[ 0 -3] [ 0 -1] [ 0.          0.         -0.02083333  0.00694444  0.00694444  0.09027778\n",
      " -0.09027778 -0.00694444 -0.00694444  0.02083333]\n",
      "[ 0 -3] [0 1] [ 0.          0.          0.05555556 -0.13888889  0.02777778  0.16666667\n",
      " -0.11111111 -0.02777778  0.02777778]\n",
      "[ 0 -3] [-2  0] [ 0.          0.          0.02083333 -0.09027778  0.14583333 -0.10416667\n",
      "  0.03472222 -0.02083333  0.02083333 -0.00694444]\n",
      "[ 0 -3] [-1 -1] [ 0.          0.02083333 -0.06944444  0.09722222 -0.09722222  0.08333333\n",
      " -0.04166667  0.01388889 -0.01388889  0.00694444]\n",
      "[ 0 -3] [-1  1] [ 0.          0.         -0.04166667  0.09722222 -0.01388889 -0.09722222\n",
      "  0.04166667  0.01388889  0.01388889 -0.01388889]\n",
      "[ 0 -3] [2 0] [ 0.          0.          0.02083333 -0.09027778  0.14583333 -0.10416667\n",
      "  0.03472222 -0.02083333  0.02083333 -0.00694444]\n",
      "[ 0 -3] [ 1 -1] [ 0.          0.02083333 -0.06944444  0.09722222 -0.09722222  0.08333333\n",
      " -0.04166667  0.01388889 -0.01388889  0.00694444]\n",
      "[ 0 -3] [1 1] [ 0.          0.         -0.04166667  0.09722222 -0.01388889 -0.09722222\n",
      "  0.04166667  0.01388889  0.01388889 -0.01388889]\n",
      "[ 0 -3] [ 0 -2] [ 0.          0.02083333 -0.04861111  0.00694444 -0.07638889  0.27083333\n",
      " -0.17361111 -0.00694444 -0.03472222  0.04166667]\n",
      "[ 0 -3] [0 2] [ 0.          0.          0.0625     -0.10416667  0.00694444  0.00694444\n",
      "  0.04861111 -0.00694444 -0.00694444 -0.00694444]\n",
      "[ 0 -3] [-2  1] [ 0.          0.          0.00694444 -0.02083333  0.00694444  0.03472222\n",
      " -0.03472222 -0.00694444  0.02083333 -0.00694444]\n",
      "[ 0 -3] [-1  2] [ 0.          0.         -0.04166667  0.09722222 -0.01388889 -0.09722222\n",
      "  0.04166667  0.01388889  0.01388889 -0.01388889]\n",
      "[ 0 -3] [2 1] [ 0.          0.          0.00694444 -0.02083333  0.00694444  0.03472222\n",
      " -0.03472222 -0.00694444  0.02083333 -0.00694444]\n",
      "[ 0 -3] [1 2] [ 0.          0.         -0.04166667  0.09722222 -0.01388889 -0.09722222\n",
      "  0.04166667  0.01388889  0.01388889 -0.01388889]\n",
      "[ 0 -3] [0 3] [ 0.          0.          0.0625     -0.10416667  0.00694444  0.00694444\n",
      "  0.04861111 -0.00694444 -0.00694444 -0.00694444]\n",
      "[0 3] [0 0] [ 0.         -0.0625      0.16666667 -0.11111111  0.         -0.04166667\n",
      "  0.05555556  0.          0.         -0.00694444]\n",
      "[0 3] [-1  0] [ 0.          0.         -0.01388889  0.04166667 -0.01388889 -0.06944444\n",
      "  0.06944444  0.01388889 -0.04166667  0.01388889]\n",
      "[0 3] [1 0] [ 0.          0.         -0.01388889  0.04166667 -0.01388889 -0.06944444\n",
      "  0.06944444  0.01388889 -0.04166667  0.01388889]\n",
      "[0 3] [ 0 -1] [ 0.          0.          0.05555556 -0.13888889  0.02777778  0.16666667\n",
      " -0.11111111 -0.02777778  0.02777778]\n",
      "[0 3] [0 1] [ 0.          0.         -0.02083333  0.00694444  0.00694444  0.09027778\n",
      " -0.09027778 -0.00694444 -0.00694444  0.02083333]\n",
      "[0 3] [-2  0] [ 0.          0.          0.02083333 -0.09027778  0.14583333 -0.10416667\n",
      "  0.03472222 -0.02083333  0.02083333 -0.00694444]\n",
      "[0 3] [-1 -1] [ 0.          0.         -0.04166667  0.09722222 -0.01388889 -0.09722222\n",
      "  0.04166667  0.01388889  0.01388889 -0.01388889]\n",
      "[0 3] [-1  1] [ 0.          0.02083333 -0.06944444  0.09722222 -0.09722222  0.08333333\n",
      " -0.04166667  0.01388889 -0.01388889  0.00694444]\n",
      "[0 3] [2 0] [ 0.          0.          0.02083333 -0.09027778  0.14583333 -0.10416667\n",
      "  0.03472222 -0.02083333  0.02083333 -0.00694444]\n",
      "[0 3] [ 1 -1] [ 0.          0.         -0.04166667  0.09722222 -0.01388889 -0.09722222\n",
      "  0.04166667  0.01388889  0.01388889 -0.01388889]\n",
      "[0 3] [1 1] [ 0.          0.02083333 -0.06944444  0.09722222 -0.09722222  0.08333333\n",
      " -0.04166667  0.01388889 -0.01388889  0.00694444]\n",
      "[0 3] [ 0 -2] [ 0.          0.          0.0625     -0.10416667  0.00694444  0.00694444\n",
      "  0.04861111 -0.00694444 -0.00694444 -0.00694444]\n",
      "[0 3] [0 2] [ 0.          0.02083333 -0.04861111  0.00694444 -0.07638889  0.27083333\n",
      " -0.17361111 -0.00694444 -0.03472222  0.04166667]\n",
      "[0 3] [-2 -1] [ 0.          0.          0.00694444 -0.02083333  0.00694444  0.03472222\n",
      " -0.03472222 -0.00694444  0.02083333 -0.00694444]\n",
      "[0 3] [-1 -2] [ 0.          0.         -0.04166667  0.09722222 -0.01388889 -0.09722222\n",
      "  0.04166667  0.01388889  0.01388889 -0.01388889]\n",
      "[0 3] [ 2 -1] [ 0.          0.          0.00694444 -0.02083333  0.00694444  0.03472222\n",
      " -0.03472222 -0.00694444  0.02083333 -0.00694444]\n",
      "[0 3] [ 1 -2] [ 0.          0.         -0.04166667  0.09722222 -0.01388889 -0.09722222\n",
      "  0.04166667  0.01388889  0.01388889 -0.01388889]\n",
      "[0 3] [ 0 -3] [ 0.          0.          0.0625     -0.10416667  0.00694444  0.00694444\n",
      "  0.04861111 -0.00694444 -0.00694444 -0.00694444]\n"
     ]
    }
   ],
   "source": [
    "printbasisbasis(symmWGGbar-symmWGGbar_far)"
   ]
  },
  {
   "cell_type": "code",
   "execution_count": 48,
   "metadata": {},
   "outputs": [
    {
     "name": "stdout",
     "output_type": "stream",
     "text": [
      "dim 1\n",
      "[-1  0] [ 0.  1. -1.]\n",
      "[1 0] [ 0. -1.  1.]\n",
      "dim 2\n",
      "[ 0 -1] [ 0.  1. -1.]\n",
      "[0 1] [ 0. -1.  1.]\n"
     ]
    }
   ],
   "source": [
    "printvecbasis(symmbiasvecbar)"
   ]
  },
  {
   "cell_type": "code",
   "execution_count": 49,
   "metadata": {},
   "outputs": [
    {
     "name": "stdout",
     "output_type": "stream",
     "text": [
      "dim 1\n",
      "[-1  0] [ 0.          0.         -0.33333333  0.          0.          0.33333333]\n",
      "[1 0] [ 0.          0.          0.33333333  0.          0.         -0.33333333]\n",
      "[-2  0] [ 0.          0.33333333 -0.33333333  0.         -0.33333333  0.33333333]\n",
      "[-1 -1] [ 0.          0.33333333 -0.33333333  0.         -0.33333333  0.33333333]\n",
      "[-1  1] [ 0.          0.33333333 -0.33333333  0.         -0.33333333  0.33333333]\n",
      "[2 0] [ 0.         -0.33333333  0.33333333  0.          0.33333333 -0.33333333]\n",
      "[ 1 -1] [ 0.         -0.33333333  0.33333333  0.          0.33333333 -0.33333333]\n",
      "[1 1] [ 0.         -0.33333333  0.33333333  0.          0.33333333 -0.33333333]\n",
      "dim 2\n",
      "[ 0 -1] [ 0.          0.         -0.33333333  0.          0.          0.33333333]\n",
      "[0 1] [ 0.          0.          0.33333333  0.          0.         -0.33333333]\n",
      "[-1 -1] [ 0.          0.33333333 -0.33333333  0.         -0.33333333  0.33333333]\n",
      "[-1  1] [ 0.         -0.33333333  0.33333333  0.          0.33333333 -0.33333333]\n",
      "[ 1 -1] [ 0.          0.33333333 -0.33333333  0.         -0.33333333  0.33333333]\n",
      "[1 1] [ 0.         -0.33333333  0.33333333  0.          0.33333333 -0.33333333]\n",
      "[ 0 -2] [ 0.          0.33333333 -0.33333333  0.         -0.33333333  0.33333333]\n",
      "[0 2] [ 0.         -0.33333333  0.33333333  0.          0.33333333 -0.33333333]\n"
     ]
    }
   ],
   "source": [
    "printvecbasis(symmbiasGvecbar)"
   ]
  },
  {
   "cell_type": "code",
   "execution_count": 50,
   "metadata": {},
   "outputs": [
    {
     "name": "stdout",
     "output_type": "stream",
     "text": [
      "dim 1\n",
      "[-1  0] [ 0.          0.25        0.66666667  0.         -0.25       -0.58333333\n",
      "  0.          0.         -0.08333333]\n",
      "[1 0] [ 0.         -0.25       -0.66666667  0.          0.25        0.58333333\n",
      "  0.          0.          0.08333333]\n",
      "[-2  0] [ 0.         -0.66666667  0.55555556  0.          0.66666667 -0.44444444\n",
      "  0.          0.         -0.11111111]\n",
      "[-1 -1] [ 0.         -0.66666667  0.55555556  0.          0.66666667 -0.44444444\n",
      "  0.          0.         -0.11111111]\n",
      "[-1  1] [ 0.         -0.66666667  0.55555556  0.          0.66666667 -0.44444444\n",
      "  0.          0.         -0.11111111]\n",
      "[2 0] [ 0.          0.66666667 -0.55555556  0.         -0.66666667  0.44444444\n",
      "  0.          0.          0.11111111]\n",
      "[ 1 -1] [ 0.          0.66666667 -0.55555556  0.         -0.66666667  0.44444444\n",
      "  0.          0.          0.11111111]\n",
      "[1 1] [ 0.          0.66666667 -0.55555556  0.         -0.66666667  0.44444444\n",
      "  0.          0.          0.11111111]\n",
      "[-3  0] [ 0.          0.08333333 -0.11111111  0.         -0.08333333  0.13888889\n",
      "  0.          0.         -0.02777778]\n",
      "[-2 -1] [ 0.          0.16666667 -0.22222222  0.         -0.16666667  0.27777778\n",
      "  0.          0.         -0.05555556]\n",
      "[-2  1] [ 0.          0.16666667 -0.22222222  0.         -0.16666667  0.27777778\n",
      "  0.          0.         -0.05555556]\n",
      "[-1 -2] [ 0.          0.08333333 -0.11111111  0.         -0.08333333  0.13888889\n",
      "  0.          0.         -0.02777778]\n",
      "[-1  2] [ 0.          0.08333333 -0.11111111  0.         -0.08333333  0.13888889\n",
      "  0.          0.         -0.02777778]\n",
      "[3 0] [ 0.         -0.08333333  0.11111111  0.          0.08333333 -0.13888889\n",
      "  0.          0.          0.02777778]\n",
      "[ 2 -1] [ 0.         -0.16666667  0.22222222  0.          0.16666667 -0.27777778\n",
      "  0.          0.          0.05555556]\n",
      "[2 1] [ 0.         -0.16666667  0.22222222  0.          0.16666667 -0.27777778\n",
      "  0.          0.          0.05555556]\n",
      "[ 1 -2] [ 0.         -0.08333333  0.11111111  0.          0.08333333 -0.13888889\n",
      "  0.          0.          0.02777778]\n",
      "[1 2] [ 0.         -0.08333333  0.11111111  0.          0.08333333 -0.13888889\n",
      "  0.          0.          0.02777778]\n",
      "dim 2\n",
      "[ 0 -1] [ 0.          0.25        0.66666667  0.         -0.25       -0.58333333\n",
      "  0.          0.         -0.08333333]\n",
      "[0 1] [ 0.         -0.25       -0.66666667  0.          0.25        0.58333333\n",
      "  0.          0.          0.08333333]\n",
      "[-1 -1] [ 0.         -0.66666667  0.55555556  0.          0.66666667 -0.44444444\n",
      "  0.          0.         -0.11111111]\n",
      "[-1  1] [ 0.          0.66666667 -0.55555556  0.         -0.66666667  0.44444444\n",
      "  0.          0.          0.11111111]\n",
      "[ 1 -1] [ 0.         -0.66666667  0.55555556  0.          0.66666667 -0.44444444\n",
      "  0.          0.         -0.11111111]\n",
      "[1 1] [ 0.          0.66666667 -0.55555556  0.         -0.66666667  0.44444444\n",
      "  0.          0.          0.11111111]\n",
      "[ 0 -2] [ 0.         -0.66666667  0.55555556  0.          0.66666667 -0.44444444\n",
      "  0.          0.         -0.11111111]\n",
      "[0 2] [ 0.          0.66666667 -0.55555556  0.         -0.66666667  0.44444444\n",
      "  0.          0.          0.11111111]\n",
      "[-2 -1] [ 0.          0.08333333 -0.11111111  0.         -0.08333333  0.13888889\n",
      "  0.          0.         -0.02777778]\n",
      "[-2  1] [ 0.         -0.08333333  0.11111111  0.          0.08333333 -0.13888889\n",
      "  0.          0.          0.02777778]\n",
      "[-1 -2] [ 0.          0.16666667 -0.22222222  0.         -0.16666667  0.27777778\n",
      "  0.          0.         -0.05555556]\n",
      "[-1  2] [ 0.         -0.16666667  0.22222222  0.          0.16666667 -0.27777778\n",
      "  0.          0.          0.05555556]\n",
      "[ 2 -1] [ 0.          0.08333333 -0.11111111  0.         -0.08333333  0.13888889\n",
      "  0.          0.         -0.02777778]\n",
      "[2 1] [ 0.         -0.08333333  0.11111111  0.          0.08333333 -0.13888889\n",
      "  0.          0.          0.02777778]\n",
      "[ 1 -2] [ 0.          0.16666667 -0.22222222  0.         -0.16666667  0.27777778\n",
      "  0.          0.         -0.05555556]\n",
      "[1 2] [ 0.         -0.16666667  0.22222222  0.          0.16666667 -0.27777778\n",
      "  0.          0.          0.05555556]\n",
      "[ 0 -3] [ 0.          0.08333333 -0.11111111  0.         -0.08333333  0.13888889\n",
      "  0.          0.         -0.02777778]\n",
      "[0 3] [ 0.         -0.08333333  0.11111111  0.          0.08333333 -0.13888889\n",
      "  0.          0.          0.02777778]\n"
     ]
    }
   ],
   "source": [
    "printvecbasis(symmbiasGGvecbar)"
   ]
  },
  {
   "cell_type": "markdown",
   "metadata": {},
   "source": [
    "### Write out to HDF5 file\n",
    "We now store the output in an HDF5 file for later use and analysis."
   ]
  },
  {
   "cell_type": "code",
   "execution_count": 62,
   "metadata": {},
   "outputs": [],
   "source": [
    "import h5py\n",
    "rewriteFile = False\n",
    "printFile = False"
   ]
  },
  {
   "cell_type": "code",
   "execution_count": 63,
   "metadata": {},
   "outputs": [],
   "source": [
    "if rewriteFile:\n",
    "    with h5py.File('Neighbor-averaging.hdf5', 'w') as f:\n",
    "        f['dxlist'] = np.array(dxlist)\n",
    "        f['sites'] = np.array(sites)\n",
    "        f['jumplist'] = np.array(jumplist)\n",
    "        f['basisfunc'] = np.array(basisfunc)\n",
    "        f['symmWbar'] = symmWbar\n",
    "        f['symmWGbar'] = symmWGbar\n",
    "        f['symmWGGbar'] = symmWGGbar\n",
    "        f['symmWbar_far'] = symmWbar_far\n",
    "        f['symmWGbar_far'] = symmWGbar_far\n",
    "        f['symmWGGbar_far'] = symmWGGbar_far\n",
    "        f['symmresbias'] = symmresbiasave\n",
    "        f['symmresbiasGave'] = symmresbiasGave\n",
    "        f['symmbiasvecbar'] = symmbiasvecbar\n",
    "        f['symmbiasGvecbar'] = symmbiasGvecbar\n",
    "        f['symmbiasGGvecbar'] = symmbiasGGvecbar"
   ]
  },
  {
   "cell_type": "code",
   "execution_count": 64,
   "metadata": {},
   "outputs": [],
   "source": [
    "if printFile:\n",
    "    with h5py.File('Neighbor-averaging.hdf5', 'r') as f:\n",
    "        for k, c in f.items():\n",
    "            print(k)\n",
    "            print(c.value)"
   ]
  },
  {
   "cell_type": "markdown",
   "metadata": {},
   "source": [
    "### Mapping onto vectorStars\n",
    "We create the simplified symmetry basis functions using vectorStars, to folddown the full representation, and compute proper inverses. We also make our own Monkhorst-Pack mesh that is shifted off of the origin, and symmetrized, for simplicity."
   ]
  },
  {
   "cell_type": "code",
   "execution_count": 65,
   "metadata": {},
   "outputs": [],
   "source": [
    "def mpmesh(Ndiv, pre=np.pi):\n",
    "    \"\"\"\n",
    "    Generates a MP mesh for a square lattice.\n",
    "    \n",
    "    :param Ndiv: number of divisions\n",
    "    :param pre: prefactor for edge of Brilloiun zone (pi/a_0)\n",
    "    \n",
    "    :returns k[Nk,2]: k-points\n",
    "    :returns w[Nk]: weight\n",
    "    \"\"\"\n",
    "    prescale = pre/Ndiv\n",
    "    wscale = 1./(Ndiv*Ndiv)\n",
    "    Nk = (Ndiv*(Ndiv+1))//2\n",
    "    kpt, w = np.zeros((Nk,2)), np.zeros(Nk)\n",
    "    i = 0\n",
    "    for n in range(Ndiv):\n",
    "        for m in range(n+1):\n",
    "            kpt[i,0] = prescale*(n+0.5)\n",
    "            kpt[i,1] = prescale*(m+0.5)\n",
    "            if n==m:\n",
    "                w[i] = wscale\n",
    "            else:\n",
    "                w[i] = 2*wscale\n",
    "            i += 1\n",
    "    return kpt, w"
   ]
  },
  {
   "cell_type": "code",
   "execution_count": 68,
   "metadata": {},
   "outputs": [],
   "source": [
    "square = crystal.Crystal(np.eye(2), [np.zeros(2)])\n",
    "chem = 0\n",
    "sitelist = square.sitelist(chem)\n",
    "jumpnetwork = square.jumpnetwork(chem, 1.01) # [[((0,0), dx) for dx in dxlist]]"
   ]
  },
  {
   "cell_type": "code",
   "execution_count": 69,
   "metadata": {},
   "outputs": [
    {
     "name": "stdout",
     "output_type": "stream",
     "text": [
      "Nshells: 3  Nstates: 24  Nstars: 5\n",
      "Star 0 (4)\n",
      "  0: 0.[0,0]:0.[-1,0] (dx=[-1.0,-0.0])\n",
      "  1: 0.[0,0]:0.[0,1] (dx=[-0.0,1.0])\n",
      "  2: 0.[0,0]:0.[0,-1] (dx=[0.0,-1.0])\n",
      "  3: 0.[0,0]:0.[1,0] (dx=[1.0,0.0])\n",
      "Star 1 (4)\n",
      "  4: 0.[0,0]:0.[1,-1] (dx=[1.0,-1.0])\n",
      "  5: 0.[0,0]:0.[1,1] (dx=[1.0,1.0])\n",
      "  6: 0.[0,0]:0.[-1,-1] (dx=[-1.0,-1.0])\n",
      "  7: 0.[0,0]:0.[-1,1] (dx=[-1.0,1.0])\n",
      "Star 2 (4)\n",
      "  8: 0.[0,0]:0.[-2,0] (dx=[-2.0,-0.0])\n",
      "  9: 0.[0,0]:0.[0,2] (dx=[-0.0,2.0])\n",
      "  10: 0.[0,0]:0.[0,-2] (dx=[0.0,-2.0])\n",
      "  11: 0.[0,0]:0.[2,0] (dx=[2.0,0.0])\n",
      "Star 3 (8)\n",
      "  12: 0.[0,0]:0.[1,-2] (dx=[1.0,-2.0])\n",
      "  13: 0.[0,0]:0.[1,2] (dx=[1.0,2.0])\n",
      "  14: 0.[0,0]:0.[-2,-1] (dx=[-2.0,-1.0])\n",
      "  15: 0.[0,0]:0.[-1,-2] (dx=[-1.0,-2.0])\n",
      "  16: 0.[0,0]:0.[2,1] (dx=[2.0,1.0])\n",
      "  17: 0.[0,0]:0.[2,-1] (dx=[2.0,-1.0])\n",
      "  18: 0.[0,0]:0.[-1,2] (dx=[-1.0,2.0])\n",
      "  19: 0.[0,0]:0.[-2,1] (dx=[-2.0,1.0])\n",
      "Star 4 (4)\n",
      "  20: 0.[0,0]:0.[-3,0] (dx=[-3.0,-0.0])\n",
      "  21: 0.[0,0]:0.[3,0] (dx=[3.0,0.0])\n",
      "  22: 0.[0,0]:0.[0,3] (dx=[-0.0,3.0])\n",
      "  23: 0.[0,0]:0.[0,-3] (dx=[0.0,-3.0])\n",
      "\n"
     ]
    }
   ],
   "source": [
    "starset = stars.StarSet(jumpnetwork, square, chem, 3)\n",
    "vecstarset = stars.VectorStarSet(starset)\n",
    "if __TESTING__: \n",
    "    print(starset)"
   ]
  },
  {
   "cell_type": "code",
   "execution_count": 70,
   "metadata": {},
   "outputs": [
    {
     "name": "stdout",
     "output_type": "stream",
     "text": [
      "\n",
      "0.[0,0]:0.[-1,0] (dx=[-1.0,-0.0]) [-0.5 -0. ]\n",
      "0.[0,0]:0.[0,1] (dx=[-0.0,1.0]) [-0.   0.5]\n",
      "0.[0,0]:0.[0,-1] (dx=[0.0,-1.0]) [ 0.  -0.5]\n",
      "0.[0,0]:0.[1,0] (dx=[1.0,0.0]) [0.5 0. ]\n",
      "\n",
      "0.[0,0]:0.[1,-1] (dx=[1.0,-1.0]) [ 0.35355339 -0.35355339]\n",
      "0.[0,0]:0.[1,1] (dx=[1.0,1.0]) [0.35355339 0.35355339]\n",
      "0.[0,0]:0.[-1,-1] (dx=[-1.0,-1.0]) [-0.35355339 -0.35355339]\n",
      "0.[0,0]:0.[-1,1] (dx=[-1.0,1.0]) [-0.35355339  0.35355339]\n",
      "\n",
      "0.[0,0]:0.[-2,0] (dx=[-2.0,-0.0]) [-0.5 -0. ]\n",
      "0.[0,0]:0.[0,2] (dx=[-0.0,2.0]) [-0.   0.5]\n",
      "0.[0,0]:0.[0,-2] (dx=[0.0,-2.0]) [ 0.  -0.5]\n",
      "0.[0,0]:0.[2,0] (dx=[2.0,0.0]) [0.5 0. ]\n",
      "\n",
      "0.[0,0]:0.[1,-2] (dx=[1.0,-2.0]) [ 0.15811388 -0.31622777]\n",
      "0.[0,0]:0.[1,2] (dx=[1.0,2.0]) [0.15811388 0.31622777]\n",
      "0.[0,0]:0.[-2,-1] (dx=[-2.0,-1.0]) [-0.31622777 -0.15811388]\n",
      "0.[0,0]:0.[-1,-2] (dx=[-1.0,-2.0]) [-0.15811388 -0.31622777]\n",
      "0.[0,0]:0.[2,1] (dx=[2.0,1.0]) [0.31622777 0.15811388]\n",
      "0.[0,0]:0.[2,-1] (dx=[2.0,-1.0]) [ 0.31622777 -0.15811388]\n",
      "0.[0,0]:0.[-1,2] (dx=[-1.0,2.0]) [-0.15811388  0.31622777]\n",
      "0.[0,0]:0.[-2,1] (dx=[-2.0,1.0]) [-0.31622777  0.15811388]\n",
      "\n",
      "0.[0,0]:0.[1,-2] (dx=[1.0,-2.0]) [-0.31622777 -0.15811388]\n",
      "0.[0,0]:0.[1,2] (dx=[1.0,2.0]) [-0.31622777  0.15811388]\n",
      "0.[0,0]:0.[-2,-1] (dx=[-2.0,-1.0]) [-0.15811388  0.31622777]\n",
      "0.[0,0]:0.[-1,-2] (dx=[-1.0,-2.0]) [ 0.31622777 -0.15811388]\n",
      "0.[0,0]:0.[2,1] (dx=[2.0,1.0]) [ 0.15811388 -0.31622777]\n",
      "0.[0,0]:0.[2,-1] (dx=[2.0,-1.0]) [0.15811388 0.31622777]\n",
      "0.[0,0]:0.[-1,2] (dx=[-1.0,2.0]) [0.31622777 0.15811388]\n",
      "0.[0,0]:0.[-2,1] (dx=[-2.0,1.0]) [-0.15811388 -0.31622777]\n",
      "\n",
      "0.[0,0]:0.[-3,0] (dx=[-3.0,-0.0]) [-0.5 -0. ]\n",
      "0.[0,0]:0.[3,0] (dx=[3.0,0.0]) [0.5 0. ]\n",
      "0.[0,0]:0.[0,3] (dx=[-0.0,3.0]) [-0.   0.5]\n",
      "0.[0,0]:0.[0,-3] (dx=[0.0,-3.0]) [ 0.  -0.5]\n"
     ]
    }
   ],
   "source": [
    "if __TESTING__:\n",
    "    for vR, vV in zip(vecstarset.vecpos, vecstarset.vecvec):\n",
    "        print('')\n",
    "        for R, v in zip(vR, vV):\n",
    "            print(starset.states[R] , v)"
   ]
  },
  {
   "cell_type": "code",
   "execution_count": 71,
   "metadata": {},
   "outputs": [],
   "source": [
    "GF = GFcalc.GFCrystalcalc(square, chem, sitelist, jumpnetwork, kptwt = mpmesh(32))\n",
    "GF.SetRates(np.ones(1), np.zeros(1), np.ones(1), np.zeros(1))"
   ]
  },
  {
   "cell_type": "code",
   "execution_count": 72,
   "metadata": {},
   "outputs": [
    {
     "name": "stdout",
     "output_type": "stream",
     "text": [
      "GFcalc for crystal (chemistry=0):\n",
      "#Lattice:\n",
      "  a1 = [1. 0.]\n",
      "  a2 = [0. 1.]\n",
      "#Basis:\n",
      "  (0) 0.0 = [0. 0.]\n",
      "kpt grid: [0 0] (528)\n"
     ]
    }
   ],
   "source": [
    "if __TESTING__:\n",
    "    print(GF)"
   ]
  },
  {
   "cell_type": "code",
   "execution_count": 73,
   "metadata": {},
   "outputs": [
    {
     "name": "stdout",
     "output_type": "stream",
     "text": [
      "[[-3.63380228e-01 -1.93209535e-01 -1.80281366e-01 -1.93003147e-01\n",
      "  -1.32850952e-11 -1.13613420e-01]\n",
      " [-1.93209535e-01 -4.24413181e-01 -1.72627262e-01 -3.04231075e-01\n",
      "   3.63234979e-02 -1.35447258e-01]\n",
      " [-1.80281366e-01 -1.72627262e-01 -4.76993647e-01 -3.41764874e-01\n",
      "  -5.13691834e-02 -2.62902329e-01]\n",
      " [-1.93003147e-01 -3.04231075e-01 -3.41764874e-01 -6.99942498e-01\n",
      "   1.09684277e-02 -2.95628381e-01]\n",
      " [-1.32850952e-11  3.63234979e-02 -5.13691834e-02  1.09684277e-02\n",
      "  -2.91981959e-01 -3.46852142e-02]\n",
      " [-1.13613420e-01 -1.35447258e-01 -2.62902329e-01 -2.95628381e-01\n",
      "  -3.46852142e-02 -5.42115430e-01]]\n"
     ]
    }
   ],
   "source": [
    "GFmat, GFstarset = vecstarset.GFexpansion()\n",
    "GF0array = np.array([GF(0,0,GFstarset.states[s[0]].R) for s in GFstarset.stars])\n",
    "g0 = np.dot(GFmat, GF0array)\n",
    "print(g0)"
   ]
  },
  {
   "cell_type": "code",
   "execution_count": 76,
   "metadata": {},
   "outputs": [],
   "source": [
    "basis2state = [starset.stateindex(stars.PairState(0, 0, bv, bv)) for bv in basisfunc]\n",
    "basis2star = [starset.starindex(stars.PairState(0, 0, bv, bv)) for bv in basisfunc]"
   ]
  },
  {
   "cell_type": "code",
   "execution_count": 79,
   "metadata": {
    "scrolled": true
   },
   "outputs": [
    {
     "name": "stdout",
     "output_type": "stream",
     "text": [
      "[0 0] None None\n",
      "[-1  0] 0 0\n",
      "[1 0] 3 0\n",
      "[ 0 -1] 2 0\n",
      "[0 1] 1 0\n",
      "[-2  0] 8 2\n",
      "[-1 -1] 6 1\n",
      "[-1  1] 7 1\n",
      "[2 0] 11 2\n",
      "[ 1 -1] 4 1\n",
      "[1 1] 5 1\n",
      "[ 0 -2] 10 2\n",
      "[0 2] 9 2\n",
      "[-3  0] 20 4\n",
      "[-2 -1] 14 3\n",
      "[-2  1] 19 3\n",
      "[-1 -2] 15 3\n",
      "[-1  2] 18 3\n",
      "[3 0] 21 4\n",
      "[ 2 -1] 17 3\n",
      "[2 1] 16 3\n",
      "[ 1 -2] 12 3\n",
      "[1 2] 13 3\n",
      "[ 0 -3] 23 4\n",
      "[0 3] 22 4\n",
      "[4 0] None None\n",
      "[ 3 -1] None None\n",
      "[3 1] None None\n",
      "[ 2 -2] None None\n",
      "[2 2] None None\n",
      "[ 1 -3] None None\n",
      "[1 3] None None\n",
      "[-4  0] None None\n",
      "[-3 -1] None None\n",
      "[-3  1] None None\n",
      "[-2 -2] None None\n",
      "[-2  2] None None\n",
      "[-1 -3] None None\n",
      "[-1  3] None None\n",
      "[0 4] None None\n",
      "[ 0 -4] None None\n",
      "[5 0] None None\n",
      "[ 4 -1] None None\n",
      "[4 1] None None\n",
      "[ 3 -2] None None\n",
      "[3 2] None None\n",
      "[ 2 -3] None None\n",
      "[2 3] None None\n",
      "[1 4] None None\n",
      "[ 1 -4] None None\n",
      "[-5  0] None None\n",
      "[-4 -1] None None\n",
      "[-4  1] None None\n",
      "[-3 -2] None None\n",
      "[-3  2] None None\n",
      "[-2 -3] None None\n",
      "[-2  3] None None\n",
      "[-1  4] None None\n",
      "[-1 -4] None None\n",
      "[0 5] None None\n",
      "[ 0 -5] None None\n",
      "[6 0] None None\n",
      "[ 5 -1] None None\n",
      "[5 1] None None\n",
      "[ 4 -2] None None\n",
      "[4 2] None None\n",
      "[ 3 -3] None None\n",
      "[3 3] None None\n",
      "[2 4] None None\n",
      "[ 2 -4] None None\n",
      "[1 5] None None\n",
      "[ 1 -5] None None\n",
      "[-6  0] None None\n",
      "[-5 -1] None None\n",
      "[-5  1] None None\n",
      "[-4 -2] None None\n",
      "[-4  2] None None\n",
      "[-3 -3] None None\n",
      "[-3  3] None None\n",
      "[-2  4] None None\n",
      "[-2 -4] None None\n",
      "[-1  5] None None\n",
      "[-1 -5] None None\n",
      "[0 6] None None\n",
      "[ 0 -6] None None\n"
     ]
    }
   ],
   "source": [
    "if __TESTING__:\n",
    "    for bv, stateind, starind in zip(basisfunc, basis2state, basis2star):\n",
    "        print(bv, stateind, starind)"
   ]
  },
  {
   "cell_type": "code",
   "execution_count": 80,
   "metadata": {},
   "outputs": [],
   "source": [
    "state2basis = [basis2state.index(n) for n in range(starset.Nstates)]"
   ]
  },
  {
   "cell_type": "code",
   "execution_count": 81,
   "metadata": {},
   "outputs": [
    {
     "name": "stdout",
     "output_type": "stream",
     "text": [
      "[1, 4, 3, 2, 9, 10, 6, 7, 5, 12, 11, 8, 21, 22, 14, 16, 20, 19, 17, 15, 13, 18, 24, 23]\n"
     ]
    }
   ],
   "source": [
    "if __TESTING__:\n",
    "    print(state2basis)"
   ]
  },
  {
   "cell_type": "markdown",
   "metadata": {},
   "source": [
    "**Now** the real conversion begins! We start by mapping all of the bias vectors and local functions onto our vectorBasis."
   ]
  },
  {
   "cell_type": "code",
   "execution_count": 107,
   "metadata": {},
   "outputs": [],
   "source": [
    "NVS = vecstarset.Nvstars\n",
    "symmbiasvecVS = np.zeros((N+1, NVS))\n",
    "symmbiasGvecVS = np.zeros((N+1, NVS))\n",
    "symmbiasGGvecVS = np.zeros((N+1, NVS))\n",
    "for i in range(vecstarset.Nvstars):\n",
    "    for Ri, vi in zip(vecstarset.vecpos[i], vecstarset.vecvec[i]):\n",
    "        bi = state2basis[Ri]\n",
    "        symmbiasvecVS[:, i] += np.dot(vi, symmbiasvecbar[:,bi,:])\n",
    "        symmbiasGvecVS[:, i] += np.dot(vi, symmbiasGvecbar[:,bi,:])\n",
    "        symmbiasGGvecVS[:, i] += np.dot(vi, symmbiasGGvecbar[:,bi,:])\n",
    "stars.zeroclean(symmbiasvecVS);\n",
    "stars.zeroclean(symmbiasGvecVS);\n",
    "stars.zeroclean(symmbiasGGvecVS);"
   ]
  },
  {
   "cell_type": "code",
   "execution_count": 100,
   "metadata": {},
   "outputs": [
    {
     "name": "stdout",
     "output_type": "stream",
     "text": [
      "0 [ 0. -2.  2.]\n"
     ]
    }
   ],
   "source": [
    "for nv in range(NVS):\n",
    "    if not np.allclose(symmbiasvecVS[:,nv], 0):\n",
    "        print(nv, truncate_vec(symmbiasvecVS[:,nv]))"
   ]
  },
  {
   "cell_type": "code",
   "execution_count": 101,
   "metadata": {},
   "outputs": [
    {
     "name": "stdout",
     "output_type": "stream",
     "text": [
      "0 [ 0.          0.          0.66666667  0.          0.         -0.66666667]\n",
      "1 [ 0.         -0.94280904  0.94280904  0.          0.94280904 -0.94280904]\n",
      "2 [ 0.         -0.66666667  0.66666667  0.          0.66666667 -0.66666667]\n"
     ]
    }
   ],
   "source": [
    "for nv in range(NVS):\n",
    "    if not np.allclose(symmbiasGvecVS[:,nv], 0):\n",
    "        print(nv, truncate_vec(symmbiasGvecVS[:,nv]))"
   ]
  },
  {
   "cell_type": "code",
   "execution_count": 102,
   "metadata": {},
   "outputs": [
    {
     "name": "stdout",
     "output_type": "stream",
     "text": [
      "0 [ 0.         -0.5        -1.33333333  0.          0.5         1.16666667\n",
      "  0.          0.          0.16666667]\n",
      "1 [ 0.          1.88561808 -1.5713484   0.         -1.88561808  1.25707872\n",
      "  0.          0.          0.31426968]\n",
      "2 [ 0.          1.33333333 -1.11111111  0.         -1.33333333  0.88888889\n",
      "  0.          0.          0.22222222]\n",
      "3 [ 0.         -0.52704628  0.70272837  0.          0.52704628 -0.87841046\n",
      "  0.          0.          0.17568209]\n",
      "5 [ 0.         -0.16666667  0.22222222  0.          0.16666667 -0.27777778\n",
      "  0.          0.          0.05555556]\n"
     ]
    }
   ],
   "source": [
    "for nv in range(NVS):\n",
    "    if not np.allclose(symmbiasGGvecVS[:,nv], 0):\n",
    "        print(nv, truncate_vec(symmbiasGGvecVS[:,nv]))"
   ]
  },
  {
   "cell_type": "code",
   "execution_count": 108,
   "metadata": {},
   "outputs": [],
   "source": [
    "symmWbarVS = np.zeros((N+1, NVS, NVS))\n",
    "symmWGbarVS = np.zeros((N+1, NVS, NVS))\n",
    "symmWGGbarVS = np.zeros((N+1, NVS, NVS))\n",
    "for i in range(vecstarset.Nvstars):\n",
    "    for Ri, vi in zip(vecstarset.vecpos[i], vecstarset.vecvec[i]):\n",
    "        bi = state2basis[Ri]\n",
    "        for j in range(vecstarset.Nvstars):\n",
    "            for Rj, vj in zip(vecstarset.vecpos[j], vecstarset.vecvec[j]):\n",
    "                bj = state2basis[Rj]\n",
    "                vivj = np.dot(vi,vj)\n",
    "                symmWbarVS[:, i, j] += vivj*(symmWbar[bi,bj,:]-symmWbar_far[bi,bj,:])\n",
    "                symmWGbarVS[:, i, j] += vivj*(symmWGbar[bi,bj,:]-symmWGbar_far[bi,bj,:])\n",
    "                symmWGGbarVS[:, i, j] += vivj*(symmWGGbar[bi,bj,:]-symmWGGbar_far[bi,bj,:])\n",
    "stars.zeroclean(symmWbarVS);\n",
    "stars.zeroclean(symmWGbarVS);\n",
    "stars.zeroclean(symmWGGbarVS);"
   ]
  },
  {
   "cell_type": "code",
   "execution_count": 104,
   "metadata": {},
   "outputs": [
    {
     "name": "stdout",
     "output_type": "stream",
     "text": [
      "0 0 [ 0.  1. -4.  3.]\n"
     ]
    }
   ],
   "source": [
    "for nv,mv in itertools.product(range(NVS), repeat=2):\n",
    "    if not np.allclose(symmWbarVS[:,nv,mv], 0):\n",
    "        print(nv, mv, truncate_vec(symmWbarVS[:,nv,mv]))"
   ]
  },
  {
   "cell_type": "code",
   "execution_count": 105,
   "metadata": {},
   "outputs": [
    {
     "name": "stdout",
     "output_type": "stream",
     "text": [
      "0 0 [ 0.          1.         -3.33333333  2.66666667  0.          0.33333333\n",
      " -0.66666667]\n",
      "0 1 [ 0.          0.         -0.47140452  0.47140452  0.          0.47140452\n",
      " -0.47140452]\n",
      "0 2 [ 0.          0.         -0.33333333  0.33333333  0.          0.33333333\n",
      " -0.33333333]\n",
      "1 0 [ 0.          0.         -0.47140452  0.47140452  0.          0.47140452\n",
      " -0.47140452]\n",
      "1 1 [ 0.          0.16666667 -0.83333333  0.66666667 -0.66666667  1.83333333\n",
      " -1.16666667]\n",
      "1 2 [ 0.          0.11785113 -0.11785113  0.         -0.47140452  0.82495791\n",
      " -0.35355339]\n",
      "2 0 [ 0.          0.         -0.33333333  0.33333333  0.          0.33333333\n",
      " -0.33333333]\n",
      "2 1 [ 0.          0.11785113 -0.11785113  0.         -0.47140452  0.82495791\n",
      " -0.35355339]\n",
      "2 2 [ 0.          0.08333333 -0.41666667  0.33333333 -0.33333333  0.91666667\n",
      " -0.58333333]\n"
     ]
    }
   ],
   "source": [
    "for nv,mv in itertools.product(range(NVS), repeat=2):\n",
    "    if not np.allclose(symmWGbarVS[:,nv,mv], 0):\n",
    "        print(nv, mv, truncate_vec(symmWGbarVS[:,nv,mv]))"
   ]
  },
  {
   "cell_type": "code",
   "execution_count": 106,
   "metadata": {},
   "outputs": [
    {
     "name": "stdout",
     "output_type": "stream",
     "text": [
      "0 0 [ 0.          0.         -1.67361111  0.27083333  0.10416667 -0.34027778\n",
      "  1.72916667 -0.10416667 -0.04861111  0.0625    ]\n",
      "0 1 [ 0.          0.08838835  1.06066017 -1.09994388 -0.35355339 -0.41247896\n",
      "  0.66782307  0.         -0.11785113  0.16695577]\n",
      "0 2 [ 0.          0.0625      0.83333333 -0.88888889 -0.25       -0.375\n",
      "  0.61111111  0.         -0.08333333  0.09027778]\n",
      "0 3 [ 0.          0.         -0.13615362  0.19764235 -0.01317616  0.07466489\n",
      " -0.14493773  0.01317616 -0.05709668  0.06588078]\n",
      "0 4 [ 0.          0.         -0.03513642  0.08784105 -0.01756821 -0.10540926\n",
      "  0.07027284  0.01756821 -0.01756821]\n",
      "0 5 [ 0.          0.         -0.07638889  0.14583333 -0.02083333 -0.07638889\n",
      "  0.02083333  0.02083333 -0.03472222  0.02083333]\n",
      "1 0 [ 0.          0.08838835  1.06066017 -1.09994388 -0.35355339 -0.41247896\n",
      "  0.66782307  0.         -0.11785113  0.16695577]\n",
      "1 1 [ 0.         -0.5         2.27777778 -1.77777778  2.         -5.05555556\n",
      "  3.05555556  0.         -0.22222222  0.22222222]\n",
      "1 2 [ 0.         -0.35355339  0.19641855  0.15713484  1.41421356 -2.16060405\n",
      "  0.74639049  0.         -0.15713484  0.15713484]\n",
      "1 3 [ 0.          0.0931695  -0.3478328   0.2981424  -0.372678    1.03107579\n",
      " -0.74535599  0.         -0.124226    0.1677051 ]\n",
      "1 4 [ 0.         0.         0.0745356 -0.0993808  0.        -0.0745356\n",
      "  0.124226   0.         0.        -0.0248452]\n",
      "1 5 [ 0.          0.02946278 -0.03928371  0.         -0.11785113  0.25534412\n",
      " -0.11785113  0.         -0.03928371  0.02946278]\n",
      "2 0 [ 0.          0.0625      0.83333333 -0.88888889 -0.25       -0.375\n",
      "  0.61111111  0.         -0.08333333  0.09027778]\n",
      "2 1 [ 0.         -0.35355339  0.19641855  0.15713484  1.41421356 -2.16060405\n",
      "  0.74639049  0.         -0.15713484  0.15713484]\n",
      "2 2 [ 0.         -0.25        1.13888889 -0.88888889  1.         -2.52777778\n",
      "  1.52777778  0.         -0.11111111  0.11111111]\n",
      "2 3 [ 0.          0.06588078 -0.1932503   0.14054567 -0.26352314  0.67637606\n",
      " -0.43920523  0.         -0.08784105  0.1010172 ]\n",
      "2 4 [ 0.          0.         -0.05270463  0.07027284  0.          0.05270463\n",
      " -0.08784105  0.          0.          0.01756821]\n",
      "2 5 [ 0.          0.02083333 -0.11111111  0.11111111 -0.08333333  0.26388889\n",
      " -0.22222222  0.         -0.02777778  0.04861111]\n",
      "3 0 [ 0.          0.         -0.13615362  0.19764235 -0.01317616  0.07466489\n",
      " -0.14493773  0.01317616 -0.05709668  0.06588078]\n",
      "3 1 [ 0.          0.0931695  -0.3478328   0.2981424  -0.372678    1.03107579\n",
      " -0.74535599  0.         -0.124226    0.1677051 ]\n",
      "3 2 [ 0.          0.06588078 -0.1932503   0.14054567 -0.26352314  0.67637606\n",
      " -0.43920523  0.         -0.08784105  0.1010172 ]\n",
      "3 3 [ 0.          0.         -0.11388889  0.15277778 -0.00833333  0.10277778\n",
      " -0.14722222  0.00833333 -0.06388889  0.06944444]\n",
      "3 4 [ 0.          0.         -0.02222222  0.05555556 -0.01111111 -0.06666667\n",
      "  0.04444444  0.01111111 -0.01111111]\n",
      "3 5 [ 0.          0.          0.04831258 -0.10980131  0.01317616  0.1010172\n",
      " -0.03074437 -0.01317616 -0.03074437  0.02196026]\n",
      "4 0 [ 0.          0.         -0.03513642  0.08784105 -0.01756821 -0.10540926\n",
      "  0.07027284  0.01756821 -0.01756821]\n",
      "4 1 [ 0.         0.         0.0745356 -0.0993808  0.        -0.0745356\n",
      "  0.124226   0.         0.        -0.0248452]\n",
      "4 2 [ 0.          0.         -0.05270463  0.07027284  0.          0.05270463\n",
      " -0.08784105  0.          0.          0.01756821]\n",
      "4 3 [ 0.          0.         -0.02222222  0.05555556 -0.01111111 -0.06666667\n",
      "  0.04444444  0.01111111 -0.01111111]\n",
      "4 4 [ 0.          0.         -0.28888889  0.55555556 -0.06111111 -0.28333333\n",
      " -0.00555556  0.06111111  0.02222222]\n",
      "4 5 [ 0.          0.          0.03513642 -0.08784105  0.01756821  0.10540926\n",
      " -0.07027284 -0.01756821  0.01756821]\n",
      "5 0 [ 0.          0.         -0.07638889  0.14583333 -0.02083333 -0.07638889\n",
      "  0.02083333  0.02083333 -0.03472222  0.02083333]\n",
      "5 1 [ 0.          0.02946278 -0.03928371  0.         -0.11785113  0.25534412\n",
      " -0.11785113  0.         -0.03928371  0.02946278]\n",
      "5 2 [ 0.          0.02083333 -0.11111111  0.11111111 -0.08333333  0.26388889\n",
      " -0.22222222  0.         -0.02777778  0.04861111]\n",
      "5 3 [ 0.          0.          0.04831258 -0.10980131  0.01317616  0.1010172\n",
      " -0.03074437 -0.01317616 -0.03074437  0.02196026]\n",
      "5 4 [ 0.          0.          0.03513642 -0.08784105  0.01756821  0.10540926\n",
      " -0.07027284 -0.01756821  0.01756821]\n",
      "5 5 [ 0.          0.         -0.0625      0.10416667 -0.00694444 -0.00694444\n",
      " -0.04861111  0.00694444  0.00694444  0.00694444]\n"
     ]
    }
   ],
   "source": [
    "for nv,mv in itertools.product(range(NVS), repeat=2):\n",
    "    if not np.allclose(symmWGGbarVS[:,nv,mv], 0):\n",
    "        print(nv, mv, truncate_vec(symmWGGbarVS[:,nv,mv]))"
   ]
  },
  {
   "cell_type": "markdown",
   "metadata": {},
   "source": [
    "### Fourier transformation of translationally invariant contributions\n",
    "Our \"far\" functions represent the translationally invariant contributions, and this requires Fourier transforms, and Taylor expansions to then be made into local contributions.\n",
    "\n",
    "Mathematically, we're attempting to compute $\\eta_i\\cdot M_{ij}\\cdot\\eta_j$; the issue is that $\\eta_i$ does not go to zero in the far-field (it's not local), and $M$ can be written as a local function plus a translationally invariant function $M^0$. Only the latter is problematic. However, as $\\eta_i$ comes from a Green function solution (using the Dyson equation), if we multiply by the $w^0$, we produce a local function. Hence, we can rewrite that matrix equation as $(w^0\\eta)_i\\cdot (g^0M^0g^0)_{ij}\\cdot (w^0\\eta_j)$. Now, then we \"simply\" need to evaluate $g^0M^0g^0$, which can be done using Fourier transforms, as it is the product of three translationally invariant functions."
   ]
  },
  {
   "cell_type": "code",
   "execution_count": 117,
   "metadata": {},
   "outputs": [],
   "source": [
    "def FT(mat, kptwt):\n",
    "    \"\"\"\n",
    "    (real) Fourier transform of translationally invariant function.\n",
    "    \n",
    "    :param mat[Nbasis, N+1]: far-field version of matrix; \n",
    "        each Nbasis is relative to 0\n",
    "    :param kptwt: tuple of (kpt[Nkpt, 2], wt[Nkpt])\n",
    "    :returns matFT[Nkpt, N+1]: FT of matrix\n",
    "    \"\"\"\n",
    "    kpt = kptwt[0]\n",
    "    matFT = np.zeros((kpt.shape[0], N+1))\n",
    "    for bv, matv in zip(basisfunc, mat):\n",
    "        matFT += np.outer(np.cos(np.dot(kpt, bv)), matv)\n",
    "    return matFT"
   ]
  },
  {
   "cell_type": "code",
   "execution_count": 146,
   "metadata": {},
   "outputs": [],
   "source": [
    "PE.Taylor2D(Lmax=6); # initialize\n",
    "\n",
    "def Taylor(mat):\n",
    "    \"\"\"\n",
    "    (real) Taylor expansion of Fourier transform of translationally invariant function.\n",
    "\n",
    "    :param mat[Nbasis, N+1]: far-field version of matrix; \n",
    "        each Nbasis is relative to 0\n",
    "    :returns matTaylor: T2D version of FT Taylor expansion matrix\n",
    "    \"\"\"\n",
    "    pre = np.array([1., 0., -1/2, 0., 1/24]) # Taylor coefficients for cos()\n",
    "    matTaylor = PE.Taylor2D()\n",
    "    for bv, matv in zip(basisfunc, mat):\n",
    "        for ve in PE.Taylor2D.constructexpansion([(matv, bv)], pre=pre):\n",
    "            matTaylor += ve\n",
    "    matTaylor.reduce()\n",
    "    return matTaylor"
   ]
  },
  {
   "cell_type": "code",
   "execution_count": 118,
   "metadata": {},
   "outputs": [
    {
     "data": {
      "text/plain": [
       "array([[ 0.        , -0.30448187,  0.60896374, -0.30448187,  0.        ,\n",
       "         0.        ,  0.        ,  0.        ,  0.        ,  0.        ,\n",
       "         0.        ,  0.        ,  0.        ,  0.        ,  0.        ,\n",
       "         0.        ,  0.        ,  0.        ,  0.        ,  0.        ,\n",
       "         0.        ,  0.        ,  0.        ,  0.        ,  0.        ],\n",
       "       [ 0.        , -1.38687407,  2.77374814, -1.38687407,  0.        ,\n",
       "         0.        ,  0.        ,  0.        ,  0.        ,  0.        ,\n",
       "         0.        ,  0.        ,  0.        ,  0.        ,  0.        ,\n",
       "         0.        ,  0.        ,  0.        ,  0.        ,  0.        ,\n",
       "         0.        ,  0.        ,  0.        ,  0.        ,  0.        ],\n",
       "       [ 0.        , -2.46926627,  4.93853254, -2.46926627,  0.        ,\n",
       "         0.        ,  0.        ,  0.        ,  0.        ,  0.        ,\n",
       "         0.        ,  0.        ,  0.        ,  0.        ,  0.        ,\n",
       "         0.        ,  0.        ,  0.        ,  0.        ,  0.        ,\n",
       "         0.        ,  0.        ,  0.        ,  0.        ,  0.        ],\n",
       "       [ 0.        , -2.9176078 ,  5.8352156 , -2.9176078 ,  0.        ,\n",
       "         0.        ,  0.        ,  0.        ,  0.        ,  0.        ,\n",
       "         0.        ,  0.        ,  0.        ,  0.        ,  0.        ,\n",
       "         0.        ,  0.        ,  0.        ,  0.        ,  0.        ,\n",
       "         0.        ,  0.        ,  0.        ,  0.        ,  0.        ],\n",
       "       [ 0.        , -4.        ,  8.        , -4.        ,  0.        ,\n",
       "         0.        ,  0.        ,  0.        ,  0.        ,  0.        ,\n",
       "         0.        ,  0.        ,  0.        ,  0.        ,  0.        ,\n",
       "         0.        ,  0.        ,  0.        ,  0.        ,  0.        ,\n",
       "         0.        ,  0.        ,  0.        ,  0.        ,  0.        ],\n",
       "       [ 0.        , -5.53073373, 11.06146746, -5.53073373,  0.        ,\n",
       "         0.        ,  0.        ,  0.        ,  0.        ,  0.        ,\n",
       "         0.        ,  0.        ,  0.        ,  0.        ,  0.        ,\n",
       "         0.        ,  0.        ,  0.        ,  0.        ,  0.        ,\n",
       "         0.        ,  0.        ,  0.        ,  0.        ,  0.        ],\n",
       "       [ 0.        , -4.        ,  8.        , -4.        ,  0.        ,\n",
       "         0.        ,  0.        ,  0.        ,  0.        ,  0.        ,\n",
       "         0.        ,  0.        ,  0.        ,  0.        ,  0.        ,\n",
       "         0.        ,  0.        ,  0.        ,  0.        ,  0.        ,\n",
       "         0.        ,  0.        ,  0.        ,  0.        ,  0.        ],\n",
       "       [ 0.        , -5.0823922 , 10.1647844 , -5.0823922 ,  0.        ,\n",
       "         0.        ,  0.        ,  0.        ,  0.        ,  0.        ,\n",
       "         0.        ,  0.        ,  0.        ,  0.        ,  0.        ,\n",
       "         0.        ,  0.        ,  0.        ,  0.        ,  0.        ,\n",
       "         0.        ,  0.        ,  0.        ,  0.        ,  0.        ],\n",
       "       [ 0.        , -6.61312593, 13.22625186, -6.61312593,  0.        ,\n",
       "         0.        ,  0.        ,  0.        ,  0.        ,  0.        ,\n",
       "         0.        ,  0.        ,  0.        ,  0.        ,  0.        ,\n",
       "         0.        ,  0.        ,  0.        ,  0.        ,  0.        ,\n",
       "         0.        ,  0.        ,  0.        ,  0.        ,  0.        ],\n",
       "       [ 0.        , -7.69551813, 15.39103626, -7.69551813,  0.        ,\n",
       "         0.        ,  0.        ,  0.        ,  0.        ,  0.        ,\n",
       "         0.        ,  0.        ,  0.        ,  0.        ,  0.        ,\n",
       "         0.        ,  0.        ,  0.        ,  0.        ,  0.        ,\n",
       "         0.        ,  0.        ,  0.        ,  0.        ,  0.        ]])"
      ]
     },
     "execution_count": 118,
     "metadata": {},
     "output_type": "execute_result"
    }
   ],
   "source": [
    "if __TESTING__:\n",
    "    print(FT(symmWbar_far[0], mpmesh(4)))"
   ]
  },
  {
   "cell_type": "code",
   "execution_count": 149,
   "metadata": {},
   "outputs": [],
   "source": [
    "g0Taylor = (Taylor(symmWbar_far[0])[1]).inv() # extract out the \"constant\" term"
   ]
  },
  {
   "cell_type": "code",
   "execution_count": 150,
   "metadata": {},
   "outputs": [
    {
     "name": "stdout",
     "output_type": "stream",
     "text": [
      "f^(-2, 0)(u)*(\n",
      "(-1-0j) x^0 y^0 )\n",
      "f^(0, 4)(u)*(\n",
      "(-0.0625-0j) x^0 y^0\n",
      "(-0.020833333333333332-0j) x^0 y^4\n",
      "(0.125+0j) x^2 y^2\n",
      "(-0.020833333333333332-0j) x^4 y^0 )\n",
      "\n"
     ]
    }
   ],
   "source": [
    "print(g0Taylor)"
   ]
  },
  {
   "cell_type": "code",
   "execution_count": 167,
   "metadata": {},
   "outputs": [],
   "source": [
    "g0WGbarTaylor = ( (g0Taylor*g0Taylor)*Taylor(symmWGbar_far[0])).reduce().truncate(0)\n",
    "g0WGGbarTaylor = ( (g0Taylor*g0Taylor)*Taylor(symmWGGbar_far[0])).reduce().truncate(0)"
   ]
  },
  {
   "cell_type": "code",
   "execution_count": 168,
   "metadata": {},
   "outputs": [
    {
     "name": "stdout",
     "output_type": "stream",
     "text": [
      "f^(-2, 0)(u)*(\n",
      "[ 0.        +0.j -2.        +0.j  4.66666667+0.j -2.66666667+0.j\n",
      "  0.        +0.j -0.66666667+0.j  0.66666667+0.j  0.        +0.j\n",
      "  0.        +0.j  0.        +0.j  0.        +0.j  0.        +0.j\n",
      "  0.        +0.j  0.        +0.j  0.        +0.j  0.        +0.j\n",
      "  0.        +0.j  0.        +0.j  0.        +0.j  0.        +0.j\n",
      "  0.        +0.j  0.        +0.j  0.        +0.j  0.        +0.j\n",
      "  0.        +0.j] x^0 y^0 )\n",
      "f^(0, 4)(u)*(\n",
      "[ 0.        +0.j  0.125     +0.j -0.29166667+0.j  0.16666667+0.j\n",
      "  0.        +0.j  0.04166667+0.j -0.04166667+0.j  0.        +0.j\n",
      "  0.        +0.j  0.        +0.j  0.        +0.j  0.        +0.j\n",
      "  0.        +0.j  0.        +0.j  0.        +0.j  0.        +0.j\n",
      "  0.        +0.j  0.        +0.j  0.        +0.j  0.        +0.j\n",
      "  0.        +0.j  0.        +0.j  0.        +0.j  0.        +0.j\n",
      "  0.        +0.j] x^0 y^0\n",
      "[ 0.        +0.j -0.04166667+0.j  0.09722222+0.j -0.05555556+0.j\n",
      "  0.        +0.j -0.01388889+0.j  0.01388889+0.j  0.        +0.j\n",
      "  0.        +0.j  0.        +0.j  0.        +0.j  0.        +0.j\n",
      "  0.        +0.j  0.        +0.j  0.        +0.j  0.        +0.j\n",
      "  0.        +0.j  0.        +0.j  0.        +0.j  0.        +0.j\n",
      "  0.        +0.j  0.        +0.j  0.        +0.j  0.        +0.j\n",
      "  0.        +0.j] x^0 y^4\n",
      "[ 0.        +0.j  0.25      +0.j -0.58333333+0.j  0.33333333+0.j\n",
      "  0.        +0.j  0.08333333+0.j -0.08333333+0.j  0.        +0.j\n",
      "  0.        +0.j  0.        +0.j  0.        +0.j  0.        +0.j\n",
      "  0.        +0.j  0.        +0.j  0.        +0.j  0.        +0.j\n",
      "  0.        +0.j  0.        +0.j  0.        +0.j  0.        +0.j\n",
      "  0.        +0.j  0.        +0.j  0.        +0.j  0.        +0.j\n",
      "  0.        +0.j] x^2 y^2\n",
      "[ 0.        +0.j -0.04166667+0.j  0.09722222+0.j -0.05555556+0.j\n",
      "  0.        +0.j -0.01388889+0.j  0.01388889+0.j  0.        +0.j\n",
      "  0.        +0.j  0.        +0.j  0.        +0.j  0.        +0.j\n",
      "  0.        +0.j  0.        +0.j  0.        +0.j  0.        +0.j\n",
      "  0.        +0.j  0.        +0.j  0.        +0.j  0.        +0.j\n",
      "  0.        +0.j  0.        +0.j  0.        +0.j  0.        +0.j\n",
      "  0.        +0.j] x^4 y^0 )\n",
      "\n"
     ]
    }
   ],
   "source": [
    "print(g0WGbarTaylor)"
   ]
  },
  {
   "cell_type": "code",
   "execution_count": 169,
   "metadata": {},
   "outputs": [
    {
     "name": "stdout",
     "output_type": "stream",
     "text": [
      "f^(-2, 0)(u)*(\n",
      "[ 0.        +0.j  1.        +0.j -2.66666667+0.j  1.44444444+0.j\n",
      "  0.        +0.j  0.66666667+0.j -0.22222222+0.j  0.        +0.j\n",
      "  0.        +0.j -0.22222222+0.j  0.        +0.j  0.        +0.j\n",
      "  0.        +0.j  0.        +0.j  0.        +0.j  0.        +0.j\n",
      "  0.        +0.j  0.        +0.j  0.        +0.j  0.        +0.j\n",
      "  0.        +0.j  0.        +0.j  0.        +0.j  0.        +0.j\n",
      "  0.        +0.j] x^0 y^0 )\n",
      "f^(0, 4)(u)*(\n",
      "[ 0.        +0.j  0.0625    +0.j -0.41666667+0.j  0.42361111+0.j\n",
      "  0.        +0.j  0.29166667+0.j -0.43055556+0.j  0.        +0.j\n",
      "  0.        +0.j  0.06944444+0.j  0.        +0.j  0.        +0.j\n",
      "  0.        +0.j  0.        +0.j  0.        +0.j  0.        +0.j\n",
      "  0.        +0.j  0.        +0.j  0.        +0.j  0.        +0.j\n",
      "  0.        +0.j  0.        +0.j  0.        +0.j  0.        +0.j\n",
      "  0.        +0.j] x^0 y^0\n",
      "[ 0.        +0.j  0.02083333+0.j -0.05555556+0.j  0.03009259+0.j\n",
      "  0.        +0.j  0.01388889+0.j -0.00462963+0.j  0.        +0.j\n",
      "  0.        +0.j -0.00462963+0.j  0.        +0.j  0.        +0.j\n",
      "  0.        +0.j  0.        +0.j  0.        +0.j  0.        +0.j\n",
      "  0.        +0.j  0.        +0.j  0.        +0.j  0.        +0.j\n",
      "  0.        +0.j  0.        +0.j  0.        +0.j  0.        +0.j\n",
      "  0.        +0.j] x^0 y^4\n",
      "[ 0.        +0.j -0.125     +0.j  0.33333333+0.j -0.18055556+0.j\n",
      "  0.        +0.j -0.08333333+0.j  0.02777778+0.j  0.        +0.j\n",
      "  0.        +0.j  0.02777778+0.j  0.        +0.j  0.        +0.j\n",
      "  0.        +0.j  0.        +0.j  0.        +0.j  0.        +0.j\n",
      "  0.        +0.j  0.        +0.j  0.        +0.j  0.        +0.j\n",
      "  0.        +0.j  0.        +0.j  0.        +0.j  0.        +0.j\n",
      "  0.        +0.j] x^2 y^2\n",
      "[ 0.        +0.j  0.02083333+0.j -0.05555556+0.j  0.03009259+0.j\n",
      "  0.        +0.j  0.01388889+0.j -0.00462963+0.j  0.        +0.j\n",
      "  0.        +0.j -0.00462963+0.j  0.        +0.j  0.        +0.j\n",
      "  0.        +0.j  0.        +0.j  0.        +0.j  0.        +0.j\n",
      "  0.        +0.j  0.        +0.j  0.        +0.j  0.        +0.j\n",
      "  0.        +0.j  0.        +0.j  0.        +0.j  0.        +0.j\n",
      "  0.        +0.j] x^4 y^0 )\n",
      "\n"
     ]
    }
   ],
   "source": [
    "print(g0WGGbarTaylor)"
   ]
  },
  {
   "cell_type": "code",
   "execution_count": 170,
   "metadata": {},
   "outputs": [],
   "source": [
    "kpt, wt = mpmesh(32)"
   ]
  },
  {
   "cell_type": "code",
   "execution_count": 189,
   "metadata": {},
   "outputs": [],
   "source": [
    "g0FT = 1./FT(symmWbar_far[0], (kpt, wt))[:,1]\n",
    "WGbarFT = FT(symmWGbar_far[0], (kpt, wt))\n",
    "WGGbarFT = FT(symmWGGbar_far[0], (kpt, wt))"
   ]
  },
  {
   "cell_type": "code",
   "execution_count": 179,
   "metadata": {},
   "outputs": [
    {
     "data": {
      "text/plain": [
       "array([-2.07547456e+02, -4.15695538e+01, -2.30979101e+01, -1.60393719e+01,\n",
       "       -1.22572342e+01, -8.34202383e+00, -8.38075744e+00, -7.21714998e+00,\n",
       "       -5.65452983e+00, -4.27672572e+00, -5.14322595e+00, -4.68014938e+00,\n",
       "       -3.96890116e+00, -3.23694485e+00, -2.60387626e+00, -3.48490501e+00,\n",
       "       -3.26594854e+00, -2.90292384e+00, -2.49094138e+00, -2.09835320e+00,\n",
       "       -1.75720502e+00, -2.52529063e+00, -2.40829271e+00, -2.20496260e+00,\n",
       "       -1.95887611e+00, -1.70763175e+00, -1.47464847e+00, -1.27037382e+00,\n",
       "       -1.92120435e+00, -1.85272768e+00, -1.72999832e+00, -1.57477929e+00,\n",
       "       -1.40821436e+00, -1.24588775e+00, -1.09687286e+00, -9.65068852e-01,\n",
       "       -1.51678050e+00, -1.47377621e+00, -1.39505117e+00, -1.29233369e+00,\n",
       "       -1.17799019e+00, -1.06221965e+00, -9.51957533e-01, -8.51078432e-01,\n",
       "       -7.61171613e-01, -1.23302969e+00, -1.20445885e+00, -1.15135893e+00,\n",
       "       -1.08048155e+00, -9.99377583e-01, -9.14792419e-01, -8.31817811e-01,\n",
       "       -7.53750394e-01, -6.82368660e-01, -6.18351645e-01, -1.02647948e+00,\n",
       "       -1.00660181e+00, -9.69243946e-01, -9.18521299e-01, -8.59242410e-01,\n",
       "       -7.95964592e-01, -7.32397138e-01, -6.71189472e-01, -6.13995436e-01,\n",
       "       -5.61672827e-01, -5.14512064e-01, -8.71612445e-01, -8.57238285e-01,\n",
       "       -8.29994468e-01, -7.92517567e-01, -7.47992821e-01, -6.99578284e-01,\n",
       "       -6.49994418e-01, -6.01327408e-01, -5.55009210e-01, -5.11904020e-01,\n",
       "       -4.72437004e-01, -4.36723250e-01, -7.52655341e-01, -7.41912813e-01,\n",
       "       -7.21418593e-01, -6.92937228e-01, -6.58656652e-01, -6.20823768e-01,\n",
       "       -5.81461192e-01, -5.42205833e-01, -5.04260399e-01, -4.68423198e-01,\n",
       "       -4.35158206e-01, -4.04676424e-01, -3.77011272e-01, -6.59435418e-01,\n",
       "       -6.51174521e-01, -6.35333245e-01, -6.13139014e-01, -5.86145494e-01,\n",
       "       -5.55993425e-01, -5.24212160e-01, -4.92092712e-01, -4.60633834e-01,\n",
       "       -4.30544362e-01, -4.02279452e-01, -3.76091212e-01, -3.52080452e-01,\n",
       "       -3.30242344e-01, -5.85155264e-01, -5.78641409e-01, -5.66098657e-01,\n",
       "       -5.48410702e-01, -5.26714855e-01, -5.02239528e-01, -4.76162363e-01,\n",
       "       -4.49511579e-01, -4.23115450e-01, -3.97592112e-01, -3.73366489e-01,\n",
       "       -3.50701367e-01, -3.29732724e-01, -3.10503203e-01, -2.92990658e-01,\n",
       "       -5.25134585e-01, -5.19882481e-01, -5.09735399e-01, -4.95349530e-01,\n",
       "       -4.77580904e-01, -4.57371296e-01, -4.35644505e-01, -4.13229561e-01,\n",
       "       -3.90816326e-01, -3.68940243e-01, -3.47988381e-01, -3.28218113e-01,\n",
       "       -3.09781191e-01, -2.92748249e-01, -2.77130854e-01, -2.62899886e-01,\n",
       "       -4.76067053e-01, -4.71746550e-01, -4.63376389e-01, -4.51457645e-01,\n",
       "       -4.36651332e-01, -4.19695799e-01, -4.01329156e-01, -3.82228939e-01,\n",
       "       -3.62974109e-01, -3.44028404e-01, -3.25740341e-01, -3.08354068e-01,\n",
       "       -2.92025743e-01, -2.76841516e-01, -2.62834581e-01, -2.50000000e-01,\n",
       "       -2.38306838e-01, -4.35564725e-01, -4.31945305e-01, -4.24917422e-01,\n",
       "       -4.14873580e-01, -4.02336390e-01, -3.87897034e-01, -3.72155907e-01,\n",
       "       -3.55674595e-01, -3.38943637e-01, -3.22366184e-01, -3.06254752e-01,\n",
       "       -2.90837110e-01, -2.76267421e-01, -2.62639487e-01, -2.50000000e-01,\n",
       "       -2.38360522e-01, -2.27707633e-01, -2.18011124e-01, -4.01869586e-01,\n",
       "       -3.98786518e-01, -3.92788736e-01, -3.84190967e-01, -3.73415536e-01,\n",
       "       -3.60945269e-01, -3.47277051e-01, -3.32883041e-01, -3.18183306e-01,\n",
       "       -3.03530507e-01, -2.89205001e-01, -2.75417589e-01, -2.62317054e-01,\n",
       "       -2.50000000e-01, -2.38521202e-01, -2.27903346e-01, -2.18145533e-01,\n",
       "       -2.09230351e-01, -2.01129514e-01, -3.73665715e-01, -3.70998775e-01,\n",
       "       -3.65802286e-01, -3.58334116e-01, -3.48942567e-01, -3.38029408e-01,\n",
       "       -3.26012756e-01, -3.13295236e-01, -3.00240631e-01, -2.87159840e-01,\n",
       "       -2.74305210e-01, -2.61871313e-01, -2.50000000e-01, -2.38787760e-01,\n",
       "       -2.28293888e-01, -2.18548454e-01, -2.09559472e-01, -2.01319016e-01,\n",
       "       -1.93808213e-01, -1.87001195e-01, -3.49953895e-01, -3.47613630e-01,\n",
       "       -3.43047562e-01, -3.36471258e-01, -3.28177490e-01, -3.18506539e-01,\n",
       "       -3.07815896e-01, -2.96453708e-01, -2.84738667e-01, -2.72947250e-01,\n",
       "       -2.61307788e-01, -2.50000000e-01, -2.39158326e-01, -2.28877480e-01,\n",
       "       -2.19218960e-01, -2.10217635e-01, -2.01887831e-01, -1.94228646e-01,\n",
       "       -1.87228383e-01, -1.80868134e-01, -1.75124590e-01, -3.29966076e-01,\n",
       "       -3.27884713e-01, -3.23819203e-01, -3.17953159e-01, -3.10537124e-01,\n",
       "       -3.01864168e-01, -2.92244666e-01, -2.81983782e-01, -2.71363971e-01,\n",
       "       -2.60633394e-01, -2.50000000e-01, -2.39630281e-01, -2.29651405e-01,\n",
       "       -2.20155446e-01, -2.11204637e-01, -2.02836871e-01, -1.95070915e-01,\n",
       "       -1.87911064e-01, -1.81351092e-01, -1.75377516e-01, -1.69972182e-01,\n",
       "       -1.65114290e-01, -3.13105890e-01, -3.11231189e-01, -3.07565865e-01,\n",
       "       -3.02269091e-01, -2.95558930e-01, -2.87691848e-01, -2.78941308e-01,\n",
       "       -2.69578375e-01, -2.59856304e-01, -2.50000000e-01, -2.40200243e-01,\n",
       "       -2.30611966e-01, -2.21355546e-01, -2.12520056e-01, -2.04167564e-01,\n",
       "       -1.96337780e-01, -1.89052572e-01, -1.82320074e-01, -1.76138237e-01,\n",
       "       -1.70497800e-01, -1.65384693e-01, -1.60781938e-01, -1.56671122e-01,\n",
       "       -2.98906570e-01, -2.97197585e-01, -2.93853576e-01, -2.89014854e-01,\n",
       "       -2.82874283e-01, -2.75659739e-01, -2.67615607e-01, -2.58985793e-01,\n",
       "       -2.50000000e-01, -2.40864068e-01, -2.31754414e-01, -2.22816016e-01,\n",
       "       -2.14163112e-01, -2.05881730e-01, -1.98033254e-01, -1.90658403e-01,\n",
       "       -1.83781190e-01, -1.77412580e-01, -1.71553709e-01, -1.66198607e-01,\n",
       "       -1.61336431e-01, -1.56953263e-01, -1.53033510e-01, -1.49560983e-01,\n",
       "       -2.87000759e-01, -2.85424846e-01, -2.82339144e-01, -2.77869311e-01,\n",
       "       -2.72188562e-01, -2.65502348e-01, -2.58032075e-01, -2.50000000e-01,\n",
       "       -2.41616841e-01, -2.33072871e-01, -2.24532574e-01, -2.16132471e-01,\n",
       "       -2.07981388e-01, -2.00162456e-01, -1.92736111e-01, -1.85743554e-01,\n",
       "       -1.79210262e-01, -1.73149284e-01, -1.67564179e-01, -1.62451538e-01,\n",
       "       -1.57803067e-01, -1.53607289e-01, -1.49850879e-01, -1.46519714e-01,\n",
       "       -1.43599666e-01, -2.77098567e-01, -2.75629245e-01, -2.72750638e-01,\n",
       "       -2.68577006e-01, -2.63266217e-01, -2.57006126e-01, -2.50000000e-01,\n",
       "       -2.42452878e-01, -2.34560239e-01, -2.26499722e-01, -2.18425999e-01,\n",
       "       -2.10468498e-01, -2.02731386e-01, -1.95295156e-01, -1.88219205e-01,\n",
       "       -1.81544884e-01, -1.75298652e-01, -1.69495087e-01, -1.64139589e-01,\n",
       "       -1.59230730e-01, -1.54762221e-01, -1.50724520e-01, -1.47106121e-01,\n",
       "       -1.43894562e-01, -1.41077206e-01, -1.38641834e-01, -2.68971479e-01,\n",
       "       -2.67586866e-01, -2.64872967e-01, -2.60935201e-01, -2.55919506e-01,\n",
       "       -2.50000000e-01, -2.43365719e-01, -2.36208106e-01, -2.28710521e-01,\n",
       "       -2.21040461e-01, -2.13344633e-01, -2.05746625e-01, -1.98346681e-01,\n",
       "       -1.91222985e-01, -1.84433915e-01, -1.78020776e-01, -1.72010678e-01,\n",
       "       -1.66419307e-01, -1.61253453e-01, -1.56513213e-01, -1.52193858e-01,\n",
       "       -1.48287369e-01, -1.44783679e-01, -1.41671652e-01, -1.38939844e-01,\n",
       "       -1.36577089e-01, -1.34572940e-01, -2.62440488e-01, -2.61122134e-01,\n",
       "       -2.58537150e-01, -2.54784181e-01, -2.50000000e-01, -2.44348144e-01,\n",
       "       -2.38006636e-01, -2.31156346e-01, -2.23971154e-01, -2.16610566e-01,\n",
       "       -2.09214952e-01, -2.01903204e-01, -1.94772354e-01, -1.87898642e-01,\n",
       "       -1.81339523e-01, -1.75136157e-01, -1.69316070e-01, -1.63895749e-01,\n",
       "       -1.58883016e-01, -1.54279125e-01, -1.50080546e-01, -1.46280438e-01,\n",
       "       -1.42869854e-01, -1.39838695e-01, -1.37176454e-01, -1.34872796e-01,\n",
       "       -1.32917995e-01, -1.31303259e-01, -2.57367318e-01, -2.56099318e-01,\n",
       "       -2.53612351e-01, -2.50000000e-01, -2.45392176e-01, -2.39944472e-01,\n",
       "       -2.33826618e-01, -2.27211490e-01, -2.20265762e-01, -2.13142834e-01,\n",
       "       -2.05978203e-01, -1.98887110e-01, -1.91964061e-01, -1.85283737e-01,\n",
       "       -1.78902808e-01, -1.72862258e-01, -1.67189874e-01, -1.61902704e-01,\n",
       "       -1.57009324e-01, -1.52511843e-01, -1.48407624e-01, -1.44690713e-01,\n",
       "       -1.41353011e-01, -1.38385204e-01, -1.35777503e-01, -1.33520205e-01,\n",
       "       -1.31604137e-01, -1.30020976e-01, -1.28763495e-01, -2.53647991e-01,\n",
       "       -2.52416287e-01, -2.50000000e-01, -2.46489109e-01, -2.42008638e-01,\n",
       "       -2.36708505e-01, -2.30752504e-01, -2.24307773e-01, -2.17535796e-01,\n",
       "       -2.10585550e-01, -2.03588988e-01, -1.96658678e-01, -1.89887258e-01,\n",
       "       -1.83348235e-01, -1.77097674e-01, -1.71176390e-01, -1.65612327e-01,\n",
       "       -1.60422914e-01, -1.55617249e-01, -1.51198043e-01, -1.47163294e-01,\n",
       "       -1.43507684e-01, -1.40223719e-01, -1.37302654e-01, -1.34735213e-01,\n",
       "       -1.32512154e-01, -1.30624704e-01, -1.29064881e-01, -1.27825738e-01,\n",
       "       -1.26901540e-01, -2.51208179e-01, -2.50000000e-01, -2.47629534e-01,\n",
       "       -2.44184449e-01, -2.39786622e-01, -2.34582323e-01, -2.28731517e-01,\n",
       "       -2.22397631e-01, -2.15738787e-01, -2.08901091e-01, -2.02014181e-01,\n",
       "       -1.95188874e-01, -1.88516576e-01, -1.82070012e-01, -1.75904835e-01,\n",
       "       -1.70061732e-01, -1.64568734e-01, -1.59443505e-01, -1.54695471e-01,\n",
       "       -1.50327728e-01, -1.46338682e-01, -1.42723421e-01, -1.39474845e-01,\n",
       "       -1.36584576e-01, -1.34043671e-01, -1.31843187e-01, -1.29974612e-01,\n",
       "       -1.28430184e-01, -1.27203140e-01, -1.26287891e-01, -1.25680149e-01,\n",
       "       -2.50000000e-01, -2.48803387e-01, -2.46455453e-01, -2.43042733e-01,\n",
       "       -2.38685569e-01, -2.33528440e-01, -2.27729436e-01, -2.21450165e-01,\n",
       "       -2.14847094e-01, -2.08064916e-01, -2.01232127e-01, -1.94458677e-01,\n",
       "       -1.87835361e-01, -1.81434512e-01, -1.75311574e-01, -1.69507167e-01,\n",
       "       -1.64049361e-01, -1.58955930e-01, -1.54236461e-01, -1.49894236e-01,\n",
       "       -1.45927859e-01, -1.42332619e-01, -1.39101608e-01, -1.36226627e-01,\n",
       "       -1.33698899e-01, -1.31509628e-01, -1.29650429e-01, -1.28113650e-01,\n",
       "       -1.26892619e-01, -1.25981817e-01, -1.25377010e-01, -1.25075329e-01])"
      ]
     },
     "execution_count": 179,
     "metadata": {},
     "output_type": "execute_result"
    }
   ],
   "source": [
    "if __TESTING__:\n",
    "    print(g0FT)"
   ]
  },
  {
   "cell_type": "code",
   "execution_count": 183,
   "metadata": {},
   "outputs": [
    {
     "data": {
      "text/plain": [
       "0.6242315078967211"
      ]
     },
     "execution_count": 183,
     "metadata": {},
     "output_type": "execute_result"
    }
   ],
   "source": [
    "pmax = np.sqrt(min([np.dot(G, G) for G in square.BZG]) / -np.log(1e-11))\n",
    "prefactor = square.volume\n",
    "g0Taylor_fnlp = {(n, l): GFcalc.Fnl_p(n, pmax) for (n, l) in g0Taylor.nl()}\n",
    "g0Taylor_fnlu = {(n, l): GFcalc.Fnl_u(n, l, pmax, prefactor, d=2)\n",
    "                 for (n, l) in g0Taylor.nl()}\n",
    "if __TESTING__:\n",
    "    print(pmax)"
   ]
  },
  {
   "cell_type": "code",
   "execution_count": 187,
   "metadata": {},
   "outputs": [
    {
     "data": {
      "text/plain": [
       "([(-2, 0), (0, 4)], [(-2, 0), (0, 4)], [(-2, 0), (0, 4)])"
      ]
     },
     "execution_count": 187,
     "metadata": {},
     "output_type": "execute_result"
    }
   ],
   "source": [
    "if __TESTING__:\n",
    "    print(g0Taylor.nl(), g0WGbarTaylor.nl(), g0WGGbarTaylor.nl())"
   ]
  },
  {
   "cell_type": "code",
   "execution_count": 191,
   "metadata": {},
   "outputs": [],
   "source": [
    "g0WGbarsc = np.zeros_like(g0WGbarFT)\n",
    "g0WGGbarsc = np.zeros_like(g0WGGbarFT)\n",
    "for i, k in enumerate(kpt):\n",
    "    g0WGbarsc[i] = (g0FT[i]**2)*g0WGbarFT[i] - g0WGbarTaylor(k, g0Taylor_fnlp).real\n",
    "    g0WGGbarsc[i] = (g0FT[i]**2)*g0WGGbarFT[i] - g0WGGbarTaylor(k, g0Taylor_fnlp).real"
   ]
  },
  {
   "cell_type": "code",
   "execution_count": 197,
   "metadata": {},
   "outputs": [
    {
     "data": {
      "text/plain": [
       "array([ 0.        ,  0.14478892, -0.62835166,  0.44880337,  0.        ,\n",
       "        0.33877381, -0.26925509,  0.        ,  0.        , -0.03475936,\n",
       "        0.        ,  0.        ,  0.        ,  0.        ,  0.        ,\n",
       "        0.        ,  0.        ,  0.        ,  0.        ,  0.        ,\n",
       "        0.        ,  0.        ,  0.        ,  0.        ,  0.        ])"
      ]
     },
     "execution_count": 197,
     "metadata": {},
     "output_type": "execute_result"
    }
   ],
   "source": [
    "if __TESTING__:\n",
    "    print(truncate_vec(np.dot(wt, g0WGGbarsc)))"
   ]
  },
  {
   "cell_type": "markdown",
   "metadata": {},
   "source": [
    "### inverse Fourier transformation\n",
    "Now we go from the Fourier transformed version to the *inverse* Fourier transformed version (the final product version)."
   ]
  },
  {
   "cell_type": "code",
   "execution_count": 227,
   "metadata": {},
   "outputs": [],
   "source": [
    "# this list is a bit of overkill, but...\n",
    "veclist = [GFstarset.states[s[0]].dx for s in GFstarset.stars]\n",
    "g0WGbar, g0WGGbar = [], []\n",
    "for x in veclist:\n",
    "    coskx = np.sum(np.cos(np.tensordot(kpt, np.dot(g, x), axes=(1, 0)))\n",
    "                   for g in groupops) / 8\n",
    "    g0WGbar.append(np.dot(wt*coskx,g0WGbarsc) + g0WGbarTaylor(x, g0Taylor_fnlu).real)\n",
    "    g0WGGbar.append(np.dot(wt*coskx,g0WGGbarsc) + g0WGGbarTaylor(x, g0Taylor_fnlu).real)"
   ]
  },
  {
   "cell_type": "code",
   "execution_count": 230,
   "metadata": {},
   "outputs": [
    {
     "name": "stdout",
     "output_type": "stream",
     "text": [
      "[0. 0.] [ 0.         -0.08482923  0.19793486 -0.11310564  0.         -0.02827641\n",
      "  0.02827641]\n",
      "[0. 1.] [ 0.          0.16553345 -0.38624471  0.22071126  0.          0.05517782\n",
      " -0.05517782]\n",
      "[ 1. -1.] [ 0.          0.30248763 -0.70580448  0.40331684  0.          0.10082921\n",
      " -0.10082921]\n",
      "[ 0. -2.] [ 0.          0.39322104 -0.91751575  0.52429472  0.          0.13107368\n",
      " -0.13107368]\n",
      "[ 1. -2.] [ 0.          0.43996235 -1.02657882  0.58661647  0.          0.14665412\n",
      " -0.14665412]\n",
      "[2. 2.] [ 0.          0.51621963 -1.20451247  0.68829284  0.          0.17207321\n",
      " -0.17207321]\n",
      "[-3. -0.] [ 0.          0.52814564 -1.23233982  0.70419418  0.          0.17604855\n",
      " -0.17604855]\n",
      "[ 1. -3.] [ 0.          0.54850936 -1.27985518  0.73134582  0.          0.18283645\n",
      " -0.18283645]\n",
      "[ 3. -2.] [ 0.          0.59261795 -1.38277523  0.79015727  0.          0.19753932\n",
      " -0.19753932]\n",
      "[-0.  4.] [ 0.          0.62254226 -1.45259861  0.83005635  0.          0.20751409\n",
      " -0.20751409]\n",
      "[-4. -1.] [ 0.          0.63344479 -1.47803784  0.84459305  0.          0.21114826\n",
      " -0.21114826]\n",
      "[-3.  3.] [ 0.          0.64489535 -1.50475582  0.85986047  0.          0.21496512\n",
      " -0.21496512]\n",
      "[-4. -2.] [ 0.          0.66083076 -1.54193845  0.88110768  0.          0.22027692\n",
      " -0.22027692]\n",
      "[-5. -0.] [ 0.          0.69501434 -1.62170013  0.92668579  0.          0.23167145\n",
      " -0.23167145]\n",
      "[ 1. -5.] [ 0.          0.70175675 -1.63743242  0.93567567  0.          0.23391892\n",
      " -0.23391892]\n",
      "[6. 0.] [ 0.          0.75378654 -1.75883525  1.00504871  0.          0.25126218\n",
      " -0.25126218]\n"
     ]
    }
   ],
   "source": [
    "for v, g in zip(veclist, g0WGbar):\n",
    "    print(v, truncate_vec(g))"
   ]
  },
  {
   "cell_type": "code",
   "execution_count": 231,
   "metadata": {},
   "outputs": [
    {
     "name": "stdout",
     "output_type": "stream",
     "text": [
      "[0. 0.] [ 0.         -0.08646146 -0.01168398  0.11477505  0.          0.18460689\n",
      " -0.21786611  0.          0.          0.01662961]\n",
      "[0. 1.] [ 0.         -0.02378012  0.07044044 -0.02288478  0.         -0.0228802\n",
      " -0.02467088  0.          0.          0.02377554]\n",
      "[ 1. -1.] [ 0.         -0.1544228   0.41815209 -0.23153244  0.         -0.10930649\n",
      "  0.04491278  0.          0.          0.03219686]\n",
      "[ 0. -2.] [ 0.         -0.19919678  0.53636393 -0.29462537  0.         -0.13797037\n",
      "  0.05288682  0.          0.          0.04254178]\n",
      "[ 1. -2.] [ 0.         -0.22230521  0.59746197 -0.32730496  0.         -0.15285155\n",
      "  0.05714795  0.          0.          0.0478518 ]\n",
      "[2. 2.] [ 0.         -0.25976339  0.69600952 -0.37962332  0.         -0.17648274\n",
      "  0.06323711  0.          0.          0.05662281]\n",
      "[-3. -0.] [ 0.         -0.26553675  0.71102589 -0.38745692  0.         -0.17995238\n",
      "  0.06388796  0.          0.          0.05803221]\n",
      "[ 1. -3.] [ 0.         -0.27554375  0.73736146 -0.40144514  0.         -0.18627396\n",
      "  0.06552883  0.          0.          0.06037257]\n",
      "[ 3. -2.] [ 0.         -0.29715105  0.79408693 -0.4314637   0.         -0.19978484\n",
      "  0.06884046  0.          0.          0.06547219]\n",
      "[-0.  4.] [ 0.         -0.311763    0.83235176 -0.451636    0.         -0.20882575\n",
      "  0.07092024  0.          0.          0.06895275]\n",
      "[-4. -1.] [ 0.         -0.31711534  0.84642681 -0.45910336  0.         -0.21219612\n",
      "  0.0717799   0.          0.          0.07020811]\n",
      "[-3.  3.] [ 0.         -0.32274948  0.8612689  -0.46699851  0.         -0.21576993\n",
      "  0.07272813  0.          0.          0.0715209 ]\n",
      "[-4. -2.] [ 0.         -0.33055592  0.88176352 -0.47784442  0.         -0.22065168\n",
      "  0.07392532  0.          0.          0.07336318]\n",
      "[-5. -0.] [ 0.         -0.34734433  0.92592586 -0.50128534  0.         -0.2312372\n",
      "  0.07664482  0.          0.          0.07729619]\n",
      "[ 1. -5.] [ 0.         -0.3506687   0.93469719 -0.50596233  0.         -0.23335979\n",
      "  0.07722747  0.          0.          0.07806616]\n",
      "[6. 0.] [ 0.         -0.37638443  1.00267416 -0.54230952  0.         -0.24990529\n",
      "  0.08194487  0.          0.          0.08398021]\n"
     ]
    }
   ],
   "source": [
    "for v, g in zip(veclist, g0WGGbar):\n",
    "    print(v, truncate_vec(g))"
   ]
  },
  {
   "cell_type": "markdown",
   "metadata": {},
   "source": [
    "### Putting it all together\n",
    "All of the pieces are in place; we can now compute:\n",
    "\n",
    "* Transport coefficients using the SCGF approach\n",
    "* Residual bias correction to the latter\n",
    "\n",
    "Quantities are expressed as polynomials in $c_\\text{B}$, the concentration of the immobile species."
   ]
  },
  {
   "cell_type": "markdown",
   "metadata": {},
   "source": [
    "The Green function, and the correction $\\eta$, end up having particularly simple expressions, that we will compute directly (it requires some simplification of the polynomial expressions which are more difficult to directly express here. It, unfortunately, also introduces a denominator polynomial which makes some of our expressions more complicated.\n",
    "\n",
    "We have\n",
    "$$\\eta_i = -2\\frac{g^0_{i0}}{1+g^0_{i0} - (1+3g^0_{i0})c_\\text{B}}$$"
   ]
  },
  {
   "cell_type": "code",
   "execution_count": 232,
   "metadata": {},
   "outputs": [],
   "source": [
    "@njit(nogil=True, parallel=True)\n",
    "def polymult(p, q):\n",
    "    \"\"\"\n",
    "    Multiplication of two polynomial coefficients, where\n",
    "    \n",
    "    p(x) = sum_n p[n] * x^n\n",
    "    \n",
    "    :param p: polynomial coefficients for p\n",
    "    :param q: polynomial coefficients for q\n",
    "    :returns pq: polynomial coefficients for pq\n",
    "    \"\"\"\n",
    "    P = p.shape[0]-1\n",
    "    Q = q.shape[0]-1\n",
    "    pq = np.zeros(P+Q+1)\n",
    "    for n in range(P+Q+1):\n",
    "        for i in range(max(0,n-Q), min(n,P)+1):\n",
    "            pq[n] += p[i]*q[n-i]\n",
    "    return pq"
   ]
  },
  {
   "cell_type": "code",
   "execution_count": 252,
   "metadata": {},
   "outputs": [],
   "source": [
    "@njit(nogil=True, parallel=True)\n",
    "def polydiv(p, a):\n",
    "    \"\"\"\n",
    "    Division of polynomial p(x) by (x-a)\n",
    "    :param p: polynomial coefficients for p\n",
    "    :param a: term in nomial (x-a)\n",
    "    :returns d, r: divisor d(x), and remainder r\n",
    "    \"\"\"\n",
    "    P = p.shape[0]-1\n",
    "    d = np.zeros(P)\n",
    "    d[P-1] = p[P]\n",
    "    for n in range(P-2,-1,-1):\n",
    "        d[n] = p[n+1] + a*d[n+1]\n",
    "    return d, p[0] + a*d[0]"
   ]
  },
  {
   "cell_type": "code",
   "execution_count": 278,
   "metadata": {},
   "outputs": [],
   "source": [
    "divpoly = np.zeros(N+1)\n",
    "divpoly[0], divpoly[1] = 1+g0[0,0], -(1+3*g0[0,0])\n",
    "etabar_div = -2*g0[0]  # this is etabar*div, so that etabar = etabar_div/div\n",
    "etaW0_div = np.zeros(N+1)\n",
    "etaW0_div[0] = -2  # this is W0*etabar*div (for the translational invariant terms)"
   ]
  },
  {
   "cell_type": "code",
   "execution_count": 268,
   "metadata": {},
   "outputs": [],
   "source": [
    "# unbiased:\n",
    "L0 = np.zeros(N+1)\n",
    "L0[0], L0[1] = 1., -1."
   ]
  },
  {
   "cell_type": "code",
   "execution_count": 354,
   "metadata": {},
   "outputs": [
    {
     "data": {
      "text/plain": [
       "(array([-0.63661977,  0.63661977,  0.        ,  0.        ,  0.        ,\n",
       "         0.        ,  0.        ,  0.        ,  0.        ,  0.        ,\n",
       "         0.        ,  0.        ,  0.        ,  0.        ,  0.        ,\n",
       "         0.        ,  0.        ,  0.        ,  0.        ,  0.        ,\n",
       "         0.        ,  0.        ,  0.        ,  0.        ]),\n",
       " -1.1102230246251565e-16)"
      ]
     },
     "execution_count": 354,
     "metadata": {},
     "output_type": "execute_result"
    }
   ],
   "source": [
    "# Note: vecstarset.outer[i,j, v1, v2] = 1/2 delta_ij delta_v1v2, \n",
    "# so we can use dot-products throughout\n",
    "# SCGF:\n",
    "L1 = 0.5*np.dot(symmbiasvecVS, etabar_div)\n",
    "L_SCGF = polymult(L0, divpoly)[:N+1] + L1\n",
    "polydiv(L_SCGF, 1)"
   ]
  },
  {
   "cell_type": "code",
   "execution_count": 355,
   "metadata": {},
   "outputs": [
    {
     "name": "stdout",
     "output_type": "stream",
     "text": [
      "[ 0.         -0.00515924  0.92551811 -0.74429862 -1.58454228  1.72570416\n",
      " -0.31722213  0.          0.          0.          0.          0.\n",
      "  0.          0.          0.          0.          0.          0.\n",
      "  0.          0.          0.          0.          0.          0.\n",
      "  0.        ]\n"
     ]
    }
   ],
   "source": [
    "# print(np.dot(GFmat[0,0], g0WGGbar))\n",
    "PsiB = polymult(polymult(divpoly, divpoly), symmresbiasave)[:N+1] + \\\n",
    "    -2*polymult(divpoly, np.dot(symmbiasGvecVS, etabar_div))[:N+1] + \\\n",
    "    np.dot(np.dot(symmWGbarVS, etabar_div), etabar_div) + \\\n",
    "    4*np.dot(GFmat[0,0], g0WGbar)  # far-field; note: etaW0_div == 2, so factor of 4\n",
    "print(PsiB)"
   ]
  },
  {
   "cell_type": "code",
   "execution_count": 360,
   "metadata": {},
   "outputs": [
    {
     "name": "stdout",
     "output_type": "stream",
     "text": [
      "[ 0.         -0.00257962 -0.92594535  0.59936059  1.39125173 -1.57641803\n",
      "  0.89518596  0.19329055 -0.81663463  0.2424888   0.          0.\n",
      "  0.          0.          0.          0.          0.          0.\n",
      "  0.          0.          0.          0.          0.          0.\n",
      "  0.        ]\n"
     ]
    }
   ],
   "source": [
    "WR = polymult(polymult(divpoly, divpoly), symmresbiasGave)[:N+1] - \\\n",
    "    polymult(polymult(divpoly, divpoly), symmresbiasave)[:N+1] + \\\n",
    "    -2*polymult(divpoly, L1)[:N+1] + \\\n",
    "    -2*polymult(divpoly, np.dot(symmbiasGGvecVS, etabar_div))[:N+1] + \\\n",
    "    np.dot(np.dot(symmWGGbarVS, etabar_div), etabar_div) + \\\n",
    "    4*np.dot(GFmat[0,0], g0WGGbar)\n",
    "print(WR)"
   ]
  },
  {
   "cell_type": "code",
   "execution_count": 366,
   "metadata": {
    "scrolled": true
   },
   "outputs": [
    {
     "name": "stdout",
     "output_type": "stream",
     "text": [
      "0.01 0.9886002147241751 0.9885831647653186 0.9999827534339942\n",
      "0.02 0.9772326208040749 0.9770283919265403 0.9997910130370325\n",
      "0.03 0.9658970820763075 0.9652880898733048 0.9993695061158135\n",
      "0.04 0.9545934631443265 0.9533617822712406 0.9987097325504106\n",
      "0.05 0.9433216293730424 0.9412519134805684 0.9978059276623926\n",
      "0.060000000000000005 0.9320814468834736 0.9289618795840945 0.9966531172680136\n",
      "0.06999999999999999 0.9208727825474499 0.9164956724239848 0.9952467808730795\n",
      "0.08 0.9096955039823539 0.9038577722863163 0.9935827629459727\n",
      "0.09 0.8985494795459097 0.8910531012773827 0.9916572448828134\n",
      "0.09999999999999999 0.8874345783310165 0.8780869957266404 0.9894667361035718\n",
      "0.11 0.8763506701606203 0.8649651855039531 0.9870080721743724\n",
      "0.12 0.8652976255826346 0.8516937760318304 0.9842784157166221\n",
      "0.13 0.8542753158649004 0.8382792313189914 0.9812752583987354\n",
      "0.14 0.8432836129901864 0.8247283572850111 0.9779964232443928\n",
      "0.15000000000000002 0.8323223896512355 0.8110482850356865 0.9744400668778556\n",
      "0.16 0.821391519245848 0.7972464539250709 0.9706046815007956\n",
      "0.17 0.8104908758720073 0.7833305943264771 0.9664890964795767\n",
      "0.18000000000000002 0.7996203343230479 0.7693087100802413 0.9620924794659352\n",
      "0.19 0.7887797700828595 0.7551890606118241 0.9574143369986444\n",
      "0.2 0.7779690593211338 0.740980142729545 0.9524545145486045\n",
      "0.21000000000000002 0.7671880788886491 0.7266906721215158 0.9472131959795335\n",
      "0.22 0.7564367063125944 0.7123295645785532 0.9416909024033875\n",
      "0.23 0.7457148197919312 0.697905916975185 0.9358884904150278\n",
      "0.24000000000000002 0.7350222981927949 0.6834289880450272 0.9298071496951581\n",
      "0.25 0.7243590210439317 0.6689081789901414 0.923448399974538\n",
      "0.26 0.713724868532175 0.6543530139666951 0.9168140873561234\n",
      "0.27 0.7031197214979573 0.6397731204914803 0.9099063799952579\n",
      "0.28 0.6925434614308605 0.6251782098156391 0.9027277631413364\n",
      "0.29000000000000004 0.6819959704652 0.610578057313364 0.8952810335475725\n",
      "0.3 0.6714771313756471 0.5959824829343968 0.8875692932586023\n",
      "0.31 0.660986827572886 0.5814013317698652 0.8795959427886708\n",
      "0.32 0.6505249430993062 0.5668444547813717 0.871364673706047\n",
      "0.33 0.6400913626247295 0.5523216897433049 0.8628794606421178\n",
      "0.34 0.6296859714421733 0.5378428424480828 0.8541445527462813\n",
      "0.35000000000000003 0.619308655463645 0.5234176682234535 0.8451644646102955\n",
      "0.36000000000000004 0.6089593012159741 0.5090558538101174 0.835943966688137\n",
      "0.37 0.5986377958366751 0.4947669996467533 0.8264880752396385\n",
      "0.38 0.5883440270698451 0.4805606026080999 0.8168020418282419\n",
      "0.39 0.5780778832620943 0.4664460392400235 0.8068913424050542\n",
      "0.4 0.567839253358509 0.452432549533551 0.7967616660130833\n",
      "0.41000000000000003 0.5576280268986472 0.43852922127764854 0.7864189031469795\n",
      "0.42000000000000004 0.5474440940125656 0.4247449750281253 0.7758691338048778\n",
      "0.43 0.5372873454168797 0.4110885497274403 0.7651186152699686\n",
      "0.44 0.5271576724108546 0.39756848900741193 0.7541737696602396\n",
      "0.45 0.5170549668725267 0.38419312820391205 0.7430411712854311\n",
      "0.46 0.5069791212548572 0.37097058210957257 0.7317275338506228\n",
      "0.47000000000000003 0.4969300285819163 0.35790873348736785 0.7202396975460067\n",
      "0.48000000000000004 0.48690758244509547 0.34501522236470583 0.7085846160623517\n",
      "0.49 0.4769116769993535 0.3322974361243652 0.6967693435713792\n",
      "0.5 0.46694220695948974 0.31976250040527815 0.6848010217097801\n",
      "0.51 0.4569990675964475 0.3074172708228256 0.6726868666049229\n",
      "0.52 0.4470821547336471 0.2952683255149852 0.6604341559794391\n",
      "0.53 0.43719136474334636 0.2833219585173722 0.6480502163708028\n",
      "0.54 0.42732659454303284 0.2715841739669904 0.6355424105008312\n",
      "0.55 0.41748774159184193 0.26006068113133274 0.622918124828637\n",
      "0.56 0.40767470388700355 0.24875689025641692 0.6101847573190747\n",
      "0.5700000000000001 0.39788737996031653 0.23767790922438006 0.5973497054570692\n",
      "0.5800000000000001 0.3881256688746535 0.22682854100843955 0.5844203545364958\n",
      "0.59 0.3783894702204891 0.21621328191032055 0.5714040662503959\n",
      "0.6 0.3686786841124569 0.20583632056274512 0.5583081676074322\n",
      "0.61 0.3589932111859354 0.1957015376771983 0.5451399401974694\n",
      "0.62 0.3493329525936577 0.18581250651499764 0.5319066098271404\n",
      "0.63 0.339697810002349 0.17617249405768515 0.5186153365441682\n",
      "0.64 0.3300876855893888 0.16678446285093748 0.5052732050671176\n",
      "0.65 0.3205024820395035 0.15765107349457858 0.4918872156351891\n",
      "0.66 0.31094210254147836 0.14877468774980301 0.4784642752904686\n",
      "0.67 0.30140645078490025 0.14015737223353228 0.46501118960309207\n",
      "0.68 0.2918954309569213 0.13180090266872968 0.45153465484761635\n",
      "0.6900000000000001 0.28240894773905223 0.12370676865868918 0.4380412506369843\n",
      "0.7000000000000001 0.2729469063039779 0.11587617895261351 0.424537433018433\n",
      "0.7100000000000001 0.2635092123123952 0.10831006716933242 0.41102952803383874\n",
      "0.72 0.25409577190988025 0.1010090979457167 0.3975237257451944\n",
      "0.73 0.24470649172377565 0.09397367347618461 0.3840260747240901\n",
      "0.74 0.235341278860106 0.08720394040976778 0.37054247700253407\n",
      "0.75 0.22600004090050865 0.08069979707133407 0.35707868348068267\n",
      "0.76 0.21668268589920014 0.07446090097397515 0.3436402897858394\n",
      "0.77 0.20738912237995627 0.06848667658994893 0.3302327325754093\n",
      "0.78 0.19811925933311686 0.0627763233482323 0.3168612862754573\n",
      "0.79 0.18887300621261896 0.05732882382741215 0.30353106024518767\n",
      "0.8 0.17965027293304495 0.05214295211347268 0.2902469963566723\n",
      "0.81 0.17045096986669986 0.047217282292946104 0.27701386697812336\n",
      "0.8200000000000001 0.16127500784070503 0.042550197052895596 0.2638362733482139\n",
      "0.8300000000000001 0.15212229813412093 0.03813989636025616 0.25071864432806257\n",
      "0.8400000000000001 0.1429927524750811 0.0339844061942141 0.23766523551699906\n",
      "0.85 0.1338862830379599 0.030081587306470845 0.224680128717458\n",
      "0.86 0.12480280244056031 0.026429143985510637 0.2117672317342234\n",
      "0.87 0.11574222374130434 0.023024632802142952 0.19893027849201647\n",
      "0.88 0.10670446043647226 0.01986547131511161 0.18617282945672875\n",
      "0.89 0.0976894264574475 0.01694894671657016 0.1734982723432504\n",
      "0.9 0.08869703616798034 0.014272224398824916 0.1609098230948239\n",
      "0.91 0.07972720436147818 0.011832356424862177 0.14841052711713068\n",
      "0.92 0.07077984625831711 0.00962628988662167 0.1360032607515097\n",
      "0.93 0.061854877503165005 0.007650875136172939 0.12369073297059649\n",
      "0.9400000000000001 0.052952214162342796 0.005902873876406304 0.11147548728196825\n",
      "0.9500000000000001 0.04407177272116553 0.00437896709881701 0.0993599038214772\n",
      "0.9600000000000001 0.03521347008137245 0.0030757628576175344 0.08734620162426368\n",
      "0.97 0.026377223558495894 0.001989803870182417 0.07543644105565907\n",
      "0.98 0.017562950879301858 0.0011175749352018564 0.06363252638364612\n",
      "0.99 0.008770570179264022 0.0004555101614051208 0.051936208489850394\n"
     ]
    }
   ],
   "source": [
    "# Now, to put it together, and do the division...\n",
    "cBv = np.linspace(0.01,1,num=99,endpoint=False)\n",
    "D1, D2 = [], []\n",
    "for cB in cBv:\n",
    "    # print(cB)\n",
    "    cA = 1-cB\n",
    "    cpow = np.array([cB**n for n in range(N+1)])\n",
    "    L0c, divc, L1c = np.dot(cpow, L0), np.dot(cpow, divpoly), np.dot(cpow, L_SCGF)\n",
    "    L1c /= divc\n",
    "    PsiBc, WRc = np.dot(cpow, PsiB)/(divc*divc), np.dot(cpow, WR)/(divc*divc)\n",
    "    L2c = L1c + 0.5*PsiBc*PsiBc/WRc\n",
    "    D0c = L0c/cA\n",
    "    D1c = L1c/cA\n",
    "    D2c = L2c/cA\n",
    "    D1.append(D1c)\n",
    "    D2.append(D2c)\n",
    "    print(cB, D1c, D2c, D2c/D1c) #, PsiBc)\n",
    "D1v, D2v = np.array(D1), np.array(D2)"
   ]
  },
  {
   "cell_type": "code",
   "execution_count": 376,
   "metadata": {},
   "outputs": [
    {
     "data": {
      "image/png": "[encoded data removed]",
      "text/plain": [
       "<Figure size 576x576 with 1 Axes>"
      ]
     },
     "metadata": {},
     "output_type": "display_data"
    }
   ],
   "source": [
    "plt.rcParams['figure.figsize'] = (8,8)\n",
    "fig, ax = plt.subplots()\n",
    "ax.plot(cBv, D1, 'b', label='GF')\n",
    "ax.plot(cBv, D2, 'r', label='GF+resbias')\n",
    "ax.set_ylabel('$D^{\\\\rm A}$', fontsize='x-large')\n",
    "ax.set_xlabel('$c_{\\\\rm B}$', fontsize='x-large')\n",
    "ax.legend(bbox_to_anchor=(0.5,0.5,0.5,0.3), ncol=1, shadow=True,\n",
    "          frameon=True, fontsize='x-large', framealpha=1.)\n",
    "plt.tight_layout()\n",
    "plt.show()"
   ]
  },
  {
   "cell_type": "markdown",
   "metadata": {},
   "source": [
    "### Final \"analytic\" versions\n",
    "We now produce the analytic (with numerical coefficients) version of our transport coefficients."
   ]
  },
  {
   "cell_type": "code",
   "execution_count": 388,
   "metadata": {},
   "outputs": [],
   "source": [
    "num_SCGF, denom_SCGF = truncate_vec(-polydiv(L_SCGF,1)[0]), truncate_vec(divpoly)"
   ]
  },
  {
   "cell_type": "code",
   "execution_count": 389,
   "metadata": {},
   "outputs": [],
   "source": [
    "num_SCGFbc, denom_SCGFbc = \\\n",
    "truncate_vec(-polydiv(0.5*polymult(PsiB,PsiB),1)[0]), \\\n",
    "truncate_vec(polymult(polymult(divpoly, divpoly), WR))"
   ]
  },
  {
   "cell_type": "code",
   "execution_count": 391,
   "metadata": {},
   "outputs": [
    {
     "data": {
      "text/plain": [
       "(-1.1102230246251565e-16, -1.4343655928804322e-16)"
      ]
     },
     "execution_count": 391,
     "metadata": {},
     "output_type": "execute_result"
    }
   ],
   "source": [
    "# check remainders (should be 0 for both)\n",
    "if __TESTING__:\n",
    "    print(polydiv(L_SCGF,1)[1], polydiv(0.5*polymult(PsiB,PsiB),1)[1])"
   ]
  },
  {
   "cell_type": "code",
   "execution_count": 411,
   "metadata": {},
   "outputs": [],
   "source": [
    "def print_fraction(numer, denom, powstring='**'):\n",
    "    \"\"\"\n",
    "    Returns a string representation of our polynomial ratio\n",
    "    \"\"\"\n",
    "    def format_pow(n):\n",
    "        if n==0:\n",
    "            return ''\n",
    "        if n==1:\n",
    "            return '*c'\n",
    "        return '*c' + powstring +'{}'.format(n)\n",
    "    \n",
    "    # first, \"divide\" through until lowest order is constant on both:\n",
    "    while np.isclose(numer[0], 0) and np.isclose(denom[0], 0):\n",
    "        numer, denom = numer[1:], denom[1:]\n",
    "    # second, scale everything by lowest order term in denominator\n",
    "    scale = denom[np.min(np.nonzero(denom))]\n",
    "    numer /= scale\n",
    "    denom /= scale\n",
    "    s = '('\n",
    "    for n, coeff in enumerate(numer):\n",
    "        if not np.isclose(coeff, 0):\n",
    "            s += '{:+.10g}'.format(coeff) + format_pow(n)\n",
    "    s += ')/('\n",
    "    for n, coeff in enumerate(denom):\n",
    "        if not np.isclose(coeff, 0):\n",
    "            s += '{:+.10g}'.format(coeff) + format_pow(n)\n",
    "    s += ')'\n",
    "    return s    "
   ]
  },
  {
   "cell_type": "code",
   "execution_count": 412,
   "metadata": {},
   "outputs": [
    {
     "name": "stdout",
     "output_type": "stream",
     "text": [
      "(+1-1*c)/(+1+0.1415926534*c)\n"
     ]
    }
   ],
   "source": [
    "print(print_fraction(num_SCGF, denom_SCGF))"
   ]
  },
  {
   "cell_type": "code",
   "execution_count": 415,
   "metadata": {},
   "outputs": [
    {
     "name": "stdout",
     "output_type": "stream",
     "text": [
      "(+1-1*c)/(+1+0.1415926534*c) + (-0.01272990904*c+4.554518972*c^2-408.7789226*c^3+242.2968878*c^4+1388.598607*c^5-1268.72564*c^6-960.1143785*c^7+1429.546709*c^8-475.4912083*c^9+48.12615674*c^10)/(+1+359.2297602*c-130.6761861*c^2-597.9247855*c^3+453.718084*c^4-184.779244*c^5-160.9498551*c^6+288.3954999*c^7-5.855536997*c^8-20.27314331*c^9-1.884593043*c^10)\n"
     ]
    }
   ],
   "source": [
    "print(print_fraction(num_SCGF, denom_SCGF) + ' + ' +\\\n",
    "      print_fraction(num_SCGFbc, denom_SCGFbc))"
   ]
  },
  {
   "cell_type": "markdown",
   "metadata": {},
   "source": [
    "**Note:** both of these polynomials have two factors of $(1-c)$ in them; so we can simplify further..."
   ]
  },
  {
   "cell_type": "code",
   "execution_count": 421,
   "metadata": {},
   "outputs": [
    {
     "data": {
      "text/plain": [
       "(array([-1.26654243e-11, -7.84439180e-12,  1.27299090e-02, -4.51632925e+00,\n",
       "         3.95191745e+02,  9.56840065e+02,  2.91830024e+02, -3.31112738e+02,\n",
       "         4.81261567e+01]), -1.8954227076761754e-11)"
      ]
     },
     "execution_count": 421,
     "metadata": {},
     "output_type": "execute_result"
    }
   ],
   "source": [
    "polydiv(polydiv(polydiv(num_SCGFbc,1)[0],1)[0],1)"
   ]
  },
  {
   "cell_type": "code",
   "execution_count": 423,
   "metadata": {},
   "outputs": [
    {
     "data": {
      "text/plain": [
       "(array([-4.26325641e-12,  1.00000000e+00,  3.61229760e+02,  5.90783334e+02,\n",
       "         2.22412123e+02,  3.07758995e+02,  2.08326624e+02, -5.20556028e+01,\n",
       "        -2.40423294e+01, -1.88459304e+00]), -7.673861546209082e-12)"
      ]
     },
     "execution_count": 423,
     "metadata": {},
     "output_type": "execute_result"
    }
   ],
   "source": [
    "polydiv(polydiv(denom_SCGFbc,1)[0],1)"
   ]
  },
  {
   "cell_type": "code",
   "execution_count": 424,
   "metadata": {},
   "outputs": [
    {
     "name": "stdout",
     "output_type": "stream",
     "text": [
      "(+1-1*c)/(+1+0.1415926534*c) + (-0.01272990905*c+4.529059154*c^2-399.7080744*c^3-561.6483202*c^4+665.0100411*c^5+622.9427624*c^6-379.2388949*c^7+48.12615674*c^8)/(+1+361.2297602*c+590.7833342*c^2+222.4121227*c^3+307.7589952*c^4+208.3266238*c^5-52.05560275*c^6-24.0423294*c^7-1.884593043*c^8)\n"
     ]
    }
   ],
   "source": [
    "SCGFbc_func = print_fraction(num_SCGF, denom_SCGF) + ' + ' +\\\n",
    "      print_fraction(polydiv(polydiv(num_SCGFbc,1)[0],1)[0], \n",
    "                     polydiv(polydiv(denom_SCGFbc,1)[0],1)[0])\n",
    "print(SCGFbc_func)"
   ]
  }
 ],
 "metadata": {
  "kernelspec": {
   "display_name": "Python 3",
   "language": "python",
   "name": "python3"
  },
  "language_info": {
   "codemirror_mode": {
    "name": "ipython",
    "version": 3
   },
   "file_extension": ".py",
   "mimetype": "text/x-python",
   "name": "python",
   "nbconvert_exporter": "python",
   "pygments_lexer": "ipython3",
   "version": "3.6.5"
  }
 },
 "nbformat": 4,
 "nbformat_minor": 2
}

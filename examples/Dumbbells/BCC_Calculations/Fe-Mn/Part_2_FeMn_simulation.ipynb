{
 "cells": [
  {
   "cell_type": "markdown",
   "metadata": {},
   "source": [
    "## Simulation of <110> dumbbell diffusion in Fe- dilute Mn alloy.\n",
    "In this notebook, we use the onsager calculator we created in part 1 to compute transport coefficients for the dumbbell-mediated mechanism for dilute Mn in Fe.\n",
    "\n",
    "The data of the energies are taken from the database given along with the paper by Messina et. al. - https://doi.org/10.1016/j.actamat.2020.03.038\n",
    "\n",
    "We need to identify the solute-dumbbell complex states as well as the various dumbbell jump types with the appropriate labels give in this paper. We then assign appropriate state formation and dumbbell migration energies, as per the data given in the above-mentioned database.\n",
    "\n",
    "We then compare the Green's function results with the results from SCMF calculations taken also from the above-mentioned database."
   ]
  },
  {
   "cell_type": "code",
   "execution_count": 1,
   "metadata": {},
   "outputs": [],
   "source": [
    "import numpy as np\n",
    "\n",
    "from scipy.constants import physical_constants\n",
    "kB = physical_constants['Boltzmann constant in eV/K'][0]\n",
    "from matplotlib import pyplot as plt\n",
    "\n",
    "from tqdm import tqdm\n",
    "import pickle\n",
    "import time"
   ]
  },
  {
   "cell_type": "code",
   "execution_count": 2,
   "metadata": {},
   "outputs": [
    {
     "name": "stdout",
     "output_type": "stream",
     "text": [
      "CPU times: user 10min 43s, sys: 19.4 s, total: 11min 2s\n",
      "Wall time: 10min 45s\n"
     ]
    }
   ],
   "source": [
    "%%time\n",
    "with open(\"FeMn_Onsg.pkl\",\"rb\") as fl:\n",
    "    onsagercalculator = pickle.load(fl)"
   ]
  },
  {
   "cell_type": "markdown",
   "metadata": {},
   "source": [
    "### Now, we'll look at the complex states in our thermodynamic shell\n",
    "We take the first state from each symmetry group of states, and print out its info in groups\n",
    "of three lines.\n",
    "\n",
    "For each state, the number printed out in the first line is the index assgined to the\n",
    "symmetry group (called the \"star\") the state belongs to.\n",
    "\n",
    "The second line gives the pure dumbbell orientation vector in cartesian coordinates (Recall that the length of the orientation vector is taken to be the atomic diameter of iron).\n",
    "\n",
    "The third line prints the position of the dumbbell with respect to the solute location\n",
    "in cartesian coordinates. Recall that the lattice parameter of BCC Fe is 0.2831 nm, as per Messina et al.'s paper.\n",
    "\n",
    "Note that the first complex state (with index 0 in the first line) is an origin state (pure dumbbell on top of solute) and is unphysical.\n",
    "\n",
    "From index 1 onwards, we'll then have to manually match our complex states with the labels in Messina et. al. (1nnA, 1nnB etc). No interaction will be assumed when a corresponding state label is not found in Messina et. al.'s database. For example, a particualr 4nn state found below was not considered in the SCMF calculations.\n",
    "The first 13 such symmetry group starting from index 1 are going to contain all the states we need to consider."
   ]
  },
  {
   "cell_type": "code",
   "execution_count": 3,
   "metadata": {
    "scrolled": false
   },
   "outputs": [
    {
     "name": "stdout",
     "output_type": "stream",
     "text": [
      "0\n",
      "Dumbbell orientation: [-0.1782 -0.1782  0.    ]\n",
      "Dumbbell location relative to solute: [0. 0. 0.]\n",
      "\n",
      "1\n",
      "Dumbbell orientation: [0.1782 0.     0.1782]\n",
      "Dumbbell location relative to solute: [-0.14155  0.14155 -0.14155]\n",
      "\n",
      "2\n",
      "Dumbbell orientation: [0.1782 0.     0.1782]\n",
      "Dumbbell location relative to solute: [-0.14155  0.14155  0.14155]\n",
      "\n",
      "3\n",
      "Dumbbell orientation: [-0.1782 -0.1782  0.    ]\n",
      "Dumbbell location relative to solute: [0.2831 0.     0.    ]\n",
      "\n",
      "4\n",
      "Dumbbell orientation: [-0.1782 -0.1782  0.    ]\n",
      "Dumbbell location relative to solute: [0.     0.     0.2831]\n",
      "\n",
      "5\n",
      "Dumbbell orientation: [-0.1782 -0.1782  0.    ]\n",
      "Dumbbell location relative to solute: [0.2831 0.2831 0.    ]\n",
      "\n",
      "6\n",
      "Dumbbell orientation: [-0.1782 -0.1782  0.    ]\n",
      "Dumbbell location relative to solute: [ 0.2831  0.     -0.2831]\n",
      "\n",
      "7\n",
      "Dumbbell orientation: [-0.1782 -0.1782  0.    ]\n",
      "Dumbbell location relative to solute: [ 0.2831 -0.2831  0.    ]\n",
      "\n",
      "8\n",
      "Dumbbell orientation: [0.1782 0.     0.1782]\n",
      "Dumbbell location relative to solute: [-0.42465 -0.14155 -0.14155]\n",
      "\n",
      "9\n",
      "Dumbbell orientation: [-0.1782 -0.1782  0.    ]\n",
      "Dumbbell location relative to solute: [ 0.42465 -0.14155 -0.14155]\n",
      "\n",
      "10\n",
      "Dumbbell orientation: [ 0.1782  0.     -0.1782]\n",
      "Dumbbell location relative to solute: [ 0.14155 -0.42465  0.14155]\n",
      "\n",
      "11\n",
      "Dumbbell orientation: [-0.1782 -0.1782  0.    ]\n",
      "Dumbbell location relative to solute: [0.14155 0.14155 0.42465]\n",
      "\n",
      "12\n",
      "Dumbbell orientation: [ 0.1782  0.     -0.1782]\n",
      "Dumbbell location relative to solute: [0.2831 0.2831 0.2831]\n",
      "\n",
      "13\n",
      "Dumbbell orientation: [ 0.1782  0.     -0.1782]\n",
      "Dumbbell location relative to solute: [-0.2831  0.2831  0.2831]\n",
      "\n",
      "14\n",
      "Dumbbell orientation: [0.     0.1782 0.1782]\n",
      "Dumbbell location relative to solute: [0.42465 0.14155 0.42465]\n",
      "\n",
      "15\n",
      "Dumbbell orientation: [0.     0.1782 0.1782]\n",
      "Dumbbell location relative to solute: [ 0.42465 -0.14155  0.42465]\n",
      "\n",
      "16\n",
      "Dumbbell orientation: [0.     0.1782 0.1782]\n",
      "Dumbbell location relative to solute: [-0.14155  0.42465  0.42465]\n",
      "\n",
      "17\n",
      "Dumbbell orientation: [0.     0.1782 0.1782]\n",
      "Dumbbell location relative to solute: [-0.14155 -0.42465  0.42465]\n",
      "\n",
      "18\n",
      "Dumbbell orientation: [0.1782 0.     0.1782]\n",
      "Dumbbell location relative to solute: [ 0.42465  0.42465 -0.42465]\n",
      "\n",
      "19\n",
      "Dumbbell orientation: [-0.1782 -0.1782  0.    ]\n",
      "Dumbbell location relative to solute: [-0.42465 -0.42465 -0.42465]\n",
      "\n"
     ]
    }
   ],
   "source": [
    "count = 0\n",
    "for star in onsagercalculator.thermo.stars[:onsagercalculator.thermo.mixedstartindex]:\n",
    "    print(count)\n",
    "    db = star[0].db\n",
    "    print(\"Dumbbell orientation: {}\".format(np.round(\n",
    "        onsagercalculator.pdbcontainer.iorlist[db.iorind][1], decimals=4)-0.))\n",
    "    print(\"Dumbbell location relative to solute: {}\".format(\n",
    "    np.dot(onsagercalculator.crys.lattice, db.R)))\n",
    "    print()\n",
    "    count += 1"
   ]
  },
  {
   "cell_type": "code",
   "execution_count": 4,
   "metadata": {},
   "outputs": [],
   "source": [
    "# Next, we assign labels to the solute-dumbbell configurations.\n",
    "name_to_themo_star = {\"1nnA\":2, \"1nnB\":1, \"2nnA\":4, \"2nnB\":3, \"3nnA\":7,\"3nnB\":6,\"3nnC\":5,\n",
    "       \"4nnA\":10,\"4nnB\":11,\"4nnC\":8, \"5nnA\":12, \"5nnB\":13}"
   ]
  },
  {
   "cell_type": "markdown",
   "metadata": {},
   "source": [
    "## Transition state energies and attempt frequencies as obtained from Messina et. al.'s database\n",
    "\n",
    "### Pure dumbbell jumps\n",
    "\n",
    "| Jump label | TS energy | att. freq. | jump type </br>\n",
    "\n",
    "|J_2_KRA_dumbbell_dumbbell | -2081.1091 | 4.4447 | roto-translation, pure dumbbell </br>\n",
    "|J_1_KRA_dumbbell_dumbbell | -2080.8336 | 4.4447 | rotation, pure mbbell </br>\n",
    "|J_2_KRA_dumbbell_dumbbell | -2080.6599 | 4.4447 | rigid translation, pure dumbbell </br>\n",
    "\n",
    "### Mixed dumbbell jumps\n",
    "| Jump label | TS energy | att. freq. | jump type </br>\n",
    "\n",
    "|J_2_KRA_0nnA_0nnA  | -2082.1767      |5.9297 | roto-translation, mixed dumbbell </br>\n",
    "|J_2_KRA_0nnA_0nnA  | -2082.17906295  |5.9297 | rotation, mixed dumbbell </br>\n",
    "|J_2_KRA_0nnA_0nnA  | -2081.8452      |5.9297 | rigid translation, mixed dumbbell </br>\n",
    "|J_2_KRA_0nnA_1nnB  | -2082.0446      |4.4447 | mixed dumbbell formation-annihilation </br>\n",
    "\n",
    "### Pure dumbbell jumps under interaction with solutes\n",
    "| Jump label | TS energy | att. freq. </br>\n",
    "|J_3_1nnA_2nnA | -2081.6931 | 4.4447 </br>\n",
    "|J_3_1nnA_2nnB | -2081.6706 | 4.4447 </br>\n",
    "|J_3_1nnA_3nnB | -2081.6771 | 4.4447 </br>\n",
    "|J_3_1nnA_3nnC | -2081.6764 | 4.4447 </br>\n",
    "|J_3_1nnB_2nnB | -2081.8645 | 4.4447 </br>\n",
    "|J_3_1nnB_3nnB | -2081.7221 | 4.4447 </br>\n",
    "|J_3_1nnB_5nnB | -2081.7316 | 4.4447 </br>\n",
    "|J_3_2nnA_4nnC | -2081.5549 | 4.4447 </br>\n",
    "|J_3_2nnB_4nnB | -2081.6867 | 4.4447 </br>\n",
    "|J_3_2nnB_4nnC | -2081.6444 | 4.4447 </br>"
   ]
  },
  {
   "cell_type": "code",
   "execution_count": 5,
   "metadata": {},
   "outputs": [
    {
     "data": {
      "text/plain": [
       "{'1nnA_2nnA': [7],\n",
       " '1nnA_2nnB': [5],\n",
       " '1nnA_3nnB': [1],\n",
       " '1nnA_3nnC': [6],\n",
       " '1nnB_2nnB': [4],\n",
       " '1nnB_3nnB': [3],\n",
       " '1nnB_5nnB': [2],\n",
       " '2nnA_4nnC': [9],\n",
       " '2nnB_4nnB': [8],\n",
       " '2nnB_4nnC': [10]}"
      ]
     },
     "execution_count": 5,
     "metadata": {},
     "output_type": "execute_result"
    }
   ],
   "source": [
    "# Indexing the jumps with the nomenclatures for different transition energies due to solute-dumbbell\n",
    "# interactions.\n",
    "# Note that all such jumps for whom solute dumbbell interactions affect the transition state energies\n",
    "# are only 60-degree roto-translational jumps. Rigid translations are assumed to occur with the same\n",
    "# transition state energy as the pure dumbbell.\n",
    "\n",
    "jmpdict = {\"1nnA_2nnA\":[], \"1nnA_2nnB\":[], \"1nnA_3nnB\":[], \"1nnA_3nnC\":[], \"1nnB_2nnB\":[], \"1nnB_3nnB\":[],\n",
    "          \"1nnB_5nnB\":[], \"2nnA_4nnC\":[], \"2nnB_4nnB\":[], \"2nnB_4nnC\":[]}\n",
    "# Now identify the jumps and put them into the dictionaries\n",
    "for jlistind, jlist in enumerate(onsagercalculator.jnet1):\n",
    "    jmp = jlist[0]\n",
    "    state1 = jmp.state1\n",
    "    state2 = jmp.state2\n",
    "    \n",
    "    # if rigid jump, then continue\n",
    "    if jmp.state1.db.iorind == jmp.state2.db.iorind:\n",
    "        continue\n",
    "    \n",
    "    # get the indices of the symmetry groups (\"star\") the states belong to.\n",
    "    star1 = onsagercalculator.kinetic.complexIndexdict[state1][1]\n",
    "    star2 = onsagercalculator.kinetic.complexIndexdict[state2][1]\n",
    "    \n",
    "    # Now check if these are in the thermodynamic shell\n",
    "    if star1 in onsagercalculator.thermo2kin and star2 in onsagercalculator.thermo2kin:\n",
    "        thermo_star1 = onsagercalculator.thermo.complexIndexdict[state1][1]\n",
    "        thermo_star2 = onsagercalculator.thermo.complexIndexdict[state2][1]\n",
    "        name1 = \"\"\n",
    "        name2 = \"\"\n",
    "        \n",
    "        # Now see which categories the states belong to\n",
    "        star1found = False\n",
    "        count1 = 0\n",
    "        star2found = False\n",
    "        count2 = 0\n",
    "        for (key, value) in name_to_themo_star.items():\n",
    "            if thermo_star1==value:\n",
    "                star1found = True\n",
    "                count1 += 1\n",
    "                name1 = key\n",
    "            if thermo_star2==value:\n",
    "                star2found = True\n",
    "                count2 += 1\n",
    "                name2 = key\n",
    "        # just to ensure we don't have any multiple counting business going on.\n",
    "        if count1>1:\n",
    "            print(thermo_star1)\n",
    "        if count2>1:\n",
    "            print(thermo_star2)\n",
    "        # Now concatenate names\n",
    "        jname = name1+\"_\"+name2\n",
    "        jnameRev = name2+\"_\"+name1\n",
    "        try:\n",
    "            jmpdict[jname].append(jlistind)\n",
    "        except:\n",
    "            try:\n",
    "                # maybe the jump we have is the reverse of what we stored as the label in the dictionary?\n",
    "                jmpdict[jnamerev].append(jlistind)\n",
    "            \n",
    "            except:    \n",
    "                continue\n",
    "\n",
    "jmpdict"
   ]
  },
  {
   "cell_type": "code",
   "execution_count": 6,
   "metadata": {},
   "outputs": [],
   "source": [
    "# Next, we assign state energies to the symmetry groups.\n",
    "\n",
    "E_f_pdb = 4.081701163\n",
    "name_to_en =\\\n",
    "{\"1nnA\":-2082.04436416,\"1nnB\":-2082.24287998,\"2nnA\":-2081.93194878,\"2nnB\":-2082.02050066,\"3nnA\":-2081.87795528,\n",
    "\"3nnB\":-2081.94900210,\"3nnC\":-2081.94643601,\"4nnA\":-2081.90793186,\"4nnB\":-2081.96094539,\"4nnC\":-2081.93724321,\n",
    "\"5nnA\":-2081.93328589,\"5nnB\":-2081.95048841}"
   ]
  },
  {
   "cell_type": "code",
   "execution_count": 7,
   "metadata": {},
   "outputs": [],
   "source": [
    "E_sup_pdb = -2081.44451396\n",
    "E_sup_solute = -2077.71045687 \n",
    "E_bulk = -2077.21734574  #E_bulk is the same as E_ref\n",
    "name_to_Ef = {}\n",
    "for (key, E_IB) in name_to_en.items():\n",
    "    # get the binding energy first\n",
    "    Eb = -E_IB + E_sup_pdb + E_sup_solute - E_bulk\n",
    "    # Next, get the formation energy (relative to solute formation energy)\n",
    "    name_to_Ef[key] = E_f_pdb - Eb"
   ]
  },
  {
   "cell_type": "code",
   "execution_count": 8,
   "metadata": {},
   "outputs": [
    {
     "data": {
      "text/plain": [
       "-0.5551102399995216"
      ]
     },
     "execution_count": 8,
     "metadata": {},
     "output_type": "execute_result"
    }
   ],
   "source": [
    "# The complex energies are set. Now, we set the mixed dumbbell energies\n",
    "E_b_mdb = 2082.49273533 + E_sup_pdb + E_sup_solute - E_bulk\n",
    "E_f_mdb = E_f_pdb - E_b_mdb\n",
    "E_f_mdb - E_f_pdb"
   ]
  },
  {
   "cell_type": "code",
   "execution_count": 9,
   "metadata": {},
   "outputs": [],
   "source": [
    "Jname_2_TS_en = {\"1nnA_2nnA\": -2081.6931, \"1nnA_2nnB\": -2081.6706, \"1nnA_3nnB\": -2081.6771,\n",
    "                 \"1nnA_3nnC\": -2081.6764, \"1nnB_2nnB\": -2081.8645, \"1nnB_3nnB\": -2081.7221,\n",
    "                 \"1nnB_5nnB\": -2081.7316, \"2nnA_4nnC\": -2081.5549, \"2nnB_4nnB\": -2081.6867, \n",
    "                 \"2nnB_4nnC\": -2081.6444}"
   ]
  },
  {
   "cell_type": "code",
   "execution_count": 11,
   "metadata": {},
   "outputs": [],
   "source": [
    "# Now, we have to find the TS energies.\n",
    "Jname_2_ef_ts = {}\n",
    "for (key, E_IB) in Jname_2_TS_en.items():\n",
    "    Eb = -E_IB + E_sup_pdb + E_sup_solute - E_bulk\n",
    "    # Next, get the formation energy (relative to solute formation energy)\n",
    "    Jname_2_ef_ts[key] = E_f_pdb - Eb"
   ]
  },
  {
   "cell_type": "code",
   "execution_count": 12,
   "metadata": {},
   "outputs": [],
   "source": [
    "Jname_2_mig = {}\n",
    "for (key, TS_en) in Jname_2_ef_ts.items():\n",
    "    initstar = key[:4]\n",
    "    finstar = key[5:]\n",
    "    Jname_2_mig[key] = (TS_en - name_to_Ef[initstar], TS_en - name_to_Ef[finstar])"
   ]
  },
  {
   "cell_type": "code",
   "execution_count": 13,
   "metadata": {},
   "outputs": [
    {
     "name": "stdout",
     "output_type": "stream",
     "text": [
      "3.8426262530004553 3.9747262530002647\n",
      "0.31603532999997697\n",
      "0.44813532999978634 0.19827997999982472\n"
     ]
    }
   ],
   "source": [
    "# omega2 and omega43 60-degree roto-translation jumps\n",
    "E_IB_43, E_IB_2 = -2082.0446, -2082.1767\n",
    "Eb_43, Eb_2 = -E_IB_43 + E_sup_pdb + E_sup_solute - E_bulk, -E_IB_2 + E_sup_pdb + E_sup_solute - E_bulk \n",
    "# Next, get the formation energy (relative to solute formation energy)\n",
    "ef_ts_43 = E_f_pdb - Eb_43\n",
    "ef_ts_2 = E_f_pdb - Eb_2\n",
    "print(ef_ts_2, ef_ts_43)\n",
    "print(ef_ts_2-E_f_mdb)\n",
    "print(ef_ts_43 - E_f_mdb, ef_ts_43 - name_to_Ef[\"1nnB\"])"
   ]
  },
  {
   "cell_type": "code",
   "execution_count": 14,
   "metadata": {},
   "outputs": [
    {
     "name": "stdout",
     "output_type": "stream",
     "text": [
      "0.647535329999755\n"
     ]
    }
   ],
   "source": [
    "# omega2 rigid translation\n",
    "E_IB_2_rigid = -2081.8452\n",
    "Eb_2_rigid = -E_IB_2_rigid + E_sup_pdb + E_sup_solute - E_bulk\n",
    "ef_ts_2_rigid = E_f_pdb - Eb_2_rigid\n",
    "print(ef_ts_2_rigid-E_f_mdb)"
   ]
  },
  {
   "cell_type": "code",
   "execution_count": 15,
   "metadata": {},
   "outputs": [
    {
     "name": "stdout",
     "output_type": "stream",
     "text": [
      "0.3136724299997695\n"
     ]
    }
   ],
   "source": [
    "# omega2 on-site rotation\n",
    "E_IB_2_rot = -2082.1790629\n",
    "Eb_2_rot = -E_IB_2_rot + E_sup_pdb + E_sup_solute - E_bulk\n",
    "ef_ts_2_rot = E_f_pdb - Eb_2_rot\n",
    "print(ef_ts_2_rot-E_f_mdb)"
   ]
  },
  {
   "cell_type": "markdown",
   "metadata": {},
   "source": [
    "## Mn Thermodynamic data"
   ]
  },
  {
   "cell_type": "code",
   "execution_count": 17,
   "metadata": {},
   "outputs": [],
   "source": [
    "# Jump rates and energy barriers set. Now, let's set the calculations up.\n",
    "vu0 = 4.4447\n",
    "vu2 = 5.9297\n",
    "Dconv=1e-2\n",
    "# to get cm^2/s units from nm^2*THz\n",
    "\n",
    "# pre-factors and formation energies for pure dumbbell jumps\n",
    "predb0, enedb0 = np.ones(1)*np.exp(0.050), np.array([E_f_pdb])\n",
    "\n",
    "\n",
    "# Here on, pre-factors are going to 1.0\n",
    "# We'll measure every formation energy relative to the solute formation energy.\n",
    "# so we set solute formation energy to zero, and (as per data) pre-factor to 1.\n",
    "preS, eneS = np.ones(1), np.array([0.0])\n",
    "\n",
    "# Next, interaction or the excess energies and pre-factors for solutes and dumbbells.\n",
    "preSdb, eneSdb = np.ones(onsagercalculator.thermo.mixedstartindex), \\\n",
    "                 np.zeros(onsagercalculator.thermo.mixedstartindex)\n",
    "# Now, we go over the necessary stars and assign interaction energies\n",
    "for (key, index) in name_to_themo_star.items():\n",
    "    eneSdb[index] = name_to_Ef[key] - E_f_pdb\n",
    "\n",
    "predb2, enedb2 = np.ones(1), np.array([E_f_mdb])\n",
    "\n",
    "# Transition state energies - For omega0 and omega2, the first type is the Johnson jump,\n",
    "# and the second one is the rigid jump. For omega0, the third is the on-site rotation.\n",
    "\n",
    "# Omega0 TS eneriges\n",
    "# taken directly from the paper\n",
    "preT0, eneT0 = Dconv*vu0*np.ones(1), np.array([E_f_pdb + 0.33541396, E_f_pdb + 0.61091396, E_f_pdb + 0.784315123])\n",
    "\n",
    "# Omega2 TS energies\n",
    "Nj2 = len(onsagercalculator.jnet2)\n",
    "preT2, eneT2 = Dconv*vu2*np.ones(Nj2), np.array([ef_ts_2, ef_ts_2_rigid, ef_ts_2_rot])\n",
    "\n",
    "# Omega43 TS energies\n",
    "preT43, eneT43 = Dconv*vu0*np.ones(1), np.array([ef_ts_43])\n",
    "\n",
    "# Omega1 TS energies\n",
    "preT1 = Dconv*vu0*np.ones(len(onsagercalculator.jnet1))\n",
    "eneT1 = np.array([eneT0[i] for i in onsagercalculator.om1types])\n",
    "# Now, we go over the jumps that are provided and make the necessary changes\n",
    "for (key, index) in jmpdict.items():\n",
    "    eneT1[index] = Jname_2_ef_ts[key]\n",
    "eneT1[0] = 0.0s"
   ]
  },
  {
   "cell_type": "code",
   "execution_count": 19,
   "metadata": {},
   "outputs": [
    {
     "name": "stderr",
     "output_type": "stream",
     "text": [
      "100%|██████████████████████████| 381/381 [38:31<00:00,  6.07s/it]"
     ]
    },
    {
     "name": "stdout",
     "output_type": "stream",
     "text": [
      "2311.56112575531\n"
     ]
    },
    {
     "name": "stderr",
     "output_type": "stream",
     "text": [
      "\n"
     ]
    }
   ],
   "source": [
    "# Then we calculate the transport coefficients\n",
    "from tqdm import tqdm\n",
    "\n",
    "temp = np.arange(200, 4001, 10)\n",
    "\n",
    "diff_aa_Mn = np.zeros(len(temp))\n",
    "diff_ab_Mn = np.zeros(len(temp))\n",
    "diff_bb = np.zeros(len(temp))\n",
    "diff_bb_non_loc = np.zeros(len(temp))\n",
    "\n",
    "start = time.time()\n",
    "for i in tqdm(range(len(temp)), position=0, leave=True, ncols=65):\n",
    "    T = temp[i]\n",
    "    kT = kB*T\n",
    "    bFdb0, bFdb2, bFS, bFSdb, bFT0, bFT1, bFT2, bFT3, bFT4 = \\\n",
    "        onsagercalculator.preene2betafree(kT, predb0, enedb0, preS, eneS, preSdb, eneSdb, predb2, enedb2,\n",
    "                                               preT0, eneT0, preT2, eneT2, preT1, eneT1, preT43, eneT43)\n",
    "    \n",
    "    # get the transport coefficients\n",
    "    # the uncorrelated (L_uc) and correlated (L_c) parts will be summed to get the total\n",
    "    # transport coefficients.\n",
    "    # \"a\" stands for solute, \"b\" for solvent (Fe)\n",
    "    L0bb, (L_uc_aa,L_c_aa), (L_uc_bb,L_c_bb), (L_uc_ab,L_c_ab)=\\\n",
    "    onsagercalculator.L_ij(bFdb0, bFT0, bFdb2, bFT2, bFS, bFSdb, bFT1, bFT3, bFT4)\n",
    "    \n",
    "    L_aa = L_uc_aa + L_c_aa\n",
    "    L_bb = L_uc_bb + L_c_bb\n",
    "    L_ab = L_uc_ab + L_c_ab\n",
    "    \n",
    "    diff_aa_Mn[i] = L_aa[0][0]\n",
    "    diff_ab_Mn[i] = L_ab[0][0]\n",
    "    diff_bb[i] = L_bb[0][0]\n",
    "    diff_bb_non_loc[i] = L0bb[0][0]\n",
    "    \n",
    "print(time.time() - start)"
   ]
  },
  {
   "cell_type": "code",
   "execution_count": 28,
   "metadata": {},
   "outputs": [
    {
     "data": {
      "text/plain": [
       "1.6652483153312445"
      ]
     },
     "execution_count": 28,
     "metadata": {},
     "output_type": "execute_result"
    }
   ],
   "source": [
    "# Now let's do the infinite temeperature limit\n",
    "kT = np.inf\n",
    "bFdb0, bFdb2, bFS, bFSdb, bFT0, bFT1, bFT2, bFT3, bFT4 = \\\n",
    "    onsagercalculator.preene2betafree(kT, predb0, enedb0, preS, eneS, preSdb, eneSdb, predb2, enedb2,\n",
    "                                           preT0, eneT0, preT2, eneT2, preT1, eneT1, preT43, eneT43)\n",
    "\n",
    "# get the transport coefficients\n",
    "L0bb, (L_uc_aa,L_c_aa), (L_uc_bb,L_c_bb), (L_uc_ab,L_c_ab)=\\\n",
    "onsagercalculator.L_ij(bFdb0, bFT0, bFdb2, bFT2, bFS, bFSdb, bFT1, bFT3, bFT4)\n",
    "\n",
    "L_aa = L_uc_aa + L_c_aa\n",
    "L_bb = L_uc_bb + L_c_bb\n",
    "L_ab = L_uc_ab + L_c_ab\n",
    "\n",
    "drag_inf = L_ab[0][0]/L_aa[0][0]\n",
    "drag_inf"
   ]
  },
  {
   "cell_type": "code",
   "execution_count": 31,
   "metadata": {},
   "outputs": [],
   "source": [
    "# save for plotting later on\n",
    "import h5py\n",
    "with h5py.File(\"Mn_data.h5\",\"w\") as fl:\n",
    "    fl.create_dataset(\"diff_aa\", data=diff_aa_Mn)\n",
    "    fl.create_dataset(\"diff_ab\", data=diff_ab_Mn)\n",
    "    fl.create_dataset(\"diff_bb_nl\", data=diff_bb_non_loc)\n",
    "    fl.create_dataset(\"diff_bb\", data=diff_bb)\n",
    "    fl.create_dataset(\"Temp\", data=temp)\n",
    "    fl.create_dataset(\"drag_inf\", data=np.array([drag_inf]))"
   ]
  },
  {
   "cell_type": "code",
   "execution_count": null,
   "metadata": {},
   "outputs": [],
   "source": []
  }
 ],
 "metadata": {
  "kernelspec": {
   "display_name": "Python [conda env:Dumbbells_python_3.7] *",
   "language": "python",
   "name": "conda-env-Dumbbells_python_3.7-py"
  },
  "language_info": {
   "codemirror_mode": {
    "name": "ipython",
    "version": 3
   },
   "file_extension": ".py",
   "mimetype": "text/x-python",
   "name": "python",
   "nbconvert_exporter": "python",
   "pygments_lexer": "ipython3",
   "version": "3.7.16"
  }
 },
 "nbformat": 4,
 "nbformat_minor": 2
}

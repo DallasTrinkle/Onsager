{
 "cells": [
  {
   "cell_type": "markdown",
   "metadata": {},
   "source": [
    "## 60-degree roto-translation mechanism of <110>-oriented dumbbells in BCC lattice.\n",
    "\n",
    "In this notebook, we'll create and save a onsager transport coefficient calculator for the 60-degree roto-translation mechanism of <110> dumbbells in a BCC lattice, as per the data in the paper by Messina et. al. at https://doi.org/10.1016/j.actamat.2020.03.038\n",
    "\n",
    "To do this, we need to create a 1nn3 thermodynamic shell (all sites up to the first of first of first nearest neighbors of the solute), large enough to encompass all the solute-dumbbell configurations mentioned in this paper, and also extract out the necessary 60-degree re-orienting dumbbell jumps from those created created by our code."
   ]
  },
  {
   "cell_type": "code",
   "execution_count": 1,
   "metadata": {},
   "outputs": [],
   "source": [
    "import numpy as np\n",
    "from onsager.crystal import Crystal\n",
    "from onsager.OnsagerCalc import dumbbellMediated\n",
    "from onsager.crystal import DB_disp, DB_disp4, pureDBContainer, mixedDBContainer\n",
    "from onsager.DB_structs import dumbbell, SdPair, jump, connector"
   ]
  },
  {
   "cell_type": "code",
   "execution_count": 2,
   "metadata": {},
   "outputs": [
    {
     "name": "stdout",
     "output_type": "stream",
     "text": [
      "#Lattice:\n",
      "  a1 = [0.14155 0.14155 0.14155]\n",
      "  a2 = [-0.14155  0.14155 -0.14155]\n",
      "  a3 = [-0.14155 -0.14155  0.14155]\n",
      "#Basis:\n",
      "  (Fe) 0.0 = [0. 0. 0.]\n"
     ]
    }
   ],
   "source": [
    "# we'll start by making a BCC lattice with the lattice parameter of iron.\n",
    "# Then we'll modify the jumpnetworks to keep only the 60 degree reorientational jumps.\n",
    "latt = np.array([[1., 0., 0.], [0., 1., 0.], [0., 0., 1.]]) * 0.2831\n",
    "Fe = Crystal(latt, [[np.array([0., 0., 0.]), np.array([0.5, 0.5, 0.5])]], [\"Fe\"])\n",
    "\n",
    "# Now give it the orientations - for BCC it's [110] - make the dumbbell length the same as atomic\n",
    "# diameter of iron (0.126 * 2). Note that this is only a nominal length. Jump Distances are only\n",
    "# considered site-to-site as allowed by the invariance principle of mass transport.\n",
    "o = np.array([1.,1.,0.])/np.linalg.norm(np.array([1.,1.,0.]))*0.126*2\n",
    "famp0 = [o.copy()]\n",
    "family = [famp0]\n",
    "pdbcontainer_fe = pureDBContainer(Fe, 0, family)\n",
    "mdbcontainer_fe = mixedDBContainer(Fe, 0, family)\n",
    "\n",
    "# Next, we generate the pure and mixed dumbbell jump networks.\n",
    "# We set the cutoff jump distance to a little more than the corner-to-body center distance\n",
    "# jset0 contains pure dumbbell jumps, and jset2 contains mixed dumbbell jumps\n",
    "# We keep collision thresholds to a small value of 0.01 nm, so that\n",
    "# as many jumps as possible are initially built.\n",
    "# We'll extract the jumps we need from those.\n",
    "jset0, jset2 = pdbcontainer_fe.jumpnetwork(0.25, 0.01, 0.01), mdbcontainer_fe.jumpnetwork(0.25, 0.01, 0.01)\n",
    "print(Fe)"
   ]
  },
  {
   "cell_type": "code",
   "execution_count": 3,
   "metadata": {},
   "outputs": [
    {
     "data": {
      "text/plain": [
       "1"
      ]
     },
     "execution_count": 3,
     "metadata": {},
     "output_type": "execute_result"
    }
   ],
   "source": [
    "# Modify jnet0\n",
    "# 60-degree reorienting jumps are the jumps with the shortest total displacement\n",
    "# of atoms involved. So we'll sort the jumps by the total displacements of\n",
    "# the 3-atom (two atoms of the initial dumbbell and the atom at the final site)\n",
    "\n",
    "jnet0 = jset0[0] # Contains jump objects\n",
    "jnet0_indexed = jset0[1] # Contains jumps with indices of the dumbbells in the container objects.\n",
    "\n",
    "# Let's try to sort the jumps according to closest distance\n",
    "# except rotational jumps, we don't want them.\n",
    "\n",
    "def sortkey(entry):\n",
    "    jmp = jnet0[entry][0]\n",
    "    or1 = pdbcontainer_fe.iorlist[jmp.state1.iorind][1]\n",
    "    or2 = pdbcontainer_fe.iorlist[jmp.state2.iorind][1]\n",
    "    dx = DB_disp(pdbcontainer_fe, jmp.state1, jmp.state2)\n",
    "    dx1 = np.linalg.norm(jmp.c1*or1/2.)\n",
    "    dx2 = np.linalg.norm(dx + jmp.c2*or2/2. - jmp.c1*or1/2.)\n",
    "    dx3 = np.linalg.norm(-jmp.c2*or2/2.)\n",
    "    return dx1+dx2+dx3\n",
    "\n",
    "z = np.zeros(3)\n",
    "indices = []\n",
    "for jt, jlist in enumerate(jnet0):\n",
    "    if np.allclose(jnet0_indexed[jt][0][1], z):\n",
    "        continue\n",
    "    indices.append(jt)\n",
    "\n",
    "ind_sort = sorted(indices, key=sortkey)[:1]\n",
    "len(ind_sort)"
   ]
  },
  {
   "cell_type": "code",
   "execution_count": 4,
   "metadata": {},
   "outputs": [
    {
     "name": "stdout",
     "output_type": "stream",
     "text": [
      "Pure dumbbell (i, or) list:\n",
      "(0, array([-0.17819091, -0.17819091,  0.        ]))\n",
      "(0, array([ 0.        ,  0.17819091, -0.17819091]))\n",
      "(0, array([-0.17819091,  0.        , -0.17819091]))\n",
      "(0, array([ 0.17819091,  0.        , -0.17819091]))\n",
      "(0, array([ 0.17819091, -0.17819091,  0.        ]))\n",
      "(0, array([ 0.        , -0.17819091, -0.17819091]))\n",
      "\n",
      "Jump object:\n",
      "Initial state:\n",
      "\tdumbbell : (i, or) index = 0, lattice vector = [0 0 0]\n",
      "Final state:\n",
      "\tdumbbell : (i, or) index = 2, lattice vector = [-1  0  0]\n",
      "Jumping from c1 = 1 to c2 = -1\n",
      "\n",
      "dumbbell positions and orientiations in Cartesian coordinates:\n",
      "initial dumbbell position and orientiation:  [0. 0. 0.] ,  [-0.17819091 -0.17819091  0.        ]\n",
      "Final dumbbell position and orientiation:  [-0.14155 -0.14155 -0.14155] ,  [-0.17819091  0.         -0.17819091]\n"
     ]
    }
   ],
   "source": [
    "# Let's print the jump network to see if we have the right jumps\n",
    "\n",
    "# First, we print out the dumbbell orientations\n",
    "print(\"Pure dumbbell (i, or) list:\")\n",
    "for tup in pdbcontainer_fe.iorlist:\n",
    "    print(tup)\n",
    "    \n",
    "print()\n",
    "\n",
    "# For a pure dumbbell, the (i, or) indices (iorInd) correspond to (basis site, orientation vector) pairs.\n",
    "# The corresponding values can be found in the \"iorlist\" we just printed out.\n",
    "\n",
    "# c1 = 1 means the atom at the head of the initial orientation vector jumps.\n",
    "# c1 = -1 means the atom at the tail of the initial orientation vector jumps.\n",
    "\n",
    "# c2 = 1 means the atom lands at the head of the final orientation vector.\n",
    "# c2 = -1 means the atom lands at the tail of the final orientation vector.\n",
    "\n",
    "j = jnet0[ind_sort[0]][0]\n",
    "print(j)\n",
    "print(\"dumbbell positions and orientiations in Cartesian coordinates:\")\n",
    "print(\"initial dumbbell position and orientiation: \", np.dot(Fe.lattice, j.state1.R),\", \",\n",
    "      pdbcontainer_fe.iorlist[j.state1.iorind][1])\n",
    "print(\"Final dumbbell position and orientiation: \", np.dot(Fe.lattice, j.state2.R), \", \",\n",
    "     pdbcontainer_fe.iorlist[j.state2.iorind][1])"
   ]
  },
  {
   "cell_type": "code",
   "execution_count": 5,
   "metadata": {},
   "outputs": [
    {
     "data": {
      "text/plain": [
       "60.00000000000001"
      ]
     },
     "execution_count": 5,
     "metadata": {},
     "output_type": "execute_result"
    }
   ],
   "source": [
    "# let's check the re-orientiation angle of the jump\n",
    "cos = np.dot(pdbcontainer_fe.iorlist[j.state1.iorind][1], pdbcontainer_fe.iorlist[j.state2.iorind][1])\n",
    "cos /= np.linalg.norm(pdbcontainer_fe.iorlist[j.state1.iorind][1])\n",
    "cos /= np.linalg.norm(pdbcontainer_fe.iorlist[j.state2.iorind][1])\n",
    "np.arccos(cos * (-j.c1 * j.c2)) * 180 / np.pi"
   ]
  },
  {
   "cell_type": "code",
   "execution_count": 6,
   "metadata": {},
   "outputs": [],
   "source": [
    "# take the jumps we want.\n",
    "jset0new = ([jnet0[i] for i in ind_sort], [jnet0_indexed[i] for i in ind_sort])"
   ]
  },
  {
   "cell_type": "code",
   "execution_count": 7,
   "metadata": {},
   "outputs": [
    {
     "name": "stdout",
     "output_type": "stream",
     "text": [
      "[14]\n"
     ]
    }
   ],
   "source": [
    "# Now, we modify the mixed dumbbell jumpnetwork.\n",
    "# We'll include all the jumps there are in the paper\n",
    "# They are: First and second lowest transition jumps, 60 deg on-site rotation, 90-deg onsite rotation.\n",
    "jnet2 = jset2[0]\n",
    "jnet2_indexed = jset2[1]\n",
    "# Let's try to sort the jumps according to closest distance\n",
    "# we don't want any rotational jumps.\n",
    "\n",
    "def sortkey2(entry):\n",
    "    jmp = jnet2[entry][0]\n",
    "    or1 = mdbcontainer_fe.iorlist[jmp.state1.db.iorind][1]\n",
    "    or2 = mdbcontainer_fe.iorlist[jmp.state2.db.iorind][1]\n",
    "    dx = DB_disp(mdbcontainer_fe, jmp.state1, jmp.state2)\n",
    "    # c1 and c2 are always +1 for mixed dumbbell jumps.\n",
    "    dx1 = np.linalg.norm(jmp.c1*or1/2.)\n",
    "    dx2 = np.linalg.norm(dx + jmp.c2*or2/2. - jmp.c1*or1/2.)\n",
    "    dx3 = np.linalg.norm(-jmp.c2*or2/2.)\n",
    "    return dx1+dx2+dx3\n",
    "\n",
    "z = np.zeros(3)\n",
    "indices2 = []\n",
    "indices_rot = []\n",
    "for jt, jlist in enumerate(jnet2):\n",
    "    if np.allclose(jnet2_indexed[jt][0][1], z):\n",
    "        jmp = jlist[0]\n",
    "\n",
    "        or1 = mdbcontainer_fe.iorlist[jmp.state1.db.iorind][1]\n",
    "        or2 = mdbcontainer_fe.iorlist[jmp.state2.db.iorind][1]\n",
    "        \n",
    "        if np.allclose(np.dot(or1,or2)/(np.linalg.norm(or1)*np.linalg.norm(or2)), np.cos(np.pi/3.)):\n",
    "#             print(\"got 60 deg jump at {}\".format(jt))\n",
    "            indices_rot.append(jt)\n",
    "            continue\n",
    "        elif np.allclose(np.dot(or1,or2), 0.):\n",
    "#             print(\"got 90 deg jump at {}\".format(jt))\n",
    "            indices_rot.append(jt)\n",
    "            continue\n",
    "        else:\n",
    "            continue\n",
    "    indices2.append(jt)\n",
    "ind_sort2 = sorted(indices2, key=sortkey2)[:2]\n",
    "indices2all = ind_sort2[:1] # get the jump with the smallest total displacement\n",
    "print(indices2all)"
   ]
  },
  {
   "cell_type": "code",
   "execution_count": 8,
   "metadata": {},
   "outputs": [
    {
     "name": "stdout",
     "output_type": "stream",
     "text": [
      "dumbbell positions and orientiations in Cartesian coordinates:\n",
      "initial dumbbell position and orientiation:  [0. 0. 0.] ,  [ 0.          0.17819091 -0.17819091]\n",
      "Final dumbbell position and orientiation:  [-0.14155  0.14155 -0.14155] ,  [ 0.17819091 -0.17819091  0.        ]\n"
     ]
    }
   ],
   "source": [
    "# Now let's check if we've got the correct mixed dumbbell jumps.\n",
    "# For mixed dumbbells, the solute atom is always at the head of the dumbbells,\n",
    "# So there is no need to look as c1 and c2.\n",
    "\n",
    "j = jnet2[ind_sort2[0]][0]\n",
    "\n",
    "print(\"dumbbell positions and orientiations in Cartesian coordinates:\")\n",
    "print(\"initial dumbbell position and orientiation: \", np.dot(Fe.lattice, j.state1.db.R),\", \",\n",
    "      mdbcontainer_fe.iorlist[j.state1.db.iorind][1])\n",
    "print(\"Final dumbbell position and orientiation: \", np.dot(Fe.lattice, j.state2.db.R), \", \",\n",
    "     mdbcontainer_fe.iorlist[j.state2.db.iorind][1])"
   ]
  },
  {
   "cell_type": "code",
   "execution_count": 9,
   "metadata": {},
   "outputs": [
    {
     "data": {
      "text/plain": [
       "60.00000000000001"
      ]
     },
     "execution_count": 9,
     "metadata": {},
     "output_type": "execute_result"
    }
   ],
   "source": [
    "# let's check the re-orientiation angle of the jump\n",
    "v1 = mdbcontainer_fe.iorlist[j.state1.db.iorind][1] # the initial orientation vector\n",
    "v2 = mdbcontainer_fe.iorlist[j.state2.db.iorind][1]\n",
    "cos = np.dot(v1, v2)\n",
    "cos /= np.linalg.norm(v1)\n",
    "cos /= np.linalg.norm(v2)\n",
    "np.arccos(-cos) * 180 / np.pi"
   ]
  },
  {
   "cell_type": "code",
   "execution_count": 10,
   "metadata": {},
   "outputs": [],
   "source": [
    "jset2new = ([jnet2[i] for i in indices2all], [jnet2_indexed[i] for i in indices2all])"
   ]
  },
  {
   "cell_type": "code",
   "execution_count": 11,
   "metadata": {},
   "outputs": [
    {
     "name": "stdout",
     "output_type": "stream",
     "text": [
      "initializing thermo\n",
      "initializing kin\n",
      "generating thermodynamic shell\n",
      "built shell 1: time - 0.03377389907836914\n",
      "built shell 2: time - 0.984337568283081\n",
      "built shell 3: time - 4.814657688140869\n",
      "grouped states by symmetry: 10.152561902999878\n",
      "built mixed dumbbell stars: 0.0007784366607666016\n",
      "built jtags2: 6.937980651855469e-05\n",
      "built mixed indexed star: 0.009060144424438477\n",
      "building star2symlist : 0.00021958351135253906\n",
      "building bare, mixed index dicts : 0.00035119056701660156\n",
      "thermodynamic shell generated: 25.945303201675415\n",
      "Total number of states in Thermodynamic Shell - 546, 12\n",
      "generating kinetic shell\n",
      "built shell 1: time - 0.03314065933227539\n",
      "built shell 2: time - 1.030273199081421\n",
      "built shell 3: time - 4.7829673290252686\n",
      "built shell 4: time - 12.203553915023804\n",
      "grouped states by symmetry: 40.35102701187134\n",
      "built mixed dumbbell stars: 0.0007579326629638672\n",
      "built jtags2: 6.461143493652344e-05\n",
      "built mixed indexed star: 0.008876323699951172\n",
      "building star2symlist : 0.0003809928894042969\n",
      "building bare, mixed index dicts : 0.000518798828125\n",
      "Kinetic shell generated: 99.4745364189148\n",
      "Total number of states in Kinetic Shell - 1134, 12\n",
      "generating kinetic shell vector starset\n",
      "Kinetic shell vector starset generated: 15.89851188659668\n",
      "Generating Jump networks\n",
      "building omega1\n",
      "built omega1 : time - 11.484797477722168\n",
      "building omega43\n",
      "built omega43 : time 11.116028547286987\n",
      "Jump networks generated: 22.666033506393433\n",
      "building GF starsets\n",
      "\tComplex connections creation time: 841.2635307312012\n",
      "\tComplex connections symmetry grouping time: 56.904114961624146\n",
      "No. of pure dumbbell connections: 44676\n",
      "GF star sets built: 898.2021255493164\n",
      "Built Complex GF expansions: 541.9586861133575\n",
      "built GFstarsets: 1451.033042192459\n",
      "built rate expansions: 3.4402430057525635\n",
      "built bias expansions: 42.00487685203552\n",
      "built outer product tensor:0.4071369171142578\n",
      "onsager calculator initiation time = 1666.722951889038\n"
     ]
    }
   ],
   "source": [
    "# Now initialize the onsager calculator.\n",
    "# Now, we construct the Onsager calculator with the pure and mixed dumbbell jump networks.\n",
    "# These will be used to build the omega1 jump networks as well.\n",
    "# We also set the collision threshold from omega43 jumps to 0.01 nm initially, so\n",
    "# that as many jumps as possible are built, from which we'll extract the necessary\n",
    "# 60-degree roto-translation jumps. The cutoff distance for the omega43 jumps is also\n",
    "# set to 0.26 nm, sligthly larger than the nearest neighbor distance in the BCC iron unit cell.\n",
    "import time\n",
    "start = time.time()\n",
    "onsagercalculator = dumbbellMediated(pdbcontainer_fe, mdbcontainer_fe, jset0new, jset2new, 0.27,\n",
    "                                     0.01, 0.01, 0.01, NGFmax=4, Nthermo=3)\n",
    "print(\"onsager calculator initiation time = {}\".format(time.time() - start))"
   ]
  },
  {
   "cell_type": "code",
   "execution_count": 12,
   "metadata": {},
   "outputs": [
    {
     "name": "stdout",
     "output_type": "stream",
     "text": [
      "[14]\n"
     ]
    }
   ],
   "source": [
    "# The onsager calculator initially builds all possible omega43 jumps.\n",
    "# So next, we extract our necessary 60-degree roto-translational omega4-omega3 jumps\n",
    "jnet43 = onsagercalculator.jnet43\n",
    "jnet43_indexed = onsagercalculator.jnet43_indexed\n",
    "# Let's try to sort the jumps according to closest distance\n",
    "# We assume that association and dissociation occurs via Johnson mechanism.\n",
    "\n",
    "def sortkey3(entry):\n",
    "    jmp = jnet43[entry][0] # This is an omega4 jump\n",
    "    if not jmp.c2 == -1:\n",
    "        print(c2)\n",
    "    or1 = pdbcontainer_fe.iorlist[jmp.state1.db.iorind][1]\n",
    "    or2 = mdbcontainer_fe.iorlist[jmp.state2.db.iorind][1]\n",
    "    dx = DB_disp4(pdbcontainer_fe, mdbcontainer_fe, jmp.state1, jmp.state2)\n",
    "    # remember that c2 is -1 for an omega4 jump\n",
    "    dx1 = np.linalg.norm(jmp.c1*or1/2.)\n",
    "    dx2 = np.linalg.norm(dx - or2/2. - jmp.c1*or1/2.)\n",
    "    dx3 = np.linalg.norm(jmp.c2*or2/2.)\n",
    "    return dx1+dx2+dx3\n",
    "\n",
    "z = np.zeros(3)\n",
    "indices43 = []\n",
    "for jt, jlist in enumerate(jnet43):\n",
    "    if np.allclose(jnet43_indexed[jt][0][1], z):\n",
    "        continue\n",
    "    indices43.append(jt)    \n",
    "ind_sort43 = sorted(indices43, key=sortkey3)[:1]\n",
    "print(ind_sort43)"
   ]
  },
  {
   "cell_type": "code",
   "execution_count": 14,
   "metadata": {},
   "outputs": [
    {
     "name": "stdout",
     "output_type": "stream",
     "text": [
      "Pure dumbbell (basis site, orientation) or (i, or) list:\n",
      "(0, array([-0.17819091, -0.17819091,  0.        ]))\n",
      "(0, array([ 0.        ,  0.17819091, -0.17819091]))\n",
      "(0, array([-0.17819091,  0.        , -0.17819091]))\n",
      "(0, array([ 0.17819091,  0.        , -0.17819091]))\n",
      "(0, array([ 0.17819091, -0.17819091,  0.        ]))\n",
      "(0, array([ 0.        , -0.17819091, -0.17819091]))\n",
      "\n",
      "Mixed dumbbell (basis site, orientation) or (i, or) list:\n",
      "(0, array([-0.17819091, -0.17819091,  0.        ]))\n",
      "(0, array([ 0.        ,  0.17819091, -0.17819091]))\n",
      "(0, array([-0.17819091,  0.        , -0.17819091]))\n",
      "(0, array([ 0.17819091,  0.        , -0.17819091]))\n",
      "(0, array([-0.17819091,  0.        ,  0.17819091]))\n",
      "(0, array([ 0.17819091, -0.17819091,  0.        ]))\n",
      "(0, array([0.17819091, 0.17819091, 0.        ]))\n",
      "(0, array([ 0.        , -0.17819091,  0.17819091]))\n",
      "(0, array([ 0.        , -0.17819091, -0.17819091]))\n",
      "(0, array([0.        , 0.17819091, 0.17819091]))\n",
      "(0, array([-0.17819091,  0.17819091,  0.        ]))\n",
      "(0, array([0.17819091, 0.        , 0.17819091]))\n",
      "\n",
      "Jump object:\n",
      "Initial state:\n",
      "\tSolute loctation:basis index = 0, lattice vector = [0 0 0]\n",
      "\tdumbbell : (i, or) index = 0, lattice vector = [1 0 0]\n",
      "Final state:\n",
      "\tSolute loctation :basis index = 0, lattice vector = [0 0 0]\n",
      "\tdumbbell : (i, or) index = 8, lattice vector = [0 0 0]\n",
      "Jumping from c1 = 1 to c2 = -1 \n",
      "\n",
      "dumbbell positions and orientiations in Cartesian coordinates:\n",
      "initial dumbbell position and orientiation:  [0.14155 0.14155 0.14155] ,  [-0.17819091 -0.17819091  0.        ]\n",
      "Final dumbbell position and orientiation:  [0. 0. 0.] ,  [ 0.         -0.17819091 -0.17819091]\n"
     ]
    }
   ],
   "source": [
    "# Let's take a look at the extracted omega 43 jumps.\n",
    "# Since they have the same transition state, they are all grouped together in\n",
    "# the same list. Even indices in this list (0, 2, 4...) will give us omega4 jumps.\n",
    "# The odd indices (1, 3, 5,...) correspond to omega3 jumps.\n",
    "\n",
    "# For example jnet43[some_list_index][0] is an omega4 jump, while jnet43[some_list_index][1] is an omega3 jump.\n",
    "\n",
    "# First, we print out the dumbbell (basis site, orientation) list\n",
    "print(\"Pure dumbbell (basis site, orientation) or (i, or) list:\")\n",
    "for tup in pdbcontainer_fe.iorlist:\n",
    "    print(tup)\n",
    "    \n",
    "print()\n",
    "\n",
    "# Then let's print out the mixed dumbbell (basis site, orientation) list\n",
    "print(\"Mixed dumbbell (basis site, orientation) or (i, or) list:\")\n",
    "for tup in mdbcontainer_fe.iorlist:\n",
    "    print(tup)\n",
    "print()\n",
    "\n",
    "# Remmber that in an omega4 jump, the self-interstitial jumps, and the solute is always considered\n",
    "# to be at the head of the dumbbell, so c2 will always be -1 (since the self-interstitial is considered\n",
    "# to land at the tail of the mixed dumbbell).\n",
    "\n",
    "j = jnet43[ind_sort43[0]][0] # This is an omega4 jump.\n",
    "print(j,\"\\n\")\n",
    "print(\"dumbbell positions and orientiations in Cartesian coordinates:\")\n",
    "print(\"initial dumbbell position and orientiation: \", np.dot(Fe.lattice, j.state1.db.R),\", \",\n",
    "      pdbcontainer_fe.iorlist[j.state1.db.iorind][1]) # the initial state is a pure dumbbell\n",
    "print(\"Final dumbbell position and orientiation: \", np.dot(Fe.lattice, j.state2.db.R), \", \",\n",
    "     mdbcontainer_fe.iorlist[j.state2.db.iorind][1])"
   ]
  },
  {
   "cell_type": "code",
   "execution_count": 16,
   "metadata": {},
   "outputs": [
    {
     "data": {
      "text/plain": [
       "60.00000000000001"
      ]
     },
     "execution_count": 16,
     "metadata": {},
     "output_type": "execute_result"
    }
   ],
   "source": [
    "# let's check the re-orientiation angle of the jump\n",
    "v1 = pdbcontainer_fe.iorlist[j.state1.db.iorind][1] # the initial orientation vector\n",
    "v2 = mdbcontainer_fe.iorlist[j.state2.db.iorind][1]\n",
    "cos = np.dot(v1, v2)\n",
    "cos /= np.linalg.norm(v1)\n",
    "cos /= np.linalg.norm(v2)\n",
    "np.arccos(cos * (-j.c1 * j.c2)) * 180 / np.pi"
   ]
  },
  {
   "cell_type": "code",
   "execution_count": 17,
   "metadata": {},
   "outputs": [],
   "source": [
    "# Now we regenerate the omega43 information in the calculator\n",
    "# to only contain the jump type we need, stored in the list ind_sort43\n",
    "\n",
    "onsagercalculator.regenerate43(ind_sort43)"
   ]
  },
  {
   "cell_type": "code",
   "execution_count": 18,
   "metadata": {},
   "outputs": [],
   "source": [
    "# Then we save the onsager calculator so we can re-use it.\n",
    "import pickle\n",
    "with open('FeX_60RT.pkl','wb') as fl:\n",
    "    pickle.dump(onsagercalculator,fl)"
   ]
  },
  {
   "cell_type": "code",
   "execution_count": null,
   "metadata": {},
   "outputs": [],
   "source": []
  }
 ],
 "metadata": {
  "kernelspec": {
   "display_name": "Python [conda env:Dumbbells_python_3.7] *",
   "language": "python",
   "name": "conda-env-Dumbbells_python_3.7-py"
  },
  "language_info": {
   "codemirror_mode": {
    "name": "ipython",
    "version": 3
   },
   "file_extension": ".py",
   "mimetype": "text/x-python",
   "name": "python",
   "nbconvert_exporter": "python",
   "pygments_lexer": "ipython3",
   "version": "3.7.16"
  }
 },
 "nbformat": 4,
 "nbformat_minor": 2
}

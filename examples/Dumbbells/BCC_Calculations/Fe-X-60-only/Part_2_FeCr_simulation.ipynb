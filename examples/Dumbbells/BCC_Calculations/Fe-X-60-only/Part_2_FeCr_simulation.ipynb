{
 "cells": [
  {
   "cell_type": "markdown",
   "metadata": {},
   "source": [
    "## Simulation of 60-degree roto-translation of <110> dumbbells in dilute Fe-Cr alloy.\n",
    "In this notebook, we use the onsager calculator we created in part 1 to compute transport coefficients for the dumbbell-mediated mechanism for dilute Cr in Fe.\n",
    "\n",
    "The data of the energies are taken from the database given along with the paper by Messina et. al. - https://doi.org/10.1016/j.actamat.2020.03.038\n",
    "\n",
    "We need to identify the solute-dumbbell complex states with the appropriate labels give in this paper, as well as the various dumbbell jump types. We then assign appropriate state formation and dumbbell migration energies, as per the data given in the above-mentioned database.\n",
    "\n",
    "We then compare the Green's function results for the drag and partial diffusion coefficient ratios with the results from SCMF calculations taken also from the above-mentioned database."
   ]
  },
  {
   "cell_type": "code",
   "execution_count": 1,
   "metadata": {},
   "outputs": [],
   "source": [
    "import numpy as np\n",
    "\n",
    "from scipy.constants import physical_constants\n",
    "kB = physical_constants['Boltzmann constant in eV/K'][0]\n",
    "from matplotlib import pyplot as plt\n",
    "\n",
    "import pickle\n",
    "import time"
   ]
  },
  {
   "cell_type": "code",
   "execution_count": 2,
   "metadata": {},
   "outputs": [
    {
     "name": "stdout",
     "output_type": "stream",
     "text": [
      "CPU times: user 12min 20s, sys: 24.4 s, total: 12min 44s\n",
      "Wall time: 12min 21s\n"
     ]
    }
   ],
   "source": [
    "%%time\n",
    "# Let's load the pickle file we just saved containing the onsager calculator\n",
    "with open(\"FeX_60RT.pkl\",\"rb\") as fl:\n",
    "    onsagercalculator = pickle.load(fl)"
   ]
  },
  {
   "cell_type": "markdown",
   "metadata": {},
   "source": [
    "### Now, we'll look at the complex states in our thermodynamic shell\n",
    "We take the first state from each symmetry group of states, and print out its info in groups\n",
    "of three lines.\n",
    "\n",
    "For each state, the number printed out in the first line is the index assgined to the\n",
    "symmetry group (called the \"star\") the state belongs to.\n",
    "\n",
    "The second line gives the pure dumbbell orientation vector in cartesian coordinates (Recall that the length of the orientation vector is taken to be the atomic diameter of iron).\n",
    "\n",
    "The third line prints the position of the dumbbell with respect to the solute location\n",
    "in cartesian coordinates. Recall that the lattice parameter of BCC Fe is 0.2831 nm, as per Messina et al.'s paper.\n",
    "\n",
    "Note that the first complex state (with index 0 in the first line) is an origin state (pure dumbbell on top of solute) and is unphysical.\n",
    "\n",
    "From index 1 onwards, we'll then have to manually match our complex states with the labels in Messina et. al. (1nnA, 1nnB etc). No interaction will be assumed when a corresponding state label is not found in Messina et. al.'s database. For example, a particualr 4nn state found below was not considered in the SCMF calculations.\n",
    "The first 13 such symmetry group starting from index 1 are going to contain all the states we need to consider."
   ]
  },
  {
   "cell_type": "code",
   "execution_count": 3,
   "metadata": {},
   "outputs": [
    {
     "name": "stdout",
     "output_type": "stream",
     "text": [
      "0\n",
      "[ 0.1782 -0.1782  0.    ]\n",
      "[0. 0. 0.]\n",
      "\n",
      "1\n",
      "[ 0.1782  0.     -0.1782]\n",
      "[0.14155 0.14155 0.14155]\n",
      "\n",
      "2\n",
      "[ 0.1782  0.     -0.1782]\n",
      "[ 0.14155  0.14155 -0.14155]\n",
      "\n",
      "3\n",
      "[ 0.1782 -0.1782  0.    ]\n",
      "[-0.2831  0.      0.    ]\n",
      "\n",
      "4\n",
      "[ 0.1782 -0.1782  0.    ]\n",
      "[ 0.      0.     -0.2831]\n",
      "\n",
      "5\n",
      "[ 0.1782 -0.1782  0.    ]\n",
      "[-0.2831  0.      0.2831]\n",
      "\n",
      "6\n",
      "[ 0.1782 -0.1782  0.    ]\n",
      "[-0.2831  0.2831  0.    ]\n",
      "\n",
      "7\n",
      "[ 0.     -0.1782 -0.1782]\n",
      "[ 0.      0.2831 -0.2831]\n",
      "\n",
      "8\n",
      "[ 0.1782  0.     -0.1782]\n",
      "[ 0.42465 -0.14155  0.14155]\n",
      "\n",
      "9\n",
      "[ 0.1782 -0.1782  0.    ]\n",
      "[-0.42465  0.14155 -0.14155]\n",
      "\n",
      "10\n",
      "[ 0.      0.1782 -0.1782]\n",
      "[-0.42465 -0.14155 -0.14155]\n",
      "\n",
      "11\n",
      "[ 0.1782 -0.1782  0.    ]\n",
      "[ 0.14155 -0.14155 -0.42465]\n",
      "\n",
      "12\n",
      "[-0.1782 -0.1782  0.    ]\n",
      "[0.2831 0.2831 0.2831]\n",
      "\n",
      "13\n",
      "[-0.1782 -0.1782  0.    ]\n",
      "[ 0.2831 -0.2831  0.2831]\n",
      "\n",
      "14\n",
      "[-0.1782 -0.1782  0.    ]\n",
      "[-0.42465  0.14155 -0.42465]\n",
      "\n",
      "15\n",
      "[-0.1782 -0.1782  0.    ]\n",
      "[-0.42465 -0.14155 -0.42465]\n",
      "\n",
      "16\n",
      "[ 0.1782 -0.1782  0.    ]\n",
      "[-0.42465  0.42465 -0.14155]\n",
      "\n",
      "17\n",
      "[ 0.     -0.1782 -0.1782]\n",
      "[ 0.14155  0.42465 -0.42465]\n",
      "\n",
      "18\n",
      "[ 0.1782  0.     -0.1782]\n",
      "[-0.42465  0.42465  0.42465]\n",
      "\n",
      "19\n",
      "[ 0.1782  0.     -0.1782]\n",
      "[ 0.42465 -0.42465  0.42465]\n",
      "\n"
     ]
    }
   ],
   "source": [
    "count = 0\n",
    "for star in onsagercalculator.thermo.stars[:onsagercalculator.thermo.mixedstartindex]:\n",
    "    print(count)\n",
    "    db = star[0].db\n",
    "    print(np.round(onsagercalculator.pdbcontainer.iorlist[db.iorind][1], decimals=4)+0)\n",
    "    print(np.dot(onsagercalculator.crys.lattice, db.R))\n",
    "    print()\n",
    "    count += 1"
   ]
  },
  {
   "cell_type": "code",
   "execution_count": 4,
   "metadata": {},
   "outputs": [],
   "source": [
    "# Next, we assign labels to the states we have just identified.\n",
    "# No interaction will be assumed when a corresponding state label is not found in Messina et. al.'s database\n",
    "# For example, the one 4nn state was not considered in the SCMF calculations.\n",
    "\n",
    "name_to_themo_star = {\"1nnA\":1, \"1nnB\":2, \"2nnA\":4, \"2nnB\":3, \"3nnA\": 7, \"3nnB\":5, \"3nnC\":6,\n",
    "       \"4nnA\":10,\"4nnB\":11,\"4nnC\":9, \"5nnA\":13, \"5nnB\":12}"
   ]
  },
  {
   "cell_type": "code",
   "execution_count": 5,
   "metadata": {},
   "outputs": [
    {
     "data": {
      "text/plain": [
       "{'1nnA_2nnA': [6],\n",
       " '1nnA_2nnB': [1],\n",
       " '1nnA_3nnB': [5],\n",
       " '1nnA_3nnC': [3],\n",
       " '1nnB_2nnB': [4],\n",
       " '1nnB_3nnB': [2],\n",
       " '1nnB_5nnB': [7],\n",
       " '2nnA_4nnC': [8],\n",
       " '2nnB_4nnB': [9],\n",
       " '2nnB_4nnC': [10]}"
      ]
     },
     "execution_count": 5,
     "metadata": {},
     "output_type": "execute_result"
    }
   ],
   "source": [
    "# We then sort out all the jumps with the appropriate nomenclatures\n",
    "jmpdict = {\"1nnA_2nnA\":[], \"1nnA_2nnB\":[], \"1nnA_3nnB\":[], \"1nnA_3nnC\":[], \"1nnB_2nnB\":[], \"1nnB_3nnB\":[],\n",
    "          \"1nnB_5nnB\":[], \"2nnA_4nnC\":[], \"2nnB_4nnB\":[], \"2nnB_4nnC\":[]}\n",
    "\n",
    "\n",
    "for jlistind, jlist in enumerate(onsagercalculator.jnet1):\n",
    "    jmp = jlist[0]\n",
    "    state1 = jmp.state1\n",
    "    state2 = jmp.state2\n",
    "    \n",
    "    # Get the symmetry groups (\"stars\") of the states in the kinetic shell of states\n",
    "    star1 = onsagercalculator.kinetic.complexIndexdict[state1][1]\n",
    "    star2 = onsagercalculator.kinetic.complexIndexdict[state2][1]\n",
    "    \n",
    "    # Check if these states are in the thermodynamic shell of states\n",
    "    if star1 in onsagercalculator.thermo2kin and star2 in onsagercalculator.thermo2kin:\n",
    "        thermo_star1 = onsagercalculator.thermo.complexIndexdict[state1][1]\n",
    "        thermo_star2 = onsagercalculator.thermo.complexIndexdict[state2][1]\n",
    "        name1 = \"\"\n",
    "        name2 = \"\"\n",
    "        #Now see which categories the states belong to\n",
    "        star1found = False\n",
    "        count1 = 0\n",
    "        star2found = False\n",
    "        count2 = 0\n",
    "        for (key, value) in name_to_themo_star.items():\n",
    "            if thermo_star1==value:\n",
    "                star1found = True\n",
    "                count1 += 1\n",
    "                name1 = key\n",
    "            if thermo_star2==value:\n",
    "                star2found = True\n",
    "                count2 += 1\n",
    "                name2 = key\n",
    "        # just to ensure we don't have any multiple counting.\n",
    "        if count1>1:\n",
    "            print(thermo_star1)\n",
    "        if count2>1:\n",
    "            print(thermo_star2)\n",
    "        # Now concatenate names\n",
    "        jname = name1+\"_\"+name2\n",
    "        jnamerev = name2+\"_\"+name1\n",
    "        try:\n",
    "            jmpdict[jname].append(jlistind)\n",
    "        except:\n",
    "            try:\n",
    "                # maybe the jump we have is the reverse of what we stored as the label in the dictionary?\n",
    "                jmpdict[jnamerev].append(jlistind)\n",
    "            except:    \n",
    "                continue\n",
    "\n",
    "# check to see we have found all the jumps\n",
    "jmpdict         "
   ]
  },
  {
   "cell_type": "code",
   "execution_count": 6,
   "metadata": {},
   "outputs": [],
   "source": [
    "E_f_pdb = 4.0799084 # formation energy of pure dumbbell - from database\n",
    "# Now, we assign energies to the complex states in the thermo shell\n",
    "# name to supercell energy\n",
    "name_to_en = {\"1nnA\":-2081.86385487, \"1nnB\":-2081.96714335, \n",
    "              \"2nnA\":-2081.84673179, \"2nnB\":-2081.84805032, \n",
    "              \"3nnA\":-2081.86785633, \"3nnB\":-2081.89911432,\n",
    "              \"3nnC\":-2081.89517078, \"4nnA\":-2081.89240119,\n",
    "              \"4nnB\":-2081.88260599, \"4nnC\":-2081.90014080,\n",
    "              \"5nnA\":-2081.90574167, \"5nnB\":-2081.89623144}"
   ]
  },
  {
   "cell_type": "code",
   "execution_count": 7,
   "metadata": {},
   "outputs": [
    {
     "data": {
      "text/plain": [
       "{'1nnA': 4.144898479999916,\n",
       " '1nnB': 4.041610000000197,\n",
       " '2nnA': 4.1620215600000625,\n",
       " '2nnB': 4.1607030300001275,\n",
       " '3nnA': 4.140897019999989,\n",
       " '3nnB': 4.1096390299999035,\n",
       " '3nnC': 4.113582569999813,\n",
       " '4nnA': 4.116352160000111,\n",
       " '4nnB': 4.12614736000021,\n",
       " '4nnC': 4.108612550000067,\n",
       " '5nnA': 4.103011679999759,\n",
       " '5nnB': 4.112521909999919}"
      ]
     },
     "execution_count": 7,
     "metadata": {},
     "output_type": "execute_result"
    }
   ],
   "source": [
    "E_sup_pdb = -2080.58061654\n",
    "E_sup_solute = -2077.70333299\n",
    "E_bulk = -2076.35510458 # E_bulk is the same as E_ref\n",
    "name_to_Ef = {}\n",
    "for (key, E_IB) in name_to_en.items():\n",
    "    # get the binding energy first\n",
    "    Eb = -E_IB + E_sup_pdb + E_sup_solute - E_bulk\n",
    "    # Next, get the formation energy (relative to solute formation energy)\n",
    "    name_to_Ef[key] = E_f_pdb - Eb\n",
    "\n",
    "# Let's look at the formation energies to see if they are okay\n",
    "name_to_Ef"
   ]
  },
  {
   "cell_type": "code",
   "execution_count": 8,
   "metadata": {},
   "outputs": [
    {
     "name": "stdout",
     "output_type": "stream",
     "text": [
      "-0.04502686000023459\n"
     ]
    }
   ],
   "source": [
    "# The complex energies are set. Now, we set the mixed dumbbell energies\n",
    "E_b_mdb = 2081.97387181 + E_sup_pdb + E_sup_solute - E_bulk\n",
    "E_f_mdb = E_f_pdb - E_b_mdb\n",
    "\n",
    "# Check the mixed dumbbell binding energy\n",
    "print(E_f_mdb - E_f_pdb)"
   ]
  },
  {
   "cell_type": "code",
   "execution_count": 9,
   "metadata": {},
   "outputs": [],
   "source": [
    "Jname_2_TS_en = {\"1nnA_2nnA\":-2081.53754083, \"1nnA_2nnB\":-2081.45300295, \"1nnA_3nnB\":-2081.54309435,\n",
    "                 \"1nnA_3nnC\":-2081.51203629, \"1nnB_2nnB\":-2081.59390973, \"1nnB_3nnB\":-2081.58124941,\n",
    "                 \"1nnB_5nnB\":-2081.56664001, \"2nnA_4nnC\":-2081.53814922, \"2nnB_4nnB\":-2081.53362146,\n",
    "                 \"2nnB_4nnC\":-2081.53385038}"
   ]
  },
  {
   "cell_type": "code",
   "execution_count": 10,
   "metadata": {},
   "outputs": [],
   "source": [
    "# Now, we have to find the TS energies.\n",
    "Jname_2_ef_ts = {}\n",
    "for (key, E_IB) in Jname_2_TS_en.items():\n",
    "    Eb = -E_IB + E_sup_pdb + E_sup_solute - E_bulk\n",
    "    # Next, get the formation energy (relative to solute formation energy)\n",
    "    Jname_2_ef_ts[key] = E_f_pdb - Eb"
   ]
  },
  {
   "cell_type": "code",
   "execution_count": 11,
   "metadata": {},
   "outputs": [
    {
     "data": {
      "text/plain": [
       "{'1nnA_2nnA': 4.471212519999859,\n",
       " '1nnA_2nnB': 4.5557503999998294,\n",
       " '1nnA_3nnB': 4.465658999999937,\n",
       " '1nnA_3nnC': 4.496717059999788,\n",
       " '1nnB_2nnB': 4.4148436199998065,\n",
       " '1nnB_3nnB': 4.427503939999929,\n",
       " '1nnB_5nnB': 4.442113340000083,\n",
       " '2nnA_4nnC': 4.470604130000061,\n",
       " '2nnB_4nnB': 4.475131889999807,\n",
       " '2nnB_4nnC': 4.474902970000108}"
      ]
     },
     "execution_count": 11,
     "metadata": {},
     "output_type": "execute_result"
    }
   ],
   "source": [
    "Jname_2_ef_ts"
   ]
  },
  {
   "cell_type": "code",
   "execution_count": 13,
   "metadata": {},
   "outputs": [],
   "source": [
    "Jname_2_mig = {}\n",
    "for (key, TS_en) in Jname_2_ef_ts.items():\n",
    "    initstar = key[:4]\n",
    "    Jname_2_mig[key] = TS_en - name_to_Ef[initstar]"
   ]
  },
  {
   "cell_type": "code",
   "execution_count": 14,
   "metadata": {},
   "outputs": [
    {
     "data": {
      "text/plain": [
       "{'1nnA_2nnA': 0.3263140399999429,\n",
       " '1nnA_2nnB': 0.41085191999991366,\n",
       " '1nnA_3nnB': 0.32076052000002164,\n",
       " '1nnA_3nnC': 0.35181857999987187,\n",
       " '1nnB_2nnB': 0.3732336199996098,\n",
       " '1nnB_3nnB': 0.38589393999973254,\n",
       " '1nnB_5nnB': 0.4005033399998865,\n",
       " '2nnA_4nnC': 0.30858256999999867,\n",
       " '2nnB_4nnB': 0.31442885999967984,\n",
       " '2nnB_4nnC': 0.3141999399999804}"
      ]
     },
     "execution_count": 14,
     "metadata": {},
     "output_type": "execute_result"
    }
   ],
   "source": [
    "# Check that correct energies have been assigned to the jumps by matching with Messina et. al.'s paper\n",
    "# Table 2\n",
    "Jname_2_mig"
   ]
  },
  {
   "cell_type": "code",
   "execution_count": 15,
   "metadata": {},
   "outputs": [
    {
     "name": "stdout",
     "output_type": "stream",
     "text": [
      "0.2414906400003929 0.36488417000009576 0.3581557099996644\n"
     ]
    }
   ],
   "source": [
    "E_IB_43, E_IB_2 = -2081.60898764, -2081.73238117\n",
    "Eb_43, Eb_2 = -E_IB_43 + E_sup_pdb + E_sup_solute - E_bulk, -E_IB_2 + E_sup_pdb + E_sup_solute - E_bulk \n",
    "# Next, get the formation energy (relative to solute formation energy)\n",
    "ef_ts_43 = E_f_pdb - Eb_43\n",
    "ef_ts_2 = E_f_pdb - Eb_2\n",
    "print(ef_ts_2-E_f_mdb, ef_ts_43 - E_f_mdb, ef_ts_43 - name_to_Ef[\"1nnB\"])"
   ]
  },
  {
   "cell_type": "markdown",
   "metadata": {},
   "source": [
    "## Cr calculations"
   ]
  },
  {
   "cell_type": "code",
   "execution_count": 16,
   "metadata": {},
   "outputs": [],
   "source": [
    "# Jump rates and energy barriers set. Now, let's set the calculations up.\n",
    "vu0=4.4447 # attempt frequencies of pure dumbbell jumps. \n",
    "vu2=4.5551 # attempt frequencies of mixed dumbbell jumps.\n",
    "Dconv=1e-2 # to have units in cm^2/s from nm^2*THz\n",
    "\n",
    "# entropic pre-factors and formation energies for pure dumbbells.\n",
    "predb0, enedb0 = np.ones(1), np.array([E_f_pdb])\n",
    "\n",
    "# Here on, pre-factors are going to 1.0\n",
    "# We'll measure every formation energy relative to the solute formation energy.\n",
    "# so we set solute formation energy to zero, and (as per data) pre-factor to 1.\n",
    "preS, eneS = np.ones(1), np.array([0.0])\n",
    "\n",
    "# Next, interaction or the excess energies and pre-factors for solutes and dumbbells.\n",
    "preSdb, eneSdb = np.ones(onsagercalculator.thermo.mixedstartindex), \\\n",
    "                 np.zeros(onsagercalculator.thermo.mixedstartindex)\n",
    "# Now, we go over the necessary stars and assign interaction energies\n",
    "for (key, index) in name_to_themo_star.items():\n",
    "    eneSdb[index] = name_to_Ef[key] - E_f_pdb\n",
    "\n",
    "predb2, enedb2 = np.ones(1), np.array([E_f_mdb])\n",
    "\n",
    "# Transition state energies - For omega0, omega2 and omega43, the first type is the Johnson jump,\n",
    "# and the second one is the Rigid jump.\n",
    "\n",
    "# Omega0 TS eneriges\n",
    "preT0, eneT0 = Dconv*vu0*np.ones(1), np.array([E_f_pdb + 0.33759025])\n",
    "\n",
    "# Omega2 TS energies\n",
    "Nj2 = len(onsagercalculator.jnet2)\n",
    "preT2, eneT2 = Dconv*vu2*np.ones(Nj2), np.array([ef_ts_2])\n",
    "\n",
    "# Omega43 TS energies\n",
    "preT43, eneT43 = Dconv*vu0*np.ones(1), np.array([ef_ts_43])\n",
    "\n",
    "# Omega1 TS energies\n",
    "preT1 = Dconv*vu0*np.ones(len(onsagercalculator.jnet1))\n",
    "eneT1 = np.array([eneT0[i] for i in onsagercalculator.om1types])\n",
    "# Now, we go over the jumps that are provided and make the necessary changes\n",
    "for (key, index) in jmpdict.items():\n",
    "    eneT1[index] = Jname_2_ef_ts[key]\n",
    "    \n",
    "# set origin state jumps to zeros - the code handles this anyway\n",
    "eneT1[0] = 0.0"
   ]
  },
  {
   "cell_type": "code",
   "execution_count": 17,
   "metadata": {},
   "outputs": [
    {
     "name": "stderr",
     "output_type": "stream",
     "text": [
      "100%|██████████████████████████| 381/381 [40:29<00:00,  6.38s/it]"
     ]
    },
    {
     "name": "stdout",
     "output_type": "stream",
     "text": [
      "2429.6851060390472\n"
     ]
    },
    {
     "name": "stderr",
     "output_type": "stream",
     "text": [
      "\n"
     ]
    }
   ],
   "source": [
    "# Then we calculate the transport coefficients\n",
    "from tqdm import tqdm\n",
    "\n",
    "# In the scmf database, the temperatures are between 200K to 4000K (inclusive) in steps of 10\n",
    "temp = np.arange(200, 4001, 10)\n",
    "\n",
    "diff_aa_Cr = np.zeros(len(temp))\n",
    "diff_ab_Cr = np.zeros(len(temp))\n",
    "diff_bb = np.zeros(len(temp))\n",
    "diff_bb_non_loc = np.zeros(len(temp))\n",
    "\n",
    "start = time.time()\n",
    "for i in tqdm(range(len(temp)), position=0, leave=True, ncols=65):\n",
    "    T = temp[i]\n",
    "    kT = kB*T\n",
    "    \n",
    "    # get the free energies multiplied by kBT\n",
    "    bFdb0, bFdb2, bFS, bFSdb, bFT0, bFT1, bFT2, bFT3, bFT4 = \\\n",
    "        onsagercalculator.preene2betafree(kT, predb0, enedb0, preS, eneS, preSdb, eneSdb, predb2, enedb2,\n",
    "                                               preT0, eneT0, preT2, eneT2, preT1, eneT1, preT43, eneT43)\n",
    "\n",
    "    # get the transport coefficients - \"a\" is the solute, \"b\" is the solvent (Fe).\n",
    "    # The uncorrelated (L_uc) and correlated (L_c) parts will be summed to get the total\n",
    "    # transport coefficients.\n",
    "    L0bb, (L_uc_aa,L_c_aa), (L_uc_bb,L_c_bb), (L_uc_ab,L_c_ab)=\\\n",
    "    onsagercalculator.L_ij(bFdb0, bFT0, bFdb2, bFT2, bFS, bFSdb, bFT1, bFT3, bFT4)\n",
    "    \n",
    "    L_aa = L_uc_aa + L_c_aa\n",
    "    L_bb = L_uc_bb + L_c_bb\n",
    "    L_ab = L_uc_ab + L_c_ab\n",
    "    \n",
    "    diff_aa_Cr[i] = L_aa[0][0]\n",
    "    diff_ab_Cr[i] = L_ab[0][0]\n",
    "    diff_bb[i] = L_bb[0][0]\n",
    "    diff_bb_non_loc[i] = L0bb[0][0]\n",
    "        \n",
    "print(time.time() - start)"
   ]
  },
  {
   "cell_type": "code",
   "execution_count": 18,
   "metadata": {},
   "outputs": [],
   "source": [
    "# Now let's do the infinite temeperature limit\n",
    "kT = np.inf\n",
    "bFdb0, bFdb2, bFS, bFSdb, bFT0, bFT1, bFT2, bFT3, bFT4 = \\\n",
    "    onsagercalculator.preene2betafree(kT, predb0, enedb0, preS, eneS, preSdb, eneSdb, predb2, enedb2,\n",
    "                                           preT0, eneT0, preT2, eneT2, preT1, eneT1, preT43, eneT43)\n",
    "\n",
    "# get the transport coefficients\n",
    "L0bb, (L_uc_aa,L_c_aa), (L_uc_bb,L_c_bb), (L_uc_ab,L_c_ab)=\\\n",
    "onsagercalculator.L_ij(bFdb0, bFT0, bFdb2, bFT2, bFS, bFSdb, bFT1, bFT3, bFT4)\n",
    "\n",
    "L_aa = L_uc_aa + L_c_aa\n",
    "L_bb = L_uc_bb + L_c_bb\n",
    "L_ab = L_uc_ab + L_c_ab\n",
    "\n",
    "# Get the drag ratio\n",
    "drag_inf = L_ab[0][0]/L_aa[0][0]"
   ]
  },
  {
   "cell_type": "code",
   "execution_count": 19,
   "metadata": {},
   "outputs": [],
   "source": [
    "# Load the SCMF drag and PDC ratios extracted from Messina et. al.'s results to compare\n",
    "\n",
    "# First, the drag ratios\n",
    "Drag_dat_SCMF = []\n",
    "with open(\"../SCMF_Messina_et_al/DragRatio_Cr.dat\",\"r\") as fl:\n",
    "    for line in fl:\n",
    "        arr = line.split()\n",
    "        Drag_dat_SCMF.append(float(arr[0]))\n",
    "Drag_dat_SCMF = np.array(Drag_dat_SCMF)\n",
    "\n",
    "# Then, the PDC ratios\n",
    "PDC_dat_SCMF = []\n",
    "with open(\"../SCMF_Messina_et_al/PDC_ratio_Cr.dat\",\"r\") as fl:\n",
    "    for line in fl:\n",
    "        arr = line.split()\n",
    "        PDC_dat_SCMF.append(float(arr[1])) # the temperatures are the first values in the PDC files\n",
    "PDC_dat_SCMF = np.array(PDC_dat_SCMF)"
   ]
  },
  {
   "cell_type": "code",
   "execution_count": 20,
   "metadata": {},
   "outputs": [
    {
     "data": {
      "image/png": "[encoded data removed]",
      "text/plain": [
       "<Figure size 1800x1500 with 1 Axes>"
      ]
     },
     "metadata": {},
     "output_type": "display_data"
    }
   ],
   "source": [
    "# Plot and compare with Messina et. al. - we do just the drag ratios here\n",
    "\n",
    "colorGF = \"tab:blue\"\n",
    "colorMessina = \"tab:orange\"\n",
    "\n",
    "colorInf = \"tab:green\"\n",
    "\n",
    "infAll = \"tab:green\"\n",
    "inf60 = infAll\n",
    "\n",
    "lwMessina = 5\n",
    "lwGF = 3\n",
    "\n",
    "tempScale = temp/1000.\n",
    "tempSpace = np.linspace(tempScale[0], tempScale[-1], 10, endpoint=True)\n",
    "\n",
    "plt.figure(figsize=(18,15))\n",
    "plt.subplot(2,3,1)\n",
    "plt.plot(tempScale, Drag_dat_SCMF, ls=\"--\", color=colorMessina, lw=lwMessina)\n",
    "plt.plot(tempScale, diff_ab_Cr/diff_aa_Cr, ls=\"--\", color=colorGF, lw=lwGF)\n",
    "plt.plot(tempSpace, np.ones_like(tempSpace)*drag_inf, ls='--', color=inf60, marker=\"o\")\n",
    "plt.xlabel(r'$T (\\times 10^3 \\ K)$', fontsize = 25)\n",
    "plt.ylabel(r'$\\mathrm{\\frac{L^{CrFe}}{L^{CrCr}}}$', rotation=0, labelpad = 60, fontsize = 40)\n",
    "\n",
    "plt.xticks(fontsize=14)\n",
    "plt.yticks(fontsize=14)\n",
    "plt.show()"
   ]
  },
  {
   "cell_type": "code",
   "execution_count": 21,
   "metadata": {},
   "outputs": [],
   "source": [
    "# Now save the data for plotting later on\n",
    "import h5py\n",
    "with h5py.File(\"Cr_data.h5\",\"w\") as fl:\n",
    "    fl.create_dataset(\"diff_aa\", data=diff_aa_Cr)\n",
    "    fl.create_dataset(\"diff_ab\", data=diff_ab_Cr)\n",
    "    fl.create_dataset(\"diff_bb_nl\", data=diff_bb_non_loc)\n",
    "    fl.create_dataset(\"diff_bb\", data=diff_bb)\n",
    "    fl.create_dataset(\"drag_inf\", data=np.array([drag_inf]))\n",
    "    fl.create_dataset(\"Temp\", data=np.array(temp))"
   ]
  },
  {
   "cell_type": "code",
   "execution_count": null,
   "metadata": {},
   "outputs": [],
   "source": []
  }
 ],
 "metadata": {
  "kernelspec": {
   "display_name": "Python [conda env:Dumbbells_python_3.7] *",
   "language": "python",
   "name": "conda-env-Dumbbells_python_3.7-py"
  },
  "language_info": {
   "codemirror_mode": {
    "name": "ipython",
    "version": 3
   },
   "file_extension": ".py",
   "mimetype": "text/x-python",
   "name": "python",
   "nbconvert_exporter": "python",
   "pygments_lexer": "ipython3",
   "version": "3.7.16"
  }
 },
 "nbformat": 4,
 "nbformat_minor": 2
}

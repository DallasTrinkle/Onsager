{
 "cells": [
  {
   "cell_type": "markdown",
   "metadata": {},
   "source": [
    "## Simulation of <110> dumbbells diffusion in Fe-dilute Cu alloy.\n",
    "In this notebook, we use the onsager calculator we created in part 1 to compute transport coefficients for the dumbbell-mediated mechanism for dilute Cu in Fe.\n",
    "\n",
    "The data of the energies are taken from the database given along with the paper by Messina et. al. - https://doi.org/10.1016/j.actamat.2020.03.038\n",
    "\n",
    "We need to identify the solute-dumbbell complex states with the appropriate labels give in this paper, as well as the various dumbbell jump types. We then assign appropriate state formation and dumbbell migration energies, as per the data given in the above-mentioned database.\n",
    "\n",
    "We then save our calculation data to compare the Green's function results for the drag and partial diffusion coefficient ratios with the results from SCMF calculations taken also from the above-mentioned database.\n",
    "\n",
    "In part 2 and 3 for Fe - dilute Ni and dilute Si alloys, we simply use the same calculator from part 1 as here, so we don't have to re-index the states again."
   ]
  },
  {
   "cell_type": "code",
   "execution_count": 1,
   "metadata": {},
   "outputs": [],
   "source": [
    "import numpy as np\n",
    "\n",
    "from scipy.constants import physical_constants\n",
    "kB = physical_constants['Boltzmann constant in eV/K'][0]\n",
    "from matplotlib import pyplot as plt\n",
    "\n",
    "import pickle\n",
    "import time"
   ]
  },
  {
   "cell_type": "code",
   "execution_count": 2,
   "metadata": {},
   "outputs": [
    {
     "name": "stdout",
     "output_type": "stream",
     "text": [
      "CPU times: user 12min 1s, sys: 19.9 s, total: 12min 21s\n",
      "Wall time: 11min 59s\n"
     ]
    }
   ],
   "source": [
    "%%time\n",
    "with open(\"Fe_Cu_Ni_Si.pkl\",\"rb\") as fl:\n",
    "    onsagercalculator = pickle.load(fl)"
   ]
  },
  {
   "cell_type": "markdown",
   "metadata": {},
   "source": [
    "### Now, we'll look at the complex states in our thermodynamic shell\n",
    "We take the first state from each symmetry group of states, and print out its info in groups\n",
    "of three lines.\n",
    "\n",
    "For each state, the number printed out in the first line is the index assgined to the\n",
    "symmetry group (called the \"star\") the state belongs to.\n",
    "\n",
    "The second line gives the pure dumbbell orientation vector in cartesian coordinates (Recall that the length of the orientation vector is taken to be the atomic diameter of iron).\n",
    "\n",
    "The third line prints the position of the dumbbell with respect to the solute location\n",
    "in cartesian coordinates. Recall that the lattice parameter of BCC Fe is 0.2831 nm, as per Messina et al.'s paper.\n",
    "\n",
    "Note that the first complex state (with index 0 in the first line) is an origin state (pure dumbbell on top of solute) and is unphysical.\n",
    "\n",
    "From index 1 onwards, we'll then have to manually match our complex states with the labels in Messina et. al. (1nnA, 1nnB etc). No interaction will be assumed when a corresponding state label is not found in Messina et. al.'s database. For example, a particualr 4nn state found below was not considered in the SCMF calculations.\n",
    "The first 13 such symmetry group starting from index 1 are going to contain all the states we need to consider."
   ]
  },
  {
   "cell_type": "code",
   "execution_count": 3,
   "metadata": {
    "scrolled": false
   },
   "outputs": [
    {
     "name": "stdout",
     "output_type": "stream",
     "text": [
      "0\n",
      "[-0.1782  0.1782  0.    ]\n",
      "[0. 0. 0.]\n",
      "\n",
      "1\n",
      "[0.     0.1782 0.1782]\n",
      "[-0.14155 -0.14155 -0.14155]\n",
      "\n",
      "2\n",
      "[0.     0.1782 0.1782]\n",
      "[-0.14155  0.14155 -0.14155]\n",
      "\n",
      "3\n",
      "[-0.1782  0.1782  0.    ]\n",
      "[0.     0.     0.2831]\n",
      "\n",
      "4\n",
      "[-0.1782  0.1782  0.    ]\n",
      "[0.     0.2831 0.    ]\n",
      "\n",
      "5\n",
      "[-0.1782  0.1782  0.    ]\n",
      "[-0.2831  0.      0.2831]\n",
      "\n",
      "6\n",
      "[0.1782 0.1782 0.    ]\n",
      "[-0.2831 -0.2831  0.    ]\n",
      "\n",
      "7\n",
      "[0.1782 0.1782 0.    ]\n",
      "[-0.2831  0.2831  0.    ]\n",
      "\n",
      "8\n",
      "[-0.1782  0.      0.1782]\n",
      "[0.14155 0.42465 0.14155]\n",
      "\n",
      "9\n",
      "[-0.1782  0.      0.1782]\n",
      "[0.42465 0.14155 0.14155]\n",
      "\n",
      "10\n",
      "[0.     0.1782 0.1782]\n",
      "[ 0.14155 -0.14155 -0.42465]\n",
      "\n",
      "11\n",
      "[-0.1782  0.1782  0.    ]\n",
      "[-0.14155  0.14155  0.42465]\n",
      "\n",
      "12\n",
      "[0.1782 0.     0.1782]\n",
      "[-0.2831 -0.2831 -0.2831]\n",
      "\n",
      "13\n",
      "[-0.1782  0.      0.1782]\n",
      "[-0.2831  0.2831 -0.2831]\n",
      "\n",
      "14\n",
      "[0.1782 0.     0.1782]\n",
      "[0.14155 0.42465 0.42465]\n",
      "\n",
      "15\n",
      "[0.1782 0.     0.1782]\n",
      "[-0.14155  0.42465  0.42465]\n",
      "\n",
      "16\n",
      "[0.1782 0.1782 0.    ]\n",
      "[-0.42465  0.42465 -0.14155]\n",
      "\n",
      "17\n",
      "[0.1782 0.1782 0.    ]\n",
      "[-0.42465 -0.42465  0.14155]\n",
      "\n",
      "18\n",
      "[0.     0.1782 0.1782]\n",
      "[-0.42465 -0.42465  0.42465]\n",
      "\n",
      "19\n",
      "[-0.1782  0.1782  0.    ]\n",
      "[ 0.42465 -0.42465 -0.42465]\n",
      "\n"
     ]
    }
   ],
   "source": [
    "count = 0\n",
    "for star in onsagercalculator.thermo.stars[:onsagercalculator.thermo.mixedstartindex]:\n",
    "    print(count)\n",
    "    db = star[0].db\n",
    "    print(np.round(onsagercalculator.pdbcontainer.iorlist[db.iorind][1], decimals=4)+0.)\n",
    "    print(np.dot(onsagercalculator.crys.lattice, db.R))\n",
    "    print()\n",
    "    count += 1"
   ]
  },
  {
   "cell_type": "code",
   "execution_count": 4,
   "metadata": {},
   "outputs": [],
   "source": [
    "# Identify the complex states from Messina et. al. and assign corresponding labels.\n",
    "name_to_themo_star = {\"1nnA\":2, \"1nnB\":1, \"2nnA\":3, \"2nnB\":4,\"3nnA\":7,\"3nnB\":5,\"3nnC\":6,\n",
    "       \"4nnA\":8,\"4nnB\":11,\"4nnC\":10, \"5nnA\":13, \"5nnB\":12}"
   ]
  },
  {
   "cell_type": "code",
   "execution_count": 5,
   "metadata": {},
   "outputs": [
    {
     "data": {
      "text/plain": [
       "{'1nnA_2nnA': [1],\n",
       " '1nnA_2nnB': [6],\n",
       " '1nnA_3nnB': [5],\n",
       " '1nnA_3nnC': [3],\n",
       " '1nnB_2nnB': [4],\n",
       " '1nnB_3nnB': [7],\n",
       " '1nnB_5nnB': [2],\n",
       " '2nnA_4nnC': [8],\n",
       " '2nnB_4nnB': [9],\n",
       " '2nnB_4nnC': [10]}"
      ]
     },
     "execution_count": 5,
     "metadata": {},
     "output_type": "execute_result"
    }
   ],
   "source": [
    "# sorting out the jumps with the nomenclatures for which solute-dumbbell interactions are taken into account\n",
    "# in the paper by Messina et. al.\n",
    "jmpdict = {\"1nnA_2nnA\":[], \"1nnA_2nnB\":[], \"1nnA_3nnB\":[], \"1nnA_3nnC\":[], \"1nnB_2nnB\":[], \"1nnB_3nnB\":[],\n",
    "          \"1nnB_5nnB\":[], \"2nnA_4nnC\":[], \"2nnB_4nnB\":[], \"2nnB_4nnC\":[]}\n",
    "\n",
    "# Now identify the jumps and put them into the dictionaries\n",
    "for jlistind, jlist in enumerate(onsagercalculator.jnet1):\n",
    "    \n",
    "    # get the first jump of the symmetry-unique omega1 jump list\n",
    "    jmp = jlist[0]\n",
    "    state1 = jmp.state1\n",
    "    state2 = jmp.state2\n",
    "    # if rigid jump, then continue - solute-dumbbell interactions are not taken into\n",
    "    # account for rigid jumps.\n",
    "    if jmp.state1.db.iorind == jmp.state2.db.iorind:\n",
    "        continue\n",
    "    \n",
    "    # get the symmetry groups (\"stars\") of the initial and final states\n",
    "    star1 = onsagercalculator.kinetic.complexIndexdict[state1][1]\n",
    "    star2 = onsagercalculator.kinetic.complexIndexdict[state2][1]\n",
    "    \n",
    "    # next, we see if the these stars are in the thermodynamic shell, and if the corresponding\n",
    "    # jump is in our named jump dictionary above.\n",
    "    if star1 in onsagercalculator.thermo2kin and star2 in onsagercalculator.thermo2kin:\n",
    "        thermo_star1 = onsagercalculator.thermo.complexIndexdict[state1][1]\n",
    "        thermo_star2 = onsagercalculator.thermo.complexIndexdict[state2][1]\n",
    "        name1 = \"\"\n",
    "        name2 = \"\"\n",
    "        \n",
    "        #Now see which stars the states belong to\n",
    "        star1found = False\n",
    "        count1 = 0\n",
    "        star2found = False\n",
    "        count2 = 0\n",
    "        for (key, value) in name_to_themo_star.items():\n",
    "            if thermo_star1==value:\n",
    "                star1found = True\n",
    "                count1 += 1\n",
    "                name1 = key\n",
    "            if thermo_star2==value:\n",
    "                star2found = True\n",
    "                count2 += 1\n",
    "                name2 = key\n",
    "        \n",
    "        # just to ensure we don't have any multiple counting.\n",
    "        if count1>1:\n",
    "            print(thermo_star1)\n",
    "        if count2>1:\n",
    "            print(thermo_star2)\n",
    "        \n",
    "        # Now concatenate names\n",
    "        jname = name1+\"_\"+name2\n",
    "        jnameRev = name2+\"_\"+name1\n",
    "        try:\n",
    "            jmpdict[jname].append(jlistind)\n",
    "        except:\n",
    "            try:\n",
    "                # maybe the jump we have is the reverse of what we stored as the label in the dictionary?\n",
    "                jmpdict[jnamerev].append(jlistind)\n",
    "            \n",
    "            except:    \n",
    "                continue\n",
    "\n",
    "# check to see all necessary jumps have been found - only one symmetry group for each jump\n",
    "# must be present\n",
    "jmpdict"
   ]
  },
  {
   "cell_type": "code",
   "execution_count": 6,
   "metadata": {},
   "outputs": [],
   "source": [
    "# Next assign the solute-dumbbell pair states we found earlier their corresponding supercell\n",
    "# energies from the database of Messina et. al.\n",
    "name_to_en = {\n",
    "\"1nnA\":-2076.29355226,\n",
    "\"1nnB\":-2076.17073296,\n",
    "\"2nnA\":-2076.20528052,\n",
    "\"2nnB\":-2076.17035469,\n",
    "\"3nnA\":-2076.12268221,\n",
    "\"3nnB\":-2076.16878248,\n",
    "\"3nnC\":-2076.20430949,\n",
    "\"4nnA\":-2076.11727877,\n",
    "\"4nnB\":-2076.17973527,\n",
    "\"4nnC\":-2076.15460157,\n",
    "\"5nnA\":-2076.15807100,\n",
    "\"5nnB\":-2076.12315570\n",
    "}"
   ]
  },
  {
   "cell_type": "code",
   "execution_count": 7,
   "metadata": {},
   "outputs": [
    {
     "name": "stdout",
     "output_type": "stream",
     "text": [
      "1nnA: 0.18760249999968437\n",
      "1nnB: 0.06478319999951054\n",
      "2nnA: 0.09933075999970242\n",
      "2nnB: 0.06440492999945491\n",
      "3nnA: 0.016732449999835808\n",
      "3nnB: 0.06283271999973294\n",
      "3nnC: 0.09835972999962905\n",
      "4nnA: 0.011329009999826667\n",
      "4nnB: 0.07378550999965228\n",
      "4nnC: 0.04865180999968288\n",
      "5nnA: 0.05212123999945106\n",
      "5nnB: 0.017205939999712427\n"
     ]
    }
   ],
   "source": [
    "# we then compute the formation energies of the those states\n",
    "\n",
    "E_sup_pdb = -2081.44451396\n",
    "E_sup_solute = -2071.87878154 \n",
    "E_bulk = -2077.21734574\n",
    "E_f_pdb = 4.081701163\n",
    "name_to_Ef = {}\n",
    "for (key, E_IB) in name_to_en.items():\n",
    "    # get the binding energy first\n",
    "    Eb = -E_IB + E_sup_pdb + E_sup_solute - E_bulk\n",
    "    # Next, get the formation energy (relative to solute formation energy)\n",
    "    name_to_Ef[key] = E_f_pdb - Eb\n",
    "\n",
    "# We then print out the binding energies to compare to Messina et. al.\n",
    "for state, en in name_to_Ef.items():\n",
    "    print(\"{}: {}\".format(state, E_f_pdb - en))"
   ]
  },
  {
   "cell_type": "code",
   "execution_count": 8,
   "metadata": {},
   "outputs": [
    {
     "data": {
      "text/plain": [
       "(4.461859783000202, 0.38015862000020206)"
      ]
     },
     "execution_count": 8,
     "metadata": {},
     "output_type": "execute_result"
    }
   ],
   "source": [
    "# The complex energies are set. Now, we set the mixed dumbbell energies\n",
    "E_b_mdb = 2075.72579114 + E_sup_pdb + E_sup_solute - E_bulk\n",
    "E_f_mdb = E_f_pdb - E_b_mdb\n",
    "\n",
    "# print formation and binding energy\n",
    "E_f_mdb, E_f_mdb-E_f_pdb"
   ]
  },
  {
   "cell_type": "code",
   "execution_count": 9,
   "metadata": {},
   "outputs": [],
   "source": [
    "# Next, we set the transition state energies for the omega1 jumps as per the database\n",
    "\n",
    "# J_3_1nnA_2nnA   -2075.9362\n",
    "# J_3_1nnA_2nnB   -2075.9725\n",
    "# J_3_1nnA_3nnB   -2075.9056\n",
    "# J_3_1nnA_3nnC   -2075.9349\n",
    "# J_3_1nnB_2nnB   -2075.8653\n",
    "# J_3_1nnB_3nnB   -2075.8672\n",
    "# J_3_1nnB_5nnB   -2075.8141\n",
    "# J_3_2nnA_4nnC   -2075.8528\n",
    "# J_3_2nnB_4nnB   -2075.9148\n",
    "# J_3_2nnB_4nnC   -2075.8685\n",
    "\n",
    "Jname_2_TS_en = {\"1nnA_2nnA\": -2075.9362, \"1nnA_2nnB\": -2075.9725, \"1nnA_3nnB\": -2075.9056,\n",
    "                 \"1nnA_3nnC\": -2075.9349, \"1nnB_2nnB\": -2075.8653, \"1nnB_3nnB\": -2075.8672,\n",
    "                 \"1nnB_5nnB\": -2075.8141, \"2nnA_4nnC\": -2075.8528, \"2nnB_4nnB\": -2075.9148, \n",
    "                 \"2nnB_4nnC\": -2075.8685}"
   ]
  },
  {
   "cell_type": "code",
   "execution_count": 10,
   "metadata": {},
   "outputs": [],
   "source": [
    "# Now, we have to find the TS energies.\n",
    "Jname_2_ef_ts = {}\n",
    "for (key, E_IB) in Jname_2_TS_en.items():\n",
    "    Eb = -E_IB + E_sup_pdb + E_sup_solute - E_bulk\n",
    "    # Next, get the formation energy (relative to solute formation energy)\n",
    "    Jname_2_ef_ts[key] = E_f_pdb - Eb"
   ]
  },
  {
   "cell_type": "code",
   "execution_count": 11,
   "metadata": {},
   "outputs": [
    {
     "data": {
      "text/plain": [
       "{'1nnA_2nnA': 0.35735225999997056,\n",
       " '1nnA_2nnB': 0.32105226000021503,\n",
       " '1nnA_3nnB': 0.38795226000002003,\n",
       " '1nnA_3nnC': 0.3586522599998716,\n",
       " '1nnB_2nnB': 0.3054329599999619,\n",
       " '1nnB_3nnB': 0.3035329599997567,\n",
       " '1nnB_5nnB': 0.35663295999984257,\n",
       " '2nnA_4nnC': 0.3524805199999719,\n",
       " '2nnB_4nnB': 0.2555546899998262,\n",
       " '2nnB_4nnC': 0.30185468999980003}"
      ]
     },
     "execution_count": 11,
     "metadata": {},
     "output_type": "execute_result"
    }
   ],
   "source": [
    "# Then, we compute the migration energies, and print to compare with Messina et. al.\n",
    "Jname_2_mig = {}\n",
    "for (key, TS_en) in Jname_2_ef_ts.items():\n",
    "    initstar = key[:4]\n",
    "    Jname_2_mig[key] = TS_en - name_to_Ef[initstar]\n",
    "Jname_2_mig"
   ]
  },
  {
   "cell_type": "code",
   "execution_count": 12,
   "metadata": {},
   "outputs": [
    {
     "name": "stdout",
     "output_type": "stream",
     "text": [
      "0.3638911400003053 0.4449418199997126 0.0\n"
     ]
    }
   ],
   "source": [
    "# omega2 and omega43 jumps\n",
    "E_IB_43, E_IB_2 = -2075.72579114, -2075.3619\n",
    "Eb_43, Eb_2 = -E_IB_43 + E_sup_pdb + E_sup_solute - E_bulk, -E_IB_2 + E_sup_pdb + E_sup_solute - E_bulk \n",
    "# Next, get the formation energy (relative to solute formation energy)\n",
    "ef_ts_43 = E_f_pdb - Eb_43\n",
    "ef_ts_2 = E_f_pdb - Eb_2\n",
    "\n",
    "# print omega2, omega4, and omega3 migration energies to compare to Messina et. al.'s paper\n",
    "print(ef_ts_2-E_f_mdb, ef_ts_43 - name_to_Ef[\"1nnB\"], ef_ts_43 - E_f_mdb)"
   ]
  },
  {
   "cell_type": "code",
   "execution_count": 13,
   "metadata": {},
   "outputs": [
    {
     "name": "stdout",
     "output_type": "stream",
     "text": [
      "0.3684911400000601\n",
      "2\n"
     ]
    }
   ],
   "source": [
    "# omega2 rigid translation\n",
    "E_IB_2_rigid = -2075.3573\n",
    "Eb_2_rigid = -E_IB_2_rigid + E_sup_pdb + E_sup_solute - E_bulk\n",
    "ef_ts_2_rigid = E_f_pdb - Eb_2_rigid\n",
    "print(ef_ts_2_rigid-E_f_mdb)\n",
    "print(len(onsagercalculator.jnet2))"
   ]
  },
  {
   "cell_type": "markdown",
   "metadata": {},
   "source": [
    "## Cu calculations"
   ]
  },
  {
   "cell_type": "code",
   "execution_count": 14,
   "metadata": {},
   "outputs": [],
   "source": [
    "vu0 = 4.4447 # attempt frequencies of pure dumbbell jumps.\n",
    "vu2 = 2.6848 # attempt frequencies of mixed dumbbell jumps.\n",
    "Dconv=1e-2 # to change units to cm^2/s units from nm^2*THz\n",
    "\n",
    "# pre-factors and formation energies for pure dumbbell jumps\n",
    "predb0, enedb0 = np.ones(1)*np.exp(0.05), np.array([E_f_pdb])\n",
    "\n",
    "# Here on, pre-factors are going to 1.0\n",
    "# We'll measure every formation energy relative to the solute formation energy.\n",
    "# so we set solute formation energy to zero, and (as per data) pre-factor to 1.\n",
    "preS, eneS = np.ones(1), np.array([0.0])\n",
    "\n",
    "# Next, interaction or the excess energies and pre-factors for solutes and dumbbells.\n",
    "preSdb, eneSdb = np.ones(onsagercalculator.thermo.mixedstartindex), \\\n",
    "                 np.zeros(onsagercalculator.thermo.mixedstartindex)\n",
    "# Now, we go over the necessary stars and assign interaction energies\n",
    "for (key, index) in name_to_themo_star.items():\n",
    "    eneSdb[index] = name_to_Ef[key] - E_f_pdb\n",
    "\n",
    "predb2, enedb2 = np.ones(1), np.array([E_f_mdb])\n",
    "\n",
    "# Transition state energies - For omega0, and omega2, the first type is the roto-translation jump,\n",
    "# and the second one is the rigid jump. For omega0, the third is the on-site rotation.\n",
    "\n",
    "# Omega0 TS eneriges\n",
    "preT0, eneT0 = Dconv*vu0*np.ones(1), np.array([E_f_pdb+0.335115123, E_f_pdb + 0.61091396, E_f_pdb+0.784315123])\n",
    "\n",
    "# Omega2 TS energies\n",
    "Nj2 = len(onsagercalculator.jnet2)\n",
    "preT2, eneT2 = Dconv*vu2*np.ones(Nj2), np.array([ef_ts_2, ef_ts_2_rigid])\n",
    "\n",
    "# Omega43 TS energies\n",
    "preT43, eneT43 = Dconv*vu0*np.ones(1), np.array([ef_ts_43])\n",
    "\n",
    "# Omega1 TS energies\n",
    "preT1 = Dconv*vu0*np.ones(len(onsagercalculator.jnet1))\n",
    "eneT1 = np.array([eneT0[i] for i in onsagercalculator.om1types])\n",
    "# Now, we go over the jumps that are provided and make the necessary changes\n",
    "for (key, index) in jmpdict.items():\n",
    "    eneT1[index] = Jname_2_ef_ts[key]\n",
    "eneT1[0] = 0.0"
   ]
  },
  {
   "cell_type": "code",
   "execution_count": 15,
   "metadata": {},
   "outputs": [
    {
     "name": "stderr",
     "output_type": "stream",
     "text": [
      "100%|██████████████████████████| 381/381 [42:04<00:00,  6.62s/it]\n"
     ]
    }
   ],
   "source": [
    "# Now, we can begin the transport coefficient calculations\n",
    "from tqdm import tqdm\n",
    "\n",
    "temp = np.arange(200, 4001, 10)\n",
    "\n",
    "diff_aa_Cu = np.zeros(len(temp))\n",
    "diff_ab_Cu = np.zeros(len(temp))\n",
    "diff_bb_Cu = np.zeros(len(temp))\n",
    "diff_bb_non_loc = np.zeros(len(temp))\n",
    "\n",
    "for i in tqdm(range(len(temp)), position=0, leave=True, ncols=65):\n",
    "    T = temp[i]\n",
    "    kT = kB*T\n",
    "    bFdb0, bFdb2, bFS, bFSdb, bFT0, bFT1, bFT2, bFT3, bFT4 = \\\n",
    "        onsagercalculator.preene2betafree(kT, predb0, enedb0, preS, eneS, preSdb, eneSdb, predb2, enedb2,\n",
    "                                               preT0, eneT0, preT2, eneT2, preT1, eneT1, preT43, eneT43)\n",
    "\n",
    "    # get the transport coefficients\n",
    "    # the uncorrelated (L_uc) and correlated (L_c) parts will be summed to get the total\n",
    "    # transport coefficients.\n",
    "    # \"a\" stands for solute, \"b\" for solvent (Fe)\n",
    "    L0bb, (L_uc_aa,L_c_aa), (L_uc_bb,L_c_bb), (L_uc_ab,L_c_ab)=\\\n",
    "    onsagercalculator.L_ij(bFdb0, bFT0, bFdb2, bFT2, bFS, bFSdb, bFT1, bFT3, bFT4)\n",
    "    \n",
    "    L_aa = L_uc_aa + L_c_aa\n",
    "    L_bb = L_uc_bb + L_c_bb\n",
    "    L_ab = L_uc_ab + L_c_ab\n",
    "    \n",
    "    diff_aa_Cu[i] = L_aa[0][0]\n",
    "    diff_ab_Cu[i] = L_ab[0][0]\n",
    "    diff_bb_Cu[i] = L_bb[0][0]\n",
    "    diff_bb_non_loc[i] = L0bb[0][0]"
   ]
  },
  {
   "cell_type": "code",
   "execution_count": 16,
   "metadata": {},
   "outputs": [
    {
     "data": {
      "text/plain": [
       "2.2554244079240533"
      ]
     },
     "execution_count": 16,
     "metadata": {},
     "output_type": "execute_result"
    }
   ],
   "source": [
    "# Now let's do the infinite temeperature limit\n",
    "kT = np.inf\n",
    "bFdb0, bFdb2, bFS, bFSdb, bFT0, bFT1, bFT2, bFT3, bFT4 = \\\n",
    "    onsagercalculator.preene2betafree(kT, predb0, enedb0, preS, eneS, preSdb, eneSdb, predb2, enedb2,\n",
    "                                           preT0, eneT0, preT2, eneT2, preT1, eneT1, preT43, eneT43)\n",
    "#     bFdicts[i] = [bFdb0, bFdb2, bFS, bFSdb, bFT0, bFT1, bFT2, bFT3, bFT4]\n",
    "# get the probabilities and other data from L_ij\n",
    "L0bb, (L_uc_aa,L_c_aa), (L_uc_bb,L_c_bb), (L_uc_ab,L_c_ab)=\\\n",
    "onsagercalculator.L_ij(bFdb0, bFT0, bFdb2, bFT2, bFS, bFSdb, bFT1, bFT3, bFT4)\n",
    "\n",
    "L_aa = L_uc_aa + L_c_aa\n",
    "L_bb = L_uc_bb + L_c_bb\n",
    "L_ab = L_uc_ab + L_c_ab\n",
    "drag_inf = L_ab[0][0]/L_aa[0][0]\n",
    "drag_inf"
   ]
  },
  {
   "cell_type": "code",
   "execution_count": 17,
   "metadata": {},
   "outputs": [],
   "source": [
    "import h5py\n",
    "with h5py.File(\"Cu_data.h5\",\"w\") as fl:\n",
    "    fl.create_dataset(\"diff_aa\", data=diff_aa_Cu)\n",
    "    fl.create_dataset(\"diff_ab\", data=diff_ab_Cu)\n",
    "    fl.create_dataset(\"diff_bb_nl\", data=diff_bb_non_loc)\n",
    "    fl.create_dataset(\"diff_bb\", data=diff_bb_Cu)\n",
    "    fl.create_dataset(\"drag_inf\", data=np.array([drag_inf]))\n",
    "    fl.create_dataset(\"Temp\", data=temp)"
   ]
  },
  {
   "cell_type": "code",
   "execution_count": null,
   "metadata": {},
   "outputs": [],
   "source": []
  }
 ],
 "metadata": {
  "kernelspec": {
   "display_name": "Python [conda env:Dumbbells_python_3.7] *",
   "language": "python",
   "name": "conda-env-Dumbbells_python_3.7-py"
  },
  "language_info": {
   "codemirror_mode": {
    "name": "ipython",
    "version": 3
   },
   "file_extension": ".py",
   "mimetype": "text/x-python",
   "name": "python",
   "nbconvert_exporter": "python",
   "pygments_lexer": "ipython3",
   "version": "3.7.16"
  }
 },
 "nbformat": 4,
 "nbformat_minor": 2
}

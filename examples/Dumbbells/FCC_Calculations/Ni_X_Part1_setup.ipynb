{
 "cells": [
  {
   "cell_type": "markdown",
   "metadata": {},
   "source": [
    "# Ni - X computations part 1\n",
    "\n",
    "## Setting up the Onsager Calculator"
   ]
  },
  {
   "cell_type": "code",
   "execution_count": 1,
   "metadata": {},
   "outputs": [],
   "source": [
    "from onsager import crystal\n",
    "from onsager.crystalStars import zeroclean\n",
    "from onsager.OnsagerCalc import dumbbellMediated\n",
    "from onsager.crystal import DB_disp, DB_disp4, pureDBContainer, mixedDBContainer\n",
    "# from onsager.DB_structs import dumbbell, SdPair, jump, connector\n",
    "import time\n",
    "import numpy as np"
   ]
  },
  {
   "cell_type": "code",
   "execution_count": 2,
   "metadata": {},
   "outputs": [
    {
     "name": "stdout",
     "output_type": "stream",
     "text": [
      "#Lattice:\n",
      "  a1 = [0.    0.176 0.176]\n",
      "  a2 = [0.176 0.    0.176]\n",
      "  a3 = [0.176 0.176 0.   ]\n",
      "#Basis:\n",
      "  (Ni) 0.0 = [0. 0. 0.]\n"
     ]
    }
   ],
   "source": [
    "# make FCC lattice - all length units we use are in nanometers.\n",
    "latt = np.array([[0., 0.5, 0.5], [0.5, 0., 0.5], [0.5, 0.5, 0.]]) * 0.352\n",
    "Ni = crystal.Crystal(latt, [[np.array([0., 0., 0.])]], [\"Ni\"])\n",
    "\n",
    "# Next, we set up the dumbbell containers.\n",
    "# The \"pdbcontainer\" and \"mdbcontainer\" objects (see states.py) contain all information regarding pure and\n",
    "# mixed dumbbells, including: The possible orientations (pdbcontainer.iorlist), the symmetry grouping\n",
    "# of the dumbbells (pdbcontainer.symorlist), the group operations between them, and functions to generate\n",
    "# pure and mixed dumbbell jump networks.\n",
    "\n",
    "# We set up orientation vectors along <100> directions.\n",
    "# Note that the orientation vector is a nominal vector. It helps in symmetry analysis and\n",
    "# identificiation of jump types, but atomic displacements are only considered site-to-site in the\n",
    "# transport coefficients. This simplification is allowed by the invariance principle of mass\n",
    "# transport (Trinkle, 2018).\n",
    "# To keep things somewhat physically relevant, we choose this orientation vector length to be the same\n",
    "# as the host atomic diameter (0.326 nm for Ni).\n",
    "o = np.array([1.,0.,0.])*0.163*2\n",
    "famp0 = [o.copy()]  # multiple orientation families can be set up if desired, but we need only one.\n",
    "family = [famp0]\n",
    "pdbcontainer_Ni = pureDBContainer(Ni, 0, family)\n",
    "mdbcontainer_Ni = mixedDBContainer(Ni, 0, family)\n",
    "\n",
    "# Calculate the omega0 and omega2 jump networks.\n",
    "# The inputs to both functions are as follows:\n",
    "# The first input - the cutoff site-to-site distance for dumbbell jumps to be considered. We set this up to\n",
    "# be the nearest neighbor distance.\n",
    "# The next two inputs are cutoff distances for solute-solvent atoms and solvent-solvent atoms, such that\n",
    "# if two atoms come within that distance of each other, then they are considered to collide (see collision.py)\n",
    "jset0, jset2 = pdbcontainer_Ni.jumpnetwork(0.25, 0.01, 0.01), mdbcontainer_Ni.jumpnetwork(0.25, 0.01, 0.01)\n",
    "print(Ni)"
   ]
  },
  {
   "cell_type": "code",
   "execution_count": 3,
   "metadata": {},
   "outputs": [
    {
     "data": {
      "text/plain": [
       "[3, 9]"
      ]
     },
     "execution_count": 3,
     "metadata": {},
     "output_type": "execute_result"
    }
   ],
   "source": [
    "# Modify jnet0\n",
    "jnet0 = jset0[0]\n",
    "# This list contains jumps in the form of symmetry-grouped jump objects\n",
    "\n",
    "jnet0_indexed = jset0[1] \n",
    "# This list contains jumps in the form of ((i, j), dx) where \"i\" is the index assigned to the initial dumbbell state\n",
    "# and j is the index assigned to the final dumbbell state.\n",
    "\n",
    "# The 90-degree roto-translation jump is the jump that has the shortest total atomic dispalcements.\n",
    "# Let's try to sort the jumps accordingly.\n",
    "\n",
    "# We first get rid of the rotation jumps\n",
    "z = np.zeros(3)\n",
    "indices = []\n",
    "for jt, jlist in enumerate(jnet0):\n",
    "    \n",
    "    # We'll skip on-site rotations for now and add them later\n",
    "    if np.allclose(jnet0_indexed[jt][0][1], z):\n",
    "        continue\n",
    "    indices.append(jt)\n",
    "    \n",
    "def sortkey(entry):\n",
    "    jmp = jnet0[entry][0]\n",
    "    # Get the initial orientation vector.\n",
    "    or1 = pdbcontainer_Ni.iorlist[jmp.state1.iorind][1]\n",
    "    \n",
    "    # Get the Final orientation vector.\n",
    "    or2 = pdbcontainer_Ni.iorlist[jmp.state2.iorind][1]\n",
    "    \n",
    "    # Get the site-to-site displacements\n",
    "    dx = DB_disp(pdbcontainer_Ni, jmp.state1, jmp.state2)\n",
    "    \n",
    "    # Get the nominal displacements along orientation vectors, which are only used to sort the jumps.\n",
    "    # For the jump object, the quantity \"c1\" says whether the atom at the head (c1=1) or tail(c1=-1)\n",
    "    # of the orientation vector is executing the jump, while the quantity \"c2\" says whether the jumping atom\n",
    "    # ends up at the head (c2=1) or the tail (c2=-1) of the final orientation vector (see representations.py).\n",
    "    dx1 = np.linalg.norm(jmp.c1*or1/2.)\n",
    "    dx2 = np.linalg.norm(dx + jmp.c2*or2/2. - jmp.c1*or1/2.)\n",
    "    dx3 = np.linalg.norm(-jmp.c2*or2/2.)\n",
    "    return dx1+dx2+dx3  # return the total displacement of the atoms.\n",
    "\n",
    "# Sort the indices according to total displacements.\n",
    "ind_sort = sorted(indices, key=sortkey)\n",
    "#keep only the required index\n",
    "ind_sort = [ind_sort[0]]\n",
    "# Add in the rotations\n",
    "for jt, jlist in enumerate(jnet0):\n",
    "    if np.allclose(jnet0_indexed[jt][0][1], z):\n",
    "        ind_sort.append(jt)\n",
    "ind_sort"
   ]
  },
  {
   "cell_type": "code",
   "execution_count": 4,
   "metadata": {},
   "outputs": [
    {
     "name": "stdout",
     "output_type": "stream",
     "text": [
      "Pure dumbbell (basis site, orientation) list:\n",
      "(0, array([0.   , 0.   , 0.326]))\n",
      "(0, array([ 0.   , -0.326,  0.   ]))\n",
      "(0, array([0.326, 0.   , 0.   ]))\n",
      "\n",
      "Jump object:\n",
      "Initial state:\n",
      "\tdumbbell : (i, or) index = 2, lattice vector = [0 0 0]\n",
      "Final state:\n",
      "\tdumbbell : (i, or) index = 1, lattice vector = [ 1 -1  0]\n",
      "Jumping from c1 = -1 to c2 = 1\n",
      "\n",
      "dumbbell positions in Cartesian coordinates:\n",
      "initial dumbbell position:  [0. 0. 0.]\n",
      "Final dumbbell position:  [-0.176  0.176  0.   ]\n",
      "\n",
      "\n",
      "Jump object:\n",
      "Initial state:\n",
      "\tdumbbell : (i, or) index = 2, lattice vector = [0 0 0]\n",
      "Final state:\n",
      "\tdumbbell : (i, or) index = 1, lattice vector = [0 0 0]\n",
      "Jumping from c1 = -1 to c2 = -1\n",
      "\n"
     ]
    }
   ],
   "source": [
    "# Let's check if we got the correct jump\n",
    "\n",
    "# First, we print out the dumbbell orientations\n",
    "print(\"Pure dumbbell (basis site, orientation) list:\")\n",
    "for tup in pdbcontainer_Ni.iorlist:\n",
    "    print(tup)\n",
    "    \n",
    "print()\n",
    "# For a pure dumbbell, the (i, or) indices (iorInd) correspond to (basis site, orientation vector) pairs.\n",
    "# The corresponding values can be found in the \"iorlist\" we just printed out.\n",
    "\n",
    "# c1 = 1 means the atom at the head of the initial orientation vector jumps.\n",
    "# c1 = -1 means the atom at the tail of the initial orientation vector jumps.\n",
    "\n",
    "# c2 = 1 means the atom lands at the head of the final orientation vector.\n",
    "# c2 = -1 means the atom lands at the tail of the final orientation vector.\n",
    "\n",
    "j = jnet0[ind_sort[0]][0]\n",
    "print(j)\n",
    "print(\"dumbbell positions in Cartesian coordinates:\")\n",
    "print(\"initial dumbbell position: \", np.dot(Ni.lattice, j.state1.R))\n",
    "print(\"Final dumbbell position: \", np.dot(Ni.lattice, j.state2.R))\n",
    "\n",
    "print()\n",
    "print()\n",
    "print(jnet0[ind_sort[1]][0])"
   ]
  },
  {
   "cell_type": "code",
   "execution_count": 5,
   "metadata": {},
   "outputs": [],
   "source": [
    "# Remake the omega0 jump networks with the jumps that we require.\n",
    "jset0new = ([jnet0[i] for i in ind_sort], [jnet0_indexed[i] for i in ind_sort])"
   ]
  },
  {
   "cell_type": "code",
   "execution_count": 6,
   "metadata": {},
   "outputs": [
    {
     "name": "stdout",
     "output_type": "stream",
     "text": [
      "[0, 1, 2, 3, 4, 5, 6, 7, 8]\n",
      "[4, 9]\n"
     ]
    }
   ],
   "source": [
    "# Now, we modify the mixed dumbbell jumpnetwork to also give the lowest displacement jump\n",
    "# Modify jnet2\n",
    "jnet2 = jset2[0]\n",
    "jnet2_indexed = jset2[1]\n",
    "# Let's try to sort the jumps according to closest distance\n",
    "# we don't want the rotational jumps as before.\n",
    "z = np.zeros(3)\n",
    "indices2 = []\n",
    "for jt, jlist in enumerate(jnet2):\n",
    "    if np.allclose(jnet2_indexed[jt][0][1], z):\n",
    "        continue\n",
    "    indices2.append(jt)    \n",
    "print(indices2)\n",
    "\n",
    "def sortkey2(entry):\n",
    "    jmp = jnet2[entry][0]\n",
    "    or1 = mdbcontainer_Ni.iorlist[jmp.state1.db.iorind][1]\n",
    "    or2 = mdbcontainer_Ni.iorlist[jmp.state2.db.iorind][1]\n",
    "    dx = DB_disp(mdbcontainer_Ni, jmp.state1, jmp.state2)\n",
    "    # c1 and c2 are always +1 for mixed dumbbell jumps.\n",
    "    dx1 = np.linalg.norm(jmp.c1*or1/2.)\n",
    "    dx2 = np.linalg.norm(dx + jmp.c2*or2/2. - jmp.c1*or1/2.)\n",
    "    dx3 = np.linalg.norm(-jmp.c2*or2/2.)\n",
    "    return dx1+dx2+dx3\n",
    "\n",
    "ind_sort2 = sorted(indices2, key=sortkey2)\n",
    "ind_sort2 = [ind_sort2[0]]\n",
    "# Add in the rotations\n",
    "for jt, jlist in enumerate(jnet2):\n",
    "    if np.allclose(jnet2_indexed[jt][0][1], z):\n",
    "        ind_sort2.append(jt)\n",
    "print(ind_sort2)"
   ]
  },
  {
   "cell_type": "code",
   "execution_count": 9,
   "metadata": {},
   "outputs": [
    {
     "name": "stdout",
     "output_type": "stream",
     "text": [
      "Mixed dumbbell (basis site, orientation) list:\n",
      "(0, array([0.   , 0.   , 0.326]))\n",
      "(0, array([ 0.   , -0.326,  0.   ]))\n",
      "(0, array([ 0.   ,  0.   , -0.326]))\n",
      "(0, array([0.   , 0.326, 0.   ]))\n",
      "(0, array([0.326, 0.   , 0.   ]))\n",
      "(0, array([-0.326,  0.   ,  0.   ]))\n",
      "\n",
      "Jump object:\n",
      "Initial state:\n",
      "\tSolute loctation:basis index = 0, lattice vector = [0 0 0]\n",
      "\tdumbbell : (i, or) index = 1, lattice vector = [0 0 0]\n",
      "Final state:\n",
      "\tSolute loctation :basis index = 0, lattice vector = [-1  1  0]\n",
      "\tdumbbell : (i, or) index = 5, lattice vector = [-1  1  0]\n",
      "Jumping from c1 = 1 to c2 = 1 \n",
      "\n",
      "dumbbell positions in Cartesian coordinates:\n",
      "initial dumbbell position:  [0. 0. 0.]\n",
      "Final dumbbell position:  [ 0.176 -0.176  0.   ]\n",
      "\n",
      "\n",
      "Jump object:\n",
      "Initial state:\n",
      "\tSolute loctation:basis index = 0, lattice vector = [0 0 0]\n",
      "\tdumbbell : (i, or) index = 5, lattice vector = [0 0 0]\n",
      "Final state:\n",
      "\tSolute loctation :basis index = 0, lattice vector = [0 0 0]\n",
      "\tdumbbell : (i, or) index = 1, lattice vector = [0 0 0]\n",
      "Jumping from c1 = 1 to c2 = 1\n"
     ]
    }
   ],
   "source": [
    "print(\"Mixed dumbbell (basis site, orientation) list:\")\n",
    "for tup in mdbcontainer_Ni.iorlist:\n",
    "    print(tup)\n",
    "print()\n",
    "# For a mixed dumbbell as well, the (i, or) indices (iorInd) correspond to (basis site, orientation vector) pairs.\n",
    "# The corresponding values can be found in the \"iorlist\" we just printed out.\n",
    "\n",
    "# In mixed dumbbells, the solute is always considered to be at the head of the orientation vectors,\n",
    "# so c1 = c2 = 1 always.\n",
    "\n",
    "# check if we have the correct type of jump\n",
    "j = jnet2[ind_sort2[0]][0]\n",
    "print(j,\"\\n\")\n",
    "print(\"dumbbell positions in Cartesian coordinates:\")\n",
    "print(\"initial dumbbell position: \", np.dot(Ni.lattice, j.state1.db.R))\n",
    "print(\"Final dumbbell position: \", np.dot(Ni.lattice, j.state2.db.R))\n",
    "\n",
    "print()\n",
    "print()\n",
    "\n",
    "print(jnet2[ind_sort2[1]][0])"
   ]
  },
  {
   "cell_type": "code",
   "execution_count": 10,
   "metadata": {},
   "outputs": [],
   "source": [
    "# Collect the jumps that we want\n",
    "jset2new = ([jnet2[i] for i in ind_sort2], [jnet2_indexed[i] for i in ind_sort2])"
   ]
  },
  {
   "cell_type": "code",
   "execution_count": 11,
   "metadata": {},
   "outputs": [
    {
     "name": "stdout",
     "output_type": "stream",
     "text": [
      "initializing thermo\n",
      "initializing kin\n",
      "generating thermodynamic shell\n",
      "built shell 1: time - 0.008450508117675781\n",
      "grouped states by symmetry: 0.11574125289916992\n",
      "built mixed dumbbell stars: 0.00045418739318847656\n",
      "built jtags2: 8.845329284667969e-05\n",
      "built mixed indexed star: 0.0024530887603759766\n",
      "building star2symlist : 9.298324584960938e-05\n",
      "building bare, mixed index dicts : 0.0001857280731201172\n",
      "thermodynamic shell generated: 0.1839432716369629\n",
      "Total number of states in Thermodynamic Shell - 39, 6\n",
      "generating kinetic shell\n",
      "built shell 1: time - 0.008862018585205078\n",
      "built shell 2: time - 0.5475401878356934\n",
      "grouped states by symmetry: 1.0981974601745605\n",
      "built mixed dumbbell stars: 0.00039386749267578125\n",
      "built jtags2: 6.270408630371094e-05\n",
      "built mixed indexed star: 0.002425670623779297\n",
      "building star2symlist : 0.00012254714965820312\n",
      "building bare, mixed index dicts : 0.000209808349609375\n",
      "Kinetic shell generated: 2.596893310546875\n",
      "Total number of states in Kinetic Shell - 165, 6\n",
      "generating kinetic shell vector starset\n",
      "Kinetic shell vector starset generated: 1.7642667293548584\n",
      "Generating Jump networks\n",
      "building omega1\n",
      "built omega1 : time - 84.9433867931366\n",
      "building omega43\n",
      "built omega43 : time 2.0366406440734863\n",
      "Jump networks generated: 86.9824686050415\n",
      "building GF starsets\n",
      "\tComplex connections creation time: 10.939898014068604\n",
      "\tComplex connections symmetry grouping time: 3.1190130710601807\n",
      "No. of pure dumbbell connections: 2781\n",
      "GF star sets built: 14.06084656715393\n",
      "Built Complex GF expansions: 9.130342245101929\n",
      "built GFstarsets: 23.215880632400513\n",
      "built rate expansions: 0.5771892070770264\n",
      "built bias expansions: 1.9531996250152588\n",
      "built outer product tensor:0.039540767669677734\n",
      "onsager calculator initiation time = 121.44846081733704\n"
     ]
    }
   ],
   "source": [
    "# Next, make an initial onsager calculator\n",
    "# All possible omega4-3 jumps will first be found, the cutoff distances of which are indicated as follows:\n",
    "# 0.25 : cutoff for site-to-site atomic displacement during omega4-3 jumps.\n",
    "# 0.01 : distance of closest approach during omega4-3 jumps. Input twice for solute-solute and solute-solvent\n",
    "# jumps.\n",
    "# Nthermo - the thermodynamic shell - one nearest neighbor in the present case.\n",
    "start = time.time()\n",
    "onsagercalculator = dumbbellMediated(pdbcontainer_Ni, mdbcontainer_Ni, jset0new, jset2new, 0.25,\n",
    "                                     0.01, 0.01, 0.01, NGFmax=4, Nthermo=1)\n",
    "print(\"onsager calculator initiation time = {}\".format(time.time() - start))"
   ]
  },
  {
   "cell_type": "code",
   "execution_count": 12,
   "metadata": {},
   "outputs": [
    {
     "name": "stdout",
     "output_type": "stream",
     "text": [
      "[0, 1, 2, 3, 4, 5, 6, 7, 8, 9, 10, 11]\n",
      "[2]\n"
     ]
    }
   ],
   "source": [
    "# Next, we get the omega43 jumps computed internally in the onsager calculator,\n",
    "# and extract the shortest displacement jumps in the same manner as the omega0 and omega2 jumps.\n",
    "jnet43 = onsagercalculator.jnet43\n",
    "jnet43_indexed = onsagercalculator.jnet43_indexed\n",
    "# Let's try to sort the jumps according to closest distance\n",
    "z = np.zeros(3)\n",
    "indices43 = []\n",
    "for jt, jlist in enumerate(jnet43):\n",
    "    if np.allclose(jnet43_indexed[jt][0][1], z):\n",
    "        continue\n",
    "    indices43.append(jt)    \n",
    "print(indices43)\n",
    "\n",
    "def sortkey43(entry):\n",
    "    jmp = jnet43[entry][0] # This is an omega4 jump\n",
    "    if not jmp.c2 == -1:\n",
    "        print(c2)\n",
    "    or1 = pdbcontainer_Ni.iorlist[jmp.state1.db.iorind][1]\n",
    "    or2 = mdbcontainer_Ni.iorlist[jmp.state2.db.iorind][1]\n",
    "    dx = DB_disp4(pdbcontainer_Ni, mdbcontainer_Ni, jmp.state1, jmp.state2)\n",
    "    # remember that c2 is -1 for an omega4 jump\n",
    "    dx1 = np.linalg.norm(jmp.c1*or1/2.)\n",
    "    dx2 = np.linalg.norm(dx - or2/2. - jmp.c1*or1/2.)\n",
    "    dx3 = np.linalg.norm(jmp.c2*or2/2.)\n",
    "    return dx1+dx2+dx3\n",
    "\n",
    "ind_sort43 = sorted(indices43, key=sortkey43)[:1]\n",
    "print(ind_sort43)"
   ]
  },
  {
   "cell_type": "code",
   "execution_count": 15,
   "metadata": {},
   "outputs": [
    {
     "name": "stdout",
     "output_type": "stream",
     "text": [
      "Pure dumbbell (basis site, orientation) list:\n",
      "(0, array([0.   , 0.   , 0.326]))\n",
      "(0, array([ 0.   , -0.326,  0.   ]))\n",
      "(0, array([0.326, 0.   , 0.   ]))\n",
      "\n",
      "Mixed dumbbell (basis site, orientation) list:\n",
      "(0, array([0.   , 0.   , 0.326]))\n",
      "(0, array([ 0.   , -0.326,  0.   ]))\n",
      "(0, array([ 0.   ,  0.   , -0.326]))\n",
      "(0, array([0.   , 0.326, 0.   ]))\n",
      "(0, array([0.326, 0.   , 0.   ]))\n",
      "(0, array([-0.326,  0.   ,  0.   ]))\n",
      "\n",
      "Jump object:\n",
      "Initial state:\n",
      "\tSolute loctation:basis index = 0, lattice vector = [0 0 0]\n",
      "\tdumbbell : (i, or) index = 1, lattice vector = [0 0 1]\n",
      "Final state:\n",
      "\tSolute loctation :basis index = 0, lattice vector = [0 0 0]\n",
      "\tdumbbell : (i, or) index = 5, lattice vector = [0 0 0]\n",
      "Jumping from c1 = 1 to c2 = -1 \n",
      "\n",
      "dumbbell positions in Cartesian coordinates:\n",
      "initial (pure) dumbbell position:  [0.176 0.176 0.   ]\n",
      "Final (mixed) dumbbell position:  [0. 0. 0.]\n"
     ]
    }
   ],
   "source": [
    "# check if we have the correct jump\n",
    "\n",
    "# Next, we take a look at our 90-degree roto-translational omega4-omega3 jumps\n",
    "# Since they have the same transition state, they are all grouped together in\n",
    "# the same list. Even indices in this list (0, 2, 4...) will give us omega4 jumps.\n",
    "# The odd indices (1, 3, 5,...) correspond to omega3 jumps.\n",
    "\n",
    "# The Initial state is the complex state (with pure dumbbell), and the Final state is\n",
    "# the mixed dumbbell state involved in the omega4 jump (the reverse is the omega3 jump.\n",
    "\n",
    "# the list into which these states are indexed are printed First.\n",
    "\n",
    "# First, we print out the dumbbell orientations\n",
    "print(\"Pure dumbbell (basis site, orientation) list:\")\n",
    "for tup in pdbcontainer_Ni.iorlist:\n",
    "    print(tup)\n",
    "    \n",
    "print()\n",
    "\n",
    "\n",
    "print(\"Mixed dumbbell (basis site, orientation) list:\")\n",
    "for tup in mdbcontainer_Ni.iorlist:\n",
    "    print(tup)\n",
    "print()\n",
    "\n",
    "# Remmber that in an omega4 jump, the self-interstitial jumps, and the solute is always considered\n",
    "# to be at the head of the dumbbell, so c2 will always be -1 (since the self-interstitial is considered\n",
    "# to land at the tail of the mixed dumbbell).\n",
    "\n",
    "j = jnet43[ind_sort43[0]][0]\n",
    "print(j,\"\\n\")\n",
    "print(\"dumbbell positions in Cartesian coordinates:\")\n",
    "print(\"initial (pure) dumbbell position: \", np.dot(Ni.lattice, j.state1.db.R))\n",
    "print(\"Final (mixed) dumbbell position: \", np.dot(Ni.lattice, j.state2.db.R))"
   ]
  },
  {
   "cell_type": "code",
   "execution_count": 17,
   "metadata": {},
   "outputs": [],
   "source": [
    "# Next, we reconstruct the omega43 jump network to include only the 90-degree roto-translational jumps we have just\n",
    "# filtered out as printed above.\n",
    "onsagercalculator.regenerate43(ind_sort43)"
   ]
  },
  {
   "cell_type": "code",
   "execution_count": 18,
   "metadata": {},
   "outputs": [],
   "source": [
    "# We then store the onsager calculator into a pickle file so that it need not be regenerated all the time.\n",
    "import pickle\n",
    "with open('NiFe_NiCr_Onsg.pkl','wb') as fl:\n",
    "    pickle.dump(onsagercalculator,fl)"
   ]
  },
  {
   "cell_type": "code",
   "execution_count": null,
   "metadata": {},
   "outputs": [],
   "source": []
  }
 ],
 "metadata": {
  "kernelspec": {
   "display_name": "Python [conda env:Dumbbells_python_3.7] *",
   "language": "python",
   "name": "conda-env-Dumbbells_python_3.7-py"
  },
  "language_info": {
   "codemirror_mode": {
    "name": "ipython",
    "version": 3
   },
   "file_extension": ".py",
   "mimetype": "text/x-python",
   "name": "python",
   "nbconvert_exporter": "python",
   "pygments_lexer": "ipython3",
   "version": "3.7.16"
  }
 },
 "nbformat": 4,
 "nbformat_minor": 2
}

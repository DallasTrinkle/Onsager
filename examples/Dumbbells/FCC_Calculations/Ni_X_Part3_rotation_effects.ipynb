{
 "cells": [
  {
   "cell_type": "markdown",
   "metadata": {},
   "source": [
    "# Notebook to explore the decorrelating effect of on-site rotations of </br> <100 >-oriented dumbbells in an FCC solid"
   ]
  },
  {
   "cell_type": "code",
   "execution_count": 1,
   "metadata": {},
   "outputs": [],
   "source": [
    "import numpy as np\n",
    "\n",
    "# from onsager.crystal import Crystal\n",
    "# from onsager.crystalStars import zeroclean\n",
    "from onsager.OnsagerCalc import dumbbellMediated\n",
    "from onsager.crystal import DB_disp, DB_disp4 #, pureDBContainer, mixedDBContainer\n",
    "from onsager.DB_structs import dumbbell, SdPair, jump, connector\n",
    "\n",
    "import time\n",
    "import pickle\n",
    "# from scipy.constants import physical_constants\n",
    "# kB = physical_constants['Boltzmann constant in eV/K'][0]\n",
    "from matplotlib import pyplot as plt\n",
    "import matplotlib.ticker as ticker\n",
    "# from scipy.linalg import pinv2\n",
    "# from onsager.crystalStars import zeroclean\n",
    "\n",
    "from tqdm import tqdm"
   ]
  },
  {
   "cell_type": "code",
   "execution_count": 2,
   "metadata": {},
   "outputs": [
    {
     "name": "stdout",
     "output_type": "stream",
     "text": [
      "#Lattice:\n",
      "  a1 = [0.    0.176 0.176]\n",
      "  a2 = [0.176 0.    0.176]\n",
      "  a3 = [0.176 0.176 0.   ]\n",
      "#Basis:\n",
      "  (Ni) 0.0 = [0. 0. 0.]\n"
     ]
    }
   ],
   "source": [
    "# with open('NiFe_NiCr_08_31_2020.pkl','rb') as fl:\n",
    "with open('NiFe_NiCr_Onsg.pkl','rb') as fl:\n",
    "    onsagercalculator = pickle.load(fl)\n",
    "\n",
    "pdbcontainer_Ni = onsagercalculator.pdbcontainer\n",
    "mdbcontainer_Ni = onsagercalculator.mdbcontainer\n",
    "print(onsagercalculator.crys)"
   ]
  },
  {
   "cell_type": "code",
   "execution_count": 3,
   "metadata": {},
   "outputs": [
    {
     "name": "stdout",
     "output_type": "stream",
     "text": [
      "Origin state omega1 jump type index : 0\n",
      "Jump object:\n",
      "Initial state:\n",
      "\tSolute loctation:basis index = 0, lattice vector = [0 0 0]\n",
      "\tdumbbell : (i, or) index = 0, lattice vector = [0 0 0]\n",
      "Final state:\n",
      "\tSolute loctation :basis index = 0, lattice vector = [0 0 0]\n",
      "\tdumbbell : (i, or) index = 1, lattice vector = [ 0  1 -1]\n",
      "Jumping from c1 = 1 to c2 = -1\n",
      "\n",
      "Origin state omega1 jump type index : 13\n",
      "Jump object:\n",
      "Initial state:\n",
      "\tSolute loctation:basis index = 0, lattice vector = [0 0 0]\n",
      "\tdumbbell : (i, or) index = 0, lattice vector = [0 0 0]\n",
      "Final state:\n",
      "\tSolute loctation :basis index = 0, lattice vector = [0 0 0]\n",
      "\tdumbbell : (i, or) index = 1, lattice vector = [0 0 0]\n",
      "Jumping from c1 = 1 to c2 = 1\n",
      "\n",
      "[0, 13]\n"
     ]
    }
   ],
   "source": [
    "# First, let us weed out jumps to and from \"origin\" states (see our paper)\n",
    "# \"Origin\" states are where the solute and pure dumbbell are at the same site - which is unphysical.\n",
    "# There should be two kinds - one to and from origin states and the second on-site rotation in an origin state\n",
    "\n",
    "# For a dumbbell, the (i, or) indices (iorInd) correspond to (basis site, orientation vector) pairs.\n",
    "# The corresponding values can be found at onsagercalculator.pdbcontainer.iorlist[iorInd]\n",
    "\n",
    "# The basis index of the solute corresponds to which unit cell site type it occupies.\n",
    "\n",
    "# The quantity \"c1\" indicates whether the atom at the head (c1 = 1) or the tail (c1 = -1) of the\n",
    "# orientation vector is executing the jump\n",
    "\n",
    "# The quantity \"c2\" indicates whether the jumping atom ends up at the head (c2 = 1) or the \n",
    "# tail (c2 = -1) of the final orientation vector.\n",
    "\n",
    "origin_index = []\n",
    "for idx, jlist in enumerate(onsagercalculator.jnet1):\n",
    "    if jlist[0].state2.is_zero(onsagercalculator.pdbcontainer):\n",
    "        print(\"Origin state omega1 jump type index : {}\".format(idx))\n",
    "        print(jlist[0])\n",
    "        origin_index.append(idx)\n",
    "        print()\n",
    "        continue\n",
    "    if jlist[0].state1.is_zero(onsagercalculator.pdbcontainer):\n",
    "        print(\"Origin state omega1 jump type index : {}\".format(idx))\n",
    "        print(jlist[0])\n",
    "        origin_index.append(idx)\n",
    "        print()\n",
    "        continue\n",
    "\n",
    "print(origin_index)"
   ]
  },
  {
   "cell_type": "code",
   "execution_count": 4,
   "metadata": {},
   "outputs": [
    {
     "name": "stdout",
     "output_type": "stream",
     "text": [
      "[14, 15, 16, 17, 18, 19, 20, 21, 22, 23, 24, 25]\n"
     ]
    }
   ],
   "source": [
    "## In order to make this a bit less tedious, let's first filter out the rotation jumps\n",
    "rot_index = []\n",
    "\n",
    "# iterate through the omega1 jump types (which are grouped by symmetry)\n",
    "for i, jlist in enumerate(onsagercalculator.jnet1):\n",
    "    jmp = jlist[0] # Get a representative jump\n",
    "    \n",
    "    # check the dumbbell displacement during the jump\n",
    "    dx = DB_disp(pdbcontainer_Ni, jmp.state1, jmp.state2) # the disp function is in states.py\n",
    "    \n",
    "    db1 = jmp.state1.db\n",
    "    db2 = jmp.state2.db\n",
    "    \n",
    "    i1, R1 = pdbcontainer_Ni.iorlist[db1.iorind][0], db1.R\n",
    "    i2, R2 = pdbcontainer_Ni.iorlist[db2.iorind][0], db2.R\n",
    "    \n",
    "    x1 = pdbcontainer_Ni.crys.pos2cart(R1, (0, i1))\n",
    "    x2 = pdbcontainer_Ni.crys.pos2cart(R2, (0, i2))\n",
    "    \n",
    "    assert np.allclose(x2-x1, dx)\n",
    "    \n",
    "    # if the displacement is zero, then we have a rotation\n",
    "    # if the rotation is of an origin state, ignore it, since we have identified it before.\n",
    "    if np.allclose(dx, 0.) and not i in origin_index:\n",
    "        rot_index.append(i)\n",
    "print(rot_index)"
   ]
  },
  {
   "cell_type": "code",
   "execution_count": 6,
   "metadata": {},
   "outputs": [
    {
     "name": "stderr",
     "output_type": "stream",
     "text": [
      "100%|████████████████████████████| 51/51 [01:00<00:00,  1.19s/it]\n"
     ]
    }
   ],
   "source": [
    "# Now we'll play around with the relative rates of rotation and roto-translation jumps.\n",
    "\n",
    "# 1.  First get the rates and thermodynamic data\n",
    "\n",
    "# 1a. Energies and pre-factors\n",
    "rot = 2.0\n",
    "trans = 0.0\n",
    "\n",
    "predb0, enedb0 = np.ones(1), np.array([0])\n",
    "\n",
    "preS, eneS = np.ones(1), np.zeros(1)\n",
    "\n",
    "# set interaction energies to zero\n",
    "preSdb, eneSdb = np.ones(onsagercalculator.thermo.mixedstartindex), \\\n",
    "                 np.array([0., 0., 0.])\n",
    "\n",
    "predb2, enedb2 = np.ones(1), np.array([0])\n",
    "\n",
    "# The first type is roto-trans, the second is onsite rot.\n",
    "preT0, eneT0 = np.ones(len(onsagercalculator.vkinetic.starset.jnet0)), np.array([trans, rot])\n",
    "\n",
    "\n",
    "# Omega2 TS energies\n",
    "Nj2 = len(onsagercalculator.jnet2)\n",
    "preT2, eneT2 = np.ones(Nj2), np.array([trans, rot])\n",
    "\n",
    "# Omega43 TS energies\n",
    "preT43, eneT43 = np.ones(len(onsagercalculator.jnet43)), np.array([trans])\n",
    "\n",
    "# Omega1 TS energies\n",
    "preT1 = np.ones(len(onsagercalculator.jnet1))\n",
    "\n",
    "eneT1 = np.zeros(len(onsagercalculator.jnet1))\n",
    "# from 14 to 25, we have on-site rotations\n",
    "# 0 and 13 are origin state jumps\n",
    "eneT1[1:12] = trans\n",
    "eneT1[14:] = rot\n",
    "\n",
    "kT = 1\n",
    "\n",
    "# We'll vary the barriers by -10 to 10 energy units of the rotation rates\n",
    "# to see what happens when rotations become very probable to very less probable.\n",
    "inc = np.linspace(-10,10,51)\n",
    "\n",
    "diff_aa_Ni2 = np.zeros(len(inc))\n",
    "diff_bb_Ni2 = np.zeros(len(inc))\n",
    "diff_ab_Ni2 = np.zeros(len(inc))\n",
    "diff_bb_non_loc_Ni = np.zeros(len(inc))\n",
    "\n",
    "omega2_RT = np.zeros(len(inc))\n",
    "omega2_rot = np.zeros(len(inc))\n",
    "\n",
    "for i in tqdm(range(len(inc)), position=0, leave=True, ncols=65):\n",
    "    \n",
    "    eneT2 = np.array([trans, rot + inc[i]])\n",
    "    eneT0 = np.array([trans, rot + inc[i]])\n",
    "    eneT1[14:] = trans + inc[i]\n",
    "    \n",
    "\n",
    "    bFdb0, bFdb2, bFS, bFSdb, bFT0, bFT1, bFT2, bFT3, bFT4 = \\\n",
    "        onsagercalculator.preene2betafree(kT, predb0, enedb0, preS, eneS, preSdb, eneSdb, predb2, enedb2,\n",
    "                                               preT0, eneT0, preT2, eneT2, preT1, eneT1, preT43, eneT43)\n",
    "    #     bFdicts[i] = [bFdb0, bFdb2, bFS, bFSdb, bFT0, bFT1, bFT2, bFT3, bFT4]\n",
    "    # get the probabilities and other data from L_ij\n",
    "    L0bb, (L_uc_aa,L_c_aa), (L_uc_bb,L_c_bb), (L_uc_ab,L_c_ab) =\\\n",
    "    onsagercalculator.L_ij(bFdb0, bFT0, bFdb2, bFT2, bFS, bFSdb, bFT1, bFT3, bFT4)\n",
    "\n",
    "    L_aa = L_uc_aa + L_c_aa\n",
    "    L_bb = L_uc_bb + L_c_bb\n",
    "    L_ab = L_uc_ab + L_c_ab\n",
    "\n",
    "    diff_aa_Ni2[i] = L_aa[0][0]\n",
    "    diff_bb_Ni2[i] = L_bb[0][0]\n",
    "    diff_ab_Ni2[i] = L_ab[0][0]\n",
    "    diff_bb_non_loc_Ni[i] = L0bb[0][0]\n",
    "    \n",
    "    omegas = onsagercalculator.omegas\n",
    "    \n",
    "    omega2_RT[i] = omegas[2][0][0]\n",
    "    omega2_rot[i] = omegas[2][0][1]"
   ]
  },
  {
   "cell_type": "code",
   "execution_count": 9,
   "metadata": {},
   "outputs": [
    {
     "name": "stderr",
     "output_type": "stream",
     "text": [
      "The PostScript backend does not support transparency; partially transparent artists will be rendered opaque.\n"
     ]
    },
    {
     "data": {
      "image/png": "[encoded data removed]",
      "text/plain": [
       "<Figure size 600x600 with 1 Axes>"
      ]
     },
     "metadata": {},
     "output_type": "display_data"
    }
   ],
   "source": [
    "fig, ax1 = plt.subplots(1,1,figsize=(6,6))\n",
    "\n",
    "ax1.semilogx(omega2_rot/omega2_RT, diff_ab_Ni2/diff_aa_Ni2, color=\"tab:blue\", lw=3)\n",
    "ax1.plot(omega2_rot/omega2_RT, np.ones_like(diff_aa_Ni2)/0.4395081, ls=\"--\", label=r'$(0.4395081)^{-1}$',\n",
    "        color=\"tab:green\")\n",
    "\n",
    "ax1.plot(omega2_rot/omega2_RT, np.ones_like(diff_aa_Ni2), ls=\":\", label=r'$1.0$',\n",
    "        color=\"tab:green\")\n",
    "\n",
    "ax1.tick_params(axis='both', which='major', labelsize=14)\n",
    "ax1.tick_params(axis='both', which='minor', labelsize=14)\n",
    "ax1.set_xlabel(r'$\\dfrac{W^{rot}}{w^2_{RT}}$', fontsize=16)\n",
    "ax1.set_ylabel(r'$\\dfrac{L^{XA}}{L^{XX}}$', fontsize=16, rotation=0, labelpad=40)\n",
    "\n",
    "ax1.legend(fontsize=14)\n",
    "\n",
    "plt.tight_layout()\n",
    "plt.savefig(\"Drag_Tracer_FCC_rot_vs_trans.pdf\", bbox_inches=\"tight\", format=\"pdf\")\n",
    "plt.savefig(\"Drag_Tracer_FCC_rot_vs_trans.eps\", bbox_inches=\"tight\", format=\"eps\")"
   ]
  },
  {
   "cell_type": "code",
   "execution_count": 10,
   "metadata": {},
   "outputs": [
    {
     "data": {
      "text/plain": [
       "1.000335357029533"
      ]
     },
     "execution_count": 10,
     "metadata": {},
     "output_type": "execute_result"
    }
   ],
   "source": [
    "np.min(diff_ab_Ni2/diff_aa_Ni2) # this value cannot be less that one."
   ]
  },
  {
   "cell_type": "code",
   "execution_count": null,
   "metadata": {},
   "outputs": [],
   "source": []
  }
 ],
 "metadata": {
  "kernelspec": {
   "display_name": "Python [conda env:Dumbbells_python_3.7] *",
   "language": "python",
   "name": "conda-env-Dumbbells_python_3.7-py"
  },
  "language_info": {
   "codemirror_mode": {
    "name": "ipython",
    "version": 3
   },
   "file_extension": ".py",
   "mimetype": "text/x-python",
   "name": "python",
   "nbconvert_exporter": "python",
   "pygments_lexer": "ipython3",
   "version": "3.7.16"
  }
 },
 "nbformat": 4,
 "nbformat_minor": 2
}

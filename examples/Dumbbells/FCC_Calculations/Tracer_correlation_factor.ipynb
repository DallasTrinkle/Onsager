{
 "cells": [
  {
   "cell_type": "markdown",
   "metadata": {},
   "source": [
    "# Tracer Correlation Factor computation for the <100>-<100> 90-degree dumbbell roto-translation mechanism in FCC systems."
   ]
  },
  {
   "cell_type": "code",
   "execution_count": 1,
   "metadata": {},
   "outputs": [],
   "source": [
    "import numpy as np\n",
    "from onsager.crystal import Crystal\n",
    "from onsager.crystalStars import zeroclean\n",
    "from onsager.OnsagerCalc import dumbbellMediated\n",
    "from onsager.crystal import DB_disp, DB_disp4, pureDBContainer, mixedDBContainer\n",
    "import time"
   ]
  },
  {
   "cell_type": "code",
   "execution_count": 2,
   "metadata": {},
   "outputs": [
    {
     "name": "stdout",
     "output_type": "stream",
     "text": [
      "#Lattice:\n",
      "  a1 = [0.  0.5 0.5]\n",
      "  a2 = [0.5 0.  0.5]\n",
      "  a3 = [0.5 0.5 0. ]\n",
      "#Basis:\n",
      "  (A) 0.0 = [0. 0. 0.]\n"
     ]
    }
   ],
   "source": [
    "# make FCC lattice - all length units we use are in nanometers.\n",
    "# Note that tracer correlation factors are independent of lattice parameters,\n",
    "# as can be readily verified in the present calculations.\n",
    "\n",
    "a0 = 1.0\n",
    "a0cut = 1.01*a0/np.sqrt(2)  # The cutoff distance for dumbbell jumps. Setting to nearest neighbor and a\n",
    "                            # small tolerance.\n",
    "\n",
    "latt = np.array([[0., 0.5, 0.5], [0.5, 0., 0.5], [0.5, 0.5, 0.]]) * a0\n",
    "FCC = Crystal(latt, [[np.array([0., 0., 0.])]], [\"A\"])\n",
    "\n",
    "# Next, we set up the dumbbell containers.\n",
    "# The \"pdbcontainer\" and \"mdbcontainer\" objects (see states.py) contain all information regarding pure and\n",
    "# mixed dumbbells, including: The possible orientations (pdbcontainer.iorlist), the symmetry grouping\n",
    "# of the dumbbells (pdbcontainer.symorlist), the group operations between them, and functions to generate\n",
    "# pure and mixed dumbbell jump networks.\n",
    "\n",
    "# We set up orientation vectors along <100> directions.\n",
    "# Note that the orientation vector is a nominal vector. It helps in symmetry analysis and\n",
    "# identificiation of jump types, but atomic displacements are only considered site-to-site in the\n",
    "# transport coefficients. This simplification is allowed by the invariance principle of mass\n",
    "# transport (Trinkle, 2018) without any errors in transport coefficients.\n",
    "\n",
    "o = np.array([1.,0.,0.])*a0/4\n",
    "famp0 = [o.copy()]  # multiple orientation families can be put in if desired, but we need only one.\n",
    "family = [famp0]\n",
    "pdbcontainer = pureDBContainer(FCC, 0, family)\n",
    "mdbcontainer = mixedDBContainer(FCC, 0, family)\n",
    "\n",
    "# Calculate the omega0 and omega2 jump networks.\n",
    "# The inputs to both functions are as follows:\n",
    "# The first input - the cutoff site-to-site distance for dumbbell jumps to be considered. We set this up to\n",
    "# be the nearest neighbor distance.\n",
    "# The next two inputs are cutoff distances for solute-solvent atoms and solvent-solvent atoms, such that\n",
    "# if two atoms come within that distance of each other, then they are considered to collide (see collision.py)\n",
    "jset0, jset2 = pdbcontainer.jumpnetwork(a0cut, 0.01, 0.01), mdbcontainer.jumpnetwork(a0cut, 0.01, 0.01)\n",
    "print(FCC)"
   ]
  },
  {
   "cell_type": "code",
   "execution_count": 3,
   "metadata": {},
   "outputs": [],
   "source": [
    "# Modify jnet0\n",
    "jnet0 = jset0[0]\n",
    "# These contain jumps in the form of jump objects\n",
    "\n",
    "jnet0_indexed = jset0[1] \n",
    "# These contain jumps in the form of ((i, j), dx) where \"i\" is the index assigned to the initial dumbbell state\n",
    "# and j is the index assigned to the final dumbbell state.\n",
    "\n",
    "# The 90-degree roto-translation jump is the jump that has the shortest total atomic dispalcements.\n",
    "# Let's try to sort the jumps accordingly.\n",
    "\n",
    "# We first get rid of the rotation jumps\n",
    "z = np.zeros(3)\n",
    "indices = []\n",
    "for jt, jlist in enumerate(jnet0):\n",
    "    \n",
    "    # We'll skip on-site rotations for now and add them later\n",
    "    if np.allclose(jnet0_indexed[jt][0][1], z):\n",
    "        continue\n",
    "    indices.append(jt)\n",
    "    \n",
    "def sortkey(entry):\n",
    "    jmp = jnet0[entry][0]\n",
    "    # Get the initial orientation vector.\n",
    "    or1 = pdbcontainer.iorlist[jmp.state1.iorind][1]\n",
    "    \n",
    "    # Get the Final orientation vector.\n",
    "    or2 = pdbcontainer.iorlist[jmp.state2.iorind][1]\n",
    "    \n",
    "    # Get the site-to-site displacements\n",
    "    dx = DB_disp(pdbcontainer, jmp.state1, jmp.state2)\n",
    "    \n",
    "    # Get the nominal displacements along orientation vectors, which are only used to sort the jumps.\n",
    "    # For the jump object, the quantity \"c1\" says whether the atom at the head (c1=1) or tail(c1=-1)\n",
    "    # of the orientation vector is executing the jump, while the quantity \"c2\" says whether the jumping atom\n",
    "    # ends up at the head (c2=1) or the tail (c2=-1) of the final orientation vector (see representations.py).\n",
    "    dx1 = np.linalg.norm(jmp.c1*or1/2.)\n",
    "    dx2 = np.linalg.norm(dx + jmp.c2*or2/2. - jmp.c1*or1/2.)\n",
    "    dx3 = np.linalg.norm(-jmp.c2*or2/2.)\n",
    "    return dx1+dx2+dx3  # return the total displacement of the atoms.\n",
    "\n",
    "# Sort the indices according to total displacements.\n",
    "ind_sort = sorted(indices, key=sortkey)\n",
    "#keep only the required index\n",
    "ind_sort = [ind_sort[0]]"
   ]
  },
  {
   "cell_type": "code",
   "execution_count": 4,
   "metadata": {},
   "outputs": [
    {
     "name": "stdout",
     "output_type": "stream",
     "text": [
      "Jump object:\n",
      "Initial state:\n",
      "\tdumbbell : (i, or) index = 2, lattice vector = [0 0 0]\n",
      "Final state:\n",
      "\tdumbbell : (i, or) index = 0, lattice vector = [-1  0  1]\n",
      "Jumping from c1 = 1 to c2 = -1\n",
      "\n"
     ]
    }
   ],
   "source": [
    "# Let's check if we got the correct jump\n",
    "\n",
    "# For a dumbbell, the (i, or) indices correspond to (basis site, orientation vector) pairs.\n",
    "# The corresponding values can be found at onsagercalculator.pdbcontainer.iorlist, which we print out\n",
    "# in the next cell.\n",
    "\n",
    "print(jnet0[ind_sort[0]][0])"
   ]
  },
  {
   "cell_type": "code",
   "execution_count": 5,
   "metadata": {},
   "outputs": [
    {
     "data": {
      "text/plain": [
       "array([ 0.5,  0. , -0.5])"
      ]
     },
     "execution_count": 5,
     "metadata": {},
     "output_type": "execute_result"
    }
   ],
   "source": [
    "# get the cartesian position of the final dumbbell with respect to the initial dumbbell\n",
    "np.dot(FCC.lattice, jnet0[ind_sort[0]][0].state2.R)"
   ]
  },
  {
   "cell_type": "code",
   "execution_count": 6,
   "metadata": {},
   "outputs": [
    {
     "data": {
      "text/plain": [
       "[(0, array([ 0.  ,  0.  , -0.25])),\n",
       " (0, array([ 0.  , -0.25,  0.  ])),\n",
       " (0, array([0.25, 0.  , 0.  ]))]"
      ]
     },
     "execution_count": 6,
     "metadata": {},
     "output_type": "execute_result"
    }
   ],
   "source": [
    "pdbcontainer.iorlist"
   ]
  },
  {
   "cell_type": "code",
   "execution_count": 7,
   "metadata": {},
   "outputs": [],
   "source": [
    "# take only the lowest displacement jump\n",
    "# that is the jump we want.\n",
    "jset0new = ([jnet0[ind_sort[0]]], [jnet0_indexed[ind_sort[0]]])"
   ]
  },
  {
   "cell_type": "code",
   "execution_count": 8,
   "metadata": {},
   "outputs": [],
   "source": [
    "# Now, we modify the mixed dumbbell jumpnetwork to also give the lowest displacement jump\n",
    "# in the same manner as the pure dumbbell jump network\n",
    "jnet2 = jset2[0]\n",
    "jnet2_indexed = jset2[1]\n",
    "# Let's try to sort the jumps according to closest distance\n",
    "# we don't want the rotational jumps as before.\n",
    "z = np.zeros(3)\n",
    "indices2 = []\n",
    "for jt, jlist in enumerate(jnet2):\n",
    "    if np.allclose(jnet2_indexed[jt][0][1], z):\n",
    "        continue\n",
    "    indices2.append(jt)    \n",
    "\n",
    "def sortkey2(entry):\n",
    "    jmp = jnet2[entry][0]\n",
    "    or1 = mdbcontainer.iorlist[jmp.state1.db.iorind][1]\n",
    "    or2 = mdbcontainer.iorlist[jmp.state2.db.iorind][1]\n",
    "    dx = DB_disp(mdbcontainer, jmp.state1, jmp.state2)\n",
    "    # c1 and c2 are always +1 for mixed dumbbell jumps.\n",
    "    dx1 = np.linalg.norm(jmp.c1*or1/2.)\n",
    "    dx2 = np.linalg.norm(dx + jmp.c2*or2/2. - jmp.c1*or1/2.)\n",
    "    dx3 = np.linalg.norm(-jmp.c2*or2/2.)\n",
    "    return dx1+dx2+dx3\n",
    "\n",
    "ind_sort2 = sorted(indices2, key=sortkey2)\n",
    "ind_sort2 = [ind_sort2[0]]"
   ]
  },
  {
   "cell_type": "code",
   "execution_count": 9,
   "metadata": {},
   "outputs": [
    {
     "name": "stdout",
     "output_type": "stream",
     "text": [
      "Jump object:\n",
      "Initial state:\n",
      "\tSolute loctation:basis index = 0, lattice vector = [0 0 0]\n",
      "\tdumbbell : (i, or) index = 4, lattice vector = [0 0 0]\n",
      "Final state:\n",
      "\tSolute loctation :basis index = 0, lattice vector = [-1  0  1]\n",
      "\tdumbbell : (i, or) index = 3, lattice vector = [-1  0  1]\n",
      "Jumping from c1 = 1 to c2 = 1\n"
     ]
    }
   ],
   "source": [
    "# check if we have the correct type of jump\n",
    "print(jnet2[ind_sort2[0]][0])"
   ]
  },
  {
   "cell_type": "code",
   "execution_count": 10,
   "metadata": {},
   "outputs": [
    {
     "name": "stdout",
     "output_type": "stream",
     "text": [
      "(0, array([ 0.  ,  0.  , -0.25]))\n",
      "(0, array([ 0.  , -0.25,  0.  ]))\n",
      "(0, array([0.  , 0.25, 0.  ]))\n",
      "(0, array([0.  , 0.  , 0.25]))\n",
      "(0, array([0.25, 0.  , 0.  ]))\n",
      "(0, array([-0.25,  0.  ,  0.  ]))\n"
     ]
    }
   ],
   "source": [
    "for tup in mdbcontainer.iorlist:\n",
    "    print(tup)"
   ]
  },
  {
   "cell_type": "code",
   "execution_count": 11,
   "metadata": {},
   "outputs": [],
   "source": [
    "# take only the lowest displacement jump\n",
    "# that is the jump we want.\n",
    "jset2new = ([jnet2[ind_sort2[0]]], [jnet2_indexed[ind_sort2[0]]])"
   ]
  },
  {
   "cell_type": "code",
   "execution_count": 12,
   "metadata": {},
   "outputs": [
    {
     "name": "stdout",
     "output_type": "stream",
     "text": [
      "initializing thermo\n",
      "initializing kin\n",
      "generating thermodynamic shell\n",
      "built shell 1: time - 0.006982326507568359\n",
      "grouped states by symmetry: 0.10205364227294922\n",
      "built mixed dumbbell stars: 0.0004031658172607422\n",
      "built jtags2: 3.910064697265625e-05\n",
      "built mixed indexed star: 0.002238750457763672\n",
      "building star2symlist : 6.341934204101562e-05\n",
      "building bare, mixed index dicts : 0.000152587890625\n",
      "thermodynamic shell generated: 0.16315650939941406\n",
      "Total number of states in Thermodynamic Shell - 39, 6\n",
      "generating kinetic shell\n",
      "built shell 1: time - 0.00654911994934082\n",
      "built shell 2: time - 0.32631850242614746\n",
      "grouped states by symmetry: 1.0448944568634033\n",
      "built mixed dumbbell stars: 0.0004258155822753906\n",
      "built jtags2: 4.029273986816406e-05\n",
      "built mixed indexed star: 0.0021882057189941406\n",
      "building star2symlist : 0.00012111663818359375\n",
      "building bare, mixed index dicts : 0.00020813941955566406\n",
      "Kinetic shell generated: 2.354548215866089\n",
      "Total number of states in Kinetic Shell - 165, 6\n",
      "generating kinetic shell vector starset\n",
      "Kinetic shell vector starset generated: 1.595430850982666\n",
      "Generating Jump networks\n",
      "building omega1\n",
      "built omega1 : time - 1.3102128505706787\n",
      "building omega43\n",
      "built omega43 : time 2.1931447982788086\n",
      "Jump networks generated: 3.5051345825195312\n",
      "building GF starsets\n",
      "\tComplex connections creation time: 11.478384017944336\n",
      "\tComplex connections symmetry grouping time: 3.063483238220215\n",
      "No. of pure dumbbell connections: 2781\n",
      "GF star sets built: 14.54368281364441\n",
      "Built Complex GF expansions: 9.07219123840332\n",
      "built GFstarsets: 23.641336679458618\n",
      "built rate expansions: 0.3471689224243164\n",
      "built bias expansions: 1.4627113342285156\n",
      "built outer product tensor:0.040246009826660156\n",
      "onsager calculator initiation time = 37.383219718933105\n"
     ]
    }
   ],
   "source": [
    "# Next, make an initial onsager calculator\n",
    "# All possible omega4-3 jumps will first be found, the cutoff distances of which are indicated as follows:\n",
    "# a0cut : cutoff for site-to-site atomic displacement during omega4-3 jumps.\n",
    "# 0.01 : distance of closest approach during omega4-3 jumps. Input twice for solute-solute and solute-solvent\n",
    "# atom pairs.\n",
    "# Nthermo - the thermodynamic shell - nominally one nearest neighbor in the present case.\n",
    "start = time.time()\n",
    "onsagercalculator = dumbbellMediated(pdbcontainer, mdbcontainer, jset0new, jset2new, a0cut,\n",
    "                                     0.01, 0.01, 0.01, NGFmax=4, Nthermo=1)\n",
    "print(\"onsager calculator initiation time = {}\".format(time.time() - start))"
   ]
  },
  {
   "cell_type": "code",
   "execution_count": 13,
   "metadata": {},
   "outputs": [],
   "source": [
    "# Next, we get the omega43 jumps computed internally in the onsager calculator,\n",
    "# and extract the shortest displacement jumps in the same manner as the omega0 and omega2 jumps.\n",
    "jnet43 = onsagercalculator.jnet43\n",
    "jnet43_indexed = onsagercalculator.jnet43_indexed\n",
    "# Let's try to sort the jumps according to closest distance\n",
    "z = np.zeros(3)\n",
    "indices43 = []\n",
    "for jt, jlist in enumerate(jnet43):\n",
    "    if np.allclose(jnet43_indexed[jt][0][1], z):\n",
    "        continue\n",
    "    indices43.append(jt)\n",
    "\n",
    "def sortkey43(entry):\n",
    "    jmp = jnet43[entry][0] # This is an omega4 jump\n",
    "    if not jmp.c2 == -1:\n",
    "        print(c2)\n",
    "    or1 = pdbcontainer.iorlist[jmp.state1.db.iorind][1]\n",
    "    or2 = mdbcontainer.iorlist[jmp.state2.db.iorind][1]\n",
    "    dx = DB_disp4(pdbcontainer, mdbcontainer, jmp.state1, jmp.state2)\n",
    "    # remember that c2 is -1 for an omega4 jump\n",
    "    dx1 = np.linalg.norm(jmp.c1*or1/2.)\n",
    "    dx2 = np.linalg.norm(dx - or2/2. - jmp.c1*or1/2.)\n",
    "    dx3 = np.linalg.norm(jmp.c2*or2/2.)\n",
    "    return dx1+dx2+dx3\n",
    "\n",
    "ind_sort43 = sorted(indices43, key=sortkey43)[:1]"
   ]
  },
  {
   "cell_type": "code",
   "execution_count": 14,
   "metadata": {},
   "outputs": [
    {
     "name": "stdout",
     "output_type": "stream",
     "text": [
      "Jump object:\n",
      "Initial state:\n",
      "\tSolute loctation:basis index = 0, lattice vector = [0 0 0]\n",
      "\tdumbbell : (i, or) index = 1, lattice vector = [ 1 -1  0]\n",
      "Final state:\n",
      "\tSolute loctation :basis index = 0, lattice vector = [0 0 0]\n",
      "\tdumbbell : (i, or) index = 4, lattice vector = [0 0 0]\n",
      "Jumping from c1 = 1 to c2 = -1\n"
     ]
    }
   ],
   "source": [
    "# check if we have the correct jump\n",
    "print(jnet43[ind_sort43[0]][0])"
   ]
  },
  {
   "cell_type": "code",
   "execution_count": 15,
   "metadata": {},
   "outputs": [
    {
     "data": {
      "text/plain": [
       "[(0, array([ 0.  ,  0.  , -0.25])),\n",
       " (0, array([ 0.  , -0.25,  0.  ])),\n",
       " (0, array([0.25, 0.  , 0.  ]))]"
      ]
     },
     "execution_count": 15,
     "metadata": {},
     "output_type": "execute_result"
    }
   ],
   "source": [
    "pdbcontainer.iorlist"
   ]
  },
  {
   "cell_type": "code",
   "execution_count": 16,
   "metadata": {},
   "outputs": [
    {
     "data": {
      "text/plain": [
       "[(0, array([ 0.  ,  0.  , -0.25])),\n",
       " (0, array([ 0.  , -0.25,  0.  ])),\n",
       " (0, array([0.  , 0.25, 0.  ])),\n",
       " (0, array([0.  , 0.  , 0.25])),\n",
       " (0, array([0.25, 0.  , 0.  ])),\n",
       " (0, array([-0.25,  0.  ,  0.  ]))]"
      ]
     },
     "execution_count": 16,
     "metadata": {},
     "output_type": "execute_result"
    }
   ],
   "source": [
    "mdbcontainer.iorlist"
   ]
  },
  {
   "cell_type": "markdown",
   "metadata": {},
   "source": [
    "### Now that we have the correct jump, we need to reconstruct the omega43 jump list, the bias expansions and the rate expansions."
   ]
  },
  {
   "cell_type": "code",
   "execution_count": 17,
   "metadata": {},
   "outputs": [],
   "source": [
    "# reconstruct the omega43 jump network to include only the 90-degree roto-translational jumps we have just\n",
    "# filtered out.\n",
    "onsagercalculator.regenerate43(ind_sort43)"
   ]
  },
  {
   "cell_type": "code",
   "execution_count": 18,
   "metadata": {},
   "outputs": [],
   "source": [
    "# Next, we need to provide some nominal thermodynamic data for tracer correlation factors.\n",
    "# All the energies of the mixed and pure dumbbells will be the same,\n",
    "# All the jump rates will be the same\n",
    "    # For each of omega0, omega2 and omega43 jumps, set their barriers to zero.\n",
    "    # All omega1 rates will be the same as the above rate.\n",
    "# The \"solute\" energies will be zero since we are dealing with a chemically identical tracer.\n",
    "# All interaction energies will be zero.\n",
    "\n",
    "# 1a. Energies and pre-factors\n",
    "kT = 1\n",
    "\n",
    "predb0, enedb0 = np.ones(len(pdbcontainer.symorlist)), \\\n",
    "                 np.random.rand(len(pdbcontainer.symorlist))\n",
    "\n",
    "preS, eneS = np.ones(len(FCC.sitelist(onsagercalculator.vkinetic.starset.chem))), \\\n",
    "             np.zeros(len(FCC.sitelist(onsagercalculator.vkinetic.starset.chem)))\n",
    "\n",
    "# These are the interaction or the excess energies and pre-factors for solutes and dumbbells.\n",
    "# The energies will all be zero.\n",
    "preSdb, eneSdb = np.ones(onsagercalculator.thermo.mixedstartindex), \\\n",
    "                 np.zeros(onsagercalculator.thermo.mixedstartindex)\n",
    "\n",
    "predb2, enedb2 = predb0.copy(), enedb0.copy()\n",
    "\n",
    "preT0, eneT0 = np.ones(len(onsagercalculator.vkinetic.starset.jnet0)), np.zeros(len(onsagercalculator.jnet0))\n",
    "preT2, eneT2 = preT0.copy(), eneT0.copy()\n",
    "\n",
    "# Next, we set the omega1 and omega0 migration barrier to be the same, by going through\n",
    "# the array \"om1types\" which stores which pure dumbbell (omega0) jump a complex-complex jump corresponds to.\n",
    "preT1, eneT1 = np.ones(len(onsagercalculator.jnet1)), np.array([eneT0[onsagercalculator.om1types[jt]] for jt in\n",
    "                                                                range(len(onsagercalculator.jnet1))])\n",
    "\n",
    "preT43, eneT43 = preT0.copy(), eneT0.copy()"
   ]
  },
  {
   "cell_type": "code",
   "execution_count": 19,
   "metadata": {},
   "outputs": [],
   "source": [
    "# Next, convert the energies and pre-factors to (1/kT*Free Energy)\n",
    "bFdb0, bFdb2, bFS, bFSdb, bFT0, bFT1, bFT2, bFT3, bFT4 = \\\n",
    "    onsagercalculator.preene2betafree(kT, predb0, enedb0, preS, eneS, preSdb, eneSdb, predb2, enedb2,\n",
    "                                           preT0, eneT0, preT2, eneT2, preT1, eneT1, preT43, eneT43)"
   ]
  },
  {
   "cell_type": "code",
   "execution_count": 20,
   "metadata": {},
   "outputs": [],
   "source": [
    "# get the transport coefficients, Green's functions (total and non-local), state probabilities and rates\n",
    "# from the onsagercalculator.L_ij function\n",
    "\n",
    "# L_uc_aa, L_c_aa : uncorrelated and correlated tracer-tracer (or solute-solute) transport coefficient\n",
    "#                   contributions                    \n",
    "\n",
    "# L0bb : bare dumbbell transport coefficient.\n",
    "# L_uc_bb, L_c_bb : uncorrelated and correlated solvent-solvent transport coefficient\n",
    "#                   contributions due to solute interactions.\n",
    "\n",
    "# L_uc_ab, L_c_ab : uncorrelated and correlated solute-solvent transport coefficient\n",
    "#                   contributions.\n",
    "\n",
    "L0bb, (L_uc_aa, L_c_aa), (L_uc_bb, L_c_bb), (L_uc_ab, L_c_ab)=\\\n",
    "onsagercalculator.L_ij(bFdb0, bFT0, bFdb2, bFT2, bFS, bFSdb, bFT1, bFT3, bFT4)"
   ]
  },
  {
   "cell_type": "code",
   "execution_count": 21,
   "metadata": {},
   "outputs": [],
   "source": [
    "L_aa = L_uc_aa + L_c_aa"
   ]
  },
  {
   "cell_type": "code",
   "execution_count": 22,
   "metadata": {},
   "outputs": [],
   "source": [
    "L_ab = L_uc_ab + L_c_ab"
   ]
  },
  {
   "cell_type": "code",
   "execution_count": 23,
   "metadata": {},
   "outputs": [
    {
     "data": {
      "text/plain": [
       "0.4395080938304338"
      ]
     },
     "execution_count": 23,
     "metadata": {},
     "output_type": "execute_result"
    }
   ],
   "source": [
    "L_aa[0][0]/L_ab[0][0]"
   ]
  },
  {
   "cell_type": "code",
   "execution_count": 24,
   "metadata": {},
   "outputs": [
    {
     "data": {
      "text/plain": [
       "0.4395080938304338"
      ]
     },
     "execution_count": 24,
     "metadata": {},
     "output_type": "execute_result"
    }
   ],
   "source": [
    "# Check that this is the same as the ratio of the tracer-tracer transport coefficient to its uncorrelated\n",
    "# part\n",
    "L_aa[0][0]/(L_uc_aa[0][0])"
   ]
  },
  {
   "cell_type": "markdown",
   "metadata": {},
   "source": [
    "Note that in order to keep the two definitions of the transport coefficient consistent, we need to only consider site-to-site displacements. For if orientational displacements (positions of atoms in a dumbbell away from lattice sites) are considered, then the uncorrelated part of the solute-solute transport will not be invariant with those displacements, even though the total transport coefficient will be (See Trinkle, Phys. Rev. Lett., 2018 for the invariance principle of mass transport)."
   ]
  },
  {
   "cell_type": "code",
   "execution_count": null,
   "metadata": {},
   "outputs": [],
   "source": []
  }
 ],
 "metadata": {
  "kernelspec": {
   "display_name": "Python [conda env:Dumbbells_python_3.7] *",
   "language": "python",
   "name": "conda-env-Dumbbells_python_3.7-py"
  },
  "language_info": {
   "codemirror_mode": {
    "name": "ipython",
    "version": 3
   },
   "file_extension": ".py",
   "mimetype": "text/x-python",
   "name": "python",
   "nbconvert_exporter": "python",
   "pygments_lexer": "ipython3",
   "version": "3.7.16"
  }
 },
 "nbformat": 4,
 "nbformat_minor": 2
}

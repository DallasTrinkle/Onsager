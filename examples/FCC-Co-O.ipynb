{
 "cells": [
  {
   "cell_type": "markdown",
   "metadata": {
    "deletable": true,
    "editable": true
   },
   "source": [
    "# Split oxygen-vacancy defects in Co\n",
    "We want to work out the symmetry analysis for our split oxygen-vacancy (V-O-V) defects $\\alpha$-Co (HCP) and $\\beta$-Co (FCC).\n",
    "\n",
    "The split defects can be represented simply as crowdion interstitial sites, for the purposes of symmetry analysis. We're interested in extracting the tensor expansions around those sites, and (eventually) computing the damping coefficients from the DFT data."
   ]
  },
  {
   "cell_type": "code",
   "execution_count": 1,
   "metadata": {
    "collapsed": true,
    "deletable": true,
    "editable": true
   },
   "outputs": [],
   "source": [
    "import sys\n",
    "sys.path.extend(['../'])\n",
    "import numpy as np\n",
    "import matplotlib.pyplot as plt\n",
    "plt.style.use('seaborn-whitegrid')\n",
    "%matplotlib inline\n",
    "import onsager.crystal as crystal\n",
    "import onsager.OnsagerCalc as onsager\n",
    "from scipy.constants import physical_constants\n",
    "kB = physical_constants['Boltzmann constant in eV/K'][0]"
   ]
  },
  {
   "cell_type": "code",
   "execution_count": 2,
   "metadata": {
    "collapsed": false,
    "deletable": true,
    "editable": true
   },
   "outputs": [
    {
     "name": "stdout",
     "output_type": "stream",
     "text": [
      "#Lattice:\n",
      "  a1 = [ 0.   0.5  0.5]\n",
      "  a2 = [ 0.5  0.   0.5]\n",
      "  a3 = [ 0.5  0.5  0. ]\n",
      "#Basis:\n",
      "  (Co) 0.0 = [ 0.  0.  0.]\n"
     ]
    }
   ],
   "source": [
    "betaCo = crystal.Crystal.FCC(1.0, 'Co')\n",
    "print(betaCo)"
   ]
  },
  {
   "cell_type": "code",
   "execution_count": 3,
   "metadata": {
    "collapsed": false,
    "deletable": true,
    "editable": true
   },
   "outputs": [
    {
     "data": {
      "text/plain": [
       "[array([ 0. ,  0. ,  0.5]),\n",
       " array([ 0.5,  0. ,  0.5]),\n",
       " array([ 0.5,  0. ,  0. ]),\n",
       " array([ 0. ,  0.5,  0. ]),\n",
       " array([ 0.5,  0.5,  0. ]),\n",
       " array([ 0. ,  0.5,  0.5])]"
      ]
     },
     "execution_count": 3,
     "metadata": {},
     "output_type": "execute_result"
    }
   ],
   "source": [
    "betaCo.Wyckoffpos(np.array([0.5,0.,0.]))"
   ]
  },
  {
   "cell_type": "code",
   "execution_count": 4,
   "metadata": {
    "collapsed": false,
    "deletable": true,
    "editable": true
   },
   "outputs": [
    {
     "name": "stdout",
     "output_type": "stream",
     "text": [
      "#Lattice:\n",
      "  a1 = [ 0.   0.5  0.5]\n",
      "  a2 = [ 0.5  0.   0.5]\n",
      "  a3 = [ 0.5  0.5  0. ]\n",
      "#Basis:\n",
      "  (Co) 0.0 = [ 0.  0.  0.]\n",
      "  (O) 1.0 = [ 0.   0.   0.5]\n",
      "  (O) 1.1 = [ 0.5  0.   0.5]\n",
      "  (O) 1.2 = [ 0.5  0.   0. ]\n",
      "  (O) 1.3 = [ 0.   0.5  0. ]\n",
      "  (O) 1.4 = [ 0.5  0.5  0. ]\n",
      "  (O) 1.5 = [ 0.   0.5  0.5]\n"
     ]
    }
   ],
   "source": [
    "betaCoO = betaCo.addbasis(betaCo.Wyckoffpos(np.array([0.5,0.,0.])), ['O'])\n",
    "print(betaCoO)"
   ]
  },
  {
   "cell_type": "code",
   "execution_count": 5,
   "metadata": {
    "collapsed": false,
    "deletable": true,
    "editable": true
   },
   "outputs": [],
   "source": [
    "Ojumpnetwork = betaCoO.jumpnetwork(1,0.5)"
   ]
  },
  {
   "cell_type": "code",
   "execution_count": 6,
   "metadata": {
    "collapsed": true,
    "deletable": true,
    "editable": true
   },
   "outputs": [],
   "source": [
    "Odiffuser = onsager.Interstitial(betaCoO, 1, betaCoO.sitelist(1), Ojumpnetwork)"
   ]
  },
  {
   "cell_type": "markdown",
   "metadata": {
    "deletable": true,
    "editable": true
   },
   "source": [
    "We need to analyze the geometry of our representative site; we get the position, then find the zero entry in the position vector, and work from there."
   ]
  },
  {
   "cell_type": "code",
   "execution_count": 7,
   "metadata": {
    "collapsed": false,
    "deletable": true,
    "editable": true
   },
   "outputs": [
    {
     "data": {
      "text/plain": [
       "array([[-2.7 ,  0.13,  0.  ],\n",
       "       [ 0.13, -2.7 ,  0.  ],\n",
       "       [ 0.  ,  0.  , -4.3 ]])"
      ]
     },
     "execution_count": 7,
     "metadata": {},
     "output_type": "execute_result"
    }
   ],
   "source": [
    "Ppara, Pperp, Pshear = -2.70, -4.30, 0.13\n",
    "reppos = betaCoO.pos2cart(np.zeros(3), (1, Odiffuser.sitelist[0][0]))\n",
    "perpindex = [n for n in range(3) if np.isclose(reppos[n], 0)][0]\n",
    "paraindex = [n for n in range(3) if n != perpindex]\n",
    "shearsign = 1 if reppos[paraindex[0]]*reppos[paraindex[1]] > 0 else -1\n",
    "Pdipole = np.diag([Pperp if n == perpindex else Ppara for n in range(3)])\n",
    "Pdipole[paraindex[0], paraindex[1]] = shearsign*Pshear\n",
    "Pdipole[paraindex[1], paraindex[0]] = shearsign*Pshear\n",
    "Pdipole"
   ]
  },
  {
   "cell_type": "code",
   "execution_count": 8,
   "metadata": {
    "collapsed": false,
    "deletable": true,
    "editable": true
   },
   "outputs": [],
   "source": [
    "nu0, Emig = 1e13, 0.91\n",
    "nsites, njumps = len(Odiffuser.sitelist), len(Odiffuser.jumpnetwork)\n",
    "betaCoOthermodict = {'pre': np.ones(nsites), 'ene': np.zeros(nsites), \n",
    "                     'preT': nu0*np.ones(nsites), 'eneT': Emig*np.ones(nsites)}\n",
    "beta = 1./(kB*300)  # 300K\n",
    "Llamb = Odiffuser.losstensors(betaCoOthermodict['pre'], beta*betaCoOthermodict['ene'], \n",
    "                              [Pdipole], \n",
    "                              betaCoOthermodict['preT'], beta*betaCoOthermodict['eneT'])"
   ]
  },
  {
   "cell_type": "code",
   "execution_count": 9,
   "metadata": {
    "collapsed": false,
    "deletable": true,
    "editable": true
   },
   "outputs": [
    {
     "name": "stdout",
     "output_type": "stream",
     "text": [
      "0.0619225494951 (0.0, 0.17066666666666686)\n",
      "0.0412816996634 (2.4132664014743868e-32, 0.0033799999999999629)\n"
     ]
    }
   ],
   "source": [
    "for (lamb, Ltens) in Llamb:\n",
    "    print(lamb, crystal.FourthRankIsotropic(Ltens))"
   ]
  },
  {
   "cell_type": "code",
   "execution_count": 10,
   "metadata": {
    "collapsed": false,
    "deletable": true,
    "editable": true
   },
   "outputs": [
    {
     "name": "stdout",
     "output_type": "stream",
     "text": [
      "0.0198046875\n"
     ]
    }
   ],
   "source": [
    "sh1 = crystal.FourthRankIsotropic(Llamb[0][1])[1]\n",
    "sh2 = crystal.FourthRankIsotropic(Llamb[1][1])[1]\n",
    "print(sh2/sh1)"
   ]
  },
  {
   "cell_type": "markdown",
   "metadata": {
    "deletable": true,
    "editable": true
   },
   "source": [
    "Internal friction resonance. We do loading at a frequency of 1 Hz."
   ]
  },
  {
   "cell_type": "code",
   "execution_count": 11,
   "metadata": {
    "collapsed": false,
    "deletable": true,
    "editable": true
   },
   "outputs": [],
   "source": [
    "nuIF = 1.\n",
    "Trange = np.linspace(250,400,151)\n",
    "shlist = []\n",
    "for T in Trange:\n",
    "    beta = 1./(kB*T)\n",
    "    Llamb = Odiffuser.losstensors(betaCoOthermodict['pre'], beta*betaCoOthermodict['ene'], \n",
    "                                  [Pdipole], \n",
    "                                  betaCoOthermodict['preT'], beta*betaCoOthermodict['eneT'])\n",
    "    f1,L1,f2,L2 = Llamb[0][0], Llamb[0][1], Llamb[1][0], Llamb[1][1]\n",
    "    sh = crystal.FourthRankIsotropic(L1*nuIF*f1/(nuIF**2+f1**2) + \n",
    "                                     L2*nuIF*f2/(nuIF**2+f2**2))[1]\n",
    "    shlist.append(sh*kB*T)\n",
    "shear = np.array(shlist)"
   ]
  },
  {
   "cell_type": "code",
   "execution_count": 12,
   "metadata": {
    "collapsed": false,
    "deletable": true,
    "editable": true
   },
   "outputs": [
    {
     "data": {
      "image/png": "[encoded data removed]",
      "text/plain": [
       "<matplotlib.figure.Figure at 0x11351dcf8>"
      ]
     },
     "metadata": {},
     "output_type": "display_data"
    }
   ],
   "source": [
    "fig, ax1 = plt.subplots()\n",
    "ax1.plot(Trange, shear/np.max(shear), 'k')\n",
    "ax1.set_ylabel('loss $Q$ [unitless]', fontsize='x-large')\n",
    "ax1.set_xlabel('$T$ [K]', fontsize='x-large')\n",
    "plt.show()\n",
    "# plt.savefig('FCC-Co-O-loss.pdf', transparent=True, format='pdf')"
   ]
  },
  {
   "cell_type": "markdown",
   "metadata": {
    "deletable": true,
    "editable": true
   },
   "source": [
    "Temperature where peak maximum is found?"
   ]
  },
  {
   "cell_type": "code",
   "execution_count": 13,
   "metadata": {
    "collapsed": false,
    "deletable": true,
    "editable": true
   },
   "outputs": [
    {
     "data": {
      "text/plain": [
       "326.0"
      ]
     },
     "execution_count": 13,
     "metadata": {},
     "output_type": "execute_result"
    }
   ],
   "source": [
    "Trange[np.argmax(shear)]"
   ]
  }
 ],
 "metadata": {
  "kernelspec": {
   "display_name": "Python 3",
   "language": "python",
   "name": "python3"
  },
  "language_info": {
   "codemirror_mode": {
    "name": "ipython",
    "version": 3
   },
   "file_extension": ".py",
   "mimetype": "text/x-python",
   "name": "python",
   "nbconvert_exporter": "python",
   "pygments_lexer": "ipython3",
   "version": "3.6.1"
  }
 },
 "nbformat": 4,
 "nbformat_minor": 0
}

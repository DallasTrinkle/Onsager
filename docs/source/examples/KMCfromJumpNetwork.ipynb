{
 "cells": [
  {
   "cell_type": "code",
   "execution_count": 67,
   "metadata": {
    "collapsed": true
   },
   "outputs": [],
   "source": [
    "import onsager.OnsagerCalc as onsager\n",
    "import numpy as np\n",
    "from scipy.constants import physical_constants\n",
    "kB = physical_constants['Boltzmann constant in eV/K'][0]"
   ]
  },
  {
   "cell_type": "code",
   "execution_count": 2,
   "metadata": {
    "collapsed": true
   },
   "outputs": [],
   "source": [
    "def pos2site(uvec, uindex, N, Nsites):\n",
    "    \"\"\"\n",
    "    Takes site (indexed by uindex) and supercell vector uvec and returns site\n",
    "    index, assuming PBC\n",
    "    \"\"\"\n",
    "    return uindex + Nsites*(uvec[0]%N[0] + N[0]*(uvec[1]%N[1] + N[1]*(uvec[2]%N[2])))"
   ]
  },
  {
   "cell_type": "code",
   "execution_count": 3,
   "metadata": {
    "collapsed": true
   },
   "outputs": [],
   "source": [
    "def map2sites(N, Nsites, sitelist, f):\n",
    "    \"\"\"\n",
    "    Takes an array f defined for unique sites (given by sitelist) and maps it onto\n",
    "    an array corresponding to the number of sites in the supercell given by N.\n",
    "    :param N: int[3] specifying the supercell\n",
    "    :param Nsites: number of sites in the unit cell\n",
    "    :param sitelist: list of lists of sites; grouped by symmetry equivalence\n",
    "    :param f: f, indexed by symmetry equivalence\n",
    "    \n",
    "    :return fmap: f, mapped out to all the site indices in the supercell\n",
    "    \"\"\"\n",
    "    Nsuper = Nsites*N[0]*N[1]*N[2]\n",
    "    fmap = np.zeros(Nsuper)\n",
    "    invmap = []\n",
    "    for i in range(Nsites):\n",
    "        for lis,fval in zip(sitelist, f):\n",
    "            if i in lis: break\n",
    "        for nsuper in [np.array([n0, n1, n2])\n",
    "                       for n2 in range(N[2]) \n",
    "                       for n1 in range(N[1]) \n",
    "                       for n0 in range(N[0])]:\n",
    "            fmap[pos2site(nsuper, i, N, Nsites)] = fval\n",
    "    return fmap"
   ]
  },
  {
   "cell_type": "code",
   "execution_count": 4,
   "metadata": {
    "collapsed": true
   },
   "outputs": [],
   "source": [
    "def breakdownjumpnetwork(crys, chem, jumpnetwork):\n",
    "    \"\"\"\n",
    "    Takes a crystal and jumpnetwork for a particular interstitial (specified by chem)\n",
    "    and returns a \"simplified\" version of the jumpnetwork, suitable for a supercell.\n",
    "    :param crys: Crystal object\n",
    "    :param chem: integer index corresponding to chemistry of jump atom\n",
    "    :param jumpnetwork: list of lists of ((i,j), dx) tuples: i->j and displacement\n",
    "    \n",
    "    :return trans: list, indexed by site; in each, indexed by transition; in that\n",
    "                   a tuple of (endsite, duvec, dx, Etransindex) -- endsite index,\n",
    "                   delta uvec, displacement and index of transition energy\n",
    "    :return Etrans: list--for each transition (corresponding to Etransindex), which\n",
    "                    unique transition from jumpnetwork it was    \n",
    "    \"\"\"\n",
    "    trans = [[] for n in crys.basis[chem]]\n",
    "    Etrans = []\n",
    "    for Etransunique, jumplist in enumerate(jumpnetwork):\n",
    "        for ((i,j), dx) in jumplist:\n",
    "            # analyze! determine the uvec\n",
    "            uvec = (np.round(np.dot(crys.invlatt, dx) - \n",
    "                             crys.basis[chem][j] + crys.basis[chem][i])).astype(int)\n",
    "            # either we've seen this jump before or we haven't\n",
    "            Etransindex = -1\n",
    "            for (i0, u0, dx0, E0) in trans[j]:\n",
    "                if (i==i0) and np.all(np.equal(uvec, -u0)):\n",
    "                    Etransindex = E0\n",
    "                    break\n",
    "            if Etransindex < 0:\n",
    "                Etransindex = len(Etrans)\n",
    "                Etrans.append(Etransunique)\n",
    "            trans[i].append((j, uvec, dx, Etransindex))\n",
    "    return trans, Etrans"
   ]
  },
  {
   "cell_type": "code",
   "execution_count": 5,
   "metadata": {
    "collapsed": true
   },
   "outputs": [],
   "source": [
    "def makesupercellKMC(N, trans, Etrans):\n",
    "    \"\"\"\n",
    "    Takes an analyzed set of jumps (in terms of a trans and Etrans list) and for\n",
    "    an N[0] x N[1] x N[2] supercell with Nsites per unit cell, constructs a\n",
    "    nearly complete KMC transition matrix.\n",
    "    :param N: vector of supercell size\n",
    "    :param trans: list, indexed by site; in each, indexed by transition; in that\n",
    "                  a tuple of (endsite, duvec, dx, Etransindex) -- endsite index,\n",
    "                  delta uvec, displacement and index of transition energy\n",
    "    :param Etrans: list--for each transition (corresponding to Etransindex), which\n",
    "                   unique transition from jumpnetwork it was\n",
    "\n",
    "    :return transsuper: list, indexed by supercell site; in each, indexed by transition;\n",
    "                        in that a tuple of (endsite, dx, Etransindex)\n",
    "    :return Etranssuper: list--for each unique transition in the supercell of the\n",
    "                         corresponding index in jumpnetwork\n",
    "    \"\"\"\n",
    "    Nsites = len(trans)\n",
    "    Ntrans = len(Etrans)\n",
    "    transsuper = [[] for n in range(N[0]*N[1]*N[2]*Nsites)]\n",
    "    Etranssuper = [0 for n in range(N[0]*N[1]*N[2]*Ntrans)]\n",
    "    for i, translist in enumerate(trans):\n",
    "        for (j, du, dx, Etransindex) in translist:\n",
    "            for nsuper in [np.array([n0, n1, n2])\n",
    "                           for n2 in range(N[2]) \n",
    "                           for n1 in range(N[1]) \n",
    "                           for n0 in range(N[0])]:\n",
    "                ni = pos2site(nsuper, i, N, Nsites)\n",
    "                nj = pos2site(nsuper + du, j, N, Nsites)\n",
    "                Eindex = min(pos2site(nsuper, Etransindex, N, Ntrans),\n",
    "                             pos2site(nsuper + du, Etransindex, N, Ntrans))\n",
    "                transsuper[ni].append((nj, dx, Eindex))\n",
    "                Etranssuper[Eindex] = Etrans[Etransindex]\n",
    "    return transsuper, Etranssuper"
   ]
  },
  {
   "cell_type": "code",
   "execution_count": 6,
   "metadata": {
    "collapsed": true
   },
   "outputs": [],
   "source": [
    "def makeKMCmatrices(transsuper, pre, betaene, preT, betaeneT, computebias=False):\n",
    "    \"\"\"\n",
    "    Takes in the list, indexed by supercell site, of transitions and an indexing\n",
    "    of transition states, along with site and transition thermodynamics \n",
    "    (prefactors and energies) and return the KMC matrices\n",
    "    :param transsuper: list, indexed by supercell site; in each, indexed by transition;\n",
    "                       in that a tuple of (endsite, dx, Etransindex)\n",
    "    :param pre: site prefactors\n",
    "    :param betaene: site energies / kB T\n",
    "    :param preT: transition state prefactors\n",
    "    :param betaeneT: transition state energy / kB T\n",
    "    :param computebias: whether to return the \"bias\" vector--for testing\n",
    "    \n",
    "    :return transarray: array of transitions indices [site][t]\n",
    "    :return transcumprob: array of transition cumulative probabilities [site][t]\n",
    "    :return transdelta: array of displacement vector for transitions [site][t][3]\n",
    "    :return escapetime: array of escape times [site]\n",
    "    :return sitecumprob: array of cumulative probability for sites [site]\n",
    "    :return biasvect: rate-bias vector (or velocity vector); *should be zero*\n",
    "    \"\"\"\n",
    "    Nsite = len(transsuper)\n",
    "    Ntrans = max(len(t) for t in transsuper) # maximum number of transitions\n",
    "    transarray = np.zeros((Nsite,Ntrans), dtype=int)\n",
    "    transcumprob = np.zeros((Nsite,Ntrans))\n",
    "    transdelta = np.zeros((Nsite,Ntrans,3))\n",
    "    escapetime = np.zeros(Nsite)\n",
    "    biasvect = np.zeros(3)\n",
    "    # first up, site probabilities:\n",
    "    minbetaene = min(betaene) # avoiding underflow/overflow just in case\n",
    "    siteprob = np.array([p*np.exp(minbetaene-bE) for p,bE in zip(pre,betaene)])\n",
    "    sitecumprob = np.cumsum(siteprob)\n",
    "    siteprob *= 1./sitecumprob[-1] # normalize site probabilities\n",
    "    sitecumprob *= 1./sitecumprob[-1]\n",
    "    # now, all the transition information\n",
    "    for i,translist in enumerate(transsuper):\n",
    "        bE = betaene[i]\n",
    "        p = pre[i]\n",
    "        for t, (j, dx, Eindex) in enumerate(translist):\n",
    "            transarray[i][t] = j\n",
    "            transdelta[i][t] = dx\n",
    "            transcumprob[i][t] = preT[Eindex]*np.exp(bE-betaeneT[Eindex])/p\n",
    "            biasvect += siteprob[i]*transcumprob[i][t]*dx\n",
    "        for t in range(len(translist), Ntrans): \n",
    "            transarray[i][t] = j # safety -- should not be accessed, but...\n",
    "            transdelta[i][t] = dx # safety -- should not be accessed, but...\n",
    "        transcumprob[i] = np.cumsum(transcumprob[i])\n",
    "        escapetime[i] = 1./transcumprob[i][-1]\n",
    "        transcumprob[i] *= escapetime[i]\n",
    "    if not computebias:\n",
    "        return transarray, transcumprob, transdelta, escapetime, sitecumprob\n",
    "    else:\n",
    "        return transarray, transcumprob, transdelta, escapetime, sitecumprob, biasvect"
   ]
  },
  {
   "cell_type": "code",
   "execution_count": 74,
   "metadata": {
    "collapsed": true
   },
   "outputs": [],
   "source": [
    "def runKMC(transarray, transcumprob, transdelta, escapetime, sitecumprob, \n",
    "           Nstep=4, Nrun=256, seed=None):\n",
    "    \"\"\"\n",
    "    Take all the output from makeKMCmatrices, and actually run a KMC simulation.\n",
    "    :param transarray: array of transitions indices [site][t]\n",
    "    :param transcumprob: array of transition cumulative probabilities [site][t]\n",
    "    :param transdelta: array of displacement vector for transitions [site][t][3]\n",
    "    :param escapetime: array of escape times [site]\n",
    "    :param sitecumprob: array of cumulative probability for sites [site]\n",
    "    :param Nstep: number of steps to run in a given KMC trajectory (1 KMC step = # sites)\n",
    "    :param Nrun: number of independent runs (needed to get good statistics)\n",
    "    :param seed: seed for RNG; if None, don't reseed\n",
    "\n",
    "    :return D: stochastic estimate of diffusivity from runs\n",
    "    :return dD: stochastic estimate of error on diffusivity from runs\n",
    "    \"\"\"\n",
    "    if seed is not None: np.random.seed(seed)\n",
    "    Nsite = transcumprob.shape[0]\n",
    "    Ntrans = transcumprob.shape[1]\n",
    "    D = np.zeros((3,3))\n",
    "    dD = np.zeros((3,3))\n",
    "    for nrun in range(Nrun):\n",
    "        dr = np.zeros(3) # displacement\n",
    "        T = 0 # time\n",
    "        # select an initial state\n",
    "        u = np.random.random()\n",
    "        for i, P in enumerate(sitecumprob):\n",
    "            if u < P: break\n",
    "        # get our random numbers\n",
    "        for u in np.random.random(Nsite*Nstep):\n",
    "            for t, P in enumerate(transcumprob[i]):\n",
    "                if u < P: break\n",
    "            dr += transdelta[i][t]\n",
    "            T += escapetime[i]\n",
    "            i = transarray[i][t]\n",
    "        D0 = np.outer(dr,dr)*(0.5/T) # <RR>/2t\n",
    "        D += D0\n",
    "        dD += D0*D0\n",
    "    invN = 1./Nrun\n",
    "    D *= invN\n",
    "    dD = np.sqrt(dD)*invN\n",
    "    return D, dD"
   ]
  },
  {
   "cell_type": "code",
   "execution_count": 8,
   "metadata": {
    "collapsed": true
   },
   "outputs": [],
   "source": [
    "def findneigh(crys, solute, chem, cutoff):\n",
    "    \"\"\"\n",
    "    Construct a list of neighboring sites of a specific chemistry to a \n",
    "    \"solute\" (identified by an index) in a crys within a cutoff. The returned\n",
    "    set is a list of lists of tuples, grouped by symmetry equivalence.\n",
    "    :param crys: Crystal, specifying the structure\n",
    "    :param solute: double index of the atom to map neighbors\n",
    "    :param chem: chemistry index to search\n",
    "    :param cutoff: maximum distance for neighbor search\n",
    "    \n",
    "    :return neighlist: list of lists of tuples (index, np.array([u1, u2, u3]))\n",
    "                       where inde is the atom index, and u1,u2,u3 is the unit cell\n",
    "    \"\"\"\n",
    "    r2 = cutoff*cutoff\n",
    "    nmax = [int(np.round(np.sqrt(crys.metric[i,i])))+1\n",
    "            for i in range(3)]\n",
    "    supervect = [ np.array([n0, n1, n2])\n",
    "                 for n2 in range(-nmax[2],nmax[2]+1)\n",
    "                 for n1 in range(-nmax[1],nmax[1]+1)\n",
    "                 for n0 in range(-nmax[0],nmax[0]+1) ]\n",
    "    neighlist = []\n",
    "    u0 = crys.basis[solute[0]][solute[1]]\n",
    "    PG = crys.pointG[solute[0]][solute[1]]\n",
    "    for wyckset in crys.Wyckoff:\n",
    "        for (c,i) in wyckset:\n",
    "            if c == chem:\n",
    "                u1 = crys.basis[chem][i]\n",
    "                du = u1-u0\n",
    "                for n in supervect:\n",
    "                    dx = crys.unit2cart(n, du)\n",
    "                    if np.dot(dx, dx) > 0 and np.dot(dx,dx) < r2:\n",
    "                        # see if there's already a set to which it belongs...\n",
    "                        found = False\n",
    "                        for lis in neighlist:\n",
    "                            lrep = lis[0]\n",
    "                            indpair = (chem,lrep[0])\n",
    "                            if indpair in wyckset:\n",
    "                                for g in PG:\n",
    "                                    unew, (c,j) = crys.g_pos(g, lrep[1], indpair)\n",
    "                                    if j == i and np.all(unew == n):\n",
    "                                        # belongs to this symmetry class\n",
    "                                        lis.append((i, n))\n",
    "                                        found = True\n",
    "                                        break\n",
    "                            if found: break\n",
    "                        if not found:\n",
    "                            # new symmetry class\n",
    "                            neighlist.append([(i, n)])\n",
    "    return neighlist"
   ]
  },
  {
   "cell_type": "code",
   "execution_count": 9,
   "metadata": {
    "collapsed": true
   },
   "outputs": [],
   "source": [
    "def insertsolute(neighlist, DEneigh, N, Nsites, Ntranssuper, transsuper, xDE = None):\n",
    "    \"\"\"\n",
    "    Takes in a neighborlist for a single solute, the interaction energies for each\n",
    "    type of neighbor, and the information about the supercell (N, Nsites, supercell\n",
    "    transition information), and constructs the change in site energy and transition\n",
    "    state energies as vectors that can be added to those vectors, using the\n",
    "    linear interpolation of migration barrier (LIMB) approximation. Allows for the\n",
    "    optional parameter x that specifies exactly how much DE gets added to the\n",
    "    transition state from the endpoints (default = 1/2)\n",
    "    :param neighlist: list of lists of tuples (ind, [u1,u2,u3]), grouped by symmetry\n",
    "                      equivalent neighbors\n",
    "    :param DEneigh: list of length(neighlist), with the interaction energies\n",
    "    :param N: N[0] x N[1] x N[2] supercell\n",
    "    :param Nsites: number of sites in the unit cell\n",
    "    :param Ntranssuper: number of transition state energies in supercell\n",
    "    :param transsuper: list, indexed by supercell site; in each, indexed by transition;\n",
    "                       in that a tuple of (endsite, dx, Etransindex)\n",
    "    :param xDE: [Nsites,Nsites] array; for site type i transitioning to j, \n",
    "                DE[i]*xDE[i][j] gets added to the transition state between i and j\n",
    "                Should obey xDE[i][j] + xDE[j][i] = 1; default = 1/2\n",
    "                \n",
    "    :return Denesuper: vector of changes in site energies\n",
    "    :return DeneTsuper: vector of changes in transition energies\n",
    "    \"\"\"\n",
    "    Denesuper = np.zeros(len(transsuper))\n",
    "    DeneTsuper = np.zeros(Ntranssuper)\n",
    "    if xDE is None:\n",
    "        xDE = 0.5*np.ones((Nsites, Nsites))\n",
    "    for lis, DE in zip(neighlist, DEneigh):\n",
    "        for (i, u) in lis:\n",
    "            isite = pos2site(u, i, N, Nsites)\n",
    "            Denesuper[isite] += DE\n",
    "            for j, dx, Etransindex in transsuper[isite]:\n",
    "                DeneTsuper[Etransindex] += DE*xDE[i][j%Nsites]\n",
    "    return Denesuper, DeneTsuper"
   ]
  },
  {
   "cell_type": "code",
   "execution_count": 10,
   "metadata": {
    "collapsed": true
   },
   "outputs": [],
   "source": [
    "with open(\"bin/HCP-interstitial.yaml\", \"r\") as in_f:\n",
    "    dict_def = onsager.crystal.yaml.load(in_f)\n",
    "    crys = onsager.crystal.Crystal.fromdict(dict_def) # pull out the crystal part of the YAML\n",
    "    # sites:\n",
    "    sitelist = dict_def['sitelist']\n",
    "    pre = dict_def['Prefactor']\n",
    "    ene = dict_def['Energy']\n",
    "    dipole = dict_def['Dipole']\n",
    "    # jumps\n",
    "    jumpnetwork = dict_def['jumpnetwork']\n",
    "    preT = dict_def['PrefactorT']\n",
    "    eneT = dict_def['EnergyT']\n",
    "    dipoleT = dict_def['DipoleT']\n",
    "    # we don't do any checking here... just dive on in\n",
    "    chem = dict_def['interstitial']\n",
    "    # create our calculator\n",
    "    interstitial = onsager.Interstitial(crys, chem, sitelist, jumpnetwork)"
   ]
  },
  {
   "cell_type": "code",
   "execution_count": 11,
   "metadata": {
    "collapsed": false
   },
   "outputs": [
    {
     "data": {
      "text/plain": [
       "[1, 1, 1]"
      ]
     },
     "execution_count": 11,
     "metadata": {},
     "output_type": "execute_result"
    }
   ],
   "source": [
    "preT"
   ]
  },
  {
   "cell_type": "code",
   "execution_count": 12,
   "metadata": {
    "collapsed": false
   },
   "outputs": [
    {
     "data": {
      "text/plain": [
       "array([ 0.,  0.,  1.,  1.,  1.,  1.,  0.,  0.,  1.,  1.,  1.,  1.,  0.,\n",
       "        0.,  1.,  1.,  1.,  1.,  0.,  0.,  1.,  1.,  1.,  1.,  0.,  0.,\n",
       "        1.,  1.,  1.,  1.,  0.,  0.,  1.,  1.,  1.,  1.,  0.,  0.,  1.,\n",
       "        1.,  1.,  1.,  0.,  0.,  1.,  1.,  1.,  1.])"
      ]
     },
     "execution_count": 12,
     "metadata": {},
     "output_type": "execute_result"
    }
   ],
   "source": [
    "map2sites([2,2,2], 6, sitelist, ene)"
   ]
  },
  {
   "cell_type": "code",
   "execution_count": 13,
   "metadata": {
    "collapsed": false
   },
   "outputs": [
    {
     "data": {
      "text/plain": [
       "([[(1, array([ 0.        ,  0.        ,  2.44948974]), 0),\n",
       "   (1, array([ 0.        ,  0.        , -2.44948974]), 1),\n",
       "   (4, array([ 0.        ,  1.73205081,  0.61237244]), 2),\n",
       "   (3, array([ 0.        , -1.73205081, -0.61237244]), 3),\n",
       "   (4, array([-1.5       , -0.8660254 ,  0.61237244]), 9),\n",
       "   (4, array([ 1.5       , -0.8660254 ,  0.61237244]), 10),\n",
       "   (3, array([ 1.5       ,  0.8660254 , -0.61237244]), 11),\n",
       "   (3, array([-1.5       ,  0.8660254 , -0.61237244]), 13)],\n",
       "  [(0, array([-0.        , -0.        , -2.44948974]), 0),\n",
       "   (0, array([-0.        , -0.        ,  2.44948974]), 1),\n",
       "   (2, array([-1.5       ,  0.8660254 ,  0.61237244]), 4),\n",
       "   (2, array([ 1.5       ,  0.8660254 ,  0.61237244]), 5),\n",
       "   (5, array([-1.5       , -0.8660254 , -0.61237244]), 6),\n",
       "   (5, array([ 1.5       , -0.8660254 , -0.61237244]), 7),\n",
       "   (2, array([ 0.        , -1.73205081,  0.61237244]), 8),\n",
       "   (5, array([ 0.        ,  1.73205081, -0.61237244]), 12)],\n",
       "  [(1, array([ 1.5       , -0.8660254 , -0.61237244]), 4),\n",
       "   (1, array([-1.5       , -0.8660254 , -0.61237244]), 5),\n",
       "   (1, array([-0.        ,  1.73205081, -0.61237244]), 8),\n",
       "   (3, array([ 0.        ,  0.        ,  1.22474487]), 15)],\n",
       "  [(0, array([-0.        ,  1.73205081,  0.61237244]), 3),\n",
       "   (0, array([-1.5       , -0.8660254 ,  0.61237244]), 11),\n",
       "   (0, array([ 1.5       , -0.8660254 ,  0.61237244]), 13),\n",
       "   (2, array([-0.        , -0.        , -1.22474487]), 15)],\n",
       "  [(0, array([-0.        , -1.73205081, -0.61237244]), 2),\n",
       "   (0, array([ 1.5       ,  0.8660254 , -0.61237244]), 9),\n",
       "   (0, array([-1.5       ,  0.8660254 , -0.61237244]), 10),\n",
       "   (5, array([-0.        , -0.        ,  1.22474487]), 14)],\n",
       "  [(1, array([ 1.5       ,  0.8660254 ,  0.61237244]), 6),\n",
       "   (1, array([-1.5       ,  0.8660254 ,  0.61237244]), 7),\n",
       "   (1, array([-0.        , -1.73205081,  0.61237244]), 12),\n",
       "   (4, array([ 0.        ,  0.        , -1.22474487]), 14)]],\n",
       " [0, 0, 1, 1, 1, 1, 1, 1, 1, 1, 1, 1, 1, 1, 2, 2])"
      ]
     },
     "execution_count": 13,
     "metadata": {},
     "output_type": "execute_result"
    }
   ],
   "source": [
    "# this is a little python magic to directly pass breakdownjumpnetwork output...\n",
    "makesupercellKMC([1,1,1], *(breakdownjumpnetwork(crys, chem, jumpnetwork)))"
   ]
  },
  {
   "cell_type": "code",
   "execution_count": 14,
   "metadata": {
    "collapsed": false
   },
   "outputs": [
    {
     "data": {
      "text/plain": [
       "(array([[ 1.13982805, -0.00779329,  0.00574355],\n",
       "        [-0.00779329,  1.16803501,  0.0037316 ],\n",
       "        [ 0.00574355,  0.0037316 ,  0.70710135]]),\n",
       " array([[ 0.01534247,  0.00905482,  0.00697623],\n",
       "        [ 0.00905482,  0.01582557,  0.00695706],\n",
       "        [ 0.00697623,  0.00695706,  0.0095101 ]]))"
      ]
     },
     "execution_count": 14,
     "metadata": {},
     "output_type": "execute_result"
    }
   ],
   "source": [
    "N=[2,2,2]\n",
    "Nsites=6\n",
    "transsuper,Etranssuper = makesupercellKMC(N, *(breakdownjumpnetwork(crys, chem, jumpnetwork)))\n",
    "presuper = map2sites(N, Nsites, sitelist, pre)\n",
    "enesuper = map2sites(N, Nsites, sitelist, ene)\n",
    "preTsuper = np.array([preT[i] for i in Etranssuper])\n",
    "eneTsuper = np.array([eneT[i] for i in Etranssuper])\n",
    "runKMC(*(makeKMCmatrices(transsuper, presuper, enesuper, preTsuper, eneTsuper)), \n",
    "       Nstep=1, Nrun=128*128)"
   ]
  },
  {
   "cell_type": "code",
   "execution_count": 15,
   "metadata": {
    "collapsed": false
   },
   "outputs": [
    {
     "data": {
      "text/plain": [
       "array([[  1.15694147e+00,   0.00000000e+00,   0.00000000e+00],\n",
       "       [  0.00000000e+00,   1.15694147e+00,   4.16333634e-17],\n",
       "       [  0.00000000e+00,   4.16333634e-17,   7.05694102e-01]])"
      ]
     },
     "execution_count": 15,
     "metadata": {},
     "output_type": "execute_result"
    }
   ],
   "source": [
    "interstitial.diffusivity(pre, ene, preT, eneT)"
   ]
  },
  {
   "cell_type": "code",
   "execution_count": 16,
   "metadata": {
    "collapsed": false
   },
   "outputs": [
    {
     "data": {
      "text/plain": [
       "array([[-1.11542825, -0.86067821,  0.82330265],\n",
       "       [-0.86067821,  0.70098779,  0.53637514],\n",
       "       [ 0.82330265,  0.53637514,  0.1479738 ]])"
      ]
     },
     "execution_count": 16,
     "metadata": {},
     "output_type": "execute_result"
    }
   ],
   "source": [
    "(Out[14][0]-Out[15])/Out[14][1]"
   ]
  },
  {
   "cell_type": "code",
   "execution_count": 17,
   "metadata": {
    "collapsed": false
   },
   "outputs": [
    {
     "data": {
      "text/plain": [
       "0.8852996595712584"
      ]
     },
     "execution_count": 17,
     "metadata": {},
     "output_type": "execute_result"
    }
   ],
   "source": [
    "import math\n",
    "1-math.erfc(1.1154)"
   ]
  },
  {
   "cell_type": "code",
   "execution_count": 18,
   "metadata": {
    "collapsed": false
   },
   "outputs": [
    {
     "name": "stdout",
     "output_type": "stream",
     "text": [
      "#Lattice:\n",
      "  a1 = [ 1.4665     -2.54005251  0.        ]\n",
      "  a2 = [ 1.4665      2.54005251  0.        ]\n",
      "  a3 = [ 0.     0.     4.638]\n",
      "#Basis:\n",
      "  0.0 = [ 0.33333333  0.66666667  0.25      ]\n",
      "  0.1 = [ 0.66666667  0.33333333  0.75      ]\n"
     ]
    }
   ],
   "source": [
    "hcpTi = onsager.crystal.Crystal.HCP(2.933, 4.638/2.933)\n",
    "print(hcpTi)"
   ]
  },
  {
   "cell_type": "code",
   "execution_count": 19,
   "metadata": {
    "collapsed": false
   },
   "outputs": [
    {
     "name": "stdout",
     "output_type": "stream",
     "text": [
      "#Lattice:\n",
      "  a1 = [ 1.4665     -2.54005251  0.        ]\n",
      "  a2 = [ 1.4665      2.54005251  0.        ]\n",
      "  a3 = [ 0.     0.     4.638]\n",
      "#Basis:\n",
      "  0.0 = [ 0.33333333  0.66666667  0.25      ]\n",
      "  0.1 = [ 0.66666667  0.33333333  0.75      ]\n",
      "  1.0 = [ 0.  0.  0.]\n",
      "  1.1 = [ 0.   0.   0.5]\n",
      "  1.2 = [ 0.33333333  0.66666667  0.75      ]\n",
      "  1.3 = [ 0.66666667  0.33333333  0.25      ]\n",
      "  1.4 = [ 0.5  0.   0. ]\n",
      "  1.5 = [ 0.5  0.5  0. ]\n",
      "  1.6 = [ 0.   0.5  0. ]\n",
      "  1.7 = [ 0.   0.5  0.5]\n",
      "  1.8 = [ 0.5  0.5  0.5]\n",
      "  1.9 = [ 0.5  0.   0.5]\n"
     ]
    }
   ],
   "source": [
    "# add octahedral, hexahedral, and crowdion sites\n",
    "hcpTiO = hcpTi.addbasis(hcpTi.Wyckoffpos(np.array([0.,0.,0.])) + \\\n",
    "  hcpTi.Wyckoffpos(np.array([2./3.,1./3.,0.25])) + \\\n",
    "  hcpTi.Wyckoffpos(np.array([0.5,0.,0.])))\n",
    "print(hcpTiO)"
   ]
  },
  {
   "cell_type": "code",
   "execution_count": 20,
   "metadata": {
    "collapsed": false
   },
   "outputs": [
    {
     "data": {
      "text/plain": [
       "[[4, 5, 6, 7, 8, 9], [0, 1], [2, 3]]"
      ]
     },
     "execution_count": 20,
     "metadata": {},
     "output_type": "execute_result"
    }
   ],
   "source": [
    "hcpTiO.sitelist(1)"
   ]
  },
  {
   "cell_type": "code",
   "execution_count": 21,
   "metadata": {
    "collapsed": false
   },
   "outputs": [
    {
     "data": {
      "text/plain": [
       "13"
      ]
     },
     "execution_count": 21,
     "metadata": {},
     "output_type": "execute_result"
    }
   ],
   "source": [
    "hcpTiOrawjumps = hcpTiO.jumpnetwork(1, 2.9, 0.25)\n",
    "len(hcpTiOrawjumps)"
   ]
  },
  {
   "cell_type": "code",
   "execution_count": 22,
   "metadata": {
    "collapsed": false
   },
   "outputs": [
    {
     "name": "stdout",
     "output_type": "stream",
     "text": [
      "0 2.319 ((0, 1), array([ 0.   ,  0.   ,  2.319]))\n",
      "1 2.05230031509 ((0, 3), array([  1.11022302e-16,   1.69336834e+00,   1.15950000e+00]))\n",
      "2 2.5400525093 ((0, 4), array([ 2.19975   ,  1.27002625,  0.        ]))\n",
      "3 1.4665 ((0, 4), array([-0.73325   ,  1.27002625,  0.        ]))\n",
      "4 2.74378994276 ((0, 8), array([ 1.4665,  0.    ,  2.319 ]))\n",
      "5 2.87145561229 ((3, 2), array([ 0.        ,  1.69336834,  2.319     ]))\n",
      "6 2.52241131327 ((3, 4), array([ 0.73325   ,  2.11671042, -1.1595    ]))\n",
      "7 1.43572780614 ((3, 4), array([-0.73325   , -0.42334208, -1.1595    ]))\n",
      "8 2.5400525093 ((4, 6), array([ 0.        ,  2.54005251,  0.        ]))\n",
      "9 1.4665 ((4, 6), array([ 1.4665,  0.    ,  0.    ]))\n",
      "10 2.74378994276 ((4, 8), array([ 0.73325   ,  1.27002625,  2.319     ]))\n",
      "11 2.74378994276 ((4, 8), array([ 0.73325   ,  1.27002625, -2.319     ]))\n",
      "12 2.319 ((4, 9), array([ 0.   ,  0.   ,  2.319]))\n"
     ]
    }
   ],
   "source": [
    "for j, jump in enumerate(hcpTiOrawjumps):\n",
    "    print(j, np.sqrt(np.dot(jump[0][1], jump[0][1])), jump[0])"
   ]
  },
  {
   "cell_type": "code",
   "execution_count": 23,
   "metadata": {
    "collapsed": false
   },
   "outputs": [
    {
     "name": "stdout",
     "output_type": "stream",
     "text": [
      "0 2.319 ((0, 1), array([ 0.   ,  0.   ,  2.319]))\n",
      "1 2.05230031509 ((0, 3), array([  1.11022302e-16,   1.69336834e+00,   1.15950000e+00]))\n",
      "2 1.4665 ((0, 4), array([-0.73325   ,  1.27002625,  0.        ]))\n",
      "3 1.43572780614 ((3, 4), array([-0.73325   , -0.42334208, -1.1595    ]))\n"
     ]
    }
   ],
   "source": [
    "hcpTiOjumps = [hcpTiOrawjumps[n] for n in [0, 1, 3, 7]] # o-o o-h o-c h-c\n",
    "for j, jump in enumerate(hcpTiOjumps):\n",
    "    print(j, np.sqrt(np.dot(jump[0][1], jump[0][1])), jump[0])"
   ]
  },
  {
   "cell_type": "code",
   "execution_count": 24,
   "metadata": {
    "collapsed": false
   },
   "outputs": [
    {
     "name": "stdout",
     "output_type": "stream",
     "text": [
      "[[4, 5, 6, 7, 8, 9], [0, 1], [2, 3]]\n"
     ]
    }
   ],
   "source": [
    "hcpTiOsitelist = hcpTiO.sitelist(1)\n",
    "print(hcpTiOsitelist)"
   ]
  },
  {
   "cell_type": "code",
   "execution_count": 25,
   "metadata": {
    "collapsed": true
   },
   "outputs": [],
   "source": [
    "hcpTiOene = [1.88, 0., 1.19] # energies in eV\n",
    "hcpTiOpre = [16.84/12.21, 1., 10.33/5.58] # prefactors for sites (o->* / *->o)\n",
    "hcpTiOeneT = [3.25, 2.04, 2.16, 1.19 + 0.94] # transition energies in eV\n",
    "hcpTiOpreT = [11.76e12, 10.33e12, 16.84e12, 10.27e12 * (10.33/5.58)] # prefactors in Hz"
   ]
  },
  {
   "cell_type": "code",
   "execution_count": 26,
   "metadata": {
    "collapsed": false
   },
   "outputs": [
    {
     "name": "stdout",
     "output_type": "stream",
     "text": [
      "4 12 [-2.19975     0.42334208 -1.1595    ]\n",
      "4 6 [ 0.73325     0.42334208 -1.1595    ]\n",
      "0 6 [-1.4665     -0.84668417 -1.1595    ]\n",
      "2 2 [  0.00000000e+00   2.22044605e-16  -2.31900000e+00]\n",
      "3 3 [-1.4665      0.84668417  0.        ]\n"
     ]
    }
   ],
   "source": [
    "hcpTiOsoluteneigh = findneigh(hcpTiO, (0,0), 1, 2.8)\n",
    "for lis in hcpTiOsoluteneigh:\n",
    "    ind, u = lis[0]\n",
    "    print(ind, len(lis), hcpTiO.pos2cart(u, (1,ind)) - hcpTiO.pos2cart(np.zeros(3,dtype=int), (0,0)))"
   ]
  },
  {
   "cell_type": "code",
   "execution_count": 27,
   "metadata": {
    "collapsed": false
   },
   "outputs": [
    {
     "name": "stdout",
     "output_type": "stream",
     "text": [
      "[[ 0.5   0.5   0.5   0.5   0.25  0.25  0.25  0.25  0.25  0.25]\n",
      " [ 0.5   0.5   0.5   0.5   0.25  0.25  0.25  0.25  0.25  0.25]\n",
      " [ 0.5   0.5   0.5   0.5   0.25  0.25  0.25  0.25  0.25  0.25]\n",
      " [ 0.5   0.5   0.5   0.5   0.25  0.25  0.25  0.25  0.25  0.25]\n",
      " [ 0.75  0.75  0.75  0.75  0.5   0.5   0.5   0.5   0.5   0.5 ]\n",
      " [ 0.75  0.75  0.75  0.75  0.5   0.5   0.5   0.5   0.5   0.5 ]\n",
      " [ 0.75  0.75  0.75  0.75  0.5   0.5   0.5   0.5   0.5   0.5 ]\n",
      " [ 0.75  0.75  0.75  0.75  0.5   0.5   0.5   0.5   0.5   0.5 ]\n",
      " [ 0.75  0.75  0.75  0.75  0.5   0.5   0.5   0.5   0.5   0.5 ]\n",
      " [ 0.75  0.75  0.75  0.75  0.5   0.5   0.5   0.5   0.5   0.5 ]]\n"
     ]
    }
   ],
   "source": [
    "# setup the LIMB approximation so that the transition state is closer to \n",
    "# crowdion (3/4) than octahedral or hexahedral (1/4). All others remain halfway\n",
    "xDE = 0.5*np.ones((10, 10))\n",
    "for i in range(0,4):\n",
    "    for j in range(4,10):\n",
    "        xDE[i][j], xDE[j][i] = 0.25, 0.75\n",
    "print(xDE)"
   ]
  },
  {
   "cell_type": "code",
   "execution_count": 28,
   "metadata": {
    "collapsed": false
   },
   "outputs": [
    {
     "name": "stdout",
     "output_type": "stream",
     "text": [
      "[[ 186.66906714    1.76418222    1.19539486]\n",
      " [   1.76418222  188.61486671    1.84375138]\n",
      " [   1.19539486    1.84375138  198.86146806]]\n",
      "[[ 198.48383382   -0.47313802   -0.75677306]\n",
      " [  -0.47313802  189.96109594    2.72227324]\n",
      " [  -0.75677306    2.72227324  217.38844506]]\n"
     ]
    }
   ],
   "source": [
    "N=[4,4,3]\n",
    "Nsites=10\n",
    "transsuper,Etranssuper = makesupercellKMC(N, *(breakdownjumpnetwork(hcpTiO, 1, hcpTiOjumps)))\n",
    "presuper = map2sites(N, Nsites, hcpTiOsitelist, hcpTiOpre)\n",
    "enesuper = map2sites(N, Nsites, hcpTiOsitelist, hcpTiOene)\n",
    "preTsuper = np.array([hcpTiOpreT[i] for i in Etranssuper])\n",
    "eneTsuper = np.array([hcpTiOeneT[i] for i in Etranssuper])\n",
    "# crowd-far, crowd-near, oct, hex-c, hex-basal: Mn\n",
    "Denesuper, DeneTsuper = insertsolute(hcpTiOsoluteneigh, \n",
    "                                     [0.38, -0.76, 0.44, 0.04, -0.22], \n",
    "                                     N, Nsites, len(Etranssuper), transsuper)\n",
    "beta = 1.0/0.075 # (900K)^-1\n",
    "D0,dD0 = runKMC(*(makeKMCmatrices(transsuper, \n",
    "                                  presuper, \n",
    "                                  beta*enesuper, \n",
    "                                  preTsuper, \n",
    "                                  beta*eneTsuper)), \n",
    "                Nstep=1, Nrun=128*128)\n",
    "Dc,dDc = runKMC(*(makeKMCmatrices(transsuper, \n",
    "                                  presuper, \n",
    "                                  beta*(enesuper+Denesuper), \n",
    "                                  preTsuper, \n",
    "                                  beta*(eneTsuper+DeneTsuper))), \n",
    "                Nstep=4, Nrun=128*128)\n",
    "print(D0)\n",
    "print(Dc)"
   ]
  },
  {
   "cell_type": "code",
   "execution_count": 29,
   "metadata": {
    "collapsed": false
   },
   "outputs": [
    {
     "name": "stdout",
     "output_type": "stream",
     "text": [
      "[[ 2.5322944   1.44917654  1.50008484]\n",
      " [ 1.44917654  2.53901835  1.52144777]\n",
      " [ 1.50008484  1.52144777  2.69366153]]\n",
      "[[ 2.67240581  1.50870054  1.64795689]\n",
      " [ 1.50870054  2.59320732  1.59105505]\n",
      " [ 1.64795689  1.59105505  2.94930357]]\n"
     ]
    }
   ],
   "source": [
    "print(dD0)\n",
    "print(dDc)"
   ]
  },
  {
   "cell_type": "code",
   "execution_count": 34,
   "metadata": {
    "collapsed": false
   },
   "outputs": [
    {
     "data": {
      "text/plain": [
       "array([[ 11.81476667,  -2.23732024,  -1.95216792],\n",
       "       [ -2.23732024,   1.34622923,   0.87852186],\n",
       "       [ -1.95216792,   0.87852186,  18.526977  ]])"
      ]
     },
     "execution_count": 34,
     "metadata": {},
     "output_type": "execute_result"
    }
   ],
   "source": [
    "(Dc-D0)"
   ]
  },
  {
   "cell_type": "code",
   "execution_count": 30,
   "metadata": {
    "collapsed": false
   },
   "outputs": [
    {
     "data": {
      "text/plain": [
       "[[0, 1, 2, 3, 4, 5, 10, 11, 14, 15, 16, 17, 22, 23],\n",
       " [0, 1, 6, 7, 8, 9, 12, 13, 18, 19, 20, 21, 24, 25],\n",
       " [4, 5, 6, 8, 9, 11, 28, 30, 31, 34, 35, 36],\n",
       " [2, 3, 7, 10, 12, 13, 26, 27, 29, 32, 33, 37],\n",
       " [14, 15, 26, 28],\n",
       " [16, 23, 27, 35],\n",
       " [17, 22, 29, 34],\n",
       " [18, 20, 30, 32],\n",
       " [19, 21, 31, 33],\n",
       " [24, 25, 36, 37]]"
      ]
     },
     "execution_count": 30,
     "metadata": {},
     "output_type": "execute_result"
    }
   ],
   "source": [
    "tl, Et = breakdownjumpnetwork(hcpTiO, 1, hcpTiOjumps)\n",
    "[ [tr[3] for tr in lis] for lis in tl]"
   ]
  },
  {
   "cell_type": "code",
   "execution_count": 36,
   "metadata": {
    "collapsed": false
   },
   "outputs": [
    {
     "name": "stdout",
     "output_type": "stream",
     "text": [
      "[0, 0, 1, 1, 1, 1, 1, 1, 1, 1, 1, 1, 1, 1, 2, 2, 2, 2, 2, 2, 2, 2, 2, 2, 2, 2, 3, 3, 3, 3, 3, 3, 3, 3, 3, 3, 3, 3]\n"
     ]
    }
   ],
   "source": [
    "print(Et)"
   ]
  },
  {
   "cell_type": "code",
   "execution_count": 76,
   "metadata": {
    "collapsed": false
   },
   "outputs": [
    {
     "name": "stdout",
     "output_type": "stream",
     "text": [
      "1 loops, best of 3: 1.19 s per loop\n"
     ]
    }
   ],
   "source": [
    "KMCmatrices = makeKMCmatrices(transsuper, presuper, beta*(enesuper+Denesuper), \n",
    "                              preTsuper, beta*(eneTsuper+DeneTsuper))\n",
    "%timeit runKMC(*KMCmatrices, Nstep=4, Nrun=16*16)"
   ]
  },
  {
   "cell_type": "code",
   "execution_count": 80,
   "metadata": {
    "collapsed": false
   },
   "outputs": [
    {
     "data": {
      "text/plain": [
       "array([ -9.71445147e-17,  -1.01932351e-14,   1.40026879e-14])"
      ]
     },
     "execution_count": 80,
     "metadata": {},
     "output_type": "execute_result"
    }
   ],
   "source": [
    "# check that the total bias vector for the supercell == 0 (detailed balance)\n",
    "makeKMCmatrices(transsuper, presuper, beta*(enesuper+Denesuper), \n",
    "                preTsuper, beta*(eneTsuper+DeneTsuper), True)[5]"
   ]
  },
  {
   "cell_type": "code",
   "execution_count": 82,
   "metadata": {
    "collapsed": false
   },
   "outputs": [
    {
     "data": {
      "text/plain": [
       "(array([[ 198.44753854,    7.16526461,    9.34738828],\n",
       "        [   7.16526461,  164.22760966,  -17.3012435 ],\n",
       "        [   9.34738828,  -17.3012435 ,  225.8900354 ]]),\n",
       " array([[ 20.22727868,   9.79608108,  13.46728632],\n",
       "        [  9.79608108,  18.69709765,  12.59438198],\n",
       "        [ 13.46728632,  12.59438198,  26.69421613]]))"
      ]
     },
     "execution_count": 82,
     "metadata": {},
     "output_type": "execute_result"
    }
   ],
   "source": [
    "runKMC(*KMCmatrices, Nstep=4, Nrun=16*16)"
   ]
  },
  {
   "cell_type": "code",
   "execution_count": null,
   "metadata": {
    "collapsed": true
   },
   "outputs": [],
   "source": []
  }
 ],
 "metadata": {
  "kernelspec": {
   "display_name": "Python 3",
   "language": "python",
   "name": "python3"
  },
  "language_info": {
   "codemirror_mode": {
    "name": "ipython",
    "version": 3
   },
   "file_extension": ".py",
   "mimetype": "text/x-python",
   "name": "python",
   "nbconvert_exporter": "python",
   "pygments_lexer": "ipython3",
   "version": "3.4.5"
  }
 },
 "nbformat": 4,
 "nbformat_minor": 0
}

{
 "cells": [
  {
   "cell_type": "markdown",
   "metadata": {},
   "source": [
    "# Anisotropic Mg tracer calculation"
   ]
  },
  {
   "cell_type": "code",
   "execution_count": 1,
   "metadata": {
    "collapsed": false
   },
   "outputs": [],
   "source": [
    "import numpy as np\n",
    "from onsager import OnsagerCalc\n",
    "from onsager import crystal\n",
    "import matplotlib.pyplot as plt\n",
    "%matplotlib inline\n",
    "from scipy.constants import physical_constants\n",
    "kB = physical_constants['Boltzmann constant in eV/K'][0]\n",
    "#print (kB)"
   ]
  },
  {
   "cell_type": "code",
   "execution_count": 2,
   "metadata": {
    "collapsed": false
   },
   "outputs": [
    {
     "name": "stdout",
     "output_type": "stream",
     "text": [
      "#Lattice:\n",
      "  a1 = [ 1.59478655 -2.76225133  0.        ]\n",
      "  a2 = [ 1.59478655  2.76225133  0.        ]\n",
      "  a3 = [ 0.          0.          5.18761728]\n",
      "#Basis:\n",
      "  (Mg) 0.0 = [ 0.33333333  0.66666667  0.25      ]\n",
      "  (Mg) 0.1 = [ 0.66666667  0.33333333  0.75      ]\n"
     ]
    }
   ],
   "source": [
    "a=3.18957309719204\n",
    "c_a=1.6264299717255\n",
    "HCP = crystal.Crystal.HCP(a0=a,c_a=c_a, chemistry=\"Mg\")\n",
    "print(HCP)"
   ]
  },
  {
   "cell_type": "code",
   "execution_count": 3,
   "metadata": {
    "collapsed": false
   },
   "outputs": [
    {
     "name": "stdout",
     "output_type": "stream",
     "text": [
      "---\n",
      "1 - 1 [  3.18957310e+00   1.11022302e-16   0.00000000e+00] 3.18957309719\n",
      "1 - 1 [ -3.18957310e+00  -1.11022302e-16  -0.00000000e+00] 3.18957309719\n",
      "1 - 1 [ 1.59478655 -2.76225133  0.        ] 3.18957309719\n",
      "1 - 1 [-1.59478655  2.76225133 -0.        ] 3.18957309719\n",
      "0 - 0 [ -3.18957310e+00   1.11022302e-16   0.00000000e+00] 3.18957309719\n",
      "0 - 0 [  3.18957310e+00  -1.11022302e-16  -0.00000000e+00] 3.18957309719\n",
      "1 - 1 [-1.59478655 -2.76225133  0.        ] 3.18957309719\n",
      "1 - 1 [ 1.59478655  2.76225133 -0.        ] 3.18957309719\n",
      "0 - 0 [-1.59478655 -2.76225133  0.        ] 3.18957309719\n",
      "0 - 0 [ 1.59478655  2.76225133 -0.        ] 3.18957309719\n",
      "0 - 0 [-1.59478655  2.76225133  0.        ] 3.18957309719\n",
      "0 - 0 [ 1.59478655 -2.76225133 -0.        ] 3.18957309719\n",
      "---\n",
      "1 - 0 [ 1.59478655 -0.92075044 -2.59380864] 3.18103265953\n",
      "0 - 1 [-1.59478655  0.92075044  2.59380864] 3.18103265953\n",
      "1 - 0 [ 1.59478655 -0.92075044  2.59380864] 3.18103265953\n",
      "0 - 1 [-1.59478655  0.92075044 -2.59380864] 3.18103265953\n",
      "1 - 0 [-1.59478655 -0.92075044 -2.59380864] 3.18103265953\n",
      "0 - 1 [ 1.59478655  0.92075044  2.59380864] 3.18103265953\n",
      "0 - 1 [ 0.         -1.84150089  2.59380864] 3.18103265953\n",
      "1 - 0 [-0.          1.84150089 -2.59380864] 3.18103265953\n",
      "1 - 0 [-1.59478655 -0.92075044  2.59380864] 3.18103265953\n",
      "0 - 1 [ 1.59478655  0.92075044 -2.59380864] 3.18103265953\n",
      "1 - 0 [ 0.          1.84150089  2.59380864] 3.18103265953\n",
      "0 - 1 [-0.         -1.84150089 -2.59380864] 3.18103265953\n"
     ]
    }
   ],
   "source": [
    "sitelist = HCP.sitelist(0)\n",
    "#print (HCP.sitelist(0))\n",
    "#print(sitelist)\n",
    "vacancyjumps = HCP.jumpnetwork(0, 1.01*a)\n",
    "for jlist in vacancyjumps:\n",
    "    print('---')\n",
    "    for (i,j), dx in jlist:\n",
    "        print(i, '-', j, dx,np.linalg.norm(dx))\n",
    "#sitelist"
   ]
  },
  {
   "cell_type": "code",
   "execution_count": 4,
   "metadata": {
    "collapsed": false
   },
   "outputs": [],
   "source": [
    "HCPdiffuser = OnsagerCalc.VacancyMediated(HCP, 0, sitelist, vacancyjumps, 1)\n",
    "#print (HCPdiffuser)\n",
    "#HCPdiffuser.omegalist()"
   ]
  },
  {
   "cell_type": "code",
   "execution_count": 5,
   "metadata": {
    "collapsed": false
   },
   "outputs": [
    {
     "name": "stdout",
     "output_type": "stream",
     "text": [
      "1.[0,0,0]:0.[1,0,1] (dx=[1.5947865485960198,-0.9207504431319062,2.5938086411412327])\n",
      "1.[0,0,0]:1.[1,0,0] (dx=[1.5947865485960198,-2.7622513293957187,0.0])\n"
     ]
    }
   ],
   "source": [
    "len(HCPdiffuser.interactlist())\n",
    "for state in HCPdiffuser.interactlist():\n",
    "    print(state)"
   ]
  },
  {
   "cell_type": "markdown",
   "metadata": {},
   "source": [
    "We need to specify the vacancy prefactor and formation energy, though the $L_{ij}$ needs to be explicitely multiplied by $c_\\text{v}$, so it is *strictly used as a reference for the transition state energies*."
   ]
  },
  {
   "cell_type": "code",
   "execution_count": 6,
   "metadata": {
    "collapsed": false
   },
   "outputs": [],
   "source": [
    "#HCPtracer = {'preV': np.array([1.0/1.1075157070506694]), 'eneV': np.array([0.0]), \n",
    "#             'preT0': np.array([129.2186479/36.7840204101001, 129.2186479/34.5772672908345]), 'eneT0': np.array([1.211, 1.23])}\n",
    "HCPtracer = {'preV': np.array([1.0]), 'eneV': np.array([0.814]), \n",
    "             'preT0': np.array([129.2186479/36.7840204101001, 129.2186479/34.5772672908345]), 'eneT0': np.array([1.211, 1.23])}\n",
    "HCPtracer.update(HCPdiffuser.maketracerpreene(**HCPtracer))\n",
    "#for k,v in zip(HCPtracer.keys(), HCPtracer.values()): print(k,v)"
   ]
  },
  {
   "cell_type": "markdown",
   "metadata": {},
   "source": [
    "Anisotropic diffusivity from Onsager calculation; needs to be multiplied by $c_\\text{v}/k_\\text{B}T$ to make $L$ for the vacancy or $c_\\text{v}c_\\text{s}/k_\\text{B}T$ for the solute (or solute/vacancy). To get the diffusivity of the tracer, we will need to multiply by $c_\\text{v}$ only."
   ]
  },
  {
   "cell_type": "code",
   "execution_count": 7,
   "metadata": {
    "collapsed": false,
    "scrolled": true
   },
   "outputs": [
    {
     "name": "stdout",
     "output_type": "stream",
     "text": [
      "100 3.56079795643e-27 3.56079795643e-27 7.52603965086e-28\n",
      "200 4.28889205421e-17 4.28889205421e-17 2.12416600644e-17\n",
      "300 1.0031899208e-13 1.0031899208e-13 6.42728964174e-14\n",
      "400 4.87214647009e-12 4.87214647009e-12 3.53289274016e-12\n",
      "500 5.01349931034e-11 5.01349931034e-11 3.90957584172e-11\n",
      "600 2.37332231418e-10 2.37332231418e-10 1.94139246641e-10\n",
      "700 7.20757760426e-10 7.20757760426e-10 6.09874127154e-10\n",
      "800 1.65840136534e-09 1.65840136534e-09 1.43907792211e-09\n",
      "900 3.17112544026e-09 3.17112544026e-09 2.80591255474e-09\n"
     ]
    }
   ],
   "source": [
    "Temp=np.arange(100, 923, 100)\n",
    "D_Onsager=[]\n",
    "for T in Temp:\n",
    "    pre=1e-8 # THz and Angstrom unit scaling\n",
    "    Lvv, Lss, Lsv, L1vv = HCPdiffuser.Lij(*HCPdiffuser.preene2betafree(kB*T, **HCPtracer))\n",
    "    Lss=Lss*pre\n",
    "    D_Onsager.append([Lss[0,0],Lss[1,1],Lss[2,2]])\n",
    "    print(T, Lss[0,0],Lss[1,1],Lss[2,2])\n",
    "D_Onsager=np.array(D_Onsager)"
   ]
  },
  {
   "cell_type": "markdown",
   "metadata": {},
   "source": [
    "# Analytical tracer diffusion result"
   ]
  },
  {
   "cell_type": "markdown",
   "metadata": {},
   "source": [
    "We take the tabular data directly from Koiwa and Ishioka's paper (doi://10.1080/01418618308245263) in tabular form, put it here and use spline interpolation instead of the polynomial ratios. This is mainly to get the exact values when the particular ratio is calculated."
   ]
  },
  {
   "cell_type": "code",
   "execution_count": 8,
   "metadata": {
    "collapsed": true
   },
   "outputs": [],
   "source": [
    "#Correlations from Koiwa and Ishioka’s\n",
    "# def fz(x):\n",
    "#     return((1+8.77*x+7.37*x**2+0.65*x**3)/(1+9.90*x+10.9*x**2+x**3))\n",
    "# def fx(x):\n",
    "#     return((0.56+4.38*x+3.67*x**2+0.64*x**3)/(1+5.75*x+4.11*x**2+x**3))\n",
    "from scipy import interpolate\n",
    "# nuB / nuA\n",
    "nuBA = np.arange(0.0, 1.0001, 0.1)\n",
    "fxBAraw = np.array([0.560057, 0.642376, 0.683451, 0.711016, 0.730851, 0.745626, \n",
    "                    0.756849, 0.765469, 0.772123, 0.777260, 0.781205])\n",
    "fzBAraw = np.array([1.000000, 0.929038, 0.892655, 0.866949, 0.847185, 0.831277, \n",
    "                    0.818082, 0.806901, 0.797270, 0.788865, 0.781451])\n",
    "fxBA = interpolate.UnivariateSpline(nuBA, fxBAraw, s=0)\n",
    "fzBA = interpolate.UnivariateSpline(nuBA, fzBAraw, s=0)\n",
    "# nuA / nuB\n",
    "nuAB = np.arange(1.0, -0.0001, -0.1)\n",
    "fxABraw = np.array([0.781205, 0.784485, 0.787315, 0.789404, 0.790295, 0.789251, \n",
    "                    0.785032, 0.775451, 0.756394, 0.719387, 0.644545])\n",
    "fzABraw = np.array([0.781451, 0.774166, 0.766204, 0.757451, 0.747762, 0.736951, \n",
    "                    0.724773, 0.710893, 0.694845, 0.675941, 0.653109])\n",
    "fxAB = interpolate.UnivariateSpline(nuAB[::-1], fxABraw[::-1], s=0)\n",
    "fzAB = interpolate.UnivariateSpline(nuAB[::-1], fzABraw[::-1], s=0)\n",
    "def fx(x):\n",
    "    if x <= 1: return fxBA(x)\n",
    "    else: return fxAB(1/x)\n",
    "def fz(x):\n",
    "    if x <= 1: return fzBA(x)\n",
    "    else: return fzAB(1/x)"
   ]
  },
  {
   "cell_type": "code",
   "execution_count": 9,
   "metadata": {
    "collapsed": true
   },
   "outputs": [],
   "source": [
    "def Basal_rate(T):\n",
    "    prefactor=(129.2186479/36.78402041)\n",
    "    mb=0.397\n",
    "    return(prefactor*np.exp(-mb/(kB*T)))\n",
    "def c_rate(T):\n",
    "    prefactor=(129.2186479/34.57726729)\n",
    "    mc=0.416\n",
    "    return(prefactor*np.exp(-mc/(kB*T)))"
   ]
  },
  {
   "cell_type": "code",
   "execution_count": 10,
   "metadata": {
    "collapsed": true
   },
   "outputs": [],
   "source": [
    "def Vconc(T):\n",
    "    entropy_contribution=1.1075157070506694\n",
    "    formationE=0.814228281\n",
    "    prob=entropy_contribution*np.exp(-formationE/(kB*T))\n",
    "    return(prob)"
   ]
  },
  {
   "cell_type": "code",
   "execution_count": 11,
   "metadata": {
    "collapsed": true
   },
   "outputs": [],
   "source": [
    "def AnalyticalD(T):\n",
    "    wb=Basal_rate(T)\n",
    "    wc=c_rate(T)\n",
    "    x=wc/wb  # NOTE: this was reversed in the code Ravi sent; I'm putting it back to the definition in K&S 1983 paper\n",
    "    c=a*c_a\n",
    "    Dxx=0.5*Vconc(T)*a**2*fx(x)*(3*wb+wc)\n",
    "    Dzz=0.75*Vconc(T)*c**2*fz(x)*wc\n",
    "    return(np.array([Dxx,Dxx,Dzz]))"
   ]
  },
  {
   "cell_type": "code",
   "execution_count": 12,
   "metadata": {
    "collapsed": false
   },
   "outputs": [
    {
     "name": "stdout",
     "output_type": "stream",
     "text": [
      "100 3.63847485635e-68 3.63847485635e-68 7.68058421208e-69\n",
      "200 1.44236638224e-37 1.44236638224e-37 7.14270905373e-38\n",
      "300 2.3296989804e-27 2.3296989804e-27 1.49259710608e-27\n",
      "400 2.9733358607e-22 2.9733358607e-22 2.15602919882e-22\n",
      "500 3.44691069356e-19 3.44691069356e-19 2.68793529085e-19\n",
      "600 3.80618149763e-17 3.80618149763e-17 3.11347801137e-17\n",
      "700 1.09635937713e-15 1.09635937713e-15 9.27692209715e-16\n",
      "800 1.36340995398e-14 1.36340995398e-14 1.18309989441e-14\n",
      "900 9.68468074552e-14 9.68468074552e-14 8.56931026765e-14\n"
     ]
    }
   ],
   "source": [
    "D_Analytical=[]\n",
    "vac = np.array([Vconc(T) for T in Temp])  # equilibrium vacancy concentration: we'll need this to scale D_Onsager\n",
    "for T in Temp:\n",
    "    D=AnalyticalD(T)*1E-8 #Unit scaling\n",
    "    print(T, D[0],D[1],D[2])\n",
    "    D_Analytical.append([D[0],D[1],D[2]])\n",
    "D_Analytical=np.array(D_Analytical)"
   ]
  },
  {
   "cell_type": "markdown",
   "metadata": {},
   "source": [
    "Comparison of Onsager and analyitcal result, printing ratio of Onsager D/ Analytical D. We need to *now* multiply by the equilibrium vacancy concentration for the Onsager calculated version (since it gets multiplied by $c_\\text{v}$). Now the agreement is excellent, with only \"significant\" deviation only happening at the smallest temperatures, where the diffusivity becomes very anisotropic (anisotropy ratio around 10, see a difference of $<10^{-3}$, which would be improved with denser $k$-point meshing)."
   ]
  },
  {
   "cell_type": "code",
   "execution_count": 13,
   "metadata": {
    "collapsed": false
   },
   "outputs": [
    {
     "name": "stdout",
     "output_type": "stream",
     "text": [
      "100 0.999250692702 0.999250692702 1.00050381936 0.11730339367\n",
      "200 0.999925682932 0.999925682932 1.0000545574 0.353256004263\n",
      "300 0.999997193825 0.999997193825 1.00000162821 0.510131972868\n",
      "400 1.00000095271 1.00000095271 0.999999679534 0.613026205459\n",
      "500 1.00000033237 1.00000033237 1.0000001134 0.684473971015\n",
      "600 0.999999749657 0.999999749657 1.00000045963 0.736674328539\n",
      "700 1.00000020101 1.00000020101 0.999999989741 0.776380349624\n",
      "800 1.00000036082 1.00000036082 0.999999689747 0.807558111738\n",
      "900 0.999999660796 0.999999660796 1.00000001029 0.832670540646\n"
     ]
    }
   ],
   "source": [
    "D_Onsager_scaled = np.array([v*D for v,D in zip(vac, D_Onsager)])\n",
    "Ratio=D_Onsager_scaled/(D_Analytical)\n",
    "for i,T in enumerate(Temp):\n",
    "    print (T, Ratio[i][0],Ratio[i][1],Ratio[i][2], c_rate(T)/Basal_rate(T))"
   ]
  },
  {
   "cell_type": "markdown",
   "metadata": {},
   "source": [
    "KMC result for three temperatures, statisical error in KMC values is ~0.05%"
   ]
  },
  {
   "cell_type": "code",
   "execution_count": 14,
   "metadata": {
    "collapsed": false
   },
   "outputs": [],
   "source": [
    "# 700K, 800K, 900K\n",
    "D_KMC=np.array([[1.10228325e-15,   1.10133965e-15, 9.30127592e-16],\n",
    "                [1.36918534e-14,   1.37001681e-14,     1.18546593e-14],\n",
    "                [9.73279952e-14,   9.73412524e-14,  8.58637944e-14]])"
   ]
  },
  {
   "cell_type": "markdown",
   "metadata": {},
   "source": [
    "Comparison of Onsager (which matches the analytic result to $10^{-7}$) and KMC result, printing ratio of Onsager D/ KMC D. Agreement is $\\sim 5\\times10^{-3}$."
   ]
  },
  {
   "cell_type": "code",
   "execution_count": 15,
   "metadata": {
    "collapsed": false
   },
   "outputs": [
    {
     "name": "stdout",
     "output_type": "stream",
     "text": [
      "700 0.994626016055 0.995478186508 0.997381658362\n",
      "800 0.995782240792 0.995177895609 0.998003820618\n",
      "900 0.99505568162 0.994920161972 0.998012074321\n"
     ]
    }
   ],
   "source": [
    "Ratio=D_Onsager_scaled[-3:]/D_KMC\n",
    "for i,T in enumerate(Temp[-3:]):\n",
    "    print (T, Ratio[i][0],Ratio[i][1],Ratio[i][2])"
   ]
  },
  {
   "cell_type": "code",
   "execution_count": null,
   "metadata": {
    "collapsed": true
   },
   "outputs": [],
   "source": []
  }
 ],
 "metadata": {
  "kernelspec": {
   "display_name": "Python 3",
   "language": "python",
   "name": "python3"
  },
  "language_info": {
   "codemirror_mode": {
    "name": "ipython",
    "version": 3
   },
   "file_extension": ".py",
   "mimetype": "text/x-python",
   "name": "python",
   "nbconvert_exporter": "python",
   "pygments_lexer": "ipython3",
   "version": "3.4.4"
  }
 },
 "nbformat": 4,
 "nbformat_minor": 0
}

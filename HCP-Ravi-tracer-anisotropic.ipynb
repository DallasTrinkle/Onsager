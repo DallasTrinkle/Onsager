{
 "cells": [
  {
   "cell_type": "markdown",
   "metadata": {},
   "source": [
    "# Anisotropic Mg tracer calculation"
   ]
  },
  {
   "cell_type": "code",
   "execution_count": 5,
   "metadata": {
    "collapsed": false
   },
   "outputs": [],
   "source": [
    "import numpy as np\n",
    "from onsager import OnsagerCalc\n",
    "from onsager import crystal\n",
    "import matplotlib.pyplot as plt\n",
    "%matplotlib inline\n",
    "from scipy.constants import physical_constants\n",
    "kB = physical_constants['Boltzmann constant in eV/K'][0]\n",
    "#print (kB)"
   ]
  },
  {
   "cell_type": "code",
   "execution_count": 6,
   "metadata": {
    "collapsed": false
   },
   "outputs": [
    {
     "name": "stdout",
     "output_type": "stream",
     "text": [
      "#Lattice:\n",
      "  a1 = [ 1.59478655 -2.76225133  0.        ]\n",
      "  a2 = [ 1.59478655  2.76225133  0.        ]\n",
      "  a3 = [ 0.          0.          5.18761728]\n",
      "#Basis:\n",
      "  (Mg) 0.0 = [ 0.33333333  0.66666667  0.25      ]\n",
      "  (Mg) 0.1 = [ 0.66666667  0.33333333  0.75      ]\n"
     ]
    }
   ],
   "source": [
    "a=3.18957309719204\n",
    "c_a=1.6264299717255\n",
    "HCP = crystal.Crystal.HCP(a0=a,c_a=c_a, chemistry=\"Mg\")\n",
    "print(HCP)"
   ]
  },
  {
   "cell_type": "code",
   "execution_count": 7,
   "metadata": {
    "collapsed": false
   },
   "outputs": [
    {
     "name": "stdout",
     "output_type": "stream",
     "text": [
      "---\n",
      "1 - 1 [ 1.59478655  2.76225133  0.        ] 3.18957309719\n",
      "1 - 1 [-1.59478655 -2.76225133 -0.        ] 3.18957309719\n",
      "0 - 0 [-1.59478655  2.76225133  0.        ] 3.18957309719\n",
      "0 - 0 [ 1.59478655 -2.76225133 -0.        ] 3.18957309719\n",
      "0 - 0 [  3.18957310e+00  -1.11022302e-16   0.00000000e+00] 3.18957309719\n",
      "0 - 0 [ -3.18957310e+00   1.11022302e-16  -0.00000000e+00] 3.18957309719\n",
      "1 - 1 [ 1.59478655 -2.76225133  0.        ] 3.18957309719\n",
      "1 - 1 [-1.59478655  2.76225133 -0.        ] 3.18957309719\n",
      "0 - 0 [-1.59478655 -2.76225133  0.        ] 3.18957309719\n",
      "0 - 0 [ 1.59478655  2.76225133 -0.        ] 3.18957309719\n",
      "1 - 1 [ -3.18957310e+00  -1.11022302e-16   0.00000000e+00] 3.18957309719\n",
      "1 - 1 [  3.18957310e+00   1.11022302e-16  -0.00000000e+00] 3.18957309719\n",
      "---\n",
      "1 - 0 [ 0.          1.84150089  2.59380864] 3.18103265953\n",
      "0 - 1 [-0.         -1.84150089 -2.59380864] 3.18103265953\n",
      "1 - 0 [-1.59478655 -0.92075044 -2.59380864] 3.18103265953\n",
      "0 - 1 [ 1.59478655  0.92075044  2.59380864] 3.18103265953\n",
      "0 - 1 [-1.59478655  0.92075044  2.59380864] 3.18103265953\n",
      "1 - 0 [ 1.59478655 -0.92075044 -2.59380864] 3.18103265953\n",
      "0 - 1 [ 1.59478655  0.92075044 -2.59380864] 3.18103265953\n",
      "1 - 0 [-1.59478655 -0.92075044  2.59380864] 3.18103265953\n",
      "0 - 1 [-1.59478655  0.92075044 -2.59380864] 3.18103265953\n",
      "1 - 0 [ 1.59478655 -0.92075044  2.59380864] 3.18103265953\n",
      "1 - 0 [ 0.          1.84150089 -2.59380864] 3.18103265953\n",
      "0 - 1 [-0.         -1.84150089  2.59380864] 3.18103265953\n"
     ]
    }
   ],
   "source": [
    "sitelist = HCP.sitelist(0)\n",
    "#print (HCP.sitelist(0))\n",
    "#print(sitelist)\n",
    "vacancyjumps = HCP.jumpnetwork(0, 1.01*a)\n",
    "for jlist in vacancyjumps:\n",
    "    print('---')\n",
    "    for (i,j), dx in jlist:\n",
    "        print(i, '-', j, dx,np.linalg.norm(dx))\n",
    "#sitelist"
   ]
  },
  {
   "cell_type": "code",
   "execution_count": 8,
   "metadata": {
    "collapsed": false
   },
   "outputs": [],
   "source": [
    "HCPdiffuser = OnsagerCalc.VacancyMediated(HCP, 0, sitelist, vacancyjumps, 1)\n",
    "#print (HCPdiffuser)\n",
    "#HCPdiffuser.omegalist()"
   ]
  },
  {
   "cell_type": "code",
   "execution_count": 9,
   "metadata": {
    "collapsed": false
   },
   "outputs": [
    {
     "name": "stdout",
     "output_type": "stream",
     "text": [
      "1.[0,0,0]:0.[0,0,1] (dx=[0.0,1.8415008862638127,2.5938086411412327])\n",
      "1.[0,0,0]:1.[1,0,0] (dx=[1.5947865485960198,-2.7622513293957187,0.0])\n"
     ]
    }
   ],
   "source": [
    "len(HCPdiffuser.interactlist())\n",
    "for state in HCPdiffuser.interactlist():\n",
    "    print(state)"
   ]
  },
  {
   "cell_type": "code",
   "execution_count": 10,
   "metadata": {
    "collapsed": false
   },
   "outputs": [],
   "source": [
    "HCPtracer = {'preV': np.array([1.0/1.1075157070506694]), 'eneV': np.array([0.0]), \n",
    "             'preT0': np.array([129.2186479/36.7840204101001, 129.2186479/34.5772672908345]), 'eneT0': np.array([1.211, 1.23])}\n",
    "HCPtracer.update(HCPdiffuser.maketracerpreene(**HCPtracer))\n",
    "#for k,v in zip(HCPtracer.keys(), HCPtracer.values()): print(k,v)"
   ]
  },
  {
   "cell_type": "markdown",
   "metadata": {},
   "source": [
    "Anisotropic diffusivity above 670K from Onsager calculation"
   ]
  },
  {
   "cell_type": "code",
   "execution_count": 11,
   "metadata": {
    "collapsed": false
   },
   "outputs": [
    {
     "name": "stdout",
     "output_type": "stream",
     "text": [
      "700 1.10052185758e-15 1.10052185758e-15 9.31208798562e-16\n",
      "800 1.36793807724e-14 1.36793807724e-14 1.18702281077e-14\n",
      "900 9.71325832622e-14 9.71325832622e-14 8.59456513209e-14\n"
     ]
    }
   ],
   "source": [
    "Temp=np.arange(700, 923, 100)\n",
    "D_Onsager=[]\n",
    "for T in Temp:\n",
    "    pre=1e-8 # THz and Angstrom unit scaling\n",
    "    Lvv, Lss, Lsv, L1vv = HCPdiffuser.Lij(*HCPdiffuser.preene2betafree(kB*T, **HCPtracer))\n",
    "    Lss=Lss*pre\n",
    "    D_Onsager.append([Lss[0,0],Lss[1,1],Lss[2,2]])\n",
    "    print(T, Lss[0,0],Lss[1,1],Lss[2,2])\n",
    "D_Onsager=np.array(D_Onsager)"
   ]
  },
  {
   "cell_type": "markdown",
   "metadata": {},
   "source": [
    "Below 670 K, code is giving error and the error is:"
   ]
  },
  {
   "cell_type": "code",
   "execution_count": 12,
   "metadata": {
    "collapsed": false
   },
   "outputs": [
    {
     "ename": "IndexError",
     "evalue": "list index out of range",
     "output_type": "error",
     "traceback": [
      "\u001b[1;31m---------------------------------------------------------------------------\u001b[0m",
      "\u001b[1;31mIndexError\u001b[0m                                Traceback (most recent call last)",
      "\u001b[1;32m<ipython-input-12-11c4c8b8d780>\u001b[0m in \u001b[0;36m<module>\u001b[1;34m()\u001b[0m\n\u001b[0;32m      1\u001b[0m \u001b[1;32mfor\u001b[0m \u001b[0mT\u001b[0m \u001b[1;32min\u001b[0m \u001b[0mrange\u001b[0m\u001b[1;33m(\u001b[0m\u001b[1;36m600\u001b[0m\u001b[1;33m,\u001b[0m \u001b[1;36m923\u001b[0m\u001b[1;33m,\u001b[0m \u001b[1;36m100\u001b[0m\u001b[1;33m)\u001b[0m\u001b[1;33m:\u001b[0m\u001b[1;33m\u001b[0m\u001b[0m\n\u001b[0;32m      2\u001b[0m     \u001b[0mpre\u001b[0m\u001b[1;33m=\u001b[0m\u001b[1;36m1e-8\u001b[0m \u001b[1;31m# THz and Angstrom unit scaling\u001b[0m\u001b[1;33m\u001b[0m\u001b[0m\n\u001b[1;32m----> 3\u001b[1;33m     \u001b[0mLvv\u001b[0m\u001b[1;33m,\u001b[0m \u001b[0mLss\u001b[0m\u001b[1;33m,\u001b[0m \u001b[0mLsv\u001b[0m\u001b[1;33m,\u001b[0m \u001b[0mL1vv\u001b[0m \u001b[1;33m=\u001b[0m \u001b[0mHCPdiffuser\u001b[0m\u001b[1;33m.\u001b[0m\u001b[0mLij\u001b[0m\u001b[1;33m(\u001b[0m\u001b[1;33m*\u001b[0m\u001b[0mHCPdiffuser\u001b[0m\u001b[1;33m.\u001b[0m\u001b[0mpreene2betafree\u001b[0m\u001b[1;33m(\u001b[0m\u001b[0mkB\u001b[0m\u001b[1;33m*\u001b[0m\u001b[0mT\u001b[0m\u001b[1;33m,\u001b[0m \u001b[1;33m**\u001b[0m\u001b[0mHCPtracer\u001b[0m\u001b[1;33m)\u001b[0m\u001b[1;33m)\u001b[0m\u001b[1;33m\u001b[0m\u001b[0m\n\u001b[0m\u001b[0;32m      4\u001b[0m     \u001b[0mLss\u001b[0m\u001b[1;33m=\u001b[0m\u001b[0mLss\u001b[0m\u001b[1;33m*\u001b[0m\u001b[0mpre\u001b[0m\u001b[1;33m\u001b[0m\u001b[0m\n\u001b[0;32m      5\u001b[0m     \u001b[0mprint\u001b[0m\u001b[1;33m(\u001b[0m\u001b[0mT\u001b[0m\u001b[1;33m,\u001b[0m \u001b[0mLss\u001b[0m\u001b[1;33m[\u001b[0m\u001b[1;36m0\u001b[0m\u001b[1;33m,\u001b[0m\u001b[1;36m0\u001b[0m\u001b[1;33m]\u001b[0m\u001b[1;33m,\u001b[0m\u001b[0mLss\u001b[0m\u001b[1;33m[\u001b[0m\u001b[1;36m1\u001b[0m\u001b[1;33m,\u001b[0m\u001b[1;36m1\u001b[0m\u001b[1;33m]\u001b[0m\u001b[1;33m,\u001b[0m\u001b[0mLss\u001b[0m\u001b[1;33m[\u001b[0m\u001b[1;36m2\u001b[0m\u001b[1;33m,\u001b[0m\u001b[1;36m2\u001b[0m\u001b[1;33m]\u001b[0m\u001b[1;33m)\u001b[0m\u001b[1;33m\u001b[0m\u001b[0m\n",
      "\u001b[1;32mC:\\Users\\Ravi\\Anaconda3\\lib\\site-packages\\onsager\\OnsagerCalc.py\u001b[0m in \u001b[0;36mLij\u001b[1;34m(self, bFV, bFS, bFSV, bFT0, bFT1, bFT2)\u001b[0m\n\u001b[0;32m   1148\u001b[0m         \u001b[1;32mif\u001b[0m \u001b[0mGF\u001b[0m \u001b[1;32mis\u001b[0m \u001b[1;32mNone\u001b[0m\u001b[1;33m:\u001b[0m\u001b[1;33m\u001b[0m\u001b[0m\n\u001b[0;32m   1149\u001b[0m             \u001b[1;31m# calculate, and store in dictionary for cache:\u001b[0m\u001b[1;33m\u001b[0m\u001b[1;33m\u001b[0m\u001b[0m\n\u001b[1;32m-> 1150\u001b[1;33m             \u001b[0mself\u001b[0m\u001b[1;33m.\u001b[0m\u001b[0mGFcalc\u001b[0m\u001b[1;33m.\u001b[0m\u001b[0mSetRates\u001b[0m\u001b[1;33m(\u001b[0m\u001b[1;33m**\u001b[0m\u001b[1;33m(\u001b[0m\u001b[0mvTK\u001b[0m\u001b[1;33m.\u001b[0m\u001b[0m_asdict\u001b[0m\u001b[1;33m(\u001b[0m\u001b[1;33m)\u001b[0m\u001b[1;33m)\u001b[0m\u001b[1;33m)\u001b[0m\u001b[1;33m\u001b[0m\u001b[0m\n\u001b[0m\u001b[0;32m   1151\u001b[0m             \u001b[0mL0vv\u001b[0m \u001b[1;33m=\u001b[0m \u001b[0mself\u001b[0m\u001b[1;33m.\u001b[0m\u001b[0mGFcalc\u001b[0m\u001b[1;33m.\u001b[0m\u001b[0mDiffusivity\u001b[0m\u001b[1;33m(\u001b[0m\u001b[1;33m)\u001b[0m\u001b[1;33m\u001b[0m\u001b[0m\n\u001b[0;32m   1152\u001b[0m             GF = np.array([self.GFcalc(PS.i, PS.j, PS.dx)\n",
      "\u001b[1;32mC:\\Users\\Ravi\\Anaconda3\\lib\\site-packages\\onsager\\GFcalc.py\u001b[0m in \u001b[0;36mSetRates\u001b[1;34m(self, pre, betaene, preT, betaeneT)\u001b[0m\n\u001b[0;32m    951\u001b[0m         \u001b[1;32mif\u001b[0m \u001b[1;32mnot\u001b[0m \u001b[0mnp\u001b[0m\u001b[1;33m.\u001b[0m\u001b[0misclose\u001b[0m\u001b[1;33m(\u001b[0m\u001b[0mself\u001b[0m\u001b[1;33m.\u001b[0m\u001b[0mr\u001b[0m\u001b[1;33m[\u001b[0m\u001b[1;36m0\u001b[0m\u001b[1;33m]\u001b[0m\u001b[1;33m,\u001b[0m\u001b[1;36m0\u001b[0m\u001b[1;33m)\u001b[0m\u001b[1;33m:\u001b[0m \u001b[1;32mraise\u001b[0m \u001b[0mArithmeticError\u001b[0m\u001b[1;33m(\u001b[0m\u001b[1;34m\"No equilibrium solution to rates?\"\u001b[0m\u001b[1;33m)\u001b[0m\u001b[1;33m\u001b[0m\u001b[0m\n\u001b[0;32m    952\u001b[0m         \u001b[0mself\u001b[0m\u001b[1;33m.\u001b[0m\u001b[0momega_Taylor_rotate\u001b[0m \u001b[1;33m=\u001b[0m \u001b[1;33m(\u001b[0m\u001b[0mself\u001b[0m\u001b[1;33m.\u001b[0m\u001b[0momega_Taylor\u001b[0m\u001b[1;33m.\u001b[0m\u001b[0mldot\u001b[0m\u001b[1;33m(\u001b[0m\u001b[0mself\u001b[0m\u001b[1;33m.\u001b[0m\u001b[0mvr\u001b[0m\u001b[1;33m.\u001b[0m\u001b[0mT\u001b[0m\u001b[1;33m)\u001b[0m\u001b[1;33m)\u001b[0m\u001b[1;33m.\u001b[0m\u001b[0mrdot\u001b[0m\u001b[1;33m(\u001b[0m\u001b[0mself\u001b[0m\u001b[1;33m.\u001b[0m\u001b[0mvr\u001b[0m\u001b[1;33m)\u001b[0m\u001b[1;33m\u001b[0m\u001b[0m\n\u001b[1;32m--> 953\u001b[1;33m         \u001b[0moT_dd\u001b[0m\u001b[1;33m,\u001b[0m \u001b[0moT_dr\u001b[0m\u001b[1;33m,\u001b[0m \u001b[0moT_rd\u001b[0m\u001b[1;33m,\u001b[0m \u001b[0moT_rr\u001b[0m\u001b[1;33m,\u001b[0m \u001b[0moT_D\u001b[0m \u001b[1;33m=\u001b[0m \u001b[0mself\u001b[0m\u001b[1;33m.\u001b[0m\u001b[0mBlockRotateOmegaTaylor\u001b[0m\u001b[1;33m(\u001b[0m\u001b[0mself\u001b[0m\u001b[1;33m.\u001b[0m\u001b[0momega_Taylor_rotate\u001b[0m\u001b[1;33m)\u001b[0m\u001b[1;33m\u001b[0m\u001b[0m\n\u001b[0m\u001b[0;32m    954\u001b[0m         \u001b[1;31m# 2. Calculate D\u001b[0m\u001b[1;33m\u001b[0m\u001b[1;33m\u001b[0m\u001b[0m\n\u001b[0;32m    955\u001b[0m         \u001b[0mself\u001b[0m\u001b[1;33m.\u001b[0m\u001b[0mD\u001b[0m \u001b[1;33m=\u001b[0m \u001b[0mself\u001b[0m\u001b[1;33m.\u001b[0m\u001b[0mDiffusivity\u001b[0m\u001b[1;33m(\u001b[0m\u001b[0moT_D\u001b[0m\u001b[1;33m)\u001b[0m\u001b[1;33m\u001b[0m\u001b[0m\n",
      "\u001b[1;32mC:\\Users\\Ravi\\Anaconda3\\lib\\site-packages\\onsager\\GFcalc.py\u001b[0m in \u001b[0;36mBlockRotateOmegaTaylor\u001b[1;34m(self, omega_Taylor_rotate)\u001b[0m\n\u001b[0;32m   1088\u001b[0m         \u001b[1;32mfor\u001b[0m \u001b[0mt\u001b[0m \u001b[1;32min\u001b[0m \u001b[1;33m[\u001b[0m\u001b[0mdd\u001b[0m\u001b[1;33m,\u001b[0m \u001b[0mdr\u001b[0m\u001b[1;33m,\u001b[0m \u001b[0mrd\u001b[0m\u001b[1;33m,\u001b[0m \u001b[0mrr\u001b[0m\u001b[1;33m]\u001b[0m\u001b[1;33m:\u001b[0m \u001b[0mt\u001b[0m\u001b[1;33m.\u001b[0m\u001b[0mreduce\u001b[0m\u001b[1;33m(\u001b[0m\u001b[1;33m)\u001b[0m\u001b[1;33m\u001b[0m\u001b[0m\n\u001b[0;32m   1089\u001b[0m         \u001b[1;32mif\u001b[0m \u001b[0mself\u001b[0m\u001b[1;33m.\u001b[0m\u001b[0mN\u001b[0m \u001b[1;33m>\u001b[0m \u001b[1;36m1\u001b[0m\u001b[1;33m:\u001b[0m\u001b[1;33m\u001b[0m\u001b[0m\n\u001b[1;32m-> 1090\u001b[1;33m             \u001b[0mD\u001b[0m \u001b[1;33m=\u001b[0m \u001b[0mdd\u001b[0m \u001b[1;33m-\u001b[0m \u001b[0mdr\u001b[0m\u001b[1;33m*\u001b[0m\u001b[0mrr\u001b[0m\u001b[1;33m.\u001b[0m\u001b[0minv\u001b[0m\u001b[1;33m(\u001b[0m\u001b[1;33m)\u001b[0m\u001b[1;33m*\u001b[0m\u001b[0mrd\u001b[0m\u001b[1;33m\u001b[0m\u001b[0m\n\u001b[0m\u001b[0;32m   1091\u001b[0m         \u001b[1;32melse\u001b[0m\u001b[1;33m:\u001b[0m\u001b[1;33m\u001b[0m\u001b[0m\n\u001b[0;32m   1092\u001b[0m             \u001b[0mD\u001b[0m \u001b[1;33m=\u001b[0m \u001b[0mdd\u001b[0m\u001b[1;33m.\u001b[0m\u001b[0mcopy\u001b[0m\u001b[1;33m(\u001b[0m\u001b[1;33m)\u001b[0m\u001b[1;33m\u001b[0m\u001b[0m\n",
      "\u001b[1;32mC:\\Users\\Ravi\\Anaconda3\\lib\\site-packages\\onsager\\PowerExpansion.py\u001b[0m in \u001b[0;36minv\u001b[1;34m(self, Nmax)\u001b[0m\n\u001b[0;32m    885\u001b[0m         \u001b[1;33m:\u001b[0m\u001b[1;32mreturn\u001b[0m\u001b[1;33m:\u001b[0m \u001b[0mTaylor\u001b[0m \u001b[0mseries\u001b[0m \u001b[0mof\u001b[0m \u001b[0minverse\u001b[0m\u001b[1;33m\u001b[0m\u001b[0m\n\u001b[0;32m    886\u001b[0m         \"\"\"\n\u001b[1;32m--> 887\u001b[1;33m         \u001b[1;32mreturn\u001b[0m \u001b[0mTaylor3D\u001b[0m\u001b[1;33m(\u001b[0m\u001b[0mself\u001b[0m\u001b[1;33m.\u001b[0m\u001b[0minversecoeff\u001b[0m\u001b[1;33m(\u001b[0m\u001b[0mself\u001b[0m\u001b[1;33m,\u001b[0m \u001b[0mNmax\u001b[0m\u001b[1;33m)\u001b[0m\u001b[1;33m)\u001b[0m\u001b[1;33m\u001b[0m\u001b[0m\n\u001b[0m\u001b[0;32m    888\u001b[0m \u001b[1;33m\u001b[0m\u001b[0m\n\u001b[0;32m    889\u001b[0m     \u001b[1;33m@\u001b[0m\u001b[0mclassmethod\u001b[0m\u001b[1;33m\u001b[0m\u001b[0m\n",
      "\u001b[1;32mC:\\Users\\Ravi\\Anaconda3\\lib\\site-packages\\onsager\\PowerExpansion.py\u001b[0m in \u001b[0;36minversecoeff\u001b[1;34m(cls, a, Nmax)\u001b[0m\n\u001b[0;32m    843\u001b[0m         \u001b[1;31m# a little pythonic magic to work with *either* a list, or an object with a coefflist\u001b[0m\u001b[1;33m\u001b[0m\u001b[1;33m\u001b[0m\u001b[0m\n\u001b[0;32m    844\u001b[0m         \u001b[0macoeff\u001b[0m \u001b[1;33m=\u001b[0m \u001b[0msorted\u001b[0m\u001b[1;33m(\u001b[0m\u001b[0mgetattr\u001b[0m\u001b[1;33m(\u001b[0m\u001b[0ma\u001b[0m\u001b[1;33m,\u001b[0m \u001b[1;34m'coefflist'\u001b[0m\u001b[1;33m,\u001b[0m \u001b[0ma\u001b[0m\u001b[1;33m)\u001b[0m\u001b[1;33m,\u001b[0m \u001b[0mkey\u001b[0m\u001b[1;33m=\u001b[0m\u001b[0mcls\u001b[0m\u001b[1;33m.\u001b[0m\u001b[0m__sortkey\u001b[0m\u001b[1;33m)\u001b[0m \u001b[1;31m# fallback to a if not there... which assumes it's a list\u001b[0m\u001b[1;33m\u001b[0m\u001b[0m\n\u001b[1;32m--> 845\u001b[1;33m         \u001b[0mlead\u001b[0m \u001b[1;33m=\u001b[0m \u001b[0macoeff\u001b[0m\u001b[1;33m[\u001b[0m\u001b[1;36m0\u001b[0m\u001b[1;33m]\u001b[0m\u001b[1;33m\u001b[0m\u001b[0m\n\u001b[0m\u001b[0;32m    846\u001b[0m         \u001b[1;32mif\u001b[0m \u001b[0mlead\u001b[0m\u001b[1;33m[\u001b[0m\u001b[1;36m1\u001b[0m\u001b[1;33m]\u001b[0m \u001b[1;33m!=\u001b[0m \u001b[1;36m0\u001b[0m\u001b[1;33m:\u001b[0m\u001b[1;33m\u001b[0m\u001b[0m\n\u001b[0;32m    847\u001b[0m             \u001b[1;32mraise\u001b[0m \u001b[0mValueError\u001b[0m\u001b[1;33m(\u001b[0m\u001b[1;34m'Cannot invert expansion: leading-order term {} has l={}>0'\u001b[0m\u001b[1;33m.\u001b[0m\u001b[0mformat\u001b[0m\u001b[1;33m(\u001b[0m\u001b[0mlead\u001b[0m\u001b[1;33m[\u001b[0m\u001b[1;36m0\u001b[0m\u001b[1;33m]\u001b[0m\u001b[1;33m,\u001b[0m \u001b[0mlead\u001b[0m\u001b[1;33m[\u001b[0m\u001b[1;36m1\u001b[0m\u001b[1;33m]\u001b[0m\u001b[1;33m)\u001b[0m\u001b[1;33m)\u001b[0m\u001b[1;33m\u001b[0m\u001b[0m\n",
      "\u001b[1;31mIndexError\u001b[0m: list index out of range"
     ]
    }
   ],
   "source": [
    "for T in range(600, 923, 100):\n",
    "    pre=1e-8 # THz and Angstrom unit scaling\n",
    "    Lvv, Lss, Lsv, L1vv = HCPdiffuser.Lij(*HCPdiffuser.preene2betafree(kB*T, **HCPtracer))\n",
    "    Lss=Lss*pre\n",
    "    print(T, Lss[0,0],Lss[1,1],Lss[2,2])\n"
   ]
  },
  {
   "cell_type": "markdown",
   "metadata": {},
   "source": [
    "# Analytical tracer diffusion result"
   ]
  },
  {
   "cell_type": "code",
   "execution_count": 13,
   "metadata": {
    "collapsed": true
   },
   "outputs": [],
   "source": [
    "#Correlations from Koiwa and Ishioka’s\n",
    "def fz(x):\n",
    "    return((1+8.77*x+7.37*x**2+0.65*x**3)/(1+9.90*x+10.9*x**2+x**3))\n",
    "def fx(x):\n",
    "    return((0.56+4.38*x+3.67*x**2+0.64*x**3)/(1+5.75*x+4.11*x**2+x**3))"
   ]
  },
  {
   "cell_type": "code",
   "execution_count": 14,
   "metadata": {
    "collapsed": true
   },
   "outputs": [],
   "source": [
    "def Basal_rate(T):\n",
    "    prefactor=(129.2186479/36.78402041)\n",
    "    mb=0.397\n",
    "    return(prefactor*np.exp(-mb/(kB*T)))\n",
    "def c_rate(T):\n",
    "    prefactor=(129.2186479/34.57726729)\n",
    "    mc=0.416\n",
    "    return(prefactor*np.exp(-mc/(kB*T)))"
   ]
  },
  {
   "cell_type": "code",
   "execution_count": 15,
   "metadata": {
    "collapsed": true
   },
   "outputs": [],
   "source": [
    "def Vconc(T):\n",
    "    entropy_contribution=1.1075157070506694\n",
    "    formationE=0.814228281\n",
    "    prob=entropy_contribution*np.exp(-formationE/(kB*T))\n",
    "    return(prob)"
   ]
  },
  {
   "cell_type": "code",
   "execution_count": 16,
   "metadata": {
    "collapsed": true
   },
   "outputs": [],
   "source": [
    "def AnalyticalD(T):\n",
    "    wb=Basal_rate(T)\n",
    "    wc=c_rate(T)\n",
    "    x=wb/wc\n",
    "    c=a*c_a\n",
    "    Dxx=0.5*Vconc(T)*a**2*fx(x)*(3*wb+wc)\n",
    "    Dzz=0.75*Vconc(T)*c**2*fz(x)*wc\n",
    "    return(np.array([Dxx,Dxx,Dzz]))"
   ]
  },
  {
   "cell_type": "code",
   "execution_count": 17,
   "metadata": {
    "collapsed": false
   },
   "outputs": [
    {
     "name": "stdout",
     "output_type": "stream",
     "text": [
      "700 1.11906625928e-15 1.11906625928e-15 8.85136328873e-16\n",
      "800 1.38691522973e-14 1.38691522973e-14 1.13678882112e-14\n",
      "900 9.82542469898e-14 9.82542469898e-14 8.27912864405e-14\n"
     ]
    }
   ],
   "source": [
    "D_Analytical=[]\n",
    "for T in Temp:\n",
    "    D=AnalyticalD(T)*10**-8 #Unit scaling\n",
    "    print(T, D[0],D[1],D[2])\n",
    "    D_Analytical.append([D[0],D[1],D[2]])\n",
    "D_Analytical=np.array(D_Analytical)"
   ]
  },
  {
   "cell_type": "markdown",
   "metadata": {},
   "source": [
    "Comparison of Onsager and analyitcal result, printing ratio of Onsager D/ Analytical D, Both agree within 5% of their relative values."
   ]
  },
  {
   "cell_type": "code",
   "execution_count": 18,
   "metadata": {
    "collapsed": false
   },
   "outputs": [
    {
     "name": "stdout",
     "output_type": "stream",
     "text": [
      "700 0.983428683016 0.983428683016 1.0520512696\n",
      "800 0.986317006204 0.986317006204 1.04418937688\n",
      "900 0.988584068761 0.988584068761 1.03810020373\n"
     ]
    }
   ],
   "source": [
    "Ratio=D_Onsager/D_Analytical\n",
    "for i,T in enumerate(Temp):\n",
    "    print (T, Ratio[i][0],Ratio[i][1],Ratio[i][2])"
   ]
  },
  {
   "cell_type": "markdown",
   "metadata": {},
   "source": [
    "KMC result for three temperatures, statisical error in KMC values is ~0.05%"
   ]
  },
  {
   "cell_type": "code",
   "execution_count": 20,
   "metadata": {
    "collapsed": false
   },
   "outputs": [],
   "source": [
    "D_KMC=np.zeros((3,3))\n",
    "D_KMC[0]=np.array([1.10228325e-15,   1.10133965e-15, 9.30127592e-16])\n",
    "D_KMC[1]=np.array([1.36918534e-14,   1.37001681e-14,     1.18546593e-14])\n",
    "D_KMC[2]=np.array([9.73279952e-14,   9.73412524e-14,  8.58637944e-14])"
   ]
  },
  {
   "cell_type": "markdown",
   "metadata": {},
   "source": [
    "Comparison of Onsager and KMC result, printing ratio of Onsager D/ KMC D, Both agree within 1% of their relative values."
   ]
  },
  {
   "cell_type": "code",
   "execution_count": 21,
   "metadata": {
    "collapsed": false
   },
   "outputs": [
    {
     "name": "stdout",
     "output_type": "stream",
     "text": [
      "700 0.998402050993 0.999257456658 1.00116242822\n",
      "800 0.999089047537 0.998482695437 1.00131330706\n",
      "900 0.997992232991 0.997856313406 1.00095333454\n"
     ]
    }
   ],
   "source": [
    "Ratio=D_Onsager/D_KMC\n",
    "for i,T in enumerate(Temp):\n",
    "    print (T, Ratio[i][0],Ratio[i][1],Ratio[i][2])"
   ]
  }
 ],
 "metadata": {
  "kernelspec": {
   "display_name": "Python 3",
   "language": "python",
   "name": "python3"
  },
  "language_info": {
   "codemirror_mode": {
    "name": "ipython",
    "version": 3
   },
   "file_extension": ".py",
   "mimetype": "text/x-python",
   "name": "python",
   "nbconvert_exporter": "python",
   "pygments_lexer": "ipython3",
   "version": "3.5.1"
  }
 },
 "nbformat": 4,
 "nbformat_minor": 0
}
